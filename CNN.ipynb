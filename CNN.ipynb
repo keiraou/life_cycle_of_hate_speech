{
  "cells": [
    {
      "cell_type": "markdown",
      "id": "marked-western",
      "metadata": {
        "id": "marked-western"
      },
      "source": [
        "\n",
        "Reference:\n",
        "- https://fasttext.cc/docs/en/unsupervised-tutorial.html\n",
        "- https://blog.csdn.net/feilong_csdn/article/details/88655927\n",
        "\n",
        "Deep average network\n",
        "\n",
        "\n",
        "Unlabeled dataset:\n",
        "   -  upsample by few shot learning (upsample)\n",
        "   -  A Siamese neural network upsample\n",
        "   \n",
        "\n",
        "Mainly based on Hw3"
      ]
    },
    {
      "cell_type": "code",
      "execution_count": 4,
      "id": "directed-leonard",
      "metadata": {
        "colab": {
          "base_uri": "https://localhost:8080/"
        },
        "id": "directed-leonard",
        "outputId": "9c5322b0-df58-4e23-98c7-d02a4774f93f"
      },
      "outputs": [
        {
          "output_type": "stream",
          "name": "stdout",
          "text": [
            "No GPU available, using the CPU instead.\n"
          ]
        }
      ],
      "source": [
        "import pandas as pd\n",
        "import numpy as np\n",
        "import torch\n",
        "import random\n",
        "\n",
        "if torch.cuda.is_available():       \n",
        "    device = torch.device(\"cuda\")\n",
        "    print(f'There are {torch.cuda.device_count()} GPU(s) available.')\n",
        "    print('Device name:', torch.cuda.get_device_name(0))\n",
        "    USE_CUDA=True\n",
        "\n",
        "else:\n",
        "    print('No GPU available, using the CPU instead.')\n",
        "    device = torch.device(\"cpu\")\n",
        "    USE_CUDA=False"
      ]
    },
    {
      "cell_type": "code",
      "execution_count": 5,
      "id": "constant-photography",
      "metadata": {
        "id": "constant-photography"
      },
      "outputs": [],
      "source": [
        "SEED = 30255 # Specify a seed for reproducability\n",
        "\n",
        "random.seed(SEED)\n",
        "np.random.seed(SEED)\n",
        "torch.manual_seed(SEED)\n",
        "if torch.cuda.is_available():\n",
        "    torch.cuda.manual_seed(SEED)\n",
        "torch.backends.cudnn.deterministic = True"
      ]
    },
    {
      "cell_type": "code",
      "execution_count": 6,
      "id": "alien-haiti",
      "metadata": {
        "id": "alien-haiti"
      },
      "outputs": [],
      "source": [
        "train_df = pd.read_csv('data/Twitter/hate_twitter/hate_train.csv')\n",
        "val_df = pd.read_csv('data/Twitter/hate_twitter/hate_val.csv')\n",
        "test_df = pd.read_csv('data/Twitter/hate_twitter/hate_test.csv')\n",
        "\n",
        "\n",
        "# Check and drop na values in clean_tweet column\n",
        "train_df[train_df['clean_tweet'].isnull()]\n",
        "\n",
        "train_df = train_df[train_df['clean_tweet'].notna()]\n",
        "val_df = val_df[val_df['clean_tweet'].notna()]\n",
        "test_df = test_df[test_df['clean_tweet'].notna()]\n",
        "\n",
        "\n",
        "x_train = train_df['clean_tweet']\n",
        "y_train = train_df['label']\n",
        "\n",
        "x_test = test_df['clean_tweet']\n",
        "y_test = test_df['label']\n",
        "\n",
        "x_val = val_df['clean_tweet']\n",
        "y_val = val_df['label']\n",
        "\n",
        "\n"
      ]
    },
    {
      "cell_type": "code",
      "execution_count": 7,
      "id": "starting-reviewer",
      "metadata": {
        "colab": {
          "base_uri": "https://localhost:8080/"
        },
        "id": "starting-reviewer",
        "outputId": "c117c7b6-a08a-4c27-9787-d299f1d1b056"
      },
      "outputs": [
        {
          "output_type": "execute_result",
          "data": {
            "text/plain": [
              "label\n",
              "0    20776\n",
              "1     1574\n",
              "dtype: int64"
            ]
          },
          "metadata": {},
          "execution_count": 7
        }
      ],
      "source": [
        "train_df.groupby('label').size()"
      ]
    },
    {
      "cell_type": "markdown",
      "id": "incident-monaco",
      "metadata": {
        "id": "incident-monaco"
      },
      "source": [
        "## Convert to Pytorch Data Objects\n"
      ]
    },
    {
      "cell_type": "code",
      "execution_count": 8,
      "id": "indian-choir",
      "metadata": {
        "id": "indian-choir"
      },
      "outputs": [],
      "source": [
        "'''\n",
        "dataclassCNN.py\n",
        "File to create a Custom Data Class and Collate Function for PyTorch.\n",
        "This file is for the CNN model.\n",
        "'''\n",
        "from torch.utils.data import Dataset\n",
        "from torchtext.data.utils import get_tokenizer\n",
        "\n",
        "\n",
        "class ProjectDataset(Dataset):\n",
        "\n",
        "    def __init__(self, data, target_col=None, text_col=None):\n",
        "\n",
        "        # Target first, then Inputs.\n",
        "        self.samples = []\n",
        "        tokenizer = get_tokenizer('basic_english')\n",
        "\n",
        "        if not target_col and not text_col:\n",
        "            targets = list(data[0])\n",
        "            inputs = list(data[1])\n",
        "            for idx in range(len(targets)):\n",
        "                text = tokenizer(inputs[idx])\n",
        "                self.samples.append([targets[idx], text])\n",
        "        else:\n",
        "            for _, row in data.iterrows():\n",
        "                text = row[text_col]\n",
        "                text = tokenizer(text)\n",
        "                target = row[target_col]\n",
        "                self.samples.append([target, text])\n",
        "\n",
        "    def __len__(self):\n",
        "        return len(self.samples)\n",
        "\n",
        "    def __getitem__(self, idx):\n",
        "        return self.samples[idx]"
      ]
    },
    {
      "cell_type": "code",
      "execution_count": 9,
      "id": "unnecessary-andrew",
      "metadata": {
        "id": "unnecessary-andrew"
      },
      "outputs": [],
      "source": [
        "data_obj = ProjectDataset(train_df, 'label', 'clean_tweet')"
      ]
    },
    {
      "cell_type": "markdown",
      "id": "abroad-employee",
      "metadata": {
        "id": "abroad-employee"
      },
      "source": [
        "## Load Pre-trained vectors GloVe "
      ]
    },
    {
      "cell_type": "code",
      "execution_count": 10,
      "id": "acceptable-kernel",
      "metadata": {
        "id": "acceptable-kernel"
      },
      "outputs": [],
      "source": [
        "import torch\n",
        "import torch.nn as nn\n",
        "import torch.optim as optim\n",
        "\n",
        "import torchtext\n",
        "from torchtext import data\n",
        "from torchtext import datasets\n",
        "\n",
        "from collections import Counter\n",
        "from torchtext.vocab import vocab\n",
        "\n",
        "import numpy as np\n",
        "import random"
      ]
    },
    {
      "cell_type": "code",
      "execution_count": 11,
      "id": "significant-findings",
      "metadata": {
        "colab": {
          "base_uri": "https://localhost:8080/"
        },
        "id": "significant-findings",
        "outputId": "faa5f64b-b327-4063-9f5a-747bee2bef8e"
      },
      "outputs": [
        {
          "output_type": "stream",
          "name": "stdout",
          "text": [
            "The vocabulary length is 32820 words\n"
          ]
        },
        {
          "output_type": "stream",
          "name": "stderr",
          "text": [
            "./.vector_cache/glove.6B.zip: 862MB [02:39, 5.40MB/s]                           \n",
            "100%|█████████▉| 399999/400000 [00:42<00:00, 9423.59it/s]\n"
          ]
        },
        {
          "output_type": "stream",
          "name": "stdout",
          "text": [
            "Max number of words for a given tweet in the Dataset:\n",
            "21\n"
          ]
        }
      ],
      "source": [
        "from collections import Counter\n",
        "from torchtext.vocab import vocab\n",
        "\n",
        "\n",
        "counter_words = Counter()\n",
        "for (label, text) in data_obj:\n",
        "    counter_words.update(text)\n",
        "    \n",
        "vocab_words = vocab(counter_words)\n",
        "vocab_words.set_default_index(0)\n",
        "\n",
        "\n",
        "print('The vocabulary length is {} words'.format(len(vocab_words)))\n",
        "\n",
        "\n",
        "VECTORS_CACHE_DIR = './.vector_cache'\n",
        "\n",
        "\n",
        "from torchtext import vocab\n",
        "\n",
        "pretrained_emb = vocab.GloVe(name='6B',cache=VECTORS_CACHE_DIR)\n",
        "\n",
        "print('Max number of words for a given tweet in the Dataset:')\n",
        "max_len = train_df[\"clean_tweet\"].apply(lambda x: len(x.split())).max()\n",
        "print(max_len)\n",
        "\n",
        "pre_trained_vectors = pretrained_emb.get_vecs_by_tokens(vocab_words.get_itos(),\n",
        "                                                       lower_case_backup=True)"
      ]
    },
    {
      "cell_type": "code",
      "execution_count": 12,
      "id": "original-newark",
      "metadata": {
        "id": "original-newark"
      },
      "outputs": [],
      "source": [
        "def collate_for_cnn(batch, max_len=max_len):\n",
        "    '''\n",
        "    For each batch, develop the appropiate inputs from the models (i.e. embeddings)\n",
        "    '''\n",
        "    input_vector = []\n",
        "    labels = []\n",
        "    for i, (label, tokenized_sent) in enumerate(batch):\n",
        "        \n",
        "        #Append labels \n",
        "        labels.append(label)\n",
        "        \n",
        "        #Get tokenized sentence\n",
        "        diff =  (max_len - len(tokenized_sent))\n",
        "        tokenized_sent += ['<pad>'] * diff\n",
        "        \n",
        "        assert(len(tokenized_sent) == max_len), tokenized_sent\n",
        "        \n",
        "        wordstoidx = [vocab_words[w] for w in tokenized_sent]\n",
        "        input_vector.append(wordstoidx)\n",
        "    \n",
        "    return torch.tensor(labels).to(device), torch.tensor(input_vector).to(device)\n"
      ]
    },
    {
      "cell_type": "code",
      "execution_count": 13,
      "id": "bizarre-mexico",
      "metadata": {
        "id": "bizarre-mexico"
      },
      "outputs": [],
      "source": [
        "# from torch.utils.data import DataLoader\n",
        "\n",
        "# W = 1\n",
        "# WINDOW_SIZE = (2 * W + 1)\n",
        "\n",
        "# TAG = 'ud'\n",
        "\n",
        "# def collate_for_cnn(batch, w = W, tag = TAG):\n",
        "    \n",
        "#     ## WRITE YOUR CODE BELOW\n",
        "#     labels = []\n",
        "#     word_idxs = []\n",
        "\n",
        "#     for idx in range(len(batch)):\n",
        "#         one_word_idx = []\n",
        "#         word_lst = batch[idx][0]\n",
        "\n",
        "#         # index of the tag for the center word\n",
        "#         center = w\n",
        "#         center_word_tag = batch[idx][1][center]\n",
        "#         tag_idx = vocab_words[center_word_tag]\n",
        "#         labels.append(tag_idx)\n",
        "\n",
        "#         #  index of each of the words in the example\n",
        "#         for word in word_lst:\n",
        "#             one_word_idx.append(vocab_words[word])\n",
        "        \n",
        "#         word_idxs.append(one_word_idx)\n",
        "\n",
        "#     word_idxs = torch.LongTensor(word_idxs)\n",
        "#     labels = torch.LongTensor(labels)\n",
        "#     # print(word_idxs)\n",
        "#     # print(labels)\n",
        "\n",
        "#     ## WRITE YOUR CODE ABOVE\n",
        "#     # The tensors you return should be placed in the correct device\n",
        "#     # as shown below.\n",
        "#     return labels.to(device), word_idxs.to(device)\n"
      ]
    },
    {
      "cell_type": "markdown",
      "id": "regional-jumping",
      "metadata": {
        "id": "regional-jumping"
      },
      "source": [
        "## Setting up DataLoader Class"
      ]
    },
    {
      "cell_type": "code",
      "execution_count": 14,
      "id": "normal-cosmetic",
      "metadata": {
        "id": "normal-cosmetic"
      },
      "outputs": [],
      "source": [
        "from torch.utils.data import DataLoader\n",
        "\n",
        "def data_loader(train_tuple, val_tuple, test_tuple,\n",
        "                batch_size=30):\n",
        "    \"\"\"Convert train, validation and test sets into Dataloaders\n",
        "    \"\"\"\n",
        "\n",
        "    # Create DataLoader for training data\n",
        "    train_data = ProjectDataset(train_tuple)\n",
        "    train_dataloader = DataLoader(train_data, shuffle=True,\n",
        "                                  batch_size=batch_size, \n",
        "                                 collate_fn=collate_for_cnn)\n",
        "    \n",
        "    # Create DataLoader for validation data\n",
        "    valid_data = ProjectDataset(val_tuple)\n",
        "    val_dataloader = DataLoader(valid_data, shuffle=False,\n",
        "                                  batch_size=batch_size, \n",
        "                                 collate_fn=collate_for_cnn)\n",
        "\n",
        "    # Create DataLoader for test data\n",
        "    test_data = ProjectDataset(test_tuple)\n",
        "    test_dataloader = DataLoader(test_data, shuffle=False,\n",
        "                                  batch_size=batch_size, \n",
        "                                 collate_fn=collate_for_cnn)\n",
        "\n",
        "    return train_dataloader, val_dataloader, test_dataloader"
      ]
    },
    {
      "cell_type": "code",
      "execution_count": 15,
      "id": "narrow-official",
      "metadata": {
        "id": "narrow-official"
      },
      "outputs": [],
      "source": [
        "train_dataloader, val_dataloader, test_dataloader = data_loader([y_train, x_train],\n",
        "                                                               [y_val, x_val],\n",
        "                                                               [y_test, x_test])"
      ]
    },
    {
      "cell_type": "code",
      "execution_count": 16,
      "id": "legendary-breast",
      "metadata": {
        "colab": {
          "base_uri": "https://localhost:8080/"
        },
        "id": "legendary-breast",
        "outputId": "fbeba201-0fed-4425-f5fb-b8461fa9c9ca"
      },
      "outputs": [
        {
          "output_type": "stream",
          "name": "stdout",
          "text": [
            "torch.Size([30, 21])\n"
          ]
        }
      ],
      "source": [
        "for i in train_dataloader:\n",
        "    labels, inputs = i[0], i[1]\n",
        "    print(inputs.shape)\n",
        "    break"
      ]
    },
    {
      "cell_type": "markdown",
      "id": "immediate-passage",
      "metadata": {
        "id": "immediate-passage"
      },
      "source": [
        "## CNN Model"
      ]
    },
    {
      "cell_type": "code",
      "execution_count": 17,
      "id": "personalized-weekly",
      "metadata": {
        "id": "personalized-weekly"
      },
      "outputs": [],
      "source": [
        "FILTER_SIZES = [3,4,5]\n",
        "N_FILTERS = [100, 100,100]\n",
        "DROPOUT = 0.5\n",
        "PAD_IDX = vocab_words['<pad>']\n",
        "num_classes = 2 #0, 1"
      ]
    },
    {
      "cell_type": "code",
      "execution_count": 18,
      "id": "artistic-mason",
      "metadata": {
        "id": "artistic-mason"
      },
      "outputs": [],
      "source": [
        "import torch\n",
        "import torch.nn as nn\n",
        "import torch.nn.functional as F\n",
        "\n",
        "class CNN_classification(nn.Module):\n",
        "    ''' An 1D Convulational Neural Network for Sentence Classification'''\n",
        "    \n",
        "    def __init__(self, pretrained_embedding=None, freeze_embedding=False,\n",
        "                 vocab_size=None, embed_dim=None,\n",
        "                 filter_sizes=FILTER_SIZES, num_filters=N_FILTERS,\n",
        "                 num_classes=num_classes,pad_id=PAD_IDX,\n",
        "                 dropout=DROPOUT):\n",
        "        \"\"\"\n",
        "        pretrained_embedding (torch.Tensor): Pretrained embeddings with\n",
        "                shape (vocab_size, embed_dim)\n",
        "            freeze_embedding (bool): Set to False to fine-tune pretraiend\n",
        "                vectors. Default: False\n",
        "            vocab_size (int): Need to be specified when not pretrained word\n",
        "                embeddings are not used.\n",
        "            embed_dim (int): Dimension of word vectors. Need to be specified\n",
        "                when pretrained word embeddings are not used. Default: 300\n",
        "            filter_sizes (List[int]): List of filter sizes. Default: [3, 4, 5]\n",
        "            num_filters (int): Number of filters. Default: 100\n",
        "            n_classes (int): Number of classes. Default: 3\n",
        "            dropout (float): Dropout rate. Default: 0.5\n",
        "        \"\"\"\n",
        "\n",
        "        super(CNN_classification, self).__init__()\n",
        "        \n",
        "        # 1. Embedding layer\n",
        "        if pretrained_embedding is not None:\n",
        "            self.vocab_size, self.embed_dim = pretrained_embedding.shape\n",
        "            self.embedding = nn.Embedding.from_pretrained(pretrained_embedding,\n",
        "                                                          freeze=freeze_embedding)\n",
        "        else:\n",
        "            self.embed_dim = embed_dim\n",
        "            self.embedding = nn.Embedding(num_embeddings=vocab_size,\n",
        "                                          embedding_dim=self.embed_dim,\n",
        "                                          padding_idx= pad_id,\n",
        "                                          )\n",
        "        \n",
        "        # 2. Convolutional Layers (for each filter size --> n-gram)\n",
        "        self.convs = nn.ModuleList([\n",
        "                                    nn.Conv1d(in_channels = self.embed_dim,\n",
        "                                              out_channels = num_filters[i], \n",
        "                                              kernel_size = fs)\n",
        "                                    for i, fs in enumerate(filter_sizes)\n",
        "                                    ])\n",
        "        \n",
        "    \n",
        "        # 3. Fully-connected layer\n",
        "        self.linear = nn.Linear(in_features = np.sum(num_filters), \n",
        "                                out_features = num_classes\n",
        "                               )\n",
        "        \n",
        "        \n",
        "        # Additional Feature\n",
        "        self.dropout = nn.Dropout(dropout)\n",
        "\n",
        "        \n",
        "    def forward(self, inputs):\n",
        "\n",
        "        x_embedded = self.embedding(inputs)\n",
        "        \n",
        "        x_embedded = x_embedded.permute(0, 2, 1)\n",
        "        \n",
        "        # Apply CNN and ReLU\n",
        "        convs_list = [F.relu(conv(x_embedded)) for conv in self.convs]\n",
        "\n",
        "        # Max pooling.\n",
        "        pooled = [F.max_pool1d(x_conv, kernel_size=x_conv.shape[2]).squeeze(2)\n",
        "                  for x_conv in convs_list]\n",
        "        \n",
        "        # Concatenate Pool list to feed the fully connected layer\n",
        "        input_fc = self.dropout(torch.cat(pooled, dim = 1))\n",
        "        \n",
        "        # Compute probabilities\n",
        "        predictions_classes = self.linear(input_fc)\n",
        "        \n",
        "        return predictions_classes"
      ]
    },
    {
      "cell_type": "code",
      "execution_count": 19,
      "id": "scientific-kenya",
      "metadata": {
        "id": "scientific-kenya"
      },
      "outputs": [],
      "source": [
        "def train_an_epoch(model, dataloader, loss_function, optimizer):\n",
        "    \n",
        "    model.train() # Sets the module in training mode.\n",
        "    total_loss = 0\n",
        "    \n",
        "    for idx, batch in enumerate(dataloader):\n",
        "        \n",
        "        # Load batch to GPU\n",
        "        labels, inputs = tuple(t.to(device) for t in batch)\n",
        "        \n",
        "        # Zero out any previously calculated gradients\n",
        "        model.zero_grad()\n",
        "        \n",
        "        #Perform a forward pass.\n",
        "        log_probs = model(inputs)\n",
        "        \n",
        "        # Compute loss and accumulate the loss values\n",
        "        loss = loss_function(log_probs, labels.long())\n",
        "        total_loss += loss.item()\n",
        "        \n",
        "        # Perform a backward pass to calculate gradients\n",
        "        loss.backward()\n",
        "        optimizer.step()\n",
        "    \n",
        "    return total_loss/len(dataloader)"
      ]
    },
    {
      "cell_type": "code",
      "source": [
        "# !pip3 install torchmetrics"
      ],
      "metadata": {
        "colab": {
          "base_uri": "https://localhost:8080/"
        },
        "id": "_hLG68DJnmc0",
        "outputId": "d7a851ae-f370-4eaf-f043-076dff99a8b2"
      },
      "id": "_hLG68DJnmc0",
      "execution_count": 66,
      "outputs": [
        {
          "output_type": "stream",
          "name": "stdout",
          "text": [
            "Collecting torchmetrics\n",
            "  Downloading torchmetrics-0.8.2-py3-none-any.whl (409 kB)\n",
            "\u001b[?25l\r\u001b[K     |▉                               | 10 kB 18.9 MB/s eta 0:00:01\r\u001b[K     |█▋                              | 20 kB 21.8 MB/s eta 0:00:01\r\u001b[K     |██▍                             | 30 kB 16.4 MB/s eta 0:00:01\r\u001b[K     |███▏                            | 40 kB 6.7 MB/s eta 0:00:01\r\u001b[K     |████                            | 51 kB 6.3 MB/s eta 0:00:01\r\u001b[K     |████▉                           | 61 kB 7.5 MB/s eta 0:00:01\r\u001b[K     |█████▋                          | 71 kB 7.8 MB/s eta 0:00:01\r\u001b[K     |██████▍                         | 81 kB 6.1 MB/s eta 0:00:01\r\u001b[K     |███████▏                        | 92 kB 6.8 MB/s eta 0:00:01\r\u001b[K     |████████                        | 102 kB 7.4 MB/s eta 0:00:01\r\u001b[K     |████████▉                       | 112 kB 7.4 MB/s eta 0:00:01\r\u001b[K     |█████████▋                      | 122 kB 7.4 MB/s eta 0:00:01\r\u001b[K     |██████████▍                     | 133 kB 7.4 MB/s eta 0:00:01\r\u001b[K     |███████████▏                    | 143 kB 7.4 MB/s eta 0:00:01\r\u001b[K     |████████████                    | 153 kB 7.4 MB/s eta 0:00:01\r\u001b[K     |████████████▉                   | 163 kB 7.4 MB/s eta 0:00:01\r\u001b[K     |█████████████▋                  | 174 kB 7.4 MB/s eta 0:00:01\r\u001b[K     |██████████████▍                 | 184 kB 7.4 MB/s eta 0:00:01\r\u001b[K     |███████████████▏                | 194 kB 7.4 MB/s eta 0:00:01\r\u001b[K     |████████████████                | 204 kB 7.4 MB/s eta 0:00:01\r\u001b[K     |████████████████▉               | 215 kB 7.4 MB/s eta 0:00:01\r\u001b[K     |█████████████████▋              | 225 kB 7.4 MB/s eta 0:00:01\r\u001b[K     |██████████████████▍             | 235 kB 7.4 MB/s eta 0:00:01\r\u001b[K     |███████████████████▏            | 245 kB 7.4 MB/s eta 0:00:01\r\u001b[K     |████████████████████            | 256 kB 7.4 MB/s eta 0:00:01\r\u001b[K     |████████████████████▉           | 266 kB 7.4 MB/s eta 0:00:01\r\u001b[K     |█████████████████████▋          | 276 kB 7.4 MB/s eta 0:00:01\r\u001b[K     |██████████████████████▍         | 286 kB 7.4 MB/s eta 0:00:01\r\u001b[K     |███████████████████████▏        | 296 kB 7.4 MB/s eta 0:00:01\r\u001b[K     |████████████████████████        | 307 kB 7.4 MB/s eta 0:00:01\r\u001b[K     |████████████████████████▉       | 317 kB 7.4 MB/s eta 0:00:01\r\u001b[K     |█████████████████████████▋      | 327 kB 7.4 MB/s eta 0:00:01\r\u001b[K     |██████████████████████████▍     | 337 kB 7.4 MB/s eta 0:00:01\r\u001b[K     |███████████████████████████▏    | 348 kB 7.4 MB/s eta 0:00:01\r\u001b[K     |████████████████████████████    | 358 kB 7.4 MB/s eta 0:00:01\r\u001b[K     |████████████████████████████▉   | 368 kB 7.4 MB/s eta 0:00:01\r\u001b[K     |█████████████████████████████▋  | 378 kB 7.4 MB/s eta 0:00:01\r\u001b[K     |██████████████████████████████▍ | 389 kB 7.4 MB/s eta 0:00:01\r\u001b[K     |███████████████████████████████▏| 399 kB 7.4 MB/s eta 0:00:01\r\u001b[K     |████████████████████████████████| 409 kB 7.4 MB/s eta 0:00:01\r\u001b[K     |████████████████████████████████| 409 kB 7.4 MB/s \n",
            "\u001b[?25hRequirement already satisfied: numpy>=1.17.2 in /usr/local/lib/python3.7/dist-packages (from torchmetrics) (1.21.6)\n",
            "Requirement already satisfied: torch>=1.3.1 in /usr/local/lib/python3.7/dist-packages (from torchmetrics) (1.11.0+cu113)\n",
            "Requirement already satisfied: packaging in /usr/local/lib/python3.7/dist-packages (from torchmetrics) (21.3)\n",
            "Collecting pyDeprecate==0.3.*\n",
            "  Downloading pyDeprecate-0.3.2-py3-none-any.whl (10 kB)\n",
            "Requirement already satisfied: typing-extensions in /usr/local/lib/python3.7/dist-packages (from torch>=1.3.1->torchmetrics) (4.2.0)\n",
            "Requirement already satisfied: pyparsing!=3.0.5,>=2.0.2 in /usr/local/lib/python3.7/dist-packages (from packaging->torchmetrics) (3.0.9)\n",
            "Installing collected packages: pyDeprecate, torchmetrics\n",
            "Successfully installed pyDeprecate-0.3.2 torchmetrics-0.8.2\n"
          ]
        }
      ]
    },
    {
      "cell_type": "code",
      "execution_count": 74,
      "id": "median-feature",
      "metadata": {
        "id": "median-feature"
      },
      "outputs": [],
      "source": [
        "from torchmetrics import F1Score, Accuracy, Recall, Precision\n",
        "\n",
        "def evaluate(model, dataloader, loss_fn):\n",
        "    '''\n",
        "    Evaluate the model on the given data (e.g. validation data or test data).\n",
        "    '''\n",
        "\n",
        "    #As we are now using dropout, we must remember to use model.eval() \n",
        "    #to ensure the dropout is \"turned off\" while evaluating.\n",
        "    model.eval()\n",
        "    \n",
        "    total_accuracy = []\n",
        "    total_loss = []\n",
        "    total_recall = []\n",
        "    total_precision = []\n",
        "    total_f1_score = []\n",
        "    \n",
        "    with torch.no_grad():\n",
        "        # No gradients need to be maintained during evaluation\n",
        "        for i, batch in enumerate(dataloader):\n",
        "            \n",
        "            # Load batch to Device\n",
        "            labels, inputs = batch[0], batch[1]\n",
        "            if USE_CUDA:\n",
        "                labels, inputs = labels.cuda(), inputs.cuda()\n",
        "                \n",
        "            # Obtain probabilities of each class per sentence\n",
        "            output = model(inputs)\n",
        "            \n",
        "            # Compute loss\n",
        "            loss = loss_fn(output, labels.long())\n",
        "            total_loss.append(loss.item())\n",
        "\n",
        "            # Get the predictions\n",
        "            preds = torch.argmax(output, dim=1).flatten()\n",
        "            \n",
        "            # Calculate the accuracy rate\n",
        "            accuracy = (preds == labels).sum()/len(preds)\n",
        "            total_accuracy.append(accuracy)\n",
        "\n",
        "            # Calculate the recall score\n",
        "            # print(((preds == labels) & (labels == 1)).sum())\n",
        "            # print((labels == 1).sum())\n",
        "            # print(torch.sum(labels == 1))\n",
        "            # print(torch.sum((preds == labels) & (labels == 1)))\n",
        "            recall = Recall()\n",
        "            recall_score = recall(preds, labels).item()\n",
        "            total_recall.append(recall_score)\n",
        "            # recall = torch.sum((preds == labels) & (labels == 1)) / torch.sum(labels == 1)\n",
        "            # recall = len(((preds == labels) & (labels == 1)).sum()) / len((labels == 1).sum())\n",
        "            total_recall.append(recall_score)\n",
        "\n",
        "            # Calculate the precision score\n",
        "            # precision = torch.sum((preds == labels) & (labels == 1)) / torch.sum(preds == 1)\n",
        "            # precision = len(((preds == labels) & (labels == 1)).sum()) / len((preds == 1).sum())\n",
        "            precision = Precision()\n",
        "            precision_score = precision(preds, labels).item()\n",
        "            total_precision.append(precision_score)\n",
        "\n",
        "            # Calculate the f1 score\n",
        "            # f1_score = (2 * recall * precision) / (recall + precision)\n",
        "            f1 = F1Score(num_classes=2)\n",
        "            f1_score = f1(preds, labels).item()\n",
        "            total_f1_score.append(f1_score)\n",
        "\n",
        "    return np.mean(total_loss), np.mean(total_accuracy), np.mean(total_recall), np.mean(total_precision), np.mean(total_f1_score)"
      ]
    },
    {
      "cell_type": "code",
      "execution_count": 75,
      "id": "relevant-taste",
      "metadata": {
        "id": "relevant-taste"
      },
      "outputs": [],
      "source": [
        "import datetime\n",
        "\n",
        "def train_validate(model, optimizer, train_dataloader, val_dataloader, pretrained_embedding, epochs=20):\n",
        "    \n",
        "    \"\"\"Train the CNN model.\"\"\"\n",
        "    \n",
        "    #Loss function\n",
        "    loss_function = nn.CrossEntropyLoss()\n",
        "    \n",
        "    # Tracking best model\n",
        "    val_losses = []\n",
        "    val_accuracies = []\n",
        "    val_recalls = []\n",
        "    val_precisions = []\n",
        "    val_f1_scores = []\n",
        "    best_model = None\n",
        "    \n",
        "    # Start training loop\n",
        "    print(\"Start training...\\n\")\n",
        "    print(f\"{'Epoch':^7} | {'Time(secs)':^8} | {'Train Loss':^9}| {'Val Loss':^10}| {'Val Acc':^11} | {'Val Recall':^12}  | {'Val Precision':^13}  | {'Val F1':^14}\")\n",
        "    print(\"-\"*120)\n",
        "\n",
        "    for epoch_i in range(epochs):\n",
        "        start_time = datetime.datetime.now()\n",
        "        # =======================================\n",
        "        #               Training\n",
        "        # =======================================\n",
        "        \n",
        "        avg_loss_train = train_an_epoch(model, train_dataloader, loss_function, optimizer)\n",
        "        \n",
        "        # =======================================\n",
        "        #               Evaluation\n",
        "        # =======================================\n",
        "        \n",
        "        val_loss, val_accuracy, val_recall, val_precision, val_f1 = evaluate(model, val_dataloader, loss_function)\n",
        "\n",
        "        # Track the best model\n",
        "        if len(val_losses) == 0 or val_loss < min(val_losses):\n",
        "            best_model = type(model)(pretrained_embedding=pretrained_embedding,\n",
        "                                     vocab_size=len(vocab_words), \n",
        "                                     embed_dim=model.embed_dim,\n",
        "                                     filter_sizes=FILTER_SIZES,\n",
        "                                     num_filters=N_FILTERS, num_classes=num_classes)\n",
        "            best_model.load_state_dict(model.state_dict())\n",
        "            if USE_CUDA:\n",
        "                best_model = best_model.cuda()\n",
        "        \n",
        "        val_losses.append(val_loss)\n",
        "        val_accuracies.append(val_accuracy)\n",
        "        val_recalls.append(val_recall)\n",
        "        val_precisions.append(val_precision)\n",
        "        val_f1_scores.append(val_f1)\n",
        "        \n",
        "        time_diff = (datetime.datetime.now() - start_time).seconds\n",
        "        \n",
        "        print(f\"{epoch_i + 1:^7} |  {time_diff:^8}  | {avg_loss_train:^9.2f} | {val_loss:^10.2f}| {val_accuracy:^11.2f}| {val_recall:^12.2f}| {val_precision:^13.2f} | {val_f1:^14.2f}\")\n",
        "        print('')\n",
        "        \n",
        "    return best_model, val_accuracies, val_recalls, val_precisions, val_f1_scores"
      ]
    },
    {
      "cell_type": "markdown",
      "id": "healthy-latitude",
      "metadata": {
        "id": "healthy-latitude"
      },
      "source": [
        "## Train the model"
      ]
    },
    {
      "cell_type": "code",
      "execution_count": 76,
      "id": "inner-findings",
      "metadata": {
        "id": "inner-findings"
      },
      "outputs": [],
      "source": [
        "cnn_model = CNN_classification(pretrained_embedding=None,\n",
        "                 vocab_size=len(vocab_words), embed_dim=400,\n",
        "                        freeze_embedding=False,\n",
        "                        filter_sizes=FILTER_SIZES,\n",
        "                        num_filters=N_FILTERS,\n",
        "                        num_classes=num_classes,\n",
        "                        dropout=0.5).to(device)\n",
        "\n",
        "learning_rate = 0.001\n",
        "optimizer = torch.optim.Adam(cnn_model.parameters(), \n",
        "                                 lr=learning_rate)\n",
        "\n"
      ]
    },
    {
      "cell_type": "code",
      "execution_count": 77,
      "id": "liked-colombia",
      "metadata": {
        "colab": {
          "base_uri": "https://localhost:8080/"
        },
        "id": "liked-colombia",
        "outputId": "882d21c8-0c8f-4ed8-adb3-3fb7e4d6e864"
      },
      "outputs": [
        {
          "output_type": "stream",
          "name": "stdout",
          "text": [
            "Start training...\n",
            "\n",
            " Epoch  | Time(secs) | Train Loss|  Val Loss |   Val Acc   |  Val Recall   | Val Precision  |     Val F1    \n",
            "------------------------------------------------------------------------------------------------------------------------\n",
            "   1    |    135     |   0.20    |    0.15   |    0.96    |     0.96    |     0.96      |      0.96     \n",
            "\n",
            "   2    |    144     |   0.09    |    0.16   |    0.96    |     0.96    |     0.96      |      0.96     \n",
            "\n",
            "   3    |    145     |   0.04    |    0.23   |    0.96    |     0.96    |     0.96      |      0.96     \n",
            "\n",
            "   4    |    149     |   0.04    |    0.27   |    0.96    |     0.95    |     0.95      |      0.95     \n",
            "\n",
            "   5    |    153     |   0.03    |    0.32   |    0.95    |     0.95    |     0.95      |      0.95     \n",
            "\n"
          ]
        }
      ],
      "source": [
        "best_model, val_accuracies, val_recalls, val_precisions, val_f1_scores = train_validate(cnn_model, optimizer, \n",
        "                                            train_dataloader, val_dataloader, \n",
        "                                            pretrained_embedding=None,\n",
        "                                            epochs=5)"
      ]
    },
    {
      "cell_type": "markdown",
      "source": [
        "## Test the best model"
      ],
      "metadata": {
        "id": "R_P9epXecwy9"
      },
      "id": "R_P9epXecwy9"
    },
    {
      "cell_type": "code",
      "execution_count": 78,
      "id": "lyric-finish",
      "metadata": {
        "id": "lyric-finish"
      },
      "outputs": [],
      "source": [
        "#Loss function\n",
        "loss_function = nn.CrossEntropyLoss()\n",
        "test_loss, test_accuracy, test_recall, test_precision, test_f1_score = evaluate(best_model, test_dataloader, loss_function)"
      ]
    },
    {
      "cell_type": "code",
      "source": [
        "print(f\"{test_loss:^10.2f}| {test_accuracy:^11.2f}| {test_recall:^12.2f}| {test_precision:^13.2f} | {test_f1_score:^14.2f}\")\n"
      ],
      "metadata": {
        "colab": {
          "base_uri": "https://localhost:8080/"
        },
        "id": "AAx3IgzvdmCC",
        "outputId": "9ebf9305-00de-4c1e-df3e-a93a33ce7d94"
      },
      "id": "AAx3IgzvdmCC",
      "execution_count": 79,
      "outputs": [
        {
          "output_type": "stream",
          "name": "stdout",
          "text": [
            "   0.13   |    0.96    |     0.96    |     0.96      |      0.96     \n"
          ]
        }
      ]
    },
    {
      "cell_type": "code",
      "source": [
        "from sklearn.metrics import classification_report, confusion_matrix\n",
        "import matplotlib.pyplot as plt\n",
        "import seaborn as sns\n",
        "\n",
        "def plot_metrics(model, test_loader, device='cpu'):\n",
        "    print('Evaluate')\n",
        "    y_pred = []\n",
        "    y_true = []\n",
        "\n",
        "    total_accuracy = []\n",
        "\n",
        "    with torch.no_grad():\n",
        "        # No gradients need to be maintained during evaluation\n",
        "        for i, batch in enumerate(test_loader):\n",
        "            # Load batch to Device\n",
        "            labels, inputs = batch[0], batch[1]\n",
        "            labels, inputs = labels.to(device), inputs.to(device)\n",
        "            # Obtain probabilities of each class per sentence\n",
        "            output = model(inputs)\n",
        "            # Get the predictions\n",
        "            preds = torch.argmax(output, dim=1).flatten()\n",
        "            # Calculate the accuracy rate\n",
        "            accuracy = (preds == labels).sum()/len(preds)\n",
        "            total_accuracy.append(accuracy)\n",
        "            y_pred.extend(list(preds))\n",
        "            y_true.extend(list(labels))\n",
        "\n",
        "    acc = 0.0\n",
        "    for i, y in enumerate(y_pred):\n",
        "        if y == y_true[i]:\n",
        "            acc += 1.0\n",
        "\n",
        "    acc = acc / len(y_pred)\n",
        "\n",
        "    print('Test Accuracy: ', acc)\n",
        "\n",
        "    print('Classification Report:')\n",
        "    print(classification_report(y_true, y_pred, labels=[1, 0], digits=4))\n",
        "\n",
        "    cm = confusion_matrix(y_true, y_pred, labels=[1, 0])\n",
        "    ax = plt.subplot()\n",
        "    sns.heatmap(cm, annot=True, ax=ax, cmap='Blues', fmt=\"d\")\n",
        "\n",
        "    ax.set_title('Confusion Matrix')\n",
        "\n",
        "    ax.set_xlabel('Predicted Labels')\n",
        "    ax.set_ylabel('True Labels')\n",
        "\n",
        "    ax.xaxis.set_ticklabels(['1', '0'])\n",
        "    ax.yaxis.set_ticklabels(['1', '0'])\n",
        "\n",
        "    return None"
      ],
      "metadata": {
        "id": "rdGatR-Bdl_q"
      },
      "id": "rdGatR-Bdl_q",
      "execution_count": 80,
      "outputs": []
    },
    {
      "cell_type": "code",
      "source": [
        "plot_metrics(best_model, test_dataloader)\n"
      ],
      "metadata": {
        "colab": {
          "base_uri": "https://localhost:8080/",
          "height": 509
        },
        "id": "O4Jvs2yzv2FX",
        "outputId": "b8cd88cc-e3c3-42bb-a694-033b82af8c11"
      },
      "id": "O4Jvs2yzv2FX",
      "execution_count": 81,
      "outputs": [
        {
          "output_type": "stream",
          "name": "stdout",
          "text": [
            "Evaluate\n",
            "Test Accuracy:  0.9586811352253757\n",
            "Classification Report:\n",
            "              precision    recall  f1-score   support\n",
            "\n",
            "           1     0.8596    0.4579    0.5976       321\n",
            "           0     0.9623    0.9946    0.9782      4471\n",
            "\n",
            "    accuracy                         0.9587      4792\n",
            "   macro avg     0.9110    0.7263    0.7879      4792\n",
            "weighted avg     0.9555    0.9587    0.9527      4792\n",
            "\n"
          ]
        },
        {
          "output_type": "display_data",
          "data": {
            "text/plain": [
              "<Figure size 432x288 with 2 Axes>"
            ],
            "image/png": "[encoded data removed]"
          },
          "metadata": {
            "needs_background": "light"
          }
        }
      ]
    },
    {
      "cell_type": "code",
      "source": [
        ""
      ],
      "metadata": {
        "id": "opMFSg_swI2v"
      },
      "id": "opMFSg_swI2v",
      "execution_count": null,
      "outputs": []
    }
  ],
  "metadata": {
    "kernelspec": {
      "display_name": "Python 3",
      "language": "python",
      "name": "python3"
    },
    "language_info": {
      "codemirror_mode": {
        "name": "ipython",
        "version": 3
      },
      "file_extension": ".py",
      "mimetype": "text/x-python",
      "name": "python",
      "nbconvert_exporter": "python",
      "pygments_lexer": "ipython3",
      "version": "3.8.8"
    },
    "colab": {
      "name": "CNN.ipynb",
      "provenance": [],
      "collapsed_sections": []
    }
  },
  "nbformat": 4,
  "nbformat_minor": 5
}