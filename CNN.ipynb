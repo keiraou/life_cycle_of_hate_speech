{
  "cells": [
    {
      "cell_type": "markdown",
      "id": "marked-western",
      "metadata": {
        "id": "marked-western"
      },
      "source": [
        "# CNN\n",
        "\n",
        "CNN model for tweet classification\n",
        "\n",
        "\n",
        "Reference:\n",
        "- Mainly based on Hw3 codes\n",
        "- A Complete Guide to CNN for Sentence Classification with PyTorch[https://chriskhanhtran.github.io/posts/cnn-sentence-classification/]\n"
      ]
    },
    {
      "cell_type": "code",
      "execution_count": 1,
      "id": "directed-leonard",
      "metadata": {
        "colab": {
          "base_uri": "https://localhost:8080/"
        },
        "id": "directed-leonard",
        "outputId": "628fefea-ec7c-408c-8b2b-4be79fddadd8"
      },
      "outputs": [
        {
          "output_type": "stream",
          "name": "stdout",
          "text": [
            "No GPU available, using the CPU instead.\n"
          ]
        }
      ],
      "source": [
        "import pandas as pd\n",
        "import numpy as np\n",
        "import torch\n",
        "import random\n",
        "\n",
        "if torch.cuda.is_available():       \n",
        "    device = torch.device(\"cuda\")\n",
        "    print(f'There are {torch.cuda.device_count()} GPU(s) available.')\n",
        "    print('Device name:', torch.cuda.get_device_name(0))\n",
        "    USE_CUDA=True\n",
        "\n",
        "else:\n",
        "    print('No GPU available, using the CPU instead.')\n",
        "    device = torch.device(\"cpu\")\n",
        "    USE_CUDA=False"
      ]
    },
    {
      "cell_type": "code",
      "execution_count": 2,
      "id": "constant-photography",
      "metadata": {
        "id": "constant-photography"
      },
      "outputs": [],
      "source": [
        "SEED = 30255 # Specify a seed for reproducability\n",
        "\n",
        "random.seed(SEED)\n",
        "np.random.seed(SEED)\n",
        "torch.manual_seed(SEED)\n",
        "if torch.cuda.is_available():\n",
        "    torch.cuda.manual_seed(SEED)\n",
        "torch.backends.cudnn.deterministic = True"
      ]
    },
    {
      "cell_type": "code",
      "execution_count": 3,
      "id": "alien-haiti",
      "metadata": {
        "id": "alien-haiti"
      },
      "outputs": [],
      "source": [
        "train_df = pd.read_csv('data/Twitter/hate_twitter/hate_train.csv')\n",
        "val_df = pd.read_csv('data/Twitter/hate_twitter/hate_val.csv')\n",
        "test_df = pd.read_csv('data/Twitter/hate_twitter/hate_test.csv')\n",
        "\n",
        "\n",
        "# Check and drop na values in clean_tweet column\n",
        "train_df[train_df['clean_tweet'].isnull()]\n",
        "\n",
        "train_df = train_df[train_df['clean_tweet'].notna()]\n",
        "val_df = val_df[val_df['clean_tweet'].notna()]\n",
        "test_df = test_df[test_df['clean_tweet'].notna()]\n",
        "\n",
        "\n",
        "x_train = train_df['clean_tweet']\n",
        "y_train = train_df['label']\n",
        "\n",
        "x_test = test_df['clean_tweet']\n",
        "y_test = test_df['label']\n",
        "\n",
        "x_val = val_df['clean_tweet']\n",
        "y_val = val_df['label']\n",
        "\n",
        "\n"
      ]
    },
    {
      "cell_type": "code",
      "execution_count": 4,
      "id": "starting-reviewer",
      "metadata": {
        "colab": {
          "base_uri": "https://localhost:8080/"
        },
        "id": "starting-reviewer",
        "outputId": "b0c2ceb0-41a1-4bbe-e8d2-fb63faab370e"
      },
      "outputs": [
        {
          "output_type": "execute_result",
          "data": {
            "text/plain": [
              "label\n",
              "0    13211\n",
              "1     1028\n",
              "dtype: int64"
            ]
          },
          "metadata": {},
          "execution_count": 4
        }
      ],
      "source": [
        "train_df.groupby('label').size()"
      ]
    },
    {
      "cell_type": "markdown",
      "id": "incident-monaco",
      "metadata": {
        "id": "incident-monaco"
      },
      "source": [
        "## Convert to Pytorch Data Objects\n"
      ]
    },
    {
      "cell_type": "code",
      "execution_count": 5,
      "id": "indian-choir",
      "metadata": {
        "id": "indian-choir"
      },
      "outputs": [],
      "source": [
        "'''\n",
        "dataclassCNN.py\n",
        "File to create a Custom Data Class and Collate Function for PyTorch.\n",
        "This file is for the CNN model.\n",
        "'''\n",
        "from torch.utils.data import Dataset\n",
        "from torchtext.data.utils import get_tokenizer\n",
        "\n",
        "\n",
        "class ProjectDataset(Dataset):\n",
        "\n",
        "    def __init__(self, data, target_col=None, text_col=None):\n",
        "\n",
        "        # Target first, then Inputs.\n",
        "        self.samples = []\n",
        "        tokenizer = get_tokenizer('basic_english')\n",
        "\n",
        "        if not target_col and not text_col:\n",
        "            targets = list(data[0])\n",
        "            inputs = list(data[1])\n",
        "            for idx in range(len(targets)):\n",
        "                text = tokenizer(inputs[idx])\n",
        "                self.samples.append([targets[idx], text])\n",
        "        else:\n",
        "            for _, row in data.iterrows():\n",
        "                text = row[text_col]\n",
        "                text = tokenizer(text)\n",
        "                target = row[target_col]\n",
        "                self.samples.append([target, text])\n",
        "\n",
        "    def __len__(self):\n",
        "        return len(self.samples)\n",
        "\n",
        "    def __getitem__(self, idx):\n",
        "        return self.samples[idx]"
      ]
    },
    {
      "cell_type": "code",
      "execution_count": 6,
      "id": "unnecessary-andrew",
      "metadata": {
        "id": "unnecessary-andrew"
      },
      "outputs": [],
      "source": [
        "data_obj = ProjectDataset(train_df, 'label', 'clean_tweet')"
      ]
    },
    {
      "cell_type": "markdown",
      "id": "abroad-employee",
      "metadata": {
        "id": "abroad-employee"
      },
      "source": [
        "## Load Pre-trained vectors GloVe "
      ]
    },
    {
      "cell_type": "code",
      "execution_count": 7,
      "id": "acceptable-kernel",
      "metadata": {
        "id": "acceptable-kernel"
      },
      "outputs": [],
      "source": [
        "import torch\n",
        "import torch.nn as nn\n",
        "import torch.optim as optim\n",
        "\n",
        "import torchtext\n",
        "from torchtext import data\n",
        "from torchtext import datasets\n",
        "\n",
        "from collections import Counter\n",
        "from torchtext.vocab import vocab\n",
        "\n",
        "import numpy as np\n",
        "import random"
      ]
    },
    {
      "cell_type": "code",
      "execution_count": 8,
      "id": "significant-findings",
      "metadata": {
        "colab": {
          "base_uri": "https://localhost:8080/"
        },
        "id": "significant-findings",
        "outputId": "160435a6-a1b2-4958-f9b4-5cc307ff8b97"
      },
      "outputs": [
        {
          "output_type": "stream",
          "name": "stdout",
          "text": [
            "The vocabulary length is 24472 words\n",
            "Max number of words for a given tweet in the Dataset:\n",
            "20\n"
          ]
        }
      ],
      "source": [
        "from collections import Counter\n",
        "from torchtext.vocab import vocab\n",
        "\n",
        "\n",
        "counter_words = Counter()\n",
        "for (label, text) in data_obj:\n",
        "    counter_words.update(text)\n",
        "    \n",
        "vocab_words = vocab(counter_words)\n",
        "vocab_words.set_default_index(0)\n",
        "\n",
        "print('The vocabulary length is {} words'.format(len(vocab_words)))\n",
        "\n",
        "VECTORS_CACHE_DIR = './.vector_cache'\n",
        "\n",
        "from torchtext import vocab\n",
        "\n",
        "pretrained_emb = vocab.GloVe(name='6B',cache=VECTORS_CACHE_DIR)\n",
        "\n",
        "print('Max number of words for a given tweet in the Dataset:')\n",
        "max_len = train_df[\"clean_tweet\"].apply(lambda x: len(x.split())).max()\n",
        "print(max_len)\n",
        "\n",
        "pre_trained_vectors = pretrained_emb.get_vecs_by_tokens(vocab_words.get_itos(),\n",
        "                                                       lower_case_backup=True)"
      ]
    },
    {
      "cell_type": "code",
      "execution_count": 9,
      "id": "original-newark",
      "metadata": {
        "id": "original-newark"
      },
      "outputs": [],
      "source": [
        "def collate_for_cnn(batch, max_len=20):\n",
        "    '''\n",
        "    For each batch, develop the appropiate inputs from the models (i.e. embeddings)\n",
        "    '''\n",
        "    input_vector = []\n",
        "    labels = []\n",
        "    for i, (label, tokenized_sent) in enumerate(batch):\n",
        "        \n",
        "        #Append labels \n",
        "        labels.append(label)\n",
        "        \n",
        "        #Get tokenized sentence\n",
        "        if len(tokenized_sent) >= max_len:\n",
        "            tokenized_sent = tokenized_sent[:20]\n",
        "        else:\n",
        "            diff =  (max_len - len(tokenized_sent))\n",
        "            tokenized_sent += ['<pad>'] * diff\n",
        "                \n",
        "        wordstoidx = [vocab_words[w] for w in tokenized_sent]\n",
        "        input_vector.append(wordstoidx)\n",
        "    \n",
        "    return torch.tensor(labels).to(device), torch.tensor(input_vector).to(device)\n"
      ]
    },
    {
      "cell_type": "code",
      "execution_count": 9,
      "id": "bizarre-mexico",
      "metadata": {
        "id": "bizarre-mexico"
      },
      "outputs": [],
      "source": [
        ""
      ]
    },
    {
      "cell_type": "markdown",
      "id": "regional-jumping",
      "metadata": {
        "id": "regional-jumping"
      },
      "source": [
        "## Setting up DataLoader Class"
      ]
    },
    {
      "cell_type": "code",
      "execution_count": 10,
      "id": "normal-cosmetic",
      "metadata": {
        "id": "normal-cosmetic"
      },
      "outputs": [],
      "source": [
        "from torch.utils.data import DataLoader\n",
        "\n",
        "def data_loader(train_tuple, val_tuple, test_tuple,\n",
        "                batch_size=20):\n",
        "    \"\"\"Convert train, validation and test sets into Dataloaders\n",
        "    \"\"\"\n",
        "\n",
        "    # Create DataLoader for training data\n",
        "    train_data = ProjectDataset(train_tuple)\n",
        "    train_dataloader = DataLoader(train_data, shuffle=True,\n",
        "                                  batch_size=batch_size, \n",
        "                                 collate_fn=collate_for_cnn)\n",
        "    \n",
        "    # Create DataLoader for validation data\n",
        "    valid_data = ProjectDataset(val_tuple)\n",
        "    val_dataloader = DataLoader(valid_data, shuffle=False,\n",
        "                                  batch_size=batch_size, \n",
        "                                 collate_fn=collate_for_cnn)\n",
        "\n",
        "    # Create DataLoader for test data\n",
        "    test_data = ProjectDataset(test_tuple)\n",
        "    test_dataloader = DataLoader(test_data, shuffle=False,\n",
        "                                  batch_size=batch_size, \n",
        "                                 collate_fn=collate_for_cnn)\n",
        "\n",
        "    return train_dataloader, val_dataloader, test_dataloader"
      ]
    },
    {
      "cell_type": "code",
      "execution_count": 11,
      "id": "narrow-official",
      "metadata": {
        "id": "narrow-official"
      },
      "outputs": [],
      "source": [
        "train_dataloader, val_dataloader, test_dataloader = data_loader([y_train, x_train],\n",
        "                                                               [y_val, x_val],\n",
        "                                                               [y_test, x_test])"
      ]
    },
    {
      "cell_type": "code",
      "execution_count": 12,
      "id": "legendary-breast",
      "metadata": {
        "colab": {
          "base_uri": "https://localhost:8080/"
        },
        "id": "legendary-breast",
        "outputId": "22d02405-74a1-4fda-d7d6-6dae6dea3f7b"
      },
      "outputs": [
        {
          "output_type": "stream",
          "name": "stdout",
          "text": [
            "torch.Size([20, 20])\n"
          ]
        }
      ],
      "source": [
        "for i in train_dataloader:\n",
        "    labels, inputs = i[0], i[1]\n",
        "    print(inputs.shape)\n",
        "    break"
      ]
    },
    {
      "cell_type": "markdown",
      "id": "immediate-passage",
      "metadata": {
        "id": "immediate-passage"
      },
      "source": [
        "## CNN Model"
      ]
    },
    {
      "cell_type": "code",
      "execution_count": 13,
      "id": "personalized-weekly",
      "metadata": {
        "id": "personalized-weekly"
      },
      "outputs": [],
      "source": [
        "FILTER_SIZES = [3,4,5]\n",
        "N_FILTERS = [100, 100,100]\n",
        "DROPOUT = 0.5\n",
        "PAD_IDX = vocab_words['<pad>']\n",
        "num_classes = 2 #0, 1"
      ]
    },
    {
      "cell_type": "code",
      "execution_count": 14,
      "id": "artistic-mason",
      "metadata": {
        "id": "artistic-mason"
      },
      "outputs": [],
      "source": [
        "# https://github.com/advanced-ml-project/project/blob/main/cnn_development.ipynb\n",
        "\n",
        "import torch\n",
        "import torch.nn as nn\n",
        "import torch.nn.functional as F\n",
        "\n",
        "class CNN_classification(nn.Module):\n",
        "    ''' An 1D Convulational Neural Network for Sentence Classification'''\n",
        "    \n",
        "    def __init__(self, pretrained_embedding=None, freeze_embedding=False,\n",
        "                 vocab_size=None, embed_dim=None,\n",
        "                 filter_sizes=FILTER_SIZES, num_filters=N_FILTERS,\n",
        "                 num_classes=num_classes,pad_id=PAD_IDX,\n",
        "                 dropout=DROPOUT):\n",
        "        \"\"\"\n",
        "        pretrained_embedding (torch.Tensor): Pretrained embeddings with\n",
        "                shape (vocab_size, embed_dim)\n",
        "            freeze_embedding (bool): Set to False to fine-tune pretraiend\n",
        "                vectors. Default: False\n",
        "            vocab_size (int): Need to be specified when not pretrained word\n",
        "                embeddings are not used.\n",
        "            embed_dim (int): Dimension of word vectors. Need to be specified\n",
        "                when pretrained word embeddings are not used. Default: 300\n",
        "            filter_sizes (List[int]): List of filter sizes. Default: [3, 4, 5]\n",
        "            num_filters (int): Number of filters. Default: 100\n",
        "            n_classes (int): Number of classes. Default: 3\n",
        "            dropout (float): Dropout rate. Default: 0.5\n",
        "        \"\"\"\n",
        "\n",
        "        super(CNN_classification, self).__init__()\n",
        "        \n",
        "        # 1. Embedding layer\n",
        "        if pretrained_embedding is not None:\n",
        "            self.vocab_size, self.embed_dim = pretrained_embedding.shape\n",
        "            self.embedding = nn.Embedding.from_pretrained(pretrained_embedding,\n",
        "                                                          freeze=freeze_embedding)\n",
        "        else:\n",
        "            self.embed_dim = embed_dim\n",
        "            self.embedding = nn.Embedding(num_embeddings=vocab_size,\n",
        "                                          embedding_dim=self.embed_dim,\n",
        "                                          padding_idx= pad_id,\n",
        "                                          )\n",
        "        \n",
        "        # 2. Convolutional Layers (for each filter size --> n-gram)\n",
        "        self.convs = nn.ModuleList([\n",
        "                                    nn.Conv1d(in_channels = self.embed_dim,\n",
        "                                              out_channels = num_filters[i], \n",
        "                                              kernel_size = fs)\n",
        "                                    for i, fs in enumerate(filter_sizes)\n",
        "                                    ])\n",
        "        \n",
        "    \n",
        "        # 3. Fully-connected layer\n",
        "        self.linear = nn.Linear(in_features = np.sum(num_filters), \n",
        "                                out_features = num_classes\n",
        "                               )\n",
        "        \n",
        "        \n",
        "        # Additional Feature\n",
        "        self.dropout = nn.Dropout(dropout)\n",
        "\n",
        "        \n",
        "    def forward(self, inputs):\n",
        "\n",
        "        x_embedded = self.embedding(inputs)\n",
        "        \n",
        "        x_embedded = x_embedded.permute(0, 2, 1)\n",
        "        \n",
        "        # Apply CNN and ReLU\n",
        "        convs_list = [F.relu(conv(x_embedded)) for conv in self.convs]\n",
        "\n",
        "        # Max pooling.\n",
        "        pooled = [F.max_pool1d(x_conv, kernel_size=x_conv.shape[2]).squeeze(2)\n",
        "                  for x_conv in convs_list]\n",
        "        \n",
        "        # Concatenate Pool list to feed the fully connected layer\n",
        "        input_fc = self.dropout(torch.cat(pooled, dim = 1))\n",
        "        \n",
        "        # Compute probabilities\n",
        "        predictions_classes = self.linear(input_fc)\n",
        "        \n",
        "        return predictions_classes"
      ]
    },
    {
      "cell_type": "code",
      "execution_count": 15,
      "id": "scientific-kenya",
      "metadata": {
        "id": "scientific-kenya"
      },
      "outputs": [],
      "source": [
        "def train_an_epoch(model, dataloader, loss_function, optimizer):\n",
        "    \n",
        "    model.train() # Sets the module in training mode.\n",
        "    total_loss = 0\n",
        "    \n",
        "    for idx, batch in enumerate(dataloader):\n",
        "        \n",
        "        # Load batch to GPU\n",
        "        labels, inputs = tuple(t.to(device) for t in batch)\n",
        "        \n",
        "        # Zero out any previously calculated gradients\n",
        "        model.zero_grad()\n",
        "        \n",
        "        #Perform a forward pass.\n",
        "        log_probs = model(inputs)\n",
        "        \n",
        "        # Compute loss and accumulate the loss values\n",
        "        loss = loss_function(log_probs, labels.long())\n",
        "        total_loss += loss.item()\n",
        "        \n",
        "        # Perform a backward pass to calculate gradients\n",
        "        loss.backward()\n",
        "        optimizer.step()\n",
        "    \n",
        "    return total_loss/len(dataloader)"
      ]
    },
    {
      "cell_type": "code",
      "source": [
        "!pip3 install torchmetrics"
      ],
      "metadata": {
        "colab": {
          "base_uri": "https://localhost:8080/"
        },
        "id": "_hLG68DJnmc0",
        "outputId": "545fe6c6-d8bb-447b-fd7c-ddff47590d52"
      },
      "id": "_hLG68DJnmc0",
      "execution_count": 16,
      "outputs": [
        {
          "output_type": "stream",
          "name": "stdout",
          "text": [
            "Looking in indexes: https://pypi.org/simple, https://us-python.pkg.dev/colab-wheels/public/simple/\n",
            "Requirement already satisfied: torchmetrics in /usr/local/lib/python3.7/dist-packages (0.8.2)\n",
            "Requirement already satisfied: packaging in /usr/local/lib/python3.7/dist-packages (from torchmetrics) (21.3)\n",
            "Requirement already satisfied: numpy>=1.17.2 in /usr/local/lib/python3.7/dist-packages (from torchmetrics) (1.21.6)\n",
            "Requirement already satisfied: torch>=1.3.1 in /usr/local/lib/python3.7/dist-packages (from torchmetrics) (1.11.0+cu113)\n",
            "Requirement already satisfied: pyDeprecate==0.3.* in /usr/local/lib/python3.7/dist-packages (from torchmetrics) (0.3.2)\n",
            "Requirement already satisfied: typing-extensions in /usr/local/lib/python3.7/dist-packages (from torch>=1.3.1->torchmetrics) (4.2.0)\n",
            "Requirement already satisfied: pyparsing!=3.0.5,>=2.0.2 in /usr/local/lib/python3.7/dist-packages (from packaging->torchmetrics) (3.0.9)\n"
          ]
        }
      ]
    },
    {
      "cell_type": "code",
      "execution_count": 17,
      "id": "median-feature",
      "metadata": {
        "id": "median-feature"
      },
      "outputs": [],
      "source": [
        "from torchmetrics import F1Score, Accuracy, Recall, Precision\n",
        "\n",
        "def evaluate(model, dataloader, loss_fn):\n",
        "    '''\n",
        "    Evaluate the model on the given data (e.g. validation data or test data).\n",
        "    '''\n",
        "\n",
        "    #As we are now using dropout, we must remember to use model.eval() \n",
        "    #to ensure the dropout is \"turned off\" while evaluating.\n",
        "    model.eval()\n",
        "    \n",
        "    total_accuracy = []\n",
        "    total_loss = []\n",
        "    total_recall = []\n",
        "    total_precision = []\n",
        "    total_f1_score = []\n",
        "    \n",
        "    with torch.no_grad():\n",
        "        # No gradients need to be maintained during evaluation\n",
        "        for i, batch in enumerate(dataloader):\n",
        "            \n",
        "            # Load batch to Device\n",
        "            labels, inputs = batch[0], batch[1]\n",
        "            if USE_CUDA:\n",
        "                labels, inputs = labels.cuda(), inputs.cuda()\n",
        "                \n",
        "            # Obtain probabilities of each class per sentence\n",
        "            output = model(inputs)\n",
        "            \n",
        "            # Compute loss\n",
        "            loss = loss_fn(output, labels.long())\n",
        "            total_loss.append(loss.item())\n",
        "\n",
        "            # Get the predictions\n",
        "            preds = torch.argmax(output, dim=1).flatten()\n",
        "            \n",
        "            # Calculate the accuracy rate\n",
        "            accuracy = (preds == labels).sum()/len(preds)\n",
        "            total_accuracy.append(accuracy)\n",
        "\n",
        "            # Calculate the recall score\n",
        "            recall = Recall()\n",
        "            recall_score = recall(preds, labels).item()\n",
        "            total_recall.append(recall_score)\n",
        "            total_recall.append(recall_score)\n",
        "\n",
        "            # Calculate the precision score\n",
        "            precision = Precision()\n",
        "            precision_score = precision(preds, labels).item()\n",
        "            total_precision.append(precision_score)\n",
        "\n",
        "            # Calculate the f1 score\n",
        "            # f1_score = (2 * recall * precision) / (recall + precision)\n",
        "            f1 = F1Score(num_classes=2)\n",
        "            f1_score = f1(preds, labels).item()\n",
        "            total_f1_score.append(f1_score)\n",
        "\n",
        "    return np.mean(total_loss), np.mean(total_accuracy), np.mean(total_recall), np.mean(total_precision), np.mean(total_f1_score)"
      ]
    },
    {
      "cell_type": "code",
      "execution_count": 18,
      "id": "relevant-taste",
      "metadata": {
        "id": "relevant-taste"
      },
      "outputs": [],
      "source": [
        "import datetime\n",
        "\n",
        "def train_validate(model, optimizer, train_dataloader, val_dataloader, pretrained_embedding, epochs=20):\n",
        "    \n",
        "    \"\"\"Train the CNN model.\"\"\"\n",
        "    \n",
        "    #Loss function\n",
        "    loss_function = nn.CrossEntropyLoss()\n",
        "    \n",
        "    # Tracking best model\n",
        "    val_losses = []\n",
        "    val_accuracies = []\n",
        "    val_recalls = []\n",
        "    val_precisions = []\n",
        "    val_f1_scores = []\n",
        "    best_model = None\n",
        "    \n",
        "    # Start training loop\n",
        "    print(\"Start training...\\n\")\n",
        "    print(f\"{'Epoch':^7} | {'Time(secs)':^8} | {'Train Loss':^9}| {'Val Loss':^10}| {'Val Acc':^11} | {'Val Recall':^12}  | {'Val Precision':^13}  | {'Val F1':^14}\")\n",
        "    print(\"-\"*120)\n",
        "\n",
        "    for epoch_i in range(epochs):\n",
        "        start_time = datetime.datetime.now()\n",
        "        # =======================================\n",
        "        #               Training\n",
        "        # =======================================\n",
        "        \n",
        "        avg_loss_train = train_an_epoch(model, train_dataloader, loss_function, optimizer)\n",
        "        \n",
        "        # =======================================\n",
        "        #               Evaluation\n",
        "        # =======================================\n",
        "        \n",
        "        val_loss, val_accuracy, val_recall, val_precision, val_f1 = evaluate(model, val_dataloader, loss_function)\n",
        "\n",
        "        # Track the best model\n",
        "        if len(val_losses) == 0 or val_loss < min(val_losses):\n",
        "            best_model = type(model)(pretrained_embedding=pretrained_embedding,\n",
        "                                     vocab_size=len(vocab_words), \n",
        "                                     embed_dim=model.embed_dim,\n",
        "                                     filter_sizes=FILTER_SIZES,\n",
        "                                     num_filters=N_FILTERS, num_classes=num_classes)\n",
        "            best_model.load_state_dict(model.state_dict())\n",
        "            if USE_CUDA:\n",
        "                best_model = best_model.cuda()\n",
        "        \n",
        "        val_losses.append(val_loss)\n",
        "        val_accuracies.append(val_accuracy)\n",
        "        val_recalls.append(val_recall)\n",
        "        val_precisions.append(val_precision)\n",
        "        val_f1_scores.append(val_f1)\n",
        "        \n",
        "        time_diff = (datetime.datetime.now() - start_time).seconds\n",
        "        \n",
        "        print(f\"{epoch_i + 1:^7} |  {time_diff:^8}  | {avg_loss_train:^9.2f} | {val_loss:^10.2f}| {val_accuracy:^11.2f}| {val_recall:^12.2f}| {val_precision:^13.2f} | {val_f1:^14.2f}\")\n",
        "        print('')\n",
        "        \n",
        "    return best_model, val_accuracies, val_recalls, val_precisions, val_f1_scores"
      ]
    },
    {
      "cell_type": "markdown",
      "id": "healthy-latitude",
      "metadata": {
        "id": "healthy-latitude"
      },
      "source": [
        "## Train the model"
      ]
    },
    {
      "cell_type": "code",
      "execution_count": 19,
      "id": "inner-findings",
      "metadata": {
        "id": "inner-findings"
      },
      "outputs": [],
      "source": [
        "cnn_model = CNN_classification(pretrained_embedding=None,\n",
        "                 vocab_size=len(vocab_words), embed_dim=400,\n",
        "                        freeze_embedding=False,\n",
        "                        filter_sizes=FILTER_SIZES,\n",
        "                        num_filters=N_FILTERS,\n",
        "                        num_classes=num_classes,\n",
        "                        dropout=0.5).to(device)\n",
        "\n",
        "learning_rate = 0.001\n",
        "optimizer = torch.optim.Adam(cnn_model.parameters(), \n",
        "                                 lr=learning_rate)\n",
        "\n"
      ]
    },
    {
      "cell_type": "code",
      "execution_count": 20,
      "id": "liked-colombia",
      "metadata": {
        "colab": {
          "base_uri": "https://localhost:8080/"
        },
        "id": "liked-colombia",
        "outputId": "c09ff9c5-8818-48ff-84fe-4d7506975f07"
      },
      "outputs": [
        {
          "output_type": "stream",
          "name": "stdout",
          "text": [
            "Start training...\n",
            "\n",
            " Epoch  | Time(secs) | Train Loss|  Val Loss |   Val Acc   |  Val Recall   | Val Precision  |     Val F1    \n",
            "------------------------------------------------------------------------------------------------------------------------\n",
            "   1    |    154     |   0.22    |    0.19   |    0.95    |     0.95    |     0.95      |      0.95     \n",
            "\n",
            "   2    |    147     |   0.09    |    0.19   |    0.95    |     0.95    |     0.95      |      0.95     \n",
            "\n",
            "   3    |    166     |   0.05    |    0.33   |    0.95    |     0.95    |     0.95      |      0.95     \n",
            "\n",
            "   4    |    161     |   0.04    |    0.33   |    0.95    |     0.95    |     0.95      |      0.95     \n",
            "\n",
            "   5    |    159     |   0.03    |    0.37   |    0.94    |     0.94    |     0.94      |      0.94     \n",
            "\n"
          ]
        }
      ],
      "source": [
        "best_model, val_accuracies, val_recalls, val_precisions, val_f1_scores = train_validate(cnn_model, optimizer, \n",
        "                                            train_dataloader, val_dataloader, \n",
        "                                            pretrained_embedding=None,\n",
        "                                            epochs=5)"
      ]
    },
    {
      "cell_type": "markdown",
      "source": [
        "## Test the best model"
      ],
      "metadata": {
        "id": "R_P9epXecwy9"
      },
      "id": "R_P9epXecwy9"
    },
    {
      "cell_type": "code",
      "execution_count": 21,
      "id": "lyric-finish",
      "metadata": {
        "id": "lyric-finish"
      },
      "outputs": [],
      "source": [
        "#Loss function\n",
        "loss_function = nn.CrossEntropyLoss()\n",
        "test_loss, test_accuracy, test_recall, test_precision, test_f1_score = evaluate(best_model, test_dataloader, loss_function)"
      ]
    },
    {
      "cell_type": "code",
      "source": [
        "print(f\"{test_loss:^10.2f}| {test_accuracy:^11.2f}| {test_recall:^12.2f}| {test_precision:^13.2f} | {test_f1_score:^14.2f}\")\n"
      ],
      "metadata": {
        "id": "AAx3IgzvdmCC",
        "colab": {
          "base_uri": "https://localhost:8080/"
        },
        "outputId": "a7e668f7-7379-4bb8-cedb-22c957bd6f25"
      },
      "id": "AAx3IgzvdmCC",
      "execution_count": 22,
      "outputs": [
        {
          "output_type": "stream",
          "name": "stdout",
          "text": [
            "   0.15   |    0.95    |     0.95    |     0.95      |      0.95     \n"
          ]
        }
      ]
    },
    {
      "cell_type": "code",
      "source": [
        "from sklearn.metrics import classification_report, confusion_matrix\n",
        "import matplotlib.pyplot as plt\n",
        "import seaborn as sns\n",
        "\n",
        "def plot_metrics(model, test_loader, device='cpu'):\n",
        "    print('Evaluate')\n",
        "    y_pred = []\n",
        "    y_true = []\n",
        "\n",
        "    total_accuracy = []\n",
        "\n",
        "    with torch.no_grad():\n",
        "        # No gradients need to be maintained during evaluation\n",
        "        for i, batch in enumerate(test_loader):\n",
        "            # Load batch to Device\n",
        "            labels, inputs = batch[0], batch[1]\n",
        "            labels, inputs = labels.to(device), inputs.to(device)\n",
        "            # Obtain probabilities of each class per sentence\n",
        "            output = model(inputs)\n",
        "            # Get the predictions\n",
        "            preds = torch.argmax(output, dim=1).flatten()\n",
        "            # Calculate the accuracy rate\n",
        "            accuracy = (preds == labels).sum()/len(preds)\n",
        "            total_accuracy.append(accuracy)\n",
        "            y_pred.extend(list(preds))\n",
        "            y_true.extend(list(labels))\n",
        "\n",
        "    acc = 0.0\n",
        "    for i, y in enumerate(y_pred):\n",
        "        if y == y_true[i]:\n",
        "            acc += 1.0\n",
        "\n",
        "    acc = acc / len(y_pred)\n",
        "\n",
        "    print('Test Accuracy: ', acc)\n",
        "\n",
        "    print('Classification Report:')\n",
        "    print(classification_report(y_true, y_pred, labels=[1, 0], digits=4))\n",
        "\n",
        "    cm = confusion_matrix(y_true, y_pred, labels=[1, 0])\n",
        "    ax = plt.subplot()\n",
        "    sns.heatmap(cm, annot=True, ax=ax, cmap='Blues', fmt=\"d\")\n",
        "\n",
        "    ax.set_title('Confusion Matrix')\n",
        "\n",
        "    ax.set_xlabel('Predicted Labels')\n",
        "    ax.set_ylabel('True Labels')\n",
        "\n",
        "    ax.xaxis.set_ticklabels(['1', '0'])\n",
        "    ax.yaxis.set_ticklabels(['1', '0'])\n",
        "\n",
        "    return None"
      ],
      "metadata": {
        "id": "rdGatR-Bdl_q"
      },
      "id": "rdGatR-Bdl_q",
      "execution_count": 23,
      "outputs": []
    },
    {
      "cell_type": "code",
      "source": [
        "plot_metrics(best_model, test_dataloader)\n"
      ],
      "metadata": {
        "id": "O4Jvs2yzv2FX",
        "colab": {
          "base_uri": "https://localhost:8080/",
          "height": 509
        },
        "outputId": "95768795-a84d-4f0a-fda4-f4bb4e514154"
      },
      "id": "O4Jvs2yzv2FX",
      "execution_count": 24,
      "outputs": [
        {
          "output_type": "stream",
          "name": "stdout",
          "text": [
            "Evaluate\n",
            "Test Accuracy:  0.9536727879799666\n",
            "Classification Report:\n",
            "              precision    recall  f1-score   support\n",
            "\n",
            "           1     0.7004    0.5389    0.6092       321\n",
            "           0     0.9674    0.9834    0.9754      4471\n",
            "\n",
            "    accuracy                         0.9537      4792\n",
            "   macro avg     0.8339    0.7612    0.7923      4792\n",
            "weighted avg     0.9495    0.9537    0.9508      4792\n",
            "\n"
          ]
        },
        {
          "output_type": "display_data",
          "data": {
            "text/plain": [
              "<Figure size 432x288 with 2 Axes>"
            ],
            "image/png": "[encoded data removed]"
          },
          "metadata": {
            "needs_background": "light"
          }
        }
      ]
    },
    {
      "cell_type": "markdown",
      "source": [
        "# Upsampled dataset"
      ],
      "metadata": {
        "id": "H1lY6p6ZULSW"
      },
      "id": "H1lY6p6ZULSW"
    },
    {
      "cell_type": "code",
      "source": [
        "# Upsampling the Minority Class\n",
        "from sklearn.utils import resample\n",
        "\n",
        "train_majority = train_df[train_df.label==0]\n",
        "train_minority = train_df[train_df.label==1]\n",
        "train_minority_upsampled = resample(train_minority, \n",
        "                                 replace=True,    \n",
        "                                 n_samples=len(train_majority),   \n",
        "                                 random_state=123)\n",
        "\n",
        "\n",
        "\n",
        "train_upsampled = pd.concat([train_minority_upsampled, train_majority])\n",
        "train_upsampled['label'].value_counts()"
      ],
      "metadata": {
        "id": "opMFSg_swI2v",
        "colab": {
          "base_uri": "https://localhost:8080/"
        },
        "outputId": "5adfbb54-a497-4456-afe9-3f7c524c9116"
      },
      "id": "opMFSg_swI2v",
      "execution_count": 26,
      "outputs": [
        {
          "output_type": "execute_result",
          "data": {
            "text/plain": [
              "1    13211\n",
              "0    13211\n",
              "Name: label, dtype: int64"
            ]
          },
          "metadata": {},
          "execution_count": 26
        }
      ]
    },
    {
      "cell_type": "code",
      "source": [
        "x_train = train_upsampled['clean_tweet']\n",
        "y_train = train_upsampled['label']"
      ],
      "metadata": {
        "id": "8n6W3c_TVY5h"
      },
      "id": "8n6W3c_TVY5h",
      "execution_count": 27,
      "outputs": []
    },
    {
      "cell_type": "code",
      "source": [
        "data_obj = ProjectDataset(train_df, 'label', 'clean_tweet')\n"
      ],
      "metadata": {
        "id": "brNAdvZBVbMt"
      },
      "id": "brNAdvZBVbMt",
      "execution_count": 28,
      "outputs": []
    },
    {
      "cell_type": "code",
      "source": [
        "from collections import Counter\n",
        "from torchtext.vocab import vocab\n",
        "\n",
        "\n",
        "counter_words = Counter()\n",
        "for (label, text) in data_obj:\n",
        "    counter_words.update(text)\n",
        "    \n",
        "vocab_words = vocab(counter_words)\n",
        "vocab_words.set_default_index(0)\n",
        "\n",
        "print('The vocabulary length is {} words'.format(len(vocab_words)))\n",
        "\n",
        "VECTORS_CACHE_DIR = './.vector_cache'\n",
        "\n",
        "from torchtext import vocab\n",
        "\n",
        "pretrained_emb = vocab.GloVe(name='6B',cache=VECTORS_CACHE_DIR)\n",
        "\n",
        "print('Max number of words for a given tweet in the Dataset:')\n",
        "max_len = train_df[\"clean_tweet\"].apply(lambda x: len(x.split())).max()\n",
        "print(max_len)\n",
        "\n",
        "pre_trained_vectors = pretrained_emb.get_vecs_by_tokens(vocab_words.get_itos(),\n",
        "                                                       lower_case_backup=True)"
      ],
      "metadata": {
        "id": "eNMZgAbuVbKe",
        "colab": {
          "base_uri": "https://localhost:8080/"
        },
        "outputId": "1dad556b-d75b-4da3-fd78-a7127b259d8f"
      },
      "id": "eNMZgAbuVbKe",
      "execution_count": 30,
      "outputs": [
        {
          "output_type": "stream",
          "name": "stdout",
          "text": [
            "The vocabulary length is 24472 words\n",
            "Max number of words for a given tweet in the Dataset:\n",
            "20\n"
          ]
        }
      ]
    },
    {
      "cell_type": "code",
      "source": [
        "train_dataloader, val_dataloader, test_dataloader = data_loader([y_train, x_train],\n",
        "                                                               [y_val, x_val],\n",
        "                                                               [y_test, x_test])"
      ],
      "metadata": {
        "id": "Ng9J9NyIVbIh"
      },
      "id": "Ng9J9NyIVbIh",
      "execution_count": 31,
      "outputs": []
    },
    {
      "cell_type": "code",
      "source": [
        ""
      ],
      "metadata": {
        "id": "RhM71bdcWp-j"
      },
      "id": "RhM71bdcWp-j",
      "execution_count": 31,
      "outputs": []
    },
    {
      "cell_type": "code",
      "source": [
        "cnn_model = CNN_classification(pretrained_embedding=None,\n",
        "                 vocab_size=len(vocab_words), embed_dim=400,\n",
        "                        freeze_embedding=False,\n",
        "                        filter_sizes=FILTER_SIZES,\n",
        "                        num_filters=N_FILTERS,\n",
        "                        num_classes=num_classes,\n",
        "                        dropout=0.5).to(device)\n",
        "\n",
        "learning_rate = 0.001\n",
        "optimizer = torch.optim.Adam(cnn_model.parameters(), \n",
        "                                 lr=learning_rate)"
      ],
      "metadata": {
        "id": "HsI-PTYfWqFT"
      },
      "id": "HsI-PTYfWqFT",
      "execution_count": 32,
      "outputs": []
    },
    {
      "cell_type": "code",
      "source": [
        "best_model, val_accuracies, val_recalls, val_precisions, val_f1_scores = train_validate(cnn_model, optimizer, \n",
        "                                            train_dataloader, val_dataloader, \n",
        "                                            pretrained_embedding=None,\n",
        "                                            epochs=5)"
      ],
      "metadata": {
        "id": "CEfDePwEWwQq",
        "colab": {
          "base_uri": "https://localhost:8080/"
        },
        "outputId": "a12c31e6-5fe6-4f52-8ddc-a9d951524f1e"
      },
      "id": "CEfDePwEWwQq",
      "execution_count": null,
      "outputs": [
        {
          "metadata": {
            "tags": null
          },
          "name": "stdout",
          "output_type": "stream",
          "text": [
            "Start training...\n",
            "\n",
            " Epoch  | Time(secs) | Train Loss|  Val Loss |   Val Acc   |  Val Recall   | Val Precision  |     Val F1    \n",
            "------------------------------------------------------------------------------------------------------------------------\n",
            "   1    |    254     |   0.16    |    0.23   |    0.95    |     0.95    |     0.95      |      0.95     \n",
            "\n",
            "   2    |    307     |   0.03    |    0.31   |    0.94    |     0.94    |     0.94      |      0.94     \n",
            "\n",
            "   3    |    317     |   0.03    |    0.48   |    0.94    |     0.94    |     0.94      |      0.94     \n",
            "\n",
            "   4    |    326     |   0.03    |    0.58   |    0.94    |     0.94    |     0.94      |      0.94     \n",
            "\n"
          ]
        }
      ]
    },
    {
      "cell_type": "code",
      "source": [
        "# Test the best model\n",
        "\n",
        "loss_function = nn.CrossEntropyLoss()\n",
        "test_loss, test_accuracy, test_recall, test_precision, test_f1_score = evaluate(best_model, test_dataloader, loss_function)\n",
        "print(f\"{test_loss:^10.2f}| {test_accuracy:^11.2f}| {test_recall:^12.2f}| {test_precision:^13.2f} | {test_f1_score:^14.2f}\")\n"
      ],
      "metadata": {
        "id": "Q0MNU2jVXCtK"
      },
      "id": "Q0MNU2jVXCtK",
      "execution_count": null,
      "outputs": []
    },
    {
      "cell_type": "code",
      "source": [
        "plot_metrics(best_model, test_dataloader)\n"
      ],
      "metadata": {
        "id": "6-3pS1ZaXCgz"
      },
      "id": "6-3pS1ZaXCgz",
      "execution_count": null,
      "outputs": []
    }
  ],
  "metadata": {
    "kernelspec": {
      "display_name": "Python 3",
      "language": "python",
      "name": "python3"
    },
    "language_info": {
      "codemirror_mode": {
        "name": "ipython",
        "version": 3
      },
      "file_extension": ".py",
      "mimetype": "text/x-python",
      "name": "python",
      "nbconvert_exporter": "python",
      "pygments_lexer": "ipython3",
      "version": "3.8.8"
    },
    "colab": {
      "name": "CNN.ipynb",
      "provenance": [],
      "collapsed_sections": []
    }
  },
  "nbformat": 4,
  "nbformat_minor": 5
}