{
  "nbformat": 4,
  "nbformat_minor": 0,
  "metadata": {
    "colab": {
      "name": "LSTM_Take3.ipynb",
      "provenance": []
    },
    "kernelspec": {
      "name": "python3",
      "display_name": "Python 3"
    },
    "language_info": {
      "name": "python"
    }
  },
  "cells": [
    {
      "cell_type": "code",
      "source": [
        "!pip install torchtext==0.11.2"
      ],
      "metadata": {
        "colab": {
          "base_uri": "https://localhost:8080/"
        },
        "id": "9F5mcvgvmJw9",
        "outputId": "dbbe0061-ee3c-48bf-db54-2d8bbece84eb"
      },
      "execution_count": 1,
      "outputs": [
        {
          "output_type": "stream",
          "name": "stdout",
          "text": [
            "Requirement already satisfied: torchtext==0.11.2 in /usr/local/lib/python3.7/dist-packages (0.11.2)\n",
            "Requirement already satisfied: numpy in /usr/local/lib/python3.7/dist-packages (from torchtext==0.11.2) (1.21.6)\n",
            "Requirement already satisfied: requests in /usr/local/lib/python3.7/dist-packages (from torchtext==0.11.2) (2.23.0)\n",
            "Requirement already satisfied: torch==1.10.2 in /usr/local/lib/python3.7/dist-packages (from torchtext==0.11.2) (1.10.2)\n",
            "Requirement already satisfied: tqdm in /usr/local/lib/python3.7/dist-packages (from torchtext==0.11.2) (4.64.0)\n",
            "Requirement already satisfied: typing-extensions in /usr/local/lib/python3.7/dist-packages (from torch==1.10.2->torchtext==0.11.2) (4.2.0)\n",
            "Requirement already satisfied: idna<3,>=2.5 in /usr/local/lib/python3.7/dist-packages (from requests->torchtext==0.11.2) (2.10)\n",
            "Requirement already satisfied: certifi>=2017.4.17 in /usr/local/lib/python3.7/dist-packages (from requests->torchtext==0.11.2) (2021.10.8)\n",
            "Requirement already satisfied: urllib3!=1.25.0,!=1.25.1,<1.26,>=1.21.1 in /usr/local/lib/python3.7/dist-packages (from requests->torchtext==0.11.2) (1.24.3)\n",
            "Requirement already satisfied: chardet<4,>=3.0.2 in /usr/local/lib/python3.7/dist-packages (from requests->torchtext==0.11.2) (3.0.4)\n"
          ]
        }
      ]
    },
    {
      "cell_type": "code",
      "execution_count": 2,
      "metadata": {
        "id": "ps8NS81Pl_kA"
      },
      "outputs": [],
      "source": [
        "import os\n",
        "import sys\n",
        "import torch\n",
        "from torch.nn import functional as F\n",
        "import numpy as np\n",
        "from torchtext import data\n",
        "from torchtext import datasets\n",
        "from torchtext.vocab import Vectors, GloVe\n"
      ]
    },
    {
      "cell_type": "code",
      "source": [
        "from torchtext.vocab import GloVe\n",
        "\n",
        "glove = GloVe(name=\"twitter.27B\", dim=25)\n",
        "\n",
        "# glove.twitter.27B.25d\n",
        "\n",
        "# glove = GloVe(name='6B')\n"
      ],
      "metadata": {
        "colab": {
          "base_uri": "https://localhost:8080/"
        },
        "id": "3nn86Sr-guRE",
        "outputId": "ccec7134-c9f6-4ae1-f416-30f19c184988"
      },
      "execution_count": 3,
      "outputs": [
        {
          "output_type": "stream",
          "name": "stderr",
          "text": [
            ".vector_cache/glove.twitter.27B.zip: 1.52GB [04:46, 5.31MB/s]                            \n",
            "100%|█████████▉| 1193513/1193514 [00:24<00:00, 49621.04it/s]\n"
          ]
        }
      ]
    },
    {
      "cell_type": "code",
      "source": [
        "from torchtext.vocab import GloVe\n",
        "from itertools import combinations\n",
        "from torchtext import vocab\n",
        "\n",
        "device = torch.device('cuda' if torch.cuda.is_available() else 'cpu')  \n",
        "\n",
        "if device == 'cpu':\n",
        "    VECTORS_CACHE_DIR = '/Users/sophiamlawer/.vector_cache'\n",
        "    # Please change above to your cache\n",
        "else:\n",
        "    VECTORS_CACHE_DIR = './.vector_cache'\n",
        "    # This is the default cache on Colab. Caching may not work\n",
        "    # as expected on Colab.\n",
        "\n",
        "\n",
        "\n",
        "glove = vocab.GloVe(name=\"twitter.27B\", dim=25,cache=VECTORS_CACHE_DIR)"
      ],
      "metadata": {
        "id": "mkIj_VgMUKWy"
      },
      "execution_count": 4,
      "outputs": []
    },
    {
      "cell_type": "code",
      "source": [
        "## Read in data\n",
        "import pandas as pd \n",
        "\n",
        "df_train = pd.read_csv(\"hate_train.csv\")\n",
        "df_test = pd.read_csv(\"hate_test.csv\")\n",
        "df_val = pd.read_csv(\"hate_val.csv\")\n",
        "\n",
        "print(df_train.shape)\n",
        "df_train.head()"
      ],
      "metadata": {
        "colab": {
          "base_uri": "https://localhost:8080/",
          "height": 441
        },
        "id": "WzAdrfHXi4-s",
        "outputId": "b05878d6-d9d8-4531-8494-bb17cb01acf3"
      },
      "execution_count": 5,
      "outputs": [
        {
          "output_type": "stream",
          "name": "stdout",
          "text": [
            "(22373, 9)\n"
          ]
        },
        {
          "output_type": "execute_result",
          "data": {
            "text/plain": [
              "   Unnamed: 0  Unnamed: 0.1     id  label  \\\n",
              "0       27857         27857  27858      0   \n",
              "1       31205         31205  31206      0   \n",
              "2        8440          8440   8441      0   \n",
              "3        5005          5005   5006      1   \n",
              "4        3898          3898   3899      0   \n",
              "\n",
              "                                               tweet  \\\n",
              "0  omg. omg. omg.  yay! i found it, and at a wond...   \n",
              "1  #payintheusa   polar bear climb racing: angry ...   \n",
              "2  #trainhard   polar bear climb racing: angry po...   \n",
              "3                he should turn in his resignation.    \n",
              "4  ððð . . happy bihday!! to hajime hoso...   \n",
              "\n",
              "                       hash_tag  \\\n",
              "0  ['segasaturn', 'throwbackâ']   \n",
              "1               ['payintheusa']   \n",
              "2                 ['trainhard']   \n",
              "3                            []   \n",
              "4        ['bihday', '30æ', 'ã']   \n",
              "\n",
              "                                         clean_tweet  \\\n",
              "0  omg omg omg yay found wonderful price segasatu...   \n",
              "1  payintheusa polar bear climb racing angry pola...   \n",
              "2  trainhard polar bear climb racing angry polar ...   \n",
              "3                                   turn resignation   \n",
              "4       happy bihday hajime hosogai bihday bihday 30   \n",
              "\n",
              "                                     tokenized_tweet  \\\n",
              "0  omg. omg. omg.  yay! i found it, and at a wond...   \n",
              "1  <hashtag> payintheusa  <elong>polar bear climb...   \n",
              "2  <hashtag> trainhard  <elong>polar bear climb r...   \n",
              "3                he should turn in his resignation.    \n",
              "4  ððð . . happy bihday! <repeat> to haj...   \n",
              "\n",
              "                                tokenized_tweet_NLTK  \n",
              "0  omg omg omg yay found wonderful price segasatu...  \n",
              "1  payintheusa polar bear climb racing angry pola...  \n",
              "2  trainhard polar bear climb racing angry polar ...  \n",
              "3                                   turn resignation  \n",
              "4  . . happy bihday hajime hosogai . . . bihday b...  "
            ],
            "text/html": [
              "\n",
              "  <div id=\"df-25fb6418-6263-44fe-a95f-b3dc49224392\">\n",
              "    <div class=\"colab-df-container\">\n",
              "      <div>\n",
              "<style scoped>\n",
              "    .dataframe tbody tr th:only-of-type {\n",
              "        vertical-align: middle;\n",
              "    }\n",
              "\n",
              "    .dataframe tbody tr th {\n",
              "        vertical-align: top;\n",
              "    }\n",
              "\n",
              "    .dataframe thead th {\n",
              "        text-align: right;\n",
              "    }\n",
              "</style>\n",
              "<table border=\"1\" class=\"dataframe\">\n",
              "  <thead>\n",
              "    <tr style=\"text-align: right;\">\n",
              "      <th></th>\n",
              "      <th>Unnamed: 0</th>\n",
              "      <th>Unnamed: 0.1</th>\n",
              "      <th>id</th>\n",
              "      <th>label</th>\n",
              "      <th>tweet</th>\n",
              "      <th>hash_tag</th>\n",
              "      <th>clean_tweet</th>\n",
              "      <th>tokenized_tweet</th>\n",
              "      <th>tokenized_tweet_NLTK</th>\n",
              "    </tr>\n",
              "  </thead>\n",
              "  <tbody>\n",
              "    <tr>\n",
              "      <th>0</th>\n",
              "      <td>27857</td>\n",
              "      <td>27857</td>\n",
              "      <td>27858</td>\n",
              "      <td>0</td>\n",
              "      <td>omg. omg. omg.  yay! i found it, and at a wond...</td>\n",
              "      <td>['segasaturn', 'throwbackâ']</td>\n",
              "      <td>omg omg omg yay found wonderful price segasatu...</td>\n",
              "      <td>omg. omg. omg.  yay! i found it, and at a wond...</td>\n",
              "      <td>omg omg omg yay found wonderful price segasatu...</td>\n",
              "    </tr>\n",
              "    <tr>\n",
              "      <th>1</th>\n",
              "      <td>31205</td>\n",
              "      <td>31205</td>\n",
              "      <td>31206</td>\n",
              "      <td>0</td>\n",
              "      <td>#payintheusa   polar bear climb racing: angry ...</td>\n",
              "      <td>['payintheusa']</td>\n",
              "      <td>payintheusa polar bear climb racing angry pola...</td>\n",
              "      <td>&lt;hashtag&gt; payintheusa  &lt;elong&gt;polar bear climb...</td>\n",
              "      <td>payintheusa polar bear climb racing angry pola...</td>\n",
              "    </tr>\n",
              "    <tr>\n",
              "      <th>2</th>\n",
              "      <td>8440</td>\n",
              "      <td>8440</td>\n",
              "      <td>8441</td>\n",
              "      <td>0</td>\n",
              "      <td>#trainhard   polar bear climb racing: angry po...</td>\n",
              "      <td>['trainhard']</td>\n",
              "      <td>trainhard polar bear climb racing angry polar ...</td>\n",
              "      <td>&lt;hashtag&gt; trainhard  &lt;elong&gt;polar bear climb r...</td>\n",
              "      <td>trainhard polar bear climb racing angry polar ...</td>\n",
              "    </tr>\n",
              "    <tr>\n",
              "      <th>3</th>\n",
              "      <td>5005</td>\n",
              "      <td>5005</td>\n",
              "      <td>5006</td>\n",
              "      <td>1</td>\n",
              "      <td>he should turn in his resignation.</td>\n",
              "      <td>[]</td>\n",
              "      <td>turn resignation</td>\n",
              "      <td>he should turn in his resignation.</td>\n",
              "      <td>turn resignation</td>\n",
              "    </tr>\n",
              "    <tr>\n",
              "      <th>4</th>\n",
              "      <td>3898</td>\n",
              "      <td>3898</td>\n",
              "      <td>3899</td>\n",
              "      <td>0</td>\n",
              "      <td>ððð . . happy bihday!! to hajime hoso...</td>\n",
              "      <td>['bihday', '30æ', 'ã']</td>\n",
              "      <td>happy bihday hajime hosogai bihday bihday 30</td>\n",
              "      <td>ððð . . happy bihday! &lt;repeat&gt; to haj...</td>\n",
              "      <td>. . happy bihday hajime hosogai . . . bihday b...</td>\n",
              "    </tr>\n",
              "  </tbody>\n",
              "</table>\n",
              "</div>\n",
              "      <button class=\"colab-df-convert\" onclick=\"convertToInteractive('df-25fb6418-6263-44fe-a95f-b3dc49224392')\"\n",
              "              title=\"Convert this dataframe to an interactive table.\"\n",
              "              style=\"display:none;\">\n",
              "        \n",
              "  <svg xmlns=\"http://www.w3.org/2000/svg\" height=\"24px\"viewBox=\"0 0 24 24\"\n",
              "       width=\"24px\">\n",
              "    <path d=\"M0 0h24v24H0V0z\" fill=\"none\"/>\n",
              "    <path d=\"M18.56 5.44l.94 2.06.94-2.06 2.06-.94-2.06-.94-.94-2.06-.94 2.06-2.06.94zm-11 1L8.5 8.5l.94-2.06 2.06-.94-2.06-.94L8.5 2.5l-.94 2.06-2.06.94zm10 10l.94 2.06.94-2.06 2.06-.94-2.06-.94-.94-2.06-.94 2.06-2.06.94z\"/><path d=\"M17.41 7.96l-1.37-1.37c-.4-.4-.92-.59-1.43-.59-.52 0-1.04.2-1.43.59L10.3 9.45l-7.72 7.72c-.78.78-.78 2.05 0 2.83L4 21.41c.39.39.9.59 1.41.59.51 0 1.02-.2 1.41-.59l7.78-7.78 2.81-2.81c.8-.78.8-2.07 0-2.86zM5.41 20L4 18.59l7.72-7.72 1.47 1.35L5.41 20z\"/>\n",
              "  </svg>\n",
              "      </button>\n",
              "      \n",
              "  <style>\n",
              "    .colab-df-container {\n",
              "      display:flex;\n",
              "      flex-wrap:wrap;\n",
              "      gap: 12px;\n",
              "    }\n",
              "\n",
              "    .colab-df-convert {\n",
              "      background-color: #E8F0FE;\n",
              "      border: none;\n",
              "      border-radius: 50%;\n",
              "      cursor: pointer;\n",
              "      display: none;\n",
              "      fill: #1967D2;\n",
              "      height: 32px;\n",
              "      padding: 0 0 0 0;\n",
              "      width: 32px;\n",
              "    }\n",
              "\n",
              "    .colab-df-convert:hover {\n",
              "      background-color: #E2EBFA;\n",
              "      box-shadow: 0px 1px 2px rgba(60, 64, 67, 0.3), 0px 1px 3px 1px rgba(60, 64, 67, 0.15);\n",
              "      fill: #174EA6;\n",
              "    }\n",
              "\n",
              "    [theme=dark] .colab-df-convert {\n",
              "      background-color: #3B4455;\n",
              "      fill: #D2E3FC;\n",
              "    }\n",
              "\n",
              "    [theme=dark] .colab-df-convert:hover {\n",
              "      background-color: #434B5C;\n",
              "      box-shadow: 0px 1px 3px 1px rgba(0, 0, 0, 0.15);\n",
              "      filter: drop-shadow(0px 1px 2px rgba(0, 0, 0, 0.3));\n",
              "      fill: #FFFFFF;\n",
              "    }\n",
              "  </style>\n",
              "\n",
              "      <script>\n",
              "        const buttonEl =\n",
              "          document.querySelector('#df-25fb6418-6263-44fe-a95f-b3dc49224392 button.colab-df-convert');\n",
              "        buttonEl.style.display =\n",
              "          google.colab.kernel.accessAllowed ? 'block' : 'none';\n",
              "\n",
              "        async function convertToInteractive(key) {\n",
              "          const element = document.querySelector('#df-25fb6418-6263-44fe-a95f-b3dc49224392');\n",
              "          const dataTable =\n",
              "            await google.colab.kernel.invokeFunction('convertToInteractive',\n",
              "                                                     [key], {});\n",
              "          if (!dataTable) return;\n",
              "\n",
              "          const docLinkHtml = 'Like what you see? Visit the ' +\n",
              "            '<a target=\"_blank\" href=https://colab.research.google.com/notebooks/data_table.ipynb>data table notebook</a>'\n",
              "            + ' to learn more about interactive tables.';\n",
              "          element.innerHTML = '';\n",
              "          dataTable['output_type'] = 'display_data';\n",
              "          await google.colab.output.renderOutput(dataTable, element);\n",
              "          const docLink = document.createElement('div');\n",
              "          docLink.innerHTML = docLinkHtml;\n",
              "          element.appendChild(docLink);\n",
              "        }\n",
              "      </script>\n",
              "    </div>\n",
              "  </div>\n",
              "  "
            ]
          },
          "metadata": {},
          "execution_count": 5
        }
      ]
    },
    {
      "cell_type": "code",
      "source": [
        "df_train = df_train[df_train['clean_tweet'].notna()]\n",
        "df_test = df_test[df_test['clean_tweet'].notna()]\n",
        "df_val = df_val[df_val['clean_tweet'].notna()]\n",
        "\n",
        "df_train[[\"clean_tweet\", \"label\"]].to_csv(\"train.csv\")\n",
        "df_test[[\"clean_tweet\", \"label\"]].to_csv(\"test.csv\")\n",
        "df_val[[\"clean_tweet\", \"label\"]].to_csv(\"val.csv\")"
      ],
      "metadata": {
        "id": "qv7yKipzjE-o"
      },
      "execution_count": 6,
      "outputs": []
    },
    {
      "cell_type": "code",
      "source": [
        "df_train[[\"clean_tweet\", \"label\"]]"
      ],
      "metadata": {
        "colab": {
          "base_uri": "https://localhost:8080/",
          "height": 424
        },
        "id": "cDLaOXmBzb3F",
        "outputId": "c1f950fe-bdbd-4d67-bed8-66ae997cec2c"
      },
      "execution_count": 7,
      "outputs": [
        {
          "output_type": "execute_result",
          "data": {
            "text/plain": [
              "                                             clean_tweet  label\n",
              "0      omg omg omg yay found wonderful price segasatu...      0\n",
              "1      payintheusa polar bear climb racing angry pola...      0\n",
              "2      trainhard polar bear climb racing angry polar ...      0\n",
              "3                                       turn resignation      1\n",
              "4           happy bihday hajime hosogai bihday bihday 30      0\n",
              "...                                                  ...    ...\n",
              "22368  fallschurch gorilla simulator need adapt envir...      0\n",
              "22369  taylor cried cuz found phone emotional times o...      0\n",
              "22370              factsguide people nowadays motivation      0\n",
              "22371  mrs reid working p6s today preparation p7s hig...      0\n",
              "22372  new music svvvgehouse aist tvbuu g59 suicidebo...      0\n",
              "\n",
              "[22350 rows x 2 columns]"
            ],
            "text/html": [
              "\n",
              "  <div id=\"df-b1c7fc0f-9544-4298-945e-ea4cf6435e60\">\n",
              "    <div class=\"colab-df-container\">\n",
              "      <div>\n",
              "<style scoped>\n",
              "    .dataframe tbody tr th:only-of-type {\n",
              "        vertical-align: middle;\n",
              "    }\n",
              "\n",
              "    .dataframe tbody tr th {\n",
              "        vertical-align: top;\n",
              "    }\n",
              "\n",
              "    .dataframe thead th {\n",
              "        text-align: right;\n",
              "    }\n",
              "</style>\n",
              "<table border=\"1\" class=\"dataframe\">\n",
              "  <thead>\n",
              "    <tr style=\"text-align: right;\">\n",
              "      <th></th>\n",
              "      <th>clean_tweet</th>\n",
              "      <th>label</th>\n",
              "    </tr>\n",
              "  </thead>\n",
              "  <tbody>\n",
              "    <tr>\n",
              "      <th>0</th>\n",
              "      <td>omg omg omg yay found wonderful price segasatu...</td>\n",
              "      <td>0</td>\n",
              "    </tr>\n",
              "    <tr>\n",
              "      <th>1</th>\n",
              "      <td>payintheusa polar bear climb racing angry pola...</td>\n",
              "      <td>0</td>\n",
              "    </tr>\n",
              "    <tr>\n",
              "      <th>2</th>\n",
              "      <td>trainhard polar bear climb racing angry polar ...</td>\n",
              "      <td>0</td>\n",
              "    </tr>\n",
              "    <tr>\n",
              "      <th>3</th>\n",
              "      <td>turn resignation</td>\n",
              "      <td>1</td>\n",
              "    </tr>\n",
              "    <tr>\n",
              "      <th>4</th>\n",
              "      <td>happy bihday hajime hosogai bihday bihday 30</td>\n",
              "      <td>0</td>\n",
              "    </tr>\n",
              "    <tr>\n",
              "      <th>...</th>\n",
              "      <td>...</td>\n",
              "      <td>...</td>\n",
              "    </tr>\n",
              "    <tr>\n",
              "      <th>22368</th>\n",
              "      <td>fallschurch gorilla simulator need adapt envir...</td>\n",
              "      <td>0</td>\n",
              "    </tr>\n",
              "    <tr>\n",
              "      <th>22369</th>\n",
              "      <td>taylor cried cuz found phone emotional times o...</td>\n",
              "      <td>0</td>\n",
              "    </tr>\n",
              "    <tr>\n",
              "      <th>22370</th>\n",
              "      <td>factsguide people nowadays motivation</td>\n",
              "      <td>0</td>\n",
              "    </tr>\n",
              "    <tr>\n",
              "      <th>22371</th>\n",
              "      <td>mrs reid working p6s today preparation p7s hig...</td>\n",
              "      <td>0</td>\n",
              "    </tr>\n",
              "    <tr>\n",
              "      <th>22372</th>\n",
              "      <td>new music svvvgehouse aist tvbuu g59 suicidebo...</td>\n",
              "      <td>0</td>\n",
              "    </tr>\n",
              "  </tbody>\n",
              "</table>\n",
              "<p>22350 rows × 2 columns</p>\n",
              "</div>\n",
              "      <button class=\"colab-df-convert\" onclick=\"convertToInteractive('df-b1c7fc0f-9544-4298-945e-ea4cf6435e60')\"\n",
              "              title=\"Convert this dataframe to an interactive table.\"\n",
              "              style=\"display:none;\">\n",
              "        \n",
              "  <svg xmlns=\"http://www.w3.org/2000/svg\" height=\"24px\"viewBox=\"0 0 24 24\"\n",
              "       width=\"24px\">\n",
              "    <path d=\"M0 0h24v24H0V0z\" fill=\"none\"/>\n",
              "    <path d=\"M18.56 5.44l.94 2.06.94-2.06 2.06-.94-2.06-.94-.94-2.06-.94 2.06-2.06.94zm-11 1L8.5 8.5l.94-2.06 2.06-.94-2.06-.94L8.5 2.5l-.94 2.06-2.06.94zm10 10l.94 2.06.94-2.06 2.06-.94-2.06-.94-.94-2.06-.94 2.06-2.06.94z\"/><path d=\"M17.41 7.96l-1.37-1.37c-.4-.4-.92-.59-1.43-.59-.52 0-1.04.2-1.43.59L10.3 9.45l-7.72 7.72c-.78.78-.78 2.05 0 2.83L4 21.41c.39.39.9.59 1.41.59.51 0 1.02-.2 1.41-.59l7.78-7.78 2.81-2.81c.8-.78.8-2.07 0-2.86zM5.41 20L4 18.59l7.72-7.72 1.47 1.35L5.41 20z\"/>\n",
              "  </svg>\n",
              "      </button>\n",
              "      \n",
              "  <style>\n",
              "    .colab-df-container {\n",
              "      display:flex;\n",
              "      flex-wrap:wrap;\n",
              "      gap: 12px;\n",
              "    }\n",
              "\n",
              "    .colab-df-convert {\n",
              "      background-color: #E8F0FE;\n",
              "      border: none;\n",
              "      border-radius: 50%;\n",
              "      cursor: pointer;\n",
              "      display: none;\n",
              "      fill: #1967D2;\n",
              "      height: 32px;\n",
              "      padding: 0 0 0 0;\n",
              "      width: 32px;\n",
              "    }\n",
              "\n",
              "    .colab-df-convert:hover {\n",
              "      background-color: #E2EBFA;\n",
              "      box-shadow: 0px 1px 2px rgba(60, 64, 67, 0.3), 0px 1px 3px 1px rgba(60, 64, 67, 0.15);\n",
              "      fill: #174EA6;\n",
              "    }\n",
              "\n",
              "    [theme=dark] .colab-df-convert {\n",
              "      background-color: #3B4455;\n",
              "      fill: #D2E3FC;\n",
              "    }\n",
              "\n",
              "    [theme=dark] .colab-df-convert:hover {\n",
              "      background-color: #434B5C;\n",
              "      box-shadow: 0px 1px 3px 1px rgba(0, 0, 0, 0.15);\n",
              "      filter: drop-shadow(0px 1px 2px rgba(0, 0, 0, 0.3));\n",
              "      fill: #FFFFFF;\n",
              "    }\n",
              "  </style>\n",
              "\n",
              "      <script>\n",
              "        const buttonEl =\n",
              "          document.querySelector('#df-b1c7fc0f-9544-4298-945e-ea4cf6435e60 button.colab-df-convert');\n",
              "        buttonEl.style.display =\n",
              "          google.colab.kernel.accessAllowed ? 'block' : 'none';\n",
              "\n",
              "        async function convertToInteractive(key) {\n",
              "          const element = document.querySelector('#df-b1c7fc0f-9544-4298-945e-ea4cf6435e60');\n",
              "          const dataTable =\n",
              "            await google.colab.kernel.invokeFunction('convertToInteractive',\n",
              "                                                     [key], {});\n",
              "          if (!dataTable) return;\n",
              "\n",
              "          const docLinkHtml = 'Like what you see? Visit the ' +\n",
              "            '<a target=\"_blank\" href=https://colab.research.google.com/notebooks/data_table.ipynb>data table notebook</a>'\n",
              "            + ' to learn more about interactive tables.';\n",
              "          element.innerHTML = '';\n",
              "          dataTable['output_type'] = 'display_data';\n",
              "          await google.colab.output.renderOutput(dataTable, element);\n",
              "          const docLink = document.createElement('div');\n",
              "          docLink.innerHTML = docLinkHtml;\n",
              "          element.appendChild(docLink);\n",
              "        }\n",
              "      </script>\n",
              "    </div>\n",
              "  </div>\n",
              "  "
            ]
          },
          "metadata": {},
          "execution_count": 7
        }
      ]
    },
    {
      "cell_type": "markdown",
      "source": [
        "## Try This Model"
      ],
      "metadata": {
        "id": "9eYmi8ZBneKo"
      }
    },
    {
      "cell_type": "code",
      "source": [
        "from torchtext.legacy.data import Field, LabelField, TabularDataset, BucketIterator, Iterator\n",
        "\n",
        "TEXT = Field(tokenize='spacy',batch_first=True,include_lengths=True)\n",
        "LABEL = Field(sequential=False, use_vocab=False, dtype = torch.float,batch_first=True)"
      ],
      "metadata": {
        "id": "PsL5vWt6iq68"
      },
      "execution_count": 8,
      "outputs": []
    },
    {
      "cell_type": "code",
      "source": [
        "fields = [('label', LABEL), ('clean_tweet',TEXT)]\n"
      ],
      "metadata": {
        "id": "ItV_PAynjAzX"
      },
      "execution_count": 9,
      "outputs": []
    },
    {
      "cell_type": "code",
      "source": [
        "train, val, test = TabularDataset.splits(path = \"/content/\", train='train.csv',validation='val.csv',\n",
        "                                         test='test.csv', format='csv',\n",
        "                                         fields= fields, skip_header=True)\n",
        "\n",
        "print(vars(train.examples[0]))"
      ],
      "metadata": {
        "colab": {
          "base_uri": "https://localhost:8080/"
        },
        "id": "4PvY2OljnhYo",
        "outputId": "d3936435-06ba-4c7a-c24d-a9bc0e6f7edd"
      },
      "execution_count": 10,
      "outputs": [
        {
          "output_type": "stream",
          "name": "stdout",
          "text": [
            "{'label': '0', 'clean_tweet': ['omg', 'omg', 'omg', 'yay', 'found', 'wonderful', 'price', 'segasaturn', 'throwback']}\n"
          ]
        }
      ]
    },
    {
      "cell_type": "code",
      "source": [
        "TEXT.build_vocab(train,min_freq=3,vectors = \"glove.twitter.27B.25d\")  \n",
        "# LABEL.build_vocab(train)\n",
        "\n",
        "#No. of unique tokens in text\n",
        "print(\"Size of TEXT vocabulary:\",len(TEXT.vocab))\n",
        "\n",
        "#No. of unique tokens in label\n",
        "# print(\"Size of LABEL vocabulary:\",len(LABEL.vocab))\n",
        "\n",
        "#Commonly used words\n",
        "print(TEXT.vocab.freqs.most_common(10))  \n",
        "# print(LABEL.vocab.freqs.most_common(10))  \n",
        "\n",
        "#Word dictionary\n",
        "print(TEXT.vocab.stoi)   "
      ],
      "metadata": {
        "colab": {
          "base_uri": "https://localhost:8080/"
        },
        "id": "8WQ4ToRVjUO7",
        "outputId": "1239d16d-8065-4f42-cf3b-d05076c896e0"
      },
      "execution_count": 12,
      "outputs": [
        {
          "output_type": "stream",
          "name": "stdout",
          "text": [
            "Size of TEXT vocabulary: 7559\n",
            "[('love', 1886), ('nt', 1708), ('day', 1617), ('happy', 1163), ('i', 1027), ('m', 839), ('life', 810), ('time', 804), ('like', 737), ('today', 708)]\n",
            "defaultdict(<bound method Vocab._default_unk_index of <torchtext.legacy.vocab.Vocab object at 0x7fd5161b3b10>>, {'<unk>': 0, '<pad>': 1, 'love': 2, 'nt': 3, 'day': 4, 'happy': 5, 'i': 6, 'm': 7, 'life': 8, 'time': 9, 'like': 10, 'today': 11, 'new': 12, 'thankful': 13, 'positive': 14, 'get': 15, 'bihday': 16, 'people': 17, 'good': 18, 'ca': 19, 'one': 20, 'see': 21, 'fathers': 22, 'do': 23, 'smile': 24, 's': 25, 'go': 26, 'want': 27, 'take': 28, 'work': 29, 'healthy': 30, 'weekend': 31, 'fun': 32, 'friday': 33, 'got': 34, 'summer': 35, 'family': 36, 'make': 37, 'great': 38, 'best': 39, 'us': 40, 'need': 41, 'way': 42, 'beautiful': 43, 'bull': 44, 'first': 45, 'friends': 46, 'days': 47, 'ur': 48, 'really': 49, 'going': 50, 'wait': 51, 'music': 52, 'morning': 53, 'world': 54, 'you': 55, 'back': 56, 'orlando': 57, 'cute': 58, 'know': 59, 'week': 60, 'fathersday': 61, 'sad': 62, 'happiness': 63, 'never': 64, 'tomorrow': 65, 'night': 66, 're': 67, 'model': 68, 'much': 69, 'sunday': 70, 'home': 71, 'blog': 72, 'right': 73, 'think': 74, 'well': 75, 'feel': 76, 'trump': 77, 'affirmation': 78, 've': 79, 'girl': 80, 'come': 81, 'always': 82, 'finally': 83, 'next': 84, 'even': 85, 'live': 86, 'last': 87, 'would': 88, 'ready': 89, 'still': 90, 'look': 91, 'thank': 92, 'follow': 93, 'gold': 94, 'silver': 95, 'selfie': 96, 'iam': 97, 'thanks': 98, 'via': 99, 'amazing': 100, 'altwaystoheal': 101, 'little': 102, 'tonight': 103, 'year': 104, 'things': 105, 'find': 106, 'makes': 107, 'free': 108, 'many': 109, 'dad': 110, 'forex': 111, 'getting': 112, 'pay': 113, 'another': 114, 'blessed': 115, 'ever': 116, '2016': 117, 'watch': 118, 'city': 119, 'man': 120, 'feeling': 121, 'everyone': 122, 'girls': 123, 'looking': 124, 'sta': 125, 'climb': 126, 'news': 127, 'black': 128, 'food': 129, 'peace': 130, 'game': 131, 'hope': 132, 'god': 133, 'show': 134, 'bear': 135, 'enjoy': 136, 'old': 137, 'saturday': 138, 'sun': 139, 'say': 140, 'made': 141, 'that': 142, 'instagood': 143, 'stop': 144, 'help': 145, 'dog': 146, 'might': 147, 'every': 148, 'kids': 149, 'keep': 150, 'whatever': 151, 'friend': 152, 'hate': 153, 'angry': 154, 'may': 155, 'baby': 156, 'polar': 157, 'big': 158, 'na': 159, 'coming': 160, 'excited': 161, 'better': 162, 'funny': 163, 'nice': 164, 'someone': 165, 'believe': 166, 'guys': 167, 'video': 168, 'white': 169, 'beach': 170, 'father': 171, 'grateful': 172, 'healing': 173, 'around': 174, 'motivation': 175, 'school': 176, 'lol': 177, 'nothing': 178, 'awesome': 179, 'two': 180, 'yes': 181, 'cool': 182, 'let': 183, 'found': 184, 'long': 185, 'years': 186, 'true': 187, 'wedding': 188, 'could': 189, 'done': 190, 'hea': 191, 'please': 192, 'proud': 193, 'play': 194, 'soon': 195, 'waiting': 196, 'attack': 197, 'did': 198, 'holiday': 199, 'real': 200, 'without': 201, 'lost': 202, 'team': 203, 'bad': 204, 'direct': 205, 'quote': 206, 'watching': 207, 'america': 208, 'dominate': 209, 'travel': 210, 'change': 211, 'rip': 212, 'yeah': 213, 'thing': 214, 'women': 215, 'photooftheday': 216, 'something': 217, 'away': 218, 'miss': 219, 'monday': 220, 'strong': 221, 'weeks': 222, 'face': 223, 'fashion': 224, 'june': 225, 'left': 226, 'person': 227, 'followme': 228, 'end': 229, 'forward': 230, 'sex': 231, 'does': 232, 'hot': 233, 'making': 234, 'mindset': 235, 'place': 236, 'wish': 237, 'yet': 238, 'check': 239, 'racing': 240, 'twitter': 241, 'boy': 242, 'lovely': 243, 'oh': 244, 'playing': 245, 'bing': 246, 'libtard': 247, 'bong': 248, 'wo': 249, 'lot': 250, 'give': 251, 'hair': 252, 'sleep': 253, 'tbt': 254, 'book': 255, 'gon': 256, 'moment': 257, 'dads': 258, 'everything': 259, 'hard': 260, 'health': 261, 'house': 262, 'living': 263, 'gorilla': 264, 'listen': 265, 'money': 266, 'gay': 267, 'joy': 268, 'pretty': 269, 'shooting': 270, 'stay': 271, 'win': 272, 'inspiration': 273, 'london': 274, 'poetry': 275, 'says': 276, 'couple': 277, 'ill': 278, 'tear': 279, 'tweets': 280, 'young': 281, 'racist': 282, 'sexy': 283, 'buffalo': 284, 'environment': 285, 'leave': 286, 'lets': 287, 'omg': 288, 'already': 289, 'fitness': 290, 'job': 291, 'loved': 292, 'politics': 293, 'success': 294, 'woman': 295, 'body': 296, 'head': 297, 'pa': 298, '10': 299, 'call': 300, 'hours': 301, 'thought': 302, 'perfect': 303, 'wow': 304, 'euro2016': 305, 'full': 306, 'lt3': 307, 'mind': 308, 'mom': 309, 'obama': 310, 'quotes': 311, 'read': 312, 'adapt': 313, 'beauty': 314, 'conference': 315, 'depression': 316, 'guy': 317, 'simulator': 318, 'try': 319, 'what': 320, 'words': 321, 'men': 322, 'dance': 323, 'song': 324, 'use': 325, 'looks': 326, 'truth': 327, 'working': 328, 'dream': 329, 'fuck': 330, 'he': 331, 'porn': 332, 'said': 333, 'shit': 334, 'super': 335, 'business': 336, 'retweet': 337, 'season': 338, 'thursday': 339, 'yay': 340, 'times': 341, 'cat': 342, 'cold': 343, 'month': 344, 'mood': 345, 'together': 346, 'also': 347, 'dead': 348, 'must': 349, 'open': 350, 'others': 351, 'race': 352, 'relax': 353, 'simulation': 354, 'buy': 355, 'children': 356, 'country': 357, 'came': 358, 'flowers': 359, 'gone': 360, 'hear': 361, 'nude': 362, 'since': 363, 'story': 364, 'wonderful': 365, 'enough': 366, 'hey': 367, 'is': 368, 'rest': 369, 'hour': 370, 'movie': 371, 'put': 372, 'run': 373, 'shop': 374, 'smiles': 375, 'd': 376, 'media': 377, 'photo': 378, 'ppl': 379, 'prayfororlando': 380, 'share': 381, 'sunshine': 382, 'anything': 383, 'comes': 384, 'meet': 385, 'wrong': 386, 'coffee': 387, 'wednesday': 388, 'allahsoil': 389, 'gift': 390, 'lives': 391, 'months': 392, 'post': 393, 'sick': 394, 'single': 395, 'thoughts': 396, 'till': 397, 'almost': 398, 'else': 399, 'hu': 400, 'join': 401, 'lifestyle': 402, 'remember': 403, 'tell': 404, 'there': 405, 'trip': 406, 'tuesday': 407, 'birds': 408, 'care': 409, 'celebrate': 410, 'empty': 411, 'lgbt': 412, 'far': 413, 'kind': 414, 'liberal': 415, 'needs': 416, 'seeing': 417, 'tickets': 418, 'trying': 419, 'bed': 420, 'car': 421, 'crazy': 422, 'delete': 423, 'gym': 424, 'hardcore': 425, 'photography': 426, 'suppo': 427, 'sure': 428, 'todays': 429, 'vacation': 430, '1st': 431, 'alone': 432, 'favorite': 433, 'forever': 434, 'gun': 435, 'loving': 436, 'tweet': 437, 'usa': 438, 'useful': 439, 'blue': 440, 'child': 441, 'evening': 442, 'nervous': 443, 'saw': 444, 'shopping': 445, 'tgif': 446, 'visit': 447, 'went': 448, 'yesterday': 449, 'anyone': 450, 'aww': 451, 'daddy': 452, 'future': 453, 'goes': 454, 'order': 455, 'tired': 456, 'uk': 457, 'actually': 458, 'all': 459, 'fans': 460, 'nature': 461, 'social': 462, 'sweet': 463, 'toptags': 464, 'y': 465, 'anxiety': 466, 'complete': 467, 'deletetweets': 468, 'gets': 469, 'power': 470, 'running': 471, 'talk': 472, 'booked': 473, 'daily': 474, 'fact': 475, 'football': 476, 'goodmorning': 477, 'hello': 478, 'high': 479, 'miami': 480, 'places': 481, 'they': 482, 'victims': 483, 'matter': 484, 'sorry': 485, 'ago': 486, 'death': 487, 'early': 488, 'followers': 489, 'latest': 490, 'mean': 491, 'picoftheday': 492, 'smiling': 493, 'son': 494, 'wishing': 495, 'depressed': 496, 'florida': 497, 'green': 498, 'happened': 499, 'lunch': 500, 'side': 501, 'cantwait': 502, 'families': 503, 'history': 504, 'impoant': 505, 'instagram': 506, 'learn': 507, 'police': 508, 'seen': 509, 'become': 510, 'close': 511, 'everyday': 512, 'killed': 513, 'late': 514, 'less': 515, 'pm': 516, 'pray': 517, 'racism': 518, 'reading': 519, 'seems': 520, 'style': 521, '20': 522, 'act': 523, 'boys': 524, 'cry': 525, 'leads': 526, 'lucky': 527, 'ok': 528, 'safe': 529, 'save': 530, 'sjw': 531, 'smh': 532, 'update': 533, 'able': 534, 'arrived': 535, 'damn': 536, 'event': 537, 'freedom': 538, 'guess': 539, 'laugh': 540, 'parents': 541, 'set': 542, 'special': 543, 'stas': 544, 'sunny': 545, 'target': 546, 'vine': 547, 'brexit': 548, 'bring': 549, 'control': 550, 'daughter': 551, 'finished': 552, 'organizations': 553, 'sea': 554, 'sometimes': 555, 'talking': 556, 'used': 557, 'vs': 558, 'welcome': 559, 'whole': 560, 'afternoon': 561, 'bless': 562, 'boyfriend': 563, 'broken': 564, 'chill': 565, 'cultureofdevelopment': 566, 'date': 567, 'education': 568, 'flag': 569, 'fresh': 570, 'goals': 571, 'later': 572, 'mad': 573, 'pic': 574, 'prayers': 575, 'rain': 576, 'reached': 577, 'reason': 578, 'saying': 579, 'staing': 580, 'tv': 581, 'word': 582, 'app': 583, 'bday': 584, 'fan': 585, 'film': 586, 'snapchat': 587, 'anymore': 588, 'bit': 589, 'despite': 590, 'dinner': 591, 'disney': 592, 'gop': 593, 'hill': 594, 'means': 595, 'nyc': 596, 'point': 597, 'youtube': 598, '2017': 599, '30': 600, '50': 601, 'break': 602, 'comments': 603, 'dear': 604, 'll': 605, 'mountains': 606, 'photos': 607, 'president': 608, 'survive': 609, 'though': 610, 'understand': 611, 'walk': 612, 'xxx': 613, 'yo': 614, '100': 615, '12': 616, 'affirmations': 617, 'ahead': 618, 'animals': 619, 'ass': 620, 'brother': 621, 'cause': 622, 'choose': 623, 'conce': 624, 'easy': 625, 'enjoying': 626, 'gbp': 627, 'happening': 628, 'reach': 629, 'shows': 630, 'thankyou': 631, 'top': 632, 'wanted': 633, 'cake': 634, 'can': 635, 'feels': 636, 'finding': 637, 'friendship': 638, 'fucking': 639, 'homes': 640, 'lawofattraction': 641, 'meeting': 642, 'name': 643, 'not': 644, 'park': 645, 'ramadan': 646, 'taking': 647, 'voice': 648, '2nd': 649, '3d': 650, 'bc': 651, 'community': 652, 'crying': 653, 'eat': 654, 'eyes': 655, 'garden': 656, 'glad': 657, 'gt': 658, 'guns': 659, 'have': 660, 'heal': 661, 'ht': 662, 'july': 663, 'kid': 664, 'kill': 665, 'list': 666, 'lover': 667, 'missing': 668, 'officially': 669, 'tears': 670, 'are': 671, 'bought': 672, 'called': 673, 'club': 674, 'color': 675, 'group': 676, 'makeup': 677, 'maybe': 678, 'rock': 679, 'service': 680, 'she': 681, 'simple': 682, 'state': 683, 'ta': 684, 'thinking': 685, 'tragedy': 686, 'training': 687, 'truly': 688, 'yoga': 689, 'england': 690, 'final': 691, 'half': 692, 'happen': 693, 'heard': 694, 'hell': 695, 'leadership': 696, 'mother': 697, 'picture': 698, 'red': 699, 'stuff': 700, 'vote': 701, 'wanna': 702, 'wants': 703, 'worst': 704, 'beer': 705, 'blonde': 706, 'design': 707, 'fantastic': 708, 'forget': 709, 'fridayfeeling': 710, 'human': 711, 'least': 712, 'light': 713, 'memories': 714, 'move': 715, 'ones': 716, 'phone': 717, 'rooster': 718, 'soul': 719, 'task': 720, 'tragic': 721, 'we': 722, 'wife': 723, 'actor': 724, 'drink': 725, 'expanse': 726, 'giving': 727, 'gorgeous': 728, 'htt': 729, 'instamood': 730, 'lighttherapy': 731, 'lonely': 732, 'moments': 733, 'nbafinals': 734, 'orlandoshooting': 735, 'pain': 736, 'room': 737, 'scared': 738, 'send': 739, 'series': 740, 'stomping': 741, 'vast': 742, 'vicinity': 743, 'view': 744, 'violence': 745, 'who': 746, 'wine': 747, 'account': 748, 'agree': 749, 'anniversary': 750, 'dancing': 751, 'die': 752, 'disappointed': 753, 'dj': 754, 'dreams': 755, 'flight': 756, 'grow': 757, 'instalike': 758, 'internet': 759, 'line': 760, 'lose': 761, 'lots': 762, 'mine': 763, 'ride': 764, 'small': 765, 'source': 766, 'suppoers': 767, 'takes': 768, 'tech': 769, 'using': 770, 'wake': 771, 'water': 772, 'wet': 773, 'wishes': 774, 'york': 775, '15': 776, 'along': 777, 'americans': 778, 'ask': 779, 'breakfast': 780, 'different': 781, 'festival': 782, 'haha': 783, 'hit': 784, 'huge': 785, 'loves': 786, 'mass': 787, 'minutes': 788, 'national': 789, 'naughty': 790, 'pathetic': 791, 'pink': 792, 'rather': 793, 'respect': 794, 'slut': 795, 'street': 796, 'teen': 797, 'american': 798, 'behind': 799, 'chase': 800, 'died': 801, 'dogs': 802, 'hatred': 803, 'leaving': 804, 'met': 805, 'present': 806, 'self': 807, 'staff': 808, 'three': 809, 'united': 810, 'videos': 811, 'woh': 812, 'wonder': 813, 'blur': 814, 'congrats': 815, 'course': 816, 'customer': 817, 'facebook': 818, 'fear': 819, 'fight': 820, 'fit': 821, 'india': 822, 'joke': 823, 'king': 824, 'la': 825, 'missed': 826, 'moving': 827, 'muslim': 828, 'naked': 829, 'nasty': 830, 'needed': 831, 'pool': 832, 'poor': 833, 'problem': 834, 'queen': 835, 'shame': 836, 'sky': 837, 'staed': 838, 'star': 839, 'udtapunjab': 840, 'walking': 841, 'weather': 842, 'wtf': 843, 'busy': 844, 'college': 845, 'dark': 846, 'especially': 847, 'exciting': 848, 'fall': 849, 'hands': 850, 'heres': 851, 'horny': 852, 'husband': 853, 'inside': 854, 'jobs': 855, 'kinky': 856, 'local': 857, 'past': 858, 'pop': 859, 'probably': 860, 'puppy': 861, 'pussy': 862, 'sho': 863, 'shot': 864, 'shy': 865, 'sister': 866, 'students': 867, 'sunset': 868, 'absolutely': 869, 'babies': 870, 'calm': 871, 'congratulations': 872, 'e32016': 873, 'episode': 874, 'everybody': 875, 'experience': 876, 'fire': 877, 'flower': 878, 'following': 879, 'france': 880, 'gave': 881, 'happier': 882, 'hi': 883, 'hillary': 884, 'leakage': 885, 'marriage': 886, 'office': 887, 'online': 888, 'opening': 889, 'page': 890, 'pizza': 891, 'speak': 892, 'stupid': 893, 'told': 894, 'took': 895, 'vibes': 896, 'ways': 897, 'ai': 898, 'aist': 899, 'due': 900, 'favourite': 901, 'feelings': 902, 'folks': 903, 'instadaily': 904, 'listening': 905, 'loss': 906, 'mr': 907, 'official': 908, 'spos': 909, 'successful': 910, 'surprise': 911, 'trust': 912, 'vegas': 913, 'adventure': 914, 'album': 915, 'alive': 916, 'apple': 917, 'christmas': 918, 'content': 919, 'countdown': 920, 'drinks': 921, 'ending': 922, 'energy': 923, 'faith': 924, 'female': 925, 'games': 926, 'given': 927, 'inspirational': 928, 'literally': 929, 'luck': 930, 'nails': 931, 'newyork': 932, 'oitnb': 933, 'reality': 934, 'sale': 935, 'seriously': 936, 'spend': 937, 'states': 938, 'towards': 939, 'war': 940, 'writing': 941, 'yummy': 942, 'bike': 943, 'camp': 944, 'cavs': 945, 'celebrating': 946, 'choice': 947, 'dress': 948, 'fly': 949, 'foodporn': 950, 'germany': 951, 'goodvibes': 952, 'graduation': 953, 'heabroken': 954, 'hungry': 955, 'ice': 956, 'instead': 957, 'launch': 958, 'like4like': 959, 'lovelife': 960, 'melancholy': 961, 'nobody': 962, 'political': 963, 'pride': 964, 'question': 965, 'realize': 966, 'received': 967, 'ripchristina': 968, 'road': 969, 'sense': 970, 'stand': 971, 'test': 972, 'tips': 973, 'wisdom': 974, 'workout': 975, 'xx': 976, 'beat': 977, 'behappy': 978, 'blm': 979, 'blogger': 980, 'campaign': 981, 'cats': 982, 'church': 983, 'decided': 984, 'diet': 985, 'entire': 986, 'gratitude': 987, 'hand': 988, 'ladies': 989, 'lady': 990, 'legend': 991, 'longer': 992, 'married': 993, 'oil': 994, 'okay': 995, 'previous': 996, 'release': 997, 'sign': 998, 'spain': 999, 'step': 1000, 'turn': 1001, 'weak': 1002, 'website': 1003, 'wild': 1004, 'within': 1005, 'august': 1006, 'books': 1007, 'born': 1008, 'card': 1009, 'celebration': 1010, 'class': 1011, 'confused': 1012, 'e3': 1013, 'either': 1014, 'emotional': 1015, 'emotions': 1016, 'finger': 1017, 'hispanic': 1018, 'horrible': 1019, 'journey': 1020, 'losing': 1021, 'lyrics': 1022, 'nation': 1023, 'passed': 1024, 'punjab': 1025, 'relaxing': 1026, 'sing': 1027, 'space': 1028, 'spent': 1029, 'stage': 1030, 'stories': 1031, 'town': 1032, 'trending': 1033, 'wakeup': 1034, 'youth': 1035, 'add': 1036, 'asian': 1037, 'bitch': 1038, 'bjp': 1039, 'calling': 1040, 'cheers': 1041, 'clean': 1042, 'deserve': 1043, 'dory': 1044, 'fake': 1045, 'gif': 1046, 'girlfriend': 1047, 'heaven': 1048, 'inshot': 1049, 'islam': 1050, 'nofilter': 1051, 'orange': 1052, 'paid': 1053, 'paris': 1054, 'praying': 1055, 'pulse': 1056, 'review': 1057, 'snapshot': 1058, 'tampa': 1059, 'university': 1060, 'upset': 1061, 'was': 1062, 'yrs': 1063, 'age': 1064, 'analytics': 1065, 'animal': 1066, 'anime': 1067, 'australia': 1068, 'begins': 1069, 'chance': 1070, 'changes': 1071, 'deep': 1072, 'donald': 1073, 'drawing': 1074, 'ff': 1075, 'finish': 1076, 'happens': 1077, 'heading': 1078, 'issue': 1079, 'melancholymusic': 1080, 'minute': 1081, 'ness': 1082, 'positivity': 1083, 'reasons': 1084, 'st': 1085, 'tea': 1086, 'temple': 1087, 'terrorism': 1088, 'tho': 1089, 'til': 1090, 'train': 1091, 'tried': 1092, 'vegan': 1093, 'web': 1094, '25': 1095, 'action': 1096, 'allow': 1097, 'available': 1098, 'bar': 1099, 'benefits': 1100, 'canada': 1101, 'case': 1102, 'christina': 1103, 'company': 1104, 'cover': 1105, 'creative': 1106, 'eah': 1107, 'essentialoils': 1108, 'fail': 1109, 'fast': 1110, 'hero': 1111, 'igers': 1112, 'japan': 1113, 'kitty': 1114, 'knew': 1115, 'link': 1116, 'lord': 1117, 'low': 1118, 'nba': 1119, 'nearly': 1120, 'number': 1121, 'offer': 1122, 'often': 1123, 'passion': 1124, 'pics': 1125, 'plan': 1126, 'public': 1127, 'relationship': 1128, 'secret': 1129, 'shoot': 1130, 'singing': 1131, 'songs': 1132, 'south': 1133, 'stuck': 1134, 'worse': 1135, 'anger': 1136, 'blacks': 1137, 'box': 1138, 'brand': 1139, 'bride': 1140, 'count': 1141, 'create': 1142, 'culture': 1143, 'cut': 1144, 'definitely': 1145, 'disgusting': 1146, 'fo': 1147, 'keeping': 1148, 'key': 1149, 'knows': 1150, 'likes': 1151, 'pig': 1152, 'planning': 1153, 'played': 1154, 'powerful': 1155, 'quoteoftheday': 1156, 'republican': 1157, 'ripchristinagrimmie': 1158, 'round': 1159, 'second': 1160, 'spring': 1161, 'student': 1162, 'studio': 1163, 'supposed': 1164, 'swimming': 1165, 'tattoo': 1166, 'treat': 1167, '11': 1168, '14': 1169, 'advice': 1170, 'altright': 1171, 'bigot': 1172, 'bliss': 1173, 'breaking': 1174, 'bro': 1175, 'calgary': 1176, 'clients': 1177, 'current': 1178, 'customers': 1179, 'deal': 1180, 'delicious': 1181, 'english': 1182, 'euro': 1183, 'events': 1184, 'exactly': 1185, 'expect': 1186, 'goodnight': 1187, 'google': 1188, 'growing': 1189, 'helping': 1190, 'hotel': 1191, 'idea': 1192, 'idiot': 1193, 'idwp': 1194, 'ignorance': 1195, 'imagine': 1196, 'ireland': 1197, 'lake': 1198, 'law': 1199, 'muslims': 1200, 'nights': 1201, 'outside': 1202, 'pictures': 1203, 'pls': 1204, 'session': 1205, 'shoes': 1206, 'stream': 1207, 'stress': 1208, 'texas': 1209, 'theatre': 1210, 'totally': 1211, 'turned': 1212, 'worry': 1213, 'yum': 1214, '16': 1215, 'accept': 1216, 'adult': 1217, 'answer': 1218, 'attention': 1219, 'awards': 1220, 'bag': 1221, 'ball': 1222, 'boricua': 1223, 'boss': 1224, 'brilliant': 1225, 'brokers': 1226, 'california': 1227, 'cleveland': 1228, 'clothes': 1229, 'cnn': 1230, 'colombia': 1231, 'comedy': 1232, 'double': 1233, 'dude': 1234, 'edm': 1235, 'exercise': 1236, 'fat': 1237, 'fed': 1238, 'front': 1239, 'gamer': 1240, 'grace': 1241, 'growth': 1242, 'happiest': 1243, 'heabreaking': 1244, 'holidays': 1245, 'hopefully': 1246, 'humor': 1247, 'inlove': 1248, 'jesus': 1249, 'lack': 1250, 'learning': 1251, 'lies': 1252, 'message': 1253, 'ocean': 1254, 'ootd': 1255, 'peaceful': 1256, 'pick': 1257, 'piece': 1258, 'plans': 1259, 'princess': 1260, 'product': 1261, 'radio': 1262, 'response': 1263, 'scary': 1264, 'schools': 1265, 'simply': 1266, 'society': 1267, 'store': 1268, 'straight': 1269, '24': 1270, 'announce': 1271, 'appreciate': 1272, 'area': 1273, 'bbc': 1274, 'bestfriend': 1275, 'blame': 1276, 'bus': 1277, 'cards': 1278, 'chicago': 1279, 'childhood': 1280, 'closer': 1281, 'cock': 1282, 'de': 1283, 'diy': 1284, 'door': 1285, 'download': 1286, 'f4f': 1287, 'fab': 1288, 'faces': 1289, 'findingdory': 1290, 'forgot': 1291, 'generation': 1292, 'gives': 1293, 'greatest': 1294, 'hold': 1295, 'humanity': 1296, 'lead': 1297, 'logins': 1298, 'male': 1299, 'match': 1300, 'matters': 1301, 'member': 1302, 'michael': 1303, 'moon': 1304, 'movies': 1305, 'mum': 1306, 'natural': 1307, 'near': 1308, 'netflix': 1309, 'notice': 1310, 'opinion': 1311, 'packing': 1312, 'pet': 1313, 'possible': 1314, 'project': 1315, 'rainbow': 1316, 'russia': 1317, 'sadly': 1318, 'sent': 1319, 'shine': 1320, 'skin': 1321, 'squad': 1322, 'staup': 1323, 'system': 1324, 'teambts': 1325, 'ticket': 1326, 'tour': 1327, 'watched': 1328, 'weird': 1329, 'winner': 1330, 'woke': 1331, 'works': 1332, 'xoxo': 1333, 'abt': 1334, 'acting': 1335, 'air': 1336, 'apparently': 1337, 'astrologer': 1338, 'beginning': 1339, 'bet': 1340, 'beyond': 1341, 'biggest': 1342, 'bird': 1343, 'blackandwhite': 1344, 'bouncingbaby': 1345, 'broke': 1346, 'clear': 1347, 'coach': 1348, 'cooking': 1349, 'counting': 1350, 'dies': 1351, 'drinking': 1352, 'euros': 1353, 'everywhere': 1354, 'ex': 1355, 'factory': 1356, 'feet': 1357, 'felt': 1358, 'filled': 1359, 'fl': 1360, 'focus': 1361, 'foodie': 1362, 'gaming': 1363, 'goodtimes': 1364, 'handsome': 1365, 'holding': 1366, 'hoping': 1367, 'humpday': 1368, 'ibiza': 1369, 'inspired': 1370, 'interview': 1371, 'keeps': 1372, 'lebron': 1373, 'level': 1374, 'loa': 1375, 'loser': 1376, 'loveit': 1377, 'maga': 1378, 'magic': 1379, 'nightclub': 1380, 'performance': 1381, 'positivevibes': 1382, 'religion': 1383, 'sharing': 1384, 'sikh': 1385, 'study': 1386, 'terrorist': 1387, 'therapy': 1388, 'tonights': 1389, 'usgtgtgt': 1390, 'warm': 1391, 'warriors': 1392, 'waste': 1393, 'wear': 1394, 'wearing': 1395, 'airpo': 1396, 'award': 1397, 'bestfriends': 1398, 'bestie': 1399, 'bff': 1400, 'bitches': 1401, 'board': 1402, 'bout': 1403, 'bye': 1404, 'click': 1405, 'clinton': 1406, 'comment': 1407, 'condemns': 1408, 'congress': 1409, 'cream': 1410, 'decision': 1411, 'details': 1412, 'evil': 1413, 'fabulous': 1414, 'fitfam': 1415, 'flagday2016': 1416, 'flying': 1417, 'goal': 1418, 'grimmie': 1419, 'heas': 1420, 'injured': 1421, 'islamic': 1422, 'killing': 1423, 'kiss': 1424, 'knowing': 1425, 'leaders': 1426, 'leaves': 1427, 'lil': 1428, 'loveislove': 1429, 'major': 1430, 'neverump': 1431, 'niggas': 1432, 'noh': 1433, 'none': 1434, 'nursery': 1435, 'ordered': 1436, 'papa': 1437, 'plus': 1438, 'press': 1439, 'price': 1440, 'quality': 1441, 'reaction': 1442, 'realized': 1443, 'released': 1444, 'remain': 1445, 'repost': 1446, 'result': 1447, 'robe': 1448, 'role': 1449, 'science': 1450, 'screen': 1451, 'shift': 1452, 'shootings': 1453, 'shout': 1454, 'singer': 1455, 'sound': 1456, 'stars': 1457, 'strength': 1458, 'summeime': 1459, 'taken': 1460, 'teacher': 1461, 'telling': 1462, 'toddler': 1463, 'total': 1464, 'trumps': 1465, 'ugh': 1466, 'unfounately': 1467, 'vandalised': 1468, 'weight': 1469, 'weightloss': 1470, 'wellness': 1471, 'whites': 1472, 'worked': 1473, 'wso': 1474, 'ya': 1475, 'accepted': 1476, 'adorable': 1477, 'afraid': 1478, 'amwriting': 1479, 'anne': 1480, 'apps': 1481, 'arrive': 1482, 'band': 1483, 'begin': 1484, 'boom': 1485, 'calls': 1486, 'catch': 1487, 'chocolate': 1488, 'collection': 1489, 'cuz': 1490, 'da': 1491, 'dangerous': 1492, 'david': 1493, 'depressing': 1494, 'difficult': 1495, 'driving': 1496, 'em': 1497, 'essential': 1498, 'europe': 1499, 'eye': 1500, 'feliz': 1501, 'fighting': 1502, 'fine': 1503, 'gamedev': 1504, 'golf': 1505, 'ha': 1506, 'hearing': 1507, 'hrs': 1508, 'humans': 1509, 'hype': 1510, 'ignored': 1511, 'john': 1512, 'l4l': 1513, 'latepost': 1514, 'le': 1515, 'liar': 1516, 'lifeisgood': 1517, 'lmao': 1518, 'meditation': 1519, 'mins': 1520, 'misogynist': 1521, 'misogyny': 1522, 'organic': 1523, 'painting': 1524, 'peoples': 1525, 'piano': 1526, 'politicians': 1527, 'profile': 1528, 'questions': 1529, 'rhymes': 1530, 'rich': 1531, 'san': 1532, 'search': 1533, 'shi': 1534, 'sma': 1535, 'speech': 1536, 'spo': 1537, 'storm': 1538, 'suppoing': 1539, 'talented': 1540, 'tool': 1541, 'tough': 1542, 'track': 1543, 'updates': 1544, 'writer': 1545, '70': 1546, 'across': 1547, 'amen': 1548, 'attitude': 1549, 'bae': 1550, 'bank': 1551, 'bigger': 1552, 'blessings': 1553, 'boston': 1554, 'bs': 1555, 'build': 1556, 'chat': 1557, 'cheer': 1558, 'classic': 1559, 'completely': 1560, 'cow': 1561, 'creating': 1562, 'crime': 1563, 'cup': 1564, 'eating': 1565, 'email': 1566, 'entrepreneur': 1567, 'eve': 1568, 'familytime': 1569, 'fave': 1570, 'feminism': 1571, 'fix': 1572, 'funeral': 1573, 'gig': 1574, 'glass': 1575, 'goodbye': 1576, 'goodday': 1577, 'greece': 1578, 'hits': 1579, 'involved': 1580, 'iphone': 1581, 'isis': 1582, 'island': 1583, 'justice': 1584, 'kick': 1585, 'kinda': 1586, 'kitchen': 1587, 'lie': 1588, 'likeforlike': 1589, 'luxury': 1590, 'lying': 1591, 'main': 1592, 'market': 1593, 'marketing': 1594, 'materia': 1595, 'material': 1596, 'members': 1597, 'memes': 1598, 'mindfulness': 1599, 'mylove': 1600, 'plz': 1601, 'podcast': 1602, 'posted': 1603, 'problems': 1604, 'progress': 1605, 'ps4': 1606, 'pure': 1607, 'purpose': 1608, 'quick': 1609, 'quiet': 1610, 'rally': 1611, 'rape': 1612, 'record': 1613, 'repo': 1614, 'resist': 1615, 'restaurant': 1616, 'rules': 1617, 'sat': 1618, 'september': 1619, 'signed': 1620, 'silly': 1621, 'sitting': 1622, 'snow': 1623, 'station': 1624, 'surprised': 1625, 'terror': 1626, 'text': 1627, 'tiny': 1628, 'traveling': 1629, 'turning': 1630, 'twice': 1631, 'unhappy': 1632, 'wales': 1633, 'winter': 1634, '13': 1635, '1gabba': 1636, 'anton': 1637, 'asked': 1638, 'babe': 1639, 'becoming': 1640, 'bf': 1641, 'bihdaygirl': 1642, 'boat': 1643, 'bored': 1644, 'brain': 1645, 'bright': 1646, 'building': 1647, 'cancer': 1648, 'clearly': 1649, 'colors': 1650, 'cycling': 1651, 'dc': 1652, 'dr': 1653, 'draw': 1654, 'driver': 1655, 'dumb': 1656, 'dying': 1657, 'election': 1658, 'electronic': 1659, 'emiratis': 1660, 'emo': 1661, 'ended': 1662, 'epic': 1663, 'excellent': 1664, 'excitement': 1665, 'expected': 1666, 'fair': 1667, 'fav': 1668, 'fish': 1669, 'foods': 1670, 'fox': 1671, 'friyay': 1672, 'frustrated': 1673, 'genocide': 1674, 'gods': 1675, 'grandpa': 1676, 'hahaha': 1677, 'innocent': 1678, 'judge': 1679, 'kkk': 1680, 'known': 1681, 'laughing': 1682, 'madrid': 1683, 'manchester': 1684, 'mexico': 1685, 'miles': 1686, 'nationalbestfriendsday': 1687, 'nigga': 1688, 'oils': 1689, 'paner': 1690, 'pc': 1691, 'poland': 1692, 'practice': 1693, 'process': 1694, 'registered': 1695, 'relationships': 1696, 'remedies': 1697, 'return': 1698, 'returns': 1699, 'rights': 1700, 'ring': 1701, 'roll': 1702, 'romance': 1703, 'security': 1704, 'sell': 1705, 'senseless': 1706, 'shower': 1707, 'sisters': 1708, 'size': 1709, 'somebody': 1710, 'someones': 1711, 'stronger': 1712, 'stunning': 1713, 'suicide': 1714, 'sundayfunday': 1715, 'swim': 1716, 'table': 1717, 'teams': 1718, 'terrible': 1719, 'thousands': 1720, 'throwback': 1721, 'tuned': 1722, 'typical': 1723, 'unbelievable': 1724, 'vk': 1725, 'wall': 1726, 'weekends': 1727, 'west': 1728, 'winning': 1729, 'workshop': 1730, 'yellow': 1731, '11th': 1732, '21': 1733, '3rd': 1734, '90': 1735, 'africa': 1736, 'african': 1737, 'am': 1738, 'amazon': 1739, 'annoyed': 1740, 'awake': 1741, 'based': 1742, 'basketball': 1743, 'bbq': 1744, 'beard': 1745, 'berlin': 1746, 'bestseller': 1747, 'bigotry': 1748, 'blacklivesmatter': 1749, 'bloggers': 1750, 'bloody': 1751, 'bts': 1752, 'buddy': 1753, 'changed': 1754, 'channel': 1755, 'cheese': 1756, 'christian': 1757, 'christinagrimmie': 1758, 'client': 1759, 'clouds': 1760, 'coldplay': 1761, 'copy': 1762, 'cou': 1763, 'cousins': 1764, 'crew': 1765, 'decide': 1766, 'delivery': 1767, 'drive': 1768, 'easily': 1769, 'ends': 1770, 'eu': 1771, 'exams': 1772, 'fasting': 1773, 'five': 1774, 'fruit': 1775, 'fucked': 1776, 'fuher': 1777, 'glasses': 1778, 'government': 1779, 'govt': 1780, 'holy': 1781, 'hug': 1782, 'hugs': 1783, 'indeed': 1784, 'indiedev': 1785, 'industry': 1786, 'insane': 1787, 'international': 1788, 'issues': 1789, 'italy': 1790, 'jersey': 1791, 'jo': 1792, 'jokes': 1793, 'kindness': 1794, 'laughter': 1795, 'letting': 1796, 'looked': 1797, 'loveyou': 1798, 'luv': 1799, 'malevote': 1800, 'mall': 1801, 'mark': 1802, 'massage': 1803, 'massive': 1804, 'materi': 1805, 'mental': 1806, 'mexican': 1807, 'mobile': 1808, 'motivated': 1809, 'negative': 1810, 'nerd': 1811, 'nominee': 1812, 'note': 1813, 'packed': 1814, 'paint': 1815, 'paladino': 1816, 'plants': 1817, 'poem': 1818, 'posts': 1819, 'quite': 1820, 'recent': 1821, 'reminder': 1822, 'republicans': 1823, 'sales': 1824, 'scotland': 1825, 'setting': 1826, 'shooter': 1827, 'should': 1828, 'signs': 1829, 'silence': 1830, 'sir': 1831, 'slow': 1832, 'sold': 1833, 'sons': 1834, 'spending': 1835, 'starbucks': 1836, 'sushi': 1837, 'tells': 1838, 'ten': 1839, 'thailand': 1840, 'thinks': 1841, 'touch': 1842, 'travelling': 1843, 'tune': 1844, 'turns': 1845, 'ugly': 1846, 'upcoming': 1847, 'voters': 1848, 'vsco': 1849, 'weddings': 1850, 'wednesdaywisdom': 1851, 'yr': 1852, 'zen': 1853, '17': 1854, '22': 1855, '40': 1856, 'aap': 1857, 'acts': 1858, 'ad': 1859, 'aicle': 1860, 'allowed': 1861, 'antiracism': 1862, 'anybody': 1863, 'anywhere': 1864, 'assault': 1865, 'author': 1866, 'balance': 1867, 'bitter': 1868, 'bogota': 1869, 'boring': 1870, 'boycott': 1871, 'brings': 1872, 'brothers': 1873, 'brought': 1874, 'brown': 1875, 'candidate': 1876, 'career': 1877, 'cares': 1878, 'ceain': 1879, 'centre': 1880, 'childrens': 1881, 'christians': 1882, 'classes': 1883, 'code': 1884, 'competition': 1885, 'confident': 1886, 'continue': 1887, 'drama': 1888, 'drunk': 1889, 'easier': 1890, 'eid': 1891, 'enteainment': 1892, 'facts': 1893, 'fb': 1894, 'feelgood': 1895, 'feminismiscancer': 1896, 'feminismisterrorism': 1897, 'feminismmuktbharat': 1898, 'filter': 1899, 'followed': 1900, 'force': 1901, 'four': 1902, 'fraud': 1903, 'gb': 1904, 'gifts': 1905, 'global': 1906, 'grand': 1907, 'hamilton': 1908, 'hang': 1909, 'heat': 1910, 'hospital': 1911, 'hubby': 1912, 'hump': 1913, 'idiots': 1914, 'ig': 1915, 'ignorant': 1916, 'illustration': 1917, 'index': 1918, 'info': 1919, 'kingdom': 1920, 'knowledge': 1921, 'liberals': 1922, 'lit': 1923, 'location': 1924, 'meant': 1925, 'middle': 1926, 'million': 1927, 'mirror': 1928, 'murder': 1929, 'network': 1930, 'notmypresident': 1931, 'nowplaying': 1932, 'path': 1933, 'period': 1934, 'photoshoot': 1935, 'preparing': 1936, 'productive': 1937, 'products': 1938, 'proof': 1939, 'putting': 1940, 'radical': 1941, 'reply': 1942, 'research': 1943, 'resources': 1944, 'revolution': 1945, 'risk': 1946, 'rose': 1947, 'row': 1948, 'salad': 1949, 'season4': 1950, 'sending': 1951, 'serious': 1952, 'sit': 1953, 'sleepy': 1954, 'snap': 1955, 'socialmedia': 1956, 'sounds': 1957, 'speaking': 1958, 'spread': 1959, 'statement': 1960, 'tcot': 1961, 'third': 1962, 'thx': 1963, 'value': 1964, 'village': 1965, 'vintage': 1966, 'wa': 1967, 'wins': 1968, 'woohoo': 1969, 'wrote': 1970, 'xenophobia': 1971, 'yolo': 1972, '18': 1973, '200': 1974, '2016in4words': 1975, 'affected': 1976, 'agenda': 1977, 'alex': 1978, 'ali': 1979, 'anal': 1980, 'android': 1981, 'angel': 1982, 'animation': 1983, 'announces': 1984, 'anyway': 1985, 'asking': 1986, 'badly': 1987, 'bags': 1988, 'basis': 1989, 'bath': 1990, 'batman': 1991, 'brighton': 1992, 'brunch': 1993, 'buzzing': 1994, 'carl': 1995, 'cars': 1996, 'caught': 1997, 'charity': 1998, 'cinema': 1999, 'clothing': 2000, 'co': 2001, 'colorful': 2002, 'continues': 2003, 'countries': 2004, 'crap': 2005, 'currently': 2006, 'daughters': 2007, 'delayed': 2008, 'delivered': 2009, 'desperate': 2010, 'difference': 2011, 'downtown': 2012, 'dublin': 2013, 'edinburgh': 2014, 'effo': 2015, 'en': 2016, 'etsy': 2017, 'european': 2018, 'everyones': 2019, 'expectations': 2020, 'fam': 2021, 'fantasy': 2022, 'fell': 2023, 'fool': 2024, 'funday': 2025, 'gel': 2026, 'gtgt': 2027, 'handmade': 2028, 'held': 2029, 'hide': 2030, 'highest': 2031, 'hollywood': 2032, 'homophobic': 2033, 'hopeful': 2034, 'horror': 2035, 'hrc': 2036, 'humble': 2037, 'ideas': 2038, 'impression': 2039, 'incredible': 2040, 'incredibly': 2041, 'inspire': 2042, 'instapic': 2043, 'jim': 2044, 'jobsearch': 2045, 'keshi': 2046, 'ki': 2047, 'kicks': 2048, 'kitten': 2049, 'laws': 2050, 'league': 2051, 'lifecoach': 2052, 'loveyourself': 2053, 'lt': 2054, 'majority': 2055, 'melbourne': 2056, 'memory': 2057, 'michelle': 2058, 'military': 2059, 'milk': 2060, 'normal': 2061, 'ny': 2062, 'officers': 2063, 'oppounity': 2064, 'option': 2065, 'original': 2066, 'peeps': 2067, 'personalised': 2068, 'plane': 2069, 'players': 2070, 'plays': 2071, 'poems': 2072, 'poster': 2073, 'potus': 2074, 'precious': 2075, 'program': 2076, 'pumped': 2077, 'raise': 2078, 'random': 2079, 'rat': 2080, 'relaxed': 2081, 'retail': 2082, 'romantic': 2083, 'route': 2084, 'sa': 2085, 'seashepherd': 2086, 'selfies': 2087, 'serve': 2088, 'shepherd': 2089, 'shocked': 2090, 'site': 2091, 'situation': 2092, 'six': 2093, 'smoke': 2094, 'soccer': 2095, 'sydney': 2096, 'tag': 2097, 'taste': 2098, 'teens': 2099, 'teeth': 2100, 'term': 2101, 'thursdaythoughts': 2102, 'title': 2103, 'tony': 2104, 'tshi': 2105, 'twitch': 2106, 'ty': 2107, 'ukraine': 2108, 'version': 2109, 'views': 2110, 'vscocam': 2111, 'waking': 2112, 'window': 2113, 'workers': 2114, 'worldwide': 2115, 'write': 2116, 'yelchin': 2117, '9th': 2118, 'abuse': 2119, 'actual': 2120, 'ah': 2121, 'allah': 2122, 'alligator': 2123, 'argument': 2124, 'ashamed': 2125, 'ate': 2126, 'attacks': 2127, 'attempt': 2128, 'attending': 2129, 'barely': 2130, 'basic': 2131, 'bikini': 2132, 'bill': 2133, 'bio': 2134, 'blocked': 2135, 'breaks': 2136, 'btw': 2137, 'bunch': 2138, 'buying': 2139, 'caturday': 2140, 'censorship': 2141, 'challenge': 2142, 'character': 2143, 'charge': 2144, 'choices': 2145, 'christ': 2146, 'cocktails': 2147, 'common': 2148, 'computer': 2149, 'condolences': 2150, 'confidence': 2151, 'curry': 2152, 'daddys': 2153, 'data': 2154, 'debate': 2155, 'delighted': 2156, 'destiny': 2157, 'detoxdiet': 2158, 'dis': 2159, 'dm': 2160, 'doplants': 2161, 'doubt': 2162, 'east': 2163, 'ego': 2164, 'emails': 2165, 'employees': 2166, 'eng': 2167, 'engaged': 2168, 'equality': 2169, 'escape': 2170, 'except': 2171, 'excit': 2172, 'fascism': 2173, 'figure': 2174, 'finals': 2175, 'fired': 2176, 'focused': 2177, 'gains': 2178, 'geek': 2179, 'gin': 2180, 'guitar': 2181, 'hanging': 2182, 'has': 2183, 'hat': 2184, 'hateful': 2185, 'hathaway': 2186, 'hawaii': 2187, 'herbal': 2188, 'horrific': 2189, 'hus': 2190, 'interest': 2191, 'interesting': 2192, 'israel': 2193, 'it': 2194, 'japanese': 2195, 'jealous': 2196, 'joe': 2197, 'joytrain': 2198, 'jump': 2199, 'kicking': 2200, 'kisses': 2201, 'korea': 2202, 'land': 2203, 'laptop': 2204, 'lasvegas': 2205, 'leader': 2206, 'lip': 2207, 'log': 2208, 'lovemylife': 2209, 'magnettherapy': 2210, 'mail': 2211, 'massacre': 2212, 'masterkeyexperience': 2213, 'mention': 2214, 'mode': 2215, 'mommy': 2216, 'moms': 2217, 'mouth': 2218, 'murdered': 2219, 'nigeria': 2220, 'obsessed': 2221, 'obviously': 2222, 'orlandonightclubshooting': 2223, 'paper': 2224, 'parenting': 2225, 'pass': 2226, 'pets': 2227, 'photographer': 2228, 'possibility': 2229, 'praise': 2230, 'preordered': 2231, 'presents': 2232, 'presidential': 2233, 'priceless': 2234, 'protect': 2235, 'pub': 2236, 'purchase': 2237, 'rainy': 2238, 'recipe': 2239, 'reso': 2240, 'responsible': 2241, 'results': 2242, 'reunited': 2243, 'rid': 2244, 'rn': 2245, 'roadtrip': 2246, 'rugby': 2247, 'sadness': 2248, 'seem': 2249, 'sets': 2250, 'shocking': 2251, 'showing': 2252, 'shut': 2253, 'singapore': 2254, 'sis': 2255, 'smell': 2256, 'sohappy': 2257, 'solve': 2258, 'somewhere': 2259, 'soundcloud': 2260, 'speakers': 2261, 'spin': 2262, 'spirit': 2263, 'staying': 2264, 'stephen': 2265, 'stoked': 2266, 'sundaymorning': 2267, 'sunnyday': 2268, 'systemic': 2269, 'talent': 2270, 'tan': 2271, 'terrorists': 2272, 'theme': 2273, 'thru': 2274, 'toronto': 2275, 'tupac': 2276, 'turkey': 2277, 'victory': 2278, 'visiting': 2279, 'waited': 2280, 'webcam': 2281, 'whe': 2282, 'whenever': 2283, 'whoop': 2284, '19': 2285, '28': 2286, '49': 2287, 'actions': 2288, 'activities': 2289, 'actress': 2290, 'afford': 2291, 'ages': 2292, 'alarm': 2293, 'ale': 2294, 'amsterdam': 2295, 'angels': 2296, 'announcement': 2297, 'annual': 2298, 'antisemitism': 2299, 'april': 2300, 'avoid': 2301, 'barcelona': 2302, 'base': 2303, 'baseball': 2304, 'bernie': 2305, 'besties': 2306, 'binge': 2307, 'block': 2308, 'blowing': 2309, 'blues': 2310, 'bond': 2311, 'bonding': 2312, 'bottle': 2313, 'british': 2314, 'bubbles': 2315, 'camping': 2316, 'cardiff': 2317, 'caused': 2318, 'challenges': 2319, 'changing': 2320, 'chick': 2321, 'chosen': 2322, 'claim': 2323, 'claims': 2324, 'coldplaywembley': 2325, 'comfo': 2326, 'comics': 2327, 'commercial': 2328, 'connect': 2329, 'cookies': 2330, 'cox': 2331, 'created': 2332, 'cross': 2333, 'crowd': 2334, 'cucumbers': 2335, 'danske': 2336, 'dat': 2337, 'democracy': 2338, 'describe': 2339, 'destroyed': 2340, 'determined': 2341, 'dick': 2342, 'disease': 2343, 'donaldtrump': 2344, 'dropping': 2345, 'drug': 2346, 'entry': 2347, 'etc': 2348, 'eurusd': 2349, 'excuse': 2350, 'express': 2351, 'famous': 2352, 'flights': 2353, 'form': 2354, 'former': 2355, 'fought': 2356, 'frank': 2357, 'freaking': 2358, 'friendly': 2359, 'gender': 2360, 'gf': 2361, 'goodness': 2362, 'grind': 2363, 'ground': 2364, 'groups': 2365, 'gutted': 2366, 'hardly': 2367, 'heritage': 2368, 'hilarious': 2369, 'hockey': 2370, 'honest': 2371, 'honestly': 2372, 'how': 2373, 'hv': 2374, 'icecream': 2375, 'idol': 2376, 'impact': 2377, 'independent': 2378, 'indiegamedev': 2379, 'instacool': 2380, 'intelligence': 2381, 'islamophobia': 2382, 'james': 2383, 'jewelry': 2384, 'jews': 2385, 'kevin': 2386, 'kicked': 2387, 'killer': 2388, 'kills': 2389, 'large': 2390, 'las': 2391, 'launched': 2392, 'learned': 2393, 'lifes': 2394, 'lights': 2395, 'likely': 2396, 'lines': 2397, 'menu': 2398, 'mi': 2399, 'millions': 2400, 'mixed': 2401, 'motivate': 2402, 'moved': 2403, 'mp': 2404, 'multiple': 2405, 'murdering': 2406, 'names': 2407, 'nations': 2408, 'nephew': 2409, 'newcastle': 2410, 'newyear': 2411, 'niece': 2412, 'nightout': 2413, 'nose': 2414, 'noticed': 2415, 'november': 2416, 'nutrition': 2417, 'optimistic': 2418, 'outrage': 2419, 'pack': 2420, 'paradise': 2421, 'performing': 2422, 'periscope': 2423, 'planet': 2424, 'playlist': 2425, 'plenty': 2426, 'porait': 2427, 'posting': 2428, 'preorder': 2429, 'prepare': 2430, 'prince': 2431, 'promote': 2432, 'protesting': 2433, 'puntohost': 2434, 'raining': 2435, 'ramadhan': 2436, 'rate': 2437, 'raw': 2438, 'referendum': 2439, 'refugees': 2440, 'remains': 2441, 'reveal': 2442, 'rise': 2443, 'roof': 2444, 'roses': 2445, 'russian': 2446, 'satisfied': 2447, 'schedule': 2448, 'score': 2449, 'screaming': 2450, 'seats': 2451, 'seconds': 2452, 'secrets': 2453, 'selflove': 2454, 'services': 2455, 'sexual': 2456, 'shake': 2457, 'shall': 2458, 'shitty': 2459, 'shock': 2460, 'shoutout': 2461, 'sight': 2462, 'sirf': 2463, 'skills': 2464, 'sleeps': 2465, 'slowly': 2466, 'smiley': 2467, 'spa': 2468, 'spiritual': 2469, 'stick': 2470, 'stone': 2471, 'stopped': 2472, 'strawberries': 2473, 'suck': 2474, 'sucks': 2475, 'sukhbir': 2476, 'summit': 2477, 'sundays': 2478, 'swear': 2479, 'taught': 2480, 'tb': 2481, 'teach': 2482, 'teamsuperjunior': 2483, 'terms': 2484, 'tokyo': 2485, 'tomorrows': 2486, 'trailer': 2487, 'trapped': 2488, 'treason': 2489, 'trees': 2490, 'troll': 2491, 'type': 2492, 'uni': 2493, 'unleashyourjoy': 2494, 'unless': 2495, 'voting': 2496, 'waves': 2497, 'wee': 2498, 'wembley': 2499, 'wh': 2500, 'whilst': 2501, 'written': 2502, 'youtuber': 2503, 'zone': 2504, '2008': 2505, '20th': 2506, '31': 2507, '40404': 2508, 'access': 2509, 'achieve': 2510, 'acne': 2511, 'active': 2512, 'added': 2513, 'address': 2514, 'adveising': 2515, 'af': 2516, 'ag': 2517, 'agreed': 2518, 'ahhh': 2519, 'americas': 2520, 'anti': 2521, 'anxious': 2522, 'appreciation': 2523, 'arm': 2524, 'arms': 2525, 'army': 2526, 'ashiq': 2527, 'attend': 2528, 'awful': 2529, 'babygirl': 2530, 'background': 2531, 'ban': 2532, 'basically': 2533, 'battle': 2534, 'bay': 2535, 'bears': 2536, 'beats': 2537, 'beutiful': 2538, 'bih': 2539, 'bihdays': 2540, 'blast': 2541, 'brave': 2542, 'bridge': 2543, 'bullying': 2544, 'caoon': 2545, 'carlpaladino': 2546, 'cast': 2547, 'cd': 2548, 'cedm': 2549, 'celebrations': 2550, 'center': 2551, 'chapter': 2552, 'charging': 2553, 'cheap': 2554, 'checked': 2555, 'chicken': 2556, 'china': 2557, 'closing': 2558, 'cloudy': 2559, 'comic': 2560, 'comingsoon': 2561, 'committed': 2562, 'completed': 2563, 'con': 2564, 'confirmed': 2565, 'cost': 2566, 'courage': 2567, 'cousin': 2568, 'coz': 2569, 'creativity': 2570, 'credit': 2571, 'cried': 2572, 'cutest': 2573, 'cutie': 2574, 'decades': 2575, 'definition': 2576, 'denial': 2577, 'development': 2578, 'di': 2579, 'director': 2580, 'disgusted': 2581, 'disneyland': 2582, 'dogsarejoy': 2583, 'dope': 2584, 'dropped': 2585, 'dwd': 2586, 'edc': 2587, 'edit': 2588, 'embrace': 2589, 'emergency': 2590, 'ep': 2591, 'euros2016': 2592, 'exam': 2593, 'exist': 2594, 'expensive': 2595, 'extremely': 2596, 'f1': 2597, 'factsguide': 2598, 'falling': 2599, 'false': 2600, 'faster': 2601, 'feelinggood': 2602, 'fml': 2603, 'follow4follow': 2604, 'follower': 2605, 'foot': 2606, 'fr': 2607, 'french': 2608, 'frm': 2609, 'fuhered': 2610, 'fully': 2611, 'gain': 2612, 'game7': 2613, 'gameofthrones': 2614, 'gator': 2615, 'gbpusd': 2616, 'genuine': 2617, 'gewitter': 2618, 'giant': 2619, 'glitter': 2620, 'goodmood': 2621, 'groom': 2622, 'habits': 2623, 'haters': 2624, 'hating': 2625, 'headed': 2626, 'ignore': 2627, 'immigrants': 2628, 'immigration': 2629, 'increasing': 2630, 'inspiring': 2631, 'instamoment': 2632, 'interested': 2633, 'jack': 2634, 'jan': 2635, 'ji': 2636, 'karen': 2637, 'kpop': 2638, 'launching': 2639, 'lawyer': 2640, 'lee': 2641, 'lesson': 2642, 'lgbtq': 2643, 'library': 2644, 'lincoln': 2645, 'liverpool': 2646, 'logic': 2647, 'looki': 2648, 'lovemyjob': 2649, 'lovers': 2650, 'lovinglife': 2651, 'lush': 2652, 'magical': 2653, 'mama': 2654, 'manager': 2655, 'mate': 2656, 'mature': 2657, 'meal': 2658, 'medical': 2659, 'mess': 2660, 'midweek': 2661, 'minds': 2662, 'minecraft': 2663, 'mini': 2664, 'mondaymotivation': 2665, 'musicvideo': 2666, 'nowadays': 2667, 'np': 2668, 'ohio': 2669, 'oscar': 2670, 'overwatch': 2671, 'pair': 2672, 'pants': 2673, 'parking': 2674, 'paul': 2675, 'paying': 2676, 'peppa': 2677, 'pharrell': 2678, 'picked': 2679, 'piggies': 2680, 'player': 2681, 'pleased': 2682, 'policy': 2683, 'position': 2684, 'pougal': 2685, 'pr': 2686, 'prayersfororlando': 2687, 'pregnancy': 2688, 'presentation': 2689, 'prize': 2690, 'pro': 2691, 'producer': 2692, 'production': 2693, 'promise': 2694, 'pulsenightclub': 2695, 'puppies': 2696, 'purchased': 2697, 'queens': 2698, 'quiz': 2699, 'rage': 2700, 'realise': 2701, 'recording': 2702, 'recovery': 2703, 'regret': 2704, 'relate': 2705, 'remind': 2706, 'retweets': 2707, 'river': 2708, 'rude': 2709, 'sandy': 2710, 'saved': 2711, 'schwandorfchwandorf': 2712, 'scum': 2713, 'selfish': 2714, 'selling': 2715, 'sessions': 2716, 'sexist': 2717, 'skies': 2718, 'sleeping': 2719, 'sms': 2720, 'soo': 2721, 'southafrica': 2722, 'speed': 2723, 'spot': 2724, 'standing': 2725, 'starkes': 2726, 'steak': 2727, 'summer2016': 2728, 'superb': 2729, 'superhero': 2730, 'swag': 2731, 'swing': 2732, 'switzerland': 2733, 'talks': 2734, 'th': 2735, 'theconjuring2': 2736, 'trade': 2737, 'treated': 2738, 'treats': 2739, 'trolling': 2740, 'truck': 2741, 'union': 2742, 'upon': 2743, 'usdcad': 2744, 'usually': 2745, 'venusexchange': 2746, 'victim': 2747, 'vinyl': 2748, 'vinyls': 2749, 'vlicobs': 2750, 'warnung': 2751, 'wattpad': 2752, 'were': 2753, 'wetter': 2754, 'wetterwarnung': 2755, 'william': 2756, 'williams': 2757, 'wonthey': 2758, 'wood': 2759, 'woot': 2760, 'worship': 2761, 'yep': 2762, 'yup': 2763, 'zero': 2764, '23': 2765, '27': 2766, '2b': 2767, '8': 2768, 'advanced': 2769, 'adventures': 2770, 'aists': 2771, 'ally': 2772, 'amarinder': 2773, 'amodu': 2774, 'among': 2775, 'andrew': 2776, 'anna': 2777, 'appletstag': 2778, 'arkansas': 2779, 'atherapy': 2780, 'audusd': 2781, 'awaiting': 2782, 'awork': 2783, 'badal': 2784, 'bbuk': 2785, 'becomes': 2786, 'bees': 2787, 'begun': 2788, 'bell': 2789, 'blind': 2790, 'blogging': 2791, 'blood': 2792, 'bluesky': 2793, 'bob': 2794, 'bollywood': 2795, 'boo': 2796, 'bound': 2797, 'bringing': 2798, 'brunette': 2799, 'bt': 2800, 'bullshit': 2801, 'burn': 2802, 'butt': 2803, 'candles': 2804, 'cared': 2805, 'cheesy': 2806, 'chilling': 2807, 'clock': 2808, 'closed': 2809, 'cloud': 2810, 'colours': 2811, 'complain': 2812, 'concept': 2813, 'connecting': 2814, 'conservative': 2815, 'cosplay': 2816, 'couples': 2817, 'covered': 2818, 'crack': 2819, 'crafts': 2820, 'croatia': 2821, 'cruel': 2822, 'cuddles': 2823, 'deserves': 2824, 'desire': 2825, 'dey': 2826, 'disaster': 2827, 'disneygatorattack': 2828, 'distance': 2829, 'diversity': 2830, 'documentary': 2831, 'dogsofinstagram': 2832, 'dubai': 2833, 'dust': 2834, 'earrings': 2835, 'ebook': 2836, 'educationfest': 2837, 'emoji': 2838, 'emotion': 2839, 'enemy': 2840, 'environmental': 2841, 'episodes': 2842, 'euref': 2843, 'example': 2844, 'excite': 2845, 'exhausted': 2846, 'fa': 2847, 'faraz': 2848, 'fascist': 2849, 'fashionblogger': 2850, 'feed': 2851, 'fellow': 2852, 'feminist': 2853, 'field': 2854, 'films': 2855, 'flat': 2856, 'follows': 2857, 'forecasts': 2858, 'forest': 2859, 'forgotten': 2860, 'ft': 2861, 'fundraising': 2862, 'furniture': 2863, 'galib': 2864, 'gays': 2865, 'golden': 2866, 'graduated': 2867, 'grandma': 2868, 'grass': 2869, 'guilty': 2870, 'gunviolence': 2871, 'haircut': 2872, 'harassment': 2873, 'hashtag': 2874, 'hbd': 2875, 'heavy': 2876, 'hoes': 2877, 'holds': 2878, 'hole': 2879, 'horse': 2880, 'host': 2881, 'houston': 2882, 'hr': 2883, 'idk': 2884, 'iloveyou': 2885, 'images': 2886, 'imagination': 2887, 'improve': 2888, 'indians': 2889, 'ink': 2890, 'instafood': 2891, 'instagay': 2892, 'internalize': 2893, 'iqbal': 2894, 'irish': 2895, 'istanbul': 2896, 'italian': 2897, 'johnny': 2898, 'kejriwal': 2899, 'keys': 2900, 'kit': 2901, 'lately': 2902, 'lazy': 2903, 'leading': 2904, 'leftright': 2905, 'lessons': 2906, 'lied': 2907, 'liked': 2908, 'lineup': 2909, 'lion': 2910, 'lipstick': 2911, 'lmfao': 2912, 'lo': 2913, 'longhair': 2914, 'losangeles': 2915, 'loud': 2916, 'loveisland': 2917, 'lucy': 2918, 'mac': 2919, 'managed': 2920, 'manga': 2921, 'mans': 2922, 'marathon': 2923, 'marvel': 2924, 'master': 2925, 'masters': 2926, 'mat': 2927, 'mcdonalds': 2928, 'meme': 2929, 'mens': 2930, 'mercy': 2931, 'messages': 2932, 'miscegenation': 2933, 'miserable': 2934, 'mistakes': 2935, 'mohsin': 2936, 'momlife': 2937, 'monkey': 2938, 'mrs': 2939, 'musical': 2940, 'musictherapy': 2941, 'mylife': 2942, 'newmusic': 2943, 'nike': 2944, 'nomnom': 2945, 'nonsense': 2946, 'notes': 2947, 'nottingham': 2948, 'nzdusd': 2949, 'obamas': 2950, 'opened': 2951, 'opposition': 2952, 'oppressive': 2953, 'ordinary': 2954, 'outdoor': 2955, 'outdoors': 2956, 'outfit': 2957, 'outrageous': 2958, 'overweight': 2959, 'owner': 2960, 'pageant': 2961, 'pakistan': 2962, 'passing': 2963, 'perhaps': 2964, 'personal': 2965, 'personally': 2966, 'philippines': 2967, 'phones': 2968, 'placed': 2969, 'placement': 2970, 'planned': 2971, 'playa': 2972, 'pleasure': 2973, 'plymouth': 2974, 'points': 2975, 'polarisation': 2976, 'polls': 2977, 'popular': 2978, 'potd': 2979, 'povey': 2980, 'prayer': 2981, 'prayfoheworld': 2982, 'premier': 2983, 'premiere': 2984, 'premium': 2985, 'pretending': 2986, 'prime': 2987, 'print': 2988, 'prints': 2989, 'prom': 2990, 'prove': 2991, 'proverb': 2992, 'pull': 2993, 'putinschoice': 2994, 'puts': 2995, 'quickly': 2996, 'rains': 2997, 'raised': 2998, 'rant': 2999, 'rd': 3000, 'recognition': 3001, 'reflect': 3002, 'reflections': 3003, 'regrann': 3004, 'reinventimpossible': 3005, 'relationshipgoals': 3006, 'relaxation': 3007, 'relevant': 3008, 'remembered': 3009, 'reminds': 3010, 'remix': 3011, 'remove': 3012, 'request': 3013, 'rhetoric': 3014, 'rome': 3015, 'rule': 3016, 'runs': 3017, 'safety': 3018, 'santa': 3019, 'saturdays': 3020, 'scream': 3021, 'seeklearning': 3022, 'seeks': 3023, 'shairi': 3024, 'shameful': 3025, 'shark': 3026, 'signing': 3027, 'silent': 3028, 'sites': 3029, 'sketch': 3030, 'smoking': 3031, 'somehow': 3032, 'stadium': 3033, 'staer': 3034, 'stafresh': 3035, 'stella': 3036, 'steph': 3037, 'steps': 3038, 'stocks': 3039, 'stopracism': 3040, 'strange': 3041, 'studying': 3042, 'suicidal': 3043, 'sunrise': 3044, 'sway': 3045, 'tagsforlikes': 3046, 'tale': 3047, 'tattoosleeves': 3048, 'technology': 3049, 'theater': 3050, 'theresistance': 3051, 'throw': 3052, 'tip': 3053, 'tom': 3054, 'tonyawards': 3055, 'trails': 3056, 'traitor': 3057, 'transformation': 3058, 'transition': 3059, 'trash': 3060, 'tree': 3061, 'trial': 3062, 'tumblr': 3063, 'tyler': 3064, 'underway': 3065, 'upload': 3066, 'uselections2016': 3067, 'useless': 3068, 'values': 3069, 'vanilla': 3070, 'vehicle': 3071, 'vendor': 3072, 'venue': 3073, 'vids': 3074, 'violent': 3075, 'voted': 3076, 'votes': 3077, 'wars': 3078, 'wasi': 3079, 'weddingplanning': 3080, 'wellbeing': 3081, 'wells': 3082, 'willing': 3083, 'windows10': 3084, 'wise': 3085, 'wit': 3086, 'woo': 3087, 'worried': 3088, 'xbox': 3089, 'xd': 3090, 'yoy': 3091, '14th': 3092, '21st': 3093, '2day': 3094, '35': 3095, '360': 3096, '500': 3097, '53': 3098, 'abrahamhicks': 3099, 'academy': 3100, 'accident': 3101, 'according': 3102, 'ace': 3103, 'adam': 3104, 'adele': 3105, 'adults': 3106, 'advocate': 3107, 'alcohol': 3108, 'aloha': 3109, 'amount': 3110, 'anthems': 3111, 'appointment': 3112, 'arabic': 3113, 'archives': 3114, 'asia': 3115, 'asks': 3116, 'asshole': 3117, 'atlanta': 3118, 'atm': 3119, 'auspol': 3120, 'average': 3121, 'aw': 3122, 'bali': 3123, 'balls': 3124, 'bankai': 3125, 'beings': 3126, 'belgium': 3127, 'believes': 3128, 'beyou': 3129, 'bills': 3130, 'bitcoin': 3131, 'bite': 3132, 'blamed': 3133, 'blessing': 3134, 'blueeyes': 3135, 'boots': 3136, 'bottles': 3137, 'bottom': 3138, 'breath': 3139, 'brithday': 3140, 'broadway': 3141, 'bunny': 3142, 'cafe': 3143, 'cali': 3144, 'camera': 3145, 'canadian': 3146, 'cancel': 3147, 'cancelled': 3148, 'candidates': 3149, 'candy': 3150, 'casting': 3151, 'catching': 3152, 'cc': 3153, 'chain': 3154, 'chip': 3155, 'choosing': 3156, 'chris': 3157, 'christianity': 3158, 'citizens': 3159, 'classroom': 3160, 'clue': 3161, 'cm': 3162, 'collage': 3163, 'colour': 3164, 'conces': 3165, 'confirmation': 3166, 'consumer': 3167, 'contain': 3168, 'cook': 3169, 'corruption': 3170, 'cricket': 3171, 'criminal': 3172, 'crisis': 3173, 'crossed': 3174, 'cuties': 3175, 'dancer': 3176, 'darling': 3177, 'dates': 3178, 'deals': 3179, 'decisions': 3180, 'deeply': 3181, 'defense': 3182, 'degree': 3183, 'delhi': 3184, 'demand': 3185, 'demo': 3186, 'denim': 3187, 'destroy': 3188, 'direction': 3189, 'disturbing': 3190, 'divorce': 3191, 'dna': 3192, 'domestic': 3193, 'dragon': 3194, 'drop': 3195, 'drops': 3196, 'earlier': 3197, 'editing': 3198, 'effect': 3199, 'eggs': 3200, 'engineer': 3201, 'enjoylife': 3202, 'eurgbp': 3203, 'everytime': 3204, 'exo': 3205, 'experiences': 3206, 'explain': 3207, 'exploring': 3208, 'extremism': 3209, 'failed': 3210, 'failing': 3211, 'fairytail': 3212, 'familyfun': 3213, 'familys': 3214, 'fascinating': 3215, 'featured': 3216, 'feedback': 3217, 'females': 3218, 'finale': 3219, 'finn': 3220, 'fitnessaddict': 3221, 'flagday': 3222, 'founate': 3223, 'fred': 3224, 'fridays': 3225, 'fuckin': 3226, 'gallery': 3227, 'garage': 3228, 'gardening': 3229, 'general': 3230, 'george': 3231, 'giftideas': 3232, 'giphy': 3233, 'glasgow': 3234, 'glow': 3235, 'goodlife': 3236, 'gr8': 3237, 'grandmother': 3238, 'greed': 3239, 'grey': 3240, 'grief': 3241, 'gross': 3242, 'grown': 3243, 'guidance': 3244, 'harm': 3245, 'harry': 3246, 'herbalremedies': 3247, 'hip': 3248, 'hiphop': 3249, 'homemade': 3250, 'homophobia': 3251, 'honor': 3252, 'hood': 3253, 'hook': 3254, 'ideal': 3255, 'ideology': 3256, 'image': 3257, 'included': 3258, 'including': 3259, 'increase': 3260, 'independence': 3261, 'indigenous': 3262, 'industrial': 3263, 'infinite': 3264, 'infographic': 3265, 'ing': 3266, 'inner': 3267, 'instasize': 3268, 'insults': 3269, 'irl': 3270, 'jackson': 3271, 'january': 3272, 'jocox': 3273, 'ka': 3274, 'language': 3275, 'largest': 3276, 'lean': 3277, 'letsgo': 3278, 'lifted': 3279, 'limited': 3280, 'livelypics': 3281, 'loads': 3282, 'logo': 3283, 'lounge': 3284, 'luis': 3285, 'lyon': 3286, 'macbook': 3287, 'machine': 3288, 'mam': 3289, 'manhattan': 3290, 'marijuana': 3291, 'marine': 3292, 'maui': 3293, 'mccain': 3294, 'meanwhile': 3295, 'meat': 3296, 'mensfashion': 3297, 'mentalhealth': 3298, 'mentalillness': 3299, 'metal': 3300, 'mike': 3301, 'mil': 3302, 'min': 3303, 'mindsconsole': 3304, 'mo': 3305, 'mornings': 3306, 'moron': 3307, 'mothers': 3308, 'moves': 3309, 'msnbc': 3310, 'mud': 3311, 'muhammadali': 3312, 'mustread': 3313, 'namaste': 3314, 'nashville': 3315, 'nationalist': 3316, 'nazi': 3317, 'nazis': 3318, 'necklace': 3319, 'negativity': 3320, 'net': 3321, 'newest': 3322, 'newswithed': 3323, 'nohern': 3324, 'noise': 3325, 'noone': 3326, 'novel': 3327, 'nowhere': 3328, 'nra': 3329, 'oakland': 3330, 'officebearers': 3331, 'officer': 3332, 'older': 3333, 'ole': 3334, 'orientation': 3335, 'orlandohorror': 3336, 'orlandounited': 3337, 'otherwise': 3338, 'overcome': 3339, 'owners': 3340, 'pages': 3341, 'palette': 3342, 'panda': 3343, 'pas': 3344, 'payday': 3345, 'peek': 3346, 'pen': 3347, 'per': 3348, 'perform': 3349, 'picking': 3350, 'piss': 3351, 'pissed': 3352, 'pitch': 3353, 'plain': 3354, 'po': 3355, 'poet': 3356, 'polishgirl': 3357, 'poll': 3358, 'pos': 3359, 'possibly': 3360, 'potential': 3361, 'potter': 3362, 'pounds': 3363, 'preach': 3364, 'prep': 3365, 'preview': 3366, 'prison': 3367, 'professional': 3368, 'profiling': 3369, 'projects': 3370, 'promotion': 3371, 'prosecco': 3372, 'protection': 3373, 'pulseshooting': 3374, 'ran': 3375, 'range': 3376, 'react': 3377, 'realtalk': 3378, 'rebeccas': 3379, 'receive': 3380, 'rehearsal': 3381, 'rejected': 3382, 'repeat': 3383, 'repoer': 3384, 'resign': 3385, 'resistance': 3386, 'retro': 3387, 'reverse': 3388, 'rg': 3389, 'ridiculous': 3390, 'rolling': 3391, 'runner': 3392, 'salute': 3393, 'sam': 3394, 'sand': 3395, 'sanders': 3396, 'sandiego': 3397, 'saysomething': 3398, 'scene': 3399, 'scenes': 3400, 'scotiabank': 3401, 'screwed': 3402, 'sculpted': 3403, 'seat': 3404, 'shane': 3405, 'shed': 3406, 'shoe': 3407, 'showed': 3408, 'sides': 3409, 'sigh': 3410, 'skincare': 3411, 'slavery': 3412, 'sneak': 3413, 'soed': 3414, 'sources': 3415, 'spanish': 3416, 'speaks': 3417, 'split': 3418, 'spotify': 3419, 'steal': 3420, 'stray': 3421, 'stupidity': 3422, 'suit': 3423, 'sunglasses': 3424, 'sup': 3425, 'suppoer': 3426, 'survey': 3427, 'suspended': 3428, 'sweden': 3429, 'taylor': 3430, 'teachers': 3431, 'throwing': 3432, 'thursdays': 3433, 'tick': 3434, 'tower': 3435, 'toy': 3436, 'toys': 3437, 'travels': 3438, 'treatment': 3439, 'trek': 3440, 'trend': 3441, 'tries': 3442, 'tweeted': 3443, 'tweeting': 3444, 'ukrunchat': 3445, 'un': 3446, 'unforgettable': 3447, 'unique': 3448, 'upside': 3449, 'urdu': 3450, 'usdjpy': 3451, 'uses': 3452, 'usual': 3453, 'vijay': 3454, 'vile': 3455, 'vip': 3456, 'voter': 3457, 'vr': 3458, 'vscogood': 3459, 'walked': 3460, 'warcraft': 3461, 'wasted': 3462, 'weed': 3463, 'where': 3464, 'whether': 3465, 'whisky': 3466, 'whoever': 3467, 'witness': 3468, 'womens': 3469, 'worlds': 3470, 'wwdc': 3471, 'wwdc2016': 3472, 'xboxe3': 3473, 'yea': 3474, 'zelda': 3475, '01': 3476, '02': 3477, '1000': 3478, '1306': 3479, '1600': 3480, '1900': 3481, '2012': 3482, '2015': 3483, '247': 3484, '29': 3485, '3': 3486, '4th': 3487, '5': 3488, '5th': 3489, '60': 3490, '6th': 3491, '8th': 3492, '95': 3493, 'absolute': 3494, 'acceptable': 3495, 'accessories': 3496, 'accounts': 3497, 'actorslife': 3498, 'addition': 3499, 'admit': 3500, 'affect': 3501, 'aim': 3502, 'alaska': 3503, 'albea': 3504, 'almighty': 3505, 'although': 3506, 'amateur': 3507, 'ambassador': 3508, 'announced': 3509, 'antonyelchin': 3510, 'apply': 3511, 'argentina': 3512, 'asians': 3513, 'assume': 3514, 'attacked': 3515, 'attractive': 3516, 'audition': 3517, 'augusta': 3518, 'aunt': 3519, 'aus': 3520, 'b4': 3521, 'baba': 3522, 'backed': 3523, 'backyard': 3524, 'balloons': 3525, 'bastards': 3526, 'belief': 3527, 'bentley': 3528, 'beside': 3529, 'bestsellers': 3530, 'beware': 3531, 'bffs': 3532, 'bigots': 3533, 'bihdaysway': 3534, 'billion': 3535, 'billy': 3536, 'birmingham': 3537, 'bk': 3538, 'blicqer': 3539, 'bodrum': 3540, 'bomb': 3541, 'bonus': 3542, 'bowling': 3543, 'brazil': 3544, 'bread': 3545, 'breakup': 3546, 'brighten': 3547, 'bringiton': 3548, 'bron': 3549, 'brooklyn': 3550, 'browning': 3551, 'bruh': 3552, 'brussels': 3553, 'bubble': 3554, 'bucket': 3555, 'bummer': 3556, 'burger': 3557, 'burning': 3558, 'cage': 3559, 'cap': 3560, 'cape': 3561, 'captain': 3562, 'caribbean': 3563, 'caring': 3564, 'carnival': 3565, 'carry': 3566, 'carrying': 3567, 'celebrated': 3568, 'cereal': 3569, 'chair': 3570, 'champions': 3571, 'cheat': 3572, 'cheeky': 3573, 'cheering': 3574, 'cherry': 3575, 'chile': 3576, 'chinese': 3577, 'chips': 3578, 'circle': 3579, 'citation': 3580, 'civil': 3581, 'clarity': 3582, 'classy': 3583, 'cleaning': 3584, 'clown': 3585, 'coaching': 3586, 'coast': 3587, 'coffe': 3588, 'colonialism': 3589, 'com': 3590, 'conjuring': 3591, 'connected': 3592, 'considering': 3593, 'contact': 3594, 'continuous': 3595, 'corner': 3596, 'correct': 3597, 'coupon': 3598, 'cracked': 3599, 'craft': 3600, 'creates': 3601, 'criticism': 3602, 'crooked': 3603, 'cruise': 3604, 'cuddle': 3605, 'cuteness': 3606, 'daddysgirl': 3607, 'dadsavailable': 3608, 'dallas': 3609, 'danger': 3610, 'dare': 3611, 'datenight': 3612, 'dawn': 3613, 'dayoff': 3614, 'deaths': 3615, 'decor': 3616, 'dedicated': 3617, 'degrees': 3618, 'democratic': 3619, 'dems': 3620, 'designed': 3621, 'desse': 3622, 'destination': 3623, 'destruction': 3624, 'determination': 3625, 'detox': 3626, 'dev': 3627, 'diego': 3628, 'differently': 3629, 'discrimination': 3630, 'disgrace': 3631, 'disgraceful': 3632, 'dive': 3633, 'divide': 3634, 'doggy': 3635, 'dogsoftwitter': 3636, 'donkey': 3637, 'doors': 3638, 'drake': 3639, 'dreamcatcher': 3640, 'ducks': 3641, 'dudes': 3642, 'duty': 3643, 'eac': 3644, 'earn': 3645, 'earned': 3646, 'ebay': 3647, 'ecstatic': 3648, 'effective': 3649, 'eh': 3650, 'empathy': 3651, 'emtec': 3652, 'encouragement': 3653, 'enemies': 3654, 'enjoyed': 3655, 'et': 3656, 'evenings': 3657, 'evidence': 3658, 'exclusive': 3659, 'excuses': 3660, 'exhibition': 3661, 'explore': 3662, 'extra': 3663, 'faced': 3664, 'fails': 3665, 'fakenews': 3666, 'falls': 3667, 'fancy': 3668, 'fargo': 3669, 'farmers': 3670, 'fate': 3671, 'fever': 3672, 'ffs': 3673, 'fill': 3674, 'filming': 3675, 'financial': 3676, 'fingers': 3677, 'finishing': 3678, 'fitbit': 3679, 'flies': 3680, 'floor': 3681, 'folk': 3682, 'followback': 3683, 'forced': 3684, 'forgiveness': 3685, 'fotokuapp': 3686, 'fri': 3687, 'frog': 3688, 'frustrating': 3689, 'fuel': 3690, 'gamers': 3691, 'gang': 3692, 'gangs': 3693, 'gayboy': 3694, 'gearing': 3695, 'gemini': 3696, 'genuinely': 3697, 'ghost': 3698, 'girlpower': 3699, 'girly': 3700, 'giveaway': 3701, 'glamping': 3702, 'glastonbury': 3703, 'goat': 3704, 'goodluck': 3705, 'goodread': 3706, 'goofy': 3707, 'gopro': 3708, 'grab': 3709, 'graduating': 3710, 'granted': 3711, 'grave': 3712, 'greatday': 3713, 'greatful': 3714, 'greetings': 3715, 'gs': 3716, 'guide': 3717, 'guncontrol': 3718, 'guncontrolnow': 3719, 'hall': 3720, 'hd': 3721, 'heaache': 3722, 'heabreak': 3723, 'healthandfitness': 3724, 'helps': 3725, 'heroes': 3726, 'higher': 3727, 'hoe': 3728, 'homeopathic': 3729, 'honored': 3730, 'horses': 3731, 'hoshi': 3732, 'hs': 3733, 'huh': 3734, 'hulk': 3735, 'humanrights': 3736, 'hurry': 3737, 'hustle': 3738, 'illegal': 3739, 'imwithher': 3740, 'inc': 3741, 'incident': 3742, 'includes': 3743, 'increased': 3744, 'indian': 3745, 'indonesia': 3746, 'information': 3747, 'inn': 3748, 'insights': 3749, 'instahappy': 3750, 'interracial': 3751, 'intolerance': 3752, 'introduction': 3753, 'invest': 3754, 'invite': 3755, 'invited': 3756, 'ios': 3757, 'iron': 3758, 'jam': 3759, 'jamaica': 3760, 'jeff': 3761, 'jeffsessions': 3762, 'jew': 3763, 'jewellery': 3764, 'jewish': 3765, 'jihad': 3766, 'jimmy': 3767, 'johnnydepp': 3768, 'joyful': 3769, 'judges': 3770, 'justify': 3771, 'justin': 3772, 'justsaying': 3773, 'kindle': 3774, 'kings': 3775, 'knitting': 3776, 'knocked': 3777, 'ku': 3778, 'labour': 3779, 'landed': 3780, 'landscape': 3781, 'latina': 3782, 'laughs': 3783, 'launches': 3784, 'leak': 3785, 'leather': 3786, 'led': 3787, 'leeds': 3788, 'leg': 3789, 'legal': 3790, 'lemans24': 3791, 'letter': 3792, 'levels': 3793, 'lightroom': 3794, 'lions': 3795, 'listened': 3796, 'lists': 3797, 'livelife': 3798, 'lock': 3799, 'loneliness': 3800, 'lookin': 3801, 'loop': 3802, 'loose': 3803, 'loosing': 3804, 'louis': 3805, 'lows': 3806, 'lumpy': 3807, 'lunchtime': 3808, 'majesty': 3809, 'makeuptransformation': 3810, 'management': 3811, 'mantra': 3812, 'mask': 3813, 'matt': 3814, 'mc': 3815, 'meets': 3816, 'mentioned': 3817, 'mickey': 3818, 'mindful': 3819, 'minions': 3820, 'mission': 3821, 'mistake': 3822, 'modelling': 3823, 'modern': 3824, 'momma': 3825, 'mon': 3826, 'mondays': 3827, 'monthly': 3828, 'motorcycle': 3829, 'motto': 3830, 'mountain': 3831, 'movingon': 3832, 'mug': 3833, 'natalie': 3834, 'netherlands': 3835, 'neverforget': 3836, 'newlook': 3837, 'newproject': 3838, 'nick': 3839, 'nightmares': 3840, 'ninja': 3841, 'non': 3842, 'nowlinkup': 3843, 'nurses': 3844, 'nut': 3845, 'october': 3846, 'odd': 3847, 'offered': 3848, 'offers': 3849, 'oj': 3850, 'olathe': 3851, 'olds': 3852, 'opera': 3853, 'oprah': 3854, 'oven': 3855, 'palestinian': 3856, 'passionate': 3857, 'pencil': 3858, 'performer': 3859, 'phase': 3860, 'pie': 3861, 'pixar': 3862, 'plant': 3863, 'plate': 3864, 'pll': 3865, 'policies': 3866, 'pops': 3867, 'pout': 3868, 'pre': 3869, 'pregnant': 3870, 'pres': 3871, 'presidents': 3872, 'pretend': 3873, 'prices': 3874, 'private': 3875, 'promises': 3876, 'promoting': 3877, 'protest': 3878, 'proved': 3879, 'proven': 3880, 'proves': 3881, 'punjabis': 3882, 'pup': 3883, 'push': 3884, 'putin': 3885, 'qotd': 3886, 'quack': 3887, 'quantities': 3888, 'queenat90': 3889, 'quit': 3890, 'racial': 3891, 'rad': 3892, 'raghuramrajan': 3893, 'rap': 3894, 'rapist': 3895, 'realestate': 3896, 'recorded': 3897, 'refs': 3898, 'reggae': 3899, 'removed': 3900, 'represents': 3901, 'respected': 3902, 'respond': 3903, 'restinpeace': 3904, 'revealed': 3905, 'rewrite': 3906, 'rings': 3907, 'rob': 3908, 'roles': 3909, 'rooms': 3910, 'routine': 3911, 'royal': 3912, 'rss': 3913, 'ruined': 3914, 'sabbath': 3915, 'sake': 3916, 'saturdaymorning': 3917, 'saturdaynight': 3918, 'sauce': 3919, 'script': 3920, 'seaside': 3921, 'seattle': 3922, 'sees': 3923, 'selected': 3924, 'selena': 3925, 'selfietime': 3926, 'semester': 3927, 'semitic': 3928, 'sentence': 3929, 'sept': 3930, 'shades': 3931, 'shape': 3932, 'shopalyssas': 3933, 'shopthemint': 3934, 'shots': 3935, 'shuaibu': 3936, 'skate': 3937, 'slice': 3938, 'smilepowerday': 3939, 'smith': 3940, 'smoothie': 3941, 'solid': 3942, 'sooo': 3943, 'soooo': 3944, 'spark': 3945, 'spoilers': 3946, 'spoke': 3947, 'square': 3948, 'standard': 3949, 'stayed': 3950, 'stays': 3951, 'staytuned': 3952, 'strangers': 3953, 'stressfree': 3954, 'strikes': 3955, 'struggle': 3956, 'stylish': 3957, 'suddenly': 3958, 'suffer': 3959, 'suppos': 3960, 'surely': 3961, 'swift': 3962, 'syfy': 3963, 'tall': 3964, 'tanks': 3965, 'tattoos': 3966, 'teaching': 3967, 'terribly': 3968, 'testing': 3969, 'tests': 3970, 'thomas': 3971, 'thrilled': 3972, 'throwbackthursday': 3973, 'thrown': 3974, 'thug': 3975, 'tiger': 3976, 'tlc': 3977, 'topic': 3978, 'topless': 3979, 'touches': 3980, 'tournament': 3981, 'traditions': 3982, 'traffic': 3983, 'trends': 3984, 'tribute': 3985, 'troubles': 3986, 'truestory': 3987, 'tt': 3988, 'tube': 3989, 'tuesdaymotivation': 3990, 'tule': 3991, 'twins': 3992, 'uae': 3993, 'ultimate': 3994, 'unable': 3995, 'unfounate': 3996, 'unknown': 3997, 'unreal': 3998, 'upbeat': 3999, 'updated': 4000, 'user': 4001, 'vancouver': 4002, 'venice': 4003, 'vibe': 4004, 'videogames': 4005, 'vlog': 4006, 'voiceover': 4007, 'walker': 4008, 'warning': 4009, 'warren': 4010, 'wash': 4011, 'wealth': 4012, 'wealthy': 4013, 'weapon': 4014, 'western': 4015, 'whitepeople': 4016, 'whitesupremacy': 4017, 'whose': 4018, 'wi': 4019, 'wildlife': 4020, 'wimbledon': 4021, 'wing': 4022, 'wings': 4023, 'winners': 4024, 'wooden': 4025, 'workplace': 4026, 'worrying': 4027, 'wrap': 4028, 'wth': 4029, 'wwe': 4030, 'xboxone': 4031, 'yogi': 4032, 'younger': 4033, 'yu': 4034, 'zoo': 4035, '05': 4036, '18th': 4037, '19th': 4038, '2014': 4039, '2pac': 4040, '30th': 4041, '35th': 4042, '45': 4043, '50th': 4044, '72': 4045, '79': 4046, '80': 4047, '911': 4048, 'abandoned': 4049, 'acceptance': 4050, 'ache': 4051, 'actors': 4052, 'addiction': 4053, 'adidas': 4054, 'admin': 4055, 'adrenaline': 4056, 'ads': 4057, 'advantage': 4058, 'ahhhh': 4059, 'aka': 4060, 'aliens': 4061, 'alps': 4062, 'alright': 4063, 'alumni': 4064, 'amendment': 4065, 'andreas': 4066, 'anf': 4067, 'ankara': 4068, 'annoying': 4069, 'answered': 4070, 'answers': 4071, 'anyways': 4072, 'apa': 4073, 'apaheid': 4074, 'archangels': 4075, 'architecture': 4076, 'arianagrandedrawing': 4077, 'arriving': 4078, 'arsenal': 4079, 'asleep': 4080, 'assholes': 4081, 'attraction': 4082, 'audience': 4083, 'aug': 4084, 'austin': 4085, 'aware': 4086, 'awesomeness': 4087, 'awhile': 4088, 'awww': 4089, 'babes': 4090, 'bachelorette': 4091, 'backwards': 4092, 'bacon': 4093, 'badger': 4094, 'baking': 4095, 'baku': 4096, 'baltimore': 4097, 'bangkok': 4098, 'banned': 4099, 'barn': 4100, 'bashful': 4101, 'bastard': 4102, 'beachbody': 4103, 'beachlife': 4104, 'bedroom': 4105, 'bee': 4106, 'beers': 4107, 'behavior': 4108, 'bel': 4109, 'believing': 4110, 'beloved': 4111, 'ben': 4112, 'benidorm': 4113, 'bestoftheday': 4114, 'bittersweet': 4115, 'blanket': 4116, 'blatant': 4117, 'blow': 4118, 'blowjob': 4119, 'bn': 4120, 'boating': 4121, 'bodies': 4122, 'bombs': 4123, 'bones': 4124, 'boob': 4125, 'brains': 4126, 'branding': 4127, 'brands': 4128, 'breathe': 4129, 'breeze': 4130, 'brian': 4131, 'bridal': 4132, 'browser': 4133, 'brutality': 4134, 'budget': 4135, 'burgers': 4136, 'butterflies': 4137, 'butterfly': 4138, 'button': 4139, 'camden': 4140, 'cameron': 4141, 'campus': 4142, 'cannon': 4143, 'capitalstb': 4144, 'cases': 4145, 'cash': 4146, 'causes': 4147, 'causing': 4148, 'cdnpoli': 4149, 'celebrity': 4150, 'century': 4151, 'ceo': 4152, 'ceremony': 4153, 'champagne': 4154, 'championship': 4155, 'chaos': 4156, 'charles': 4157, 'charming': 4158, 'checking': 4159, 'cheerful': 4160, 'chef': 4161, 'chelsea': 4162, 'chicks': 4163, 'chief': 4164, 'chilled': 4165, 'chose': 4166, 'clip': 4167, 'clueless': 4168, 'cochair': 4169, 'cocktail': 4170, 'colourful': 4171, 'combo': 4172, 'comedians': 4173, 'comfoable': 4174, 'comfy': 4175, 'commenting': 4176, 'commercials': 4177, 'complaint': 4178, 'conclusion': 4179, 'condition': 4180, 'confirm': 4181, 'conflict': 4182, 'connection': 4183, 'constant': 4184, 'constantly': 4185, 'constitution': 4186, 'construction': 4187, 'contract': 4188, 'convention': 4189, 'conversations': 4190, 'convinced': 4191, 'coolestlifehack': 4192, 'cooper': 4193, 'corporate': 4194, 'cos': 4195, 'council': 4196, 'coverage': 4197, 'covering': 4198, 'cows': 4199, 'coybig': 4200, 'cpi': 4201, 'creations': 4202, 'criminals': 4203, 'crown': 4204, 'crush': 4205, 'cum': 4206, 'custom': 4207, 'customerservice': 4208, 'cyprus': 4209, 'dan': 4210, 'dancers': 4211, 'danny': 4212, 'dating': 4213, 'debut': 4214, 'del': 4215, 'delta': 4216, 'dem': 4217, 'democrat': 4218, 'depament': 4219, 'depth': 4220, 'dese': 4221, 'digging': 4222, 'directly': 4223, 'disabled': 4224, 'disappointment': 4225, 'discover': 4226, 'discovered': 4227, 'display': 4228, 'disrespect': 4229, 'dissapointed': 4230, 'division': 4231, 'dnaquotes': 4232, 'doctor': 4233, 'doin': 4234, 'dollar': 4235, 'dreaming': 4236, 'dressed': 4237, 'drove': 4238, 'drugs': 4239, 'dry': 4240, 'duck': 4241, 'eastcoast': 4242, 'economy': 4243, 'ed': 4244, 'edits': 4245, 'educate': 4246, 'eight': 4247, 'elegant': 4248, 'elephants': 4249, 'ella': 4250, 'elses': 4251, 'emea': 4252, 'employment': 4253, 'endorsed': 4254, 'engineering': 4255, 'engrus': 4256, 'epcot': 4257, 'equal': 4258, 'error': 4259, 'expats': 4260, 'experienced': 4261, 'explains': 4262, 'extremists': 4263, 'eyed': 4264, 'factor': 4265, 'failure': 4266, 'fang': 4267, 'fashionillustration': 4268, 'fatty': 4269, 'fault': 4270, 'favorites': 4271, 'fbi': 4272, 'feat': 4273, 'feeding': 4274, 'feelthebern': 4275, 'fifa17': 4276, 'figured': 4277, 'finest': 4278, 'fingerscrossed': 4279, 'fitmom': 4280, 'fits': 4281, 'fixed': 4282, 'flash': 4283, 'flip': 4284, 'floating': 4285, 'floral': 4286, 'florence': 4287, 'floridashooting': 4288, 'flourish': 4289, 'ford': 4290, 'fouh': 4291, 'freemilo': 4292, 'funding': 4293, 'gandhi': 4294, 'gas': 4295, 'gate': 4296, 'gators': 4297, 'gaypride': 4298, 'generations': 4299, 'genius': 4300, 'gg': 4301, 'ghana': 4302, 'ghostbusters': 4303, 'giggles': 4304, 'glam': 4305, 'glastofest': 4306, 'glorious': 4307, 'gm': 4308, 'goodies': 4309, 'goodtime': 4310, 'gordie': 4311, 'gotten': 4312, 'grade': 4313, 'grads': 4314, 'grandfather': 4315, 'gray': 4316, 'greens': 4317, 'grill': 4318, 'gsw': 4319, 'gypsy': 4320, 'hack': 4321, 'hacking': 4322, 'handle': 4323, 'hangout': 4324, 'harder': 4325, 'harmony': 4326, 'harvest': 4327, 'hated': 4328, 'hates': 4329, 'headlines': 4330, 'healthyeating': 4331, 'healthyliving': 4332, 'helped': 4333, 'helpful': 4334, 'herbalife': 4335, 'highlight': 4336, 'highlights': 4337, 'hippie': 4338, 'hometown': 4339, 'honey': 4340, 'hong': 4341, 'hongkong': 4342, 'hopes': 4343, 'hottweets': 4344, 'however': 4345, 'huing': 4346, 'hurryup': 4347, 'hyped': 4348, 'ibiza2016': 4349, 'iconic': 4350, 'identity': 4351, 'ie': 4352, 'ignores': 4353, 'ignoring': 4354, 'immature': 4355, 'imperfections': 4356, 'impoance': 4357, 'impressed': 4358, 'impressive': 4359, 'inauguration': 4360, 'indie': 4361, 'indieauthor': 4362, 'inequality': 4363, 'injustice': 4364, 'instaaoftheday': 4365, 'insure': 4366, 'integral': 4367, 'investment': 4368, 'invited2jive': 4369, 'ion': 4370, 'ipad': 4371, 'israeli': 4372, 'items': 4373, 'jacksons': 4374, 'jacksonville': 4375, 'jazz': 4376, 'jeeplife': 4377, 'jerry': 4378, 'jessica': 4379, 'jivemap': 4380, 'joining': 4381, 'joking': 4382, 'journalism': 4383, 'juan': 4384, 'juice': 4385, 'jumping': 4386, 'jus': 4387, 'kajal': 4388, 'kanye': 4389, 'karaoke': 4390, 'kent': 4391, 'kentucky': 4392, 'kept': 4393, 'kg': 4394, 'kh': 4395, 'kharkiv': 4396, 'kharkivgram': 4397, 'kidding': 4398, 'kim': 4399, 'kits': 4400, 'klan': 4401, 'km': 4402, 'kscrashcorrectors': 4403, 'lab': 4404, 'lads': 4405, 'ladyboy': 4406, 'lame': 4407, 'lang': 4408, 'laundry': 4409, 'lay': 4410, 'laziness': 4411, 'lb': 4412, 'leaked': 4413, 'legit': 4414, 'letsdothis': 4415, 'liam': 4416, 'liars': 4417, 'lifegoals': 4418, 'lifehacks': 4419, 'lips': 4420, 'lived': 4421, 'lokiday': 4422, 'longweekend': 4423, 'losers': 4424, 'loyal': 4425, 'luke': 4426, 'lure': 4427, 'lyft': 4428, 'madness': 4429, 'magazine': 4430, 'mallorca': 4431, 'mar': 4432, 'march': 4433, 'maria': 4434, 'mars': 4435, 'mateen': 4436, 'megan': 4437, 'messi': 4438, 'mfs': 4439, 'minority': 4440, 'missyou': 4441, 'mix': 4442, 'mm': 4443, 'mma': 4444, 'modeling': 4445, 'monsoon': 4446, 'mount': 4447, 'mouse': 4448, 'movement': 4449, 'mps': 4450, 'msg': 4451, 'mt': 4452, 'mumbai': 4453, 'myhappycapture': 4454, 'nah': 4455, 'nailed': 4456, 'named': 4457, 'narrative': 4458, 'nationalbestfriendday': 4459, 'nationals': 4460, 'native': 4461, 'naturally': 4462, 'nda': 4463, 'neighborhood': 4464, 'neighbors': 4465, 'neither': 4466, 'newjob': 4467, 'nicola': 4468, 'nicole': 4469, 'nigger': 4470, 'nite': 4471, 'nope': 4472, 'nuascannan': 4473, 'numb': 4474, 'nuts': 4475, 'nz': 4476, 'obvious': 4477, 'ojmadeinamerica': 4478, 'olives': 4479, 'onelove': 4480, 'oomf': 4481, 'oops': 4482, 'opposite': 4483, 'optimism': 4484, 'organised': 4485, 'organization': 4486, 'originally': 4487, 'orlandostrong': 4488, 'osaka': 4489, 'otaku': 4490, 'ouch': 4491, 'outta': 4492, 'ove': 4493, 'overall': 4494, 'overwhelmed': 4495, 'owls': 4496, 'oxford': 4497, 'package': 4498, 'paies': 4499, 'parent': 4500, 'patience': 4501, 'payintheusa': 4502, 'pb': 4503, 'pearl': 4504, 'peh': 4505, 'perfectly': 4506, 'personality': 4507, 'perspective': 4508, 'petty': 4509, 'phelps': 4510, 'philly': 4511, 'picnic': 4512, 'pigs': 4513, 'pinoy': 4514, 'pit': 4515, 'pittsburgh': 4516, 'pocket': 4517, 'pokemon': 4518, 'politician': 4519, 'poman': 4520, 'postive': 4521, 'potato': 4522, 'prayingfororlando': 4523, 'prefer': 4524, 'prejudice': 4525, 'prepped': 4526, 'prevents': 4527, 'primary': 4528, 'principle': 4529, 'privilege': 4530, 'productivity': 4531, 'professionals': 4532, 'profit': 4533, 'programme': 4534, 'propaganda': 4535, 'properly': 4536, 'protecting': 4537, 'protein': 4538, 'psychology': 4539, 'puff': 4540, 'purple': 4541, 'pushing': 4542, 'quotestags': 4543, 'quotestagsapp': 4544, 'ra': 4545, 'races': 4546, 'racists': 4547, 'rational': 4548, 'rbc': 4549, 'reagan': 4550, 'recently': 4551, 'recognize': 4552, 'recommend': 4553, 'recovered': 4554, 'refuse': 4555, 'regarding': 4556, 'regardless': 4557, 'region': 4558, 'relatable': 4559, 'releases': 4560, 'religious': 4561, 'remarks': 4562, 'replace': 4563, 'replies': 4564, 'represent': 4565, 'restore': 4566, 'returned': 4567, 'retweeted': 4568, 'reunion': 4569, 'rider': 4570, 'ridiculously': 4571, 'riding': 4572, 'rnc': 4573, 'romania': 4574, 'root': 4575, 'ross': 4576, 'rough': 4577, 'royalascot': 4578, 'ruin': 4579, 'ryan': 4580, 'saddened': 4581, 'saddest': 4582, 'samsunggalaxys2': 4583, 'sanfrancisco': 4584, 'sarcasm': 4585, 'sassy': 4586, 'saterday': 4587, 'scifi': 4588, 'scores': 4589, 'scott': 4590, 'scratch': 4591, 'scumbag': 4592, 'se': 4593, 'seasons': 4594, 'seemed': 4595, 'selca': 4596, 'selfharm': 4597, 'selfporait': 4598, 'semi': 4599, 'seniors': 4600, 'shared': 4601, 'sharks': 4602, 'sharpens': 4603, 'shining': 4604, 'shis': 4605, 'shofilm': 4606, 'shooters': 4607, 'showtime': 4608, 'shrm16': 4609, 'siblings': 4610, 'sic': 4611, 'sitges': 4612, 'skinny': 4613, 'slammed': 4614, 'smallthings': 4615, 'smaphone': 4616, 'smash': 4617, 'smells': 4618, 'snatched': 4619, 'sneezy': 4620, 'soap': 4621, 'sober': 4622, 'sociopath': 4623, 'socks': 4624, 'sofa': 4625, 'soft': 4626, 'solo': 4627, 'solutions': 4628, 'sooooo': 4629, 'sorrow': 4630, 'souls': 4631, 'southbeach': 4632, 'spaces': 4633, 'speechless': 4634, 'spirituality': 4635, 'stages': 4636, 'stands': 4637, 'starring': 4638, 'starwars': 4639, 'statements': 4640, 'staups': 4641, 'steve': 4642, 'stl': 4643, 'stock': 4644, 'stood': 4645, 'str': 4646, 'stranger': 4647, 'strawberry': 4648, 'stroller': 4649, 'stumble': 4650, 'subject': 4651, 'subtitles': 4652, 'sucked': 4653, 'suits': 4654, 'sunbathing': 4655, 'sunsets': 4656, 'suppoive': 4657, 'surgery': 4658, 'surrounded': 4659, 'sweat': 4660, 'sweetie': 4661, 'swiftly': 4662, 'taco': 4663, 'talked': 4664, 'tarot': 4665, 'tax': 4666, 'teamwork': 4667, 'techno': 4668, 'teddy': 4669, 'tennessee': 4670, 'tennis': 4671, 'terrific': 4672, 'tha': 4673, 'thai': 4674, 'thalaivaa': 4675, 'thebest': 4676, 'thevoice': 4677, 'thi': 4678, 'thinkbigsundaywithmarsha': 4679, 'thousand': 4680, 'tight': 4681, 'tolerance': 4682, 'tomato': 4683, 'torn': 4684, 'toxic': 4685, 'tradition': 4686, 'tragedies': 4687, 'trainhard': 4688, 'transformed': 4689, 'traveler': 4690, 'triggered': 4691, 'tropical': 4692, 'trusted': 4693, 'truths': 4694, 'tunes': 4695, 'types': 4696, 'ukraineblog': 4697, 'um': 4698, 'unchanged': 4699, 'unite': 4700, 'unity': 4701, 'universe': 4702, 'unlimited': 4703, 'unpresidented': 4704, 'unwanted': 4705, 'ups': 4706, 'utterly': 4707, 'va': 4708, 'vacations': 4709, 'verse': 4710, 'vibrant': 4711, 'victoria': 4712, 'viral': 4713, 'virgin': 4714, 'virginia': 4715, 'vividsydney': 4716, 'voices': 4717, 'volatile': 4718, 'wakeuppeopl3': 4719, 'walls': 4720, 'wannabe': 4721, 'wanting': 4722, 'warcraftmovie': 4723, 'warrior': 4724, 'washington': 4725, 'watermelon': 4726, 'weapons': 4727, 'webcammodel': 4728, 'weekly': 4729, 'wenger': 4730, 'wheel': 4731, 'whitegenocide': 4732, 'whiteprivilege': 4733, 'whoa': 4734, 'whores': 4735, 'willow': 4736, 'witch': 4737, 'wohy': 4738, 'xmas': 4739, 'ye': 4740, 'yen': 4741, 'yesterdays': 4742, 'yyc': 4743, 'zara': 4744, 'zealand': 4745, '03': 4746, '04': 4747, '06': 4748, '0806': 4749, '1': 4750, '10th': 4751, '13th': 4752, '1500': 4753, '15th': 4754, '17th': 4755, '1q': 4756, '2000': 4757, '2013': 4758, '25th': 4759, '26th': 4760, '2k': 4761, '2years': 4762, '34': 4763, '37': 4764, '4': 4765, '42': 4766, '43': 4767, '48': 4768, '4wd': 4769, '600': 4770, '63': 4771, '64': 4772, '642': 4773, '6pcs': 4774, '75': 4775, '85': 4776, '899': 4777, '90th': 4778, 'a': 4779, 'aampe': 4780, 'abba': 4781, 'abc': 4782, 'abundance': 4783, 'abusive': 4784, 'accent': 4785, 'accused': 4786, 'achievements': 4787, 'acknowledge': 4788, 'acted': 4789, 'activists': 4790, 'adding': 4791, 'adds': 4792, 'advance': 4793, 'affair': 4794, 'afghan': 4795, 'aftr': 4796, 'airlines': 4797, 'al': 4798, 'alabama': 4799, 'alarms': 4800, 'allen': 4801, 'allies': 4802, 'alligators': 4803, 'allows': 4804, 'allsmiles': 4805, 'alternative': 4806, 'amazed': 4807, 'amo': 4808, 'amour': 4809, 'amreading': 4810, 'ana': 4811, 'anc': 4812, 'ancient': 4813, 'andor': 4814, 'anniversaries': 4815, 'antiaging': 4816, 'antiblackness': 4817, 'ape': 4818, 'apologies': 4819, 'appearing': 4820, 'appears': 4821, 'appreciated': 4822, 'appropriate': 4823, 'approx': 4824, 'arabs': 4825, 'archery': 4826, 'areas': 4827, 'arguing': 4828, 'arrival': 4829, 'aruba': 4830, 'asap': 4831, 'ascot': 4832, 'aside': 4833, 'asses': 4834, 'assessment': 4835, 'athlete': 4836, 'athletes': 4837, 'auction': 4838, 'australian': 4839, 'avocado': 4840, 'awareness': 4841, 'awasome': 4842, 'awkward': 4843, 'az': 4844, 'backlash': 4845, 'badge': 4846, 'badminton': 4847, 'bailey': 4848, 'bake': 4849, 'baker': 4850, 'balanced': 4851, 'balloon': 4852, 'bambi': 4853, 'bands': 4854, 'bang': 4855, 'banks': 4856, 'barry': 4857, 'bash': 4858, 'basket': 4859, 'bathroom': 4860, 'bbh': 4861, 'bdayspl': 4862, 'bean': 4863, 'bearlovestravel': 4864, 'beast': 4865, 'beaten': 4866, 'beauties': 4867, 'beginner': 4868, 'bei': 4869, 'belfast': 4870, 'believed': 4871, 'belong': 4872, 'bi': 4873, 'bible': 4874, 'biden': 4875, 'bigly': 4876, 'bihay': 4877, 'bihdayboy': 4878, 'bihdaykazuki': 4879, 'biher': 4880, 'biking': 4881, 'bingewatching': 4882, 'blackpool': 4883, 'blacktwitter': 4884, 'blaming': 4885, 'blissful': 4886, 'blocks': 4887, 'blooms': 4888, 'blunt': 4889, 'bnz': 4890, 'bo3': 4891, 'boj': 4892, 'bold': 4893, 'booking': 4894, 'bookstagram': 4895, 'boot': 4896, 'booty': 4897, 'bora': 4898, 'bordercollie': 4899, 'bother': 4900, 'bounce': 4901, 'bowl': 4902, 'bracelets': 4903, 'brainwashed': 4904, 'breathing': 4905, 'bremain': 4906, 'brentwood': 4907, 'brick': 4908, 'bridesmaid': 4909, 'bridetobe': 4910, 'brief': 4911, 'bristol': 4912, 'brokenhea': 4913, 'brokenquotes': 4914, 'bros': 4915, 'brows': 4916, 'bubbly': 4917, 'bulgaria': 4918, 'bullies': 4919, 'bully': 4920, 'buried': 4921, 'businesses': 4922, 'buttons': 4923, 'bw': 4924, 'caer': 4925, 'calico': 4926, 'camps': 4927, 'canadiangp': 4928, 'cannabis': 4929, 'caoons': 4930, 'capable': 4931, 'captured': 4932, 'careful': 4933, 'carol': 4934, 'carving': 4935, 'casino': 4936, 'casual': 4937, 'catlover': 4938, 'cbs': 4939, 'celebrities': 4940, 'cell': 4941, 'challenged': 4942, 'channels': 4943, 'characters': 4944, 'charleston': 4945, 'charlotte': 4946, 'cheating': 4947, 'checkout': 4948, 'chennai': 4949, 'cherish': 4950, 'cheryl': 4951, 'chickens': 4952, 'childish': 4953, 'childs': 4954, 'chillin': 4955, 'chills': 4956, 'chronicpain': 4957, 'cincinnati': 4958, 'circumstances': 4959, 'cities': 4960, 'clannad': 4961, 'clap': 4962, 'cleaneating': 4963, 'cleared': 4964, 'closest': 4965, 'closet': 4966, 'cloudchaser': 4967, 'coal': 4968, 'cologne': 4969, 'colorado': 4970, 'comeonengland': 4971, 'compare': 4972, 'compassion': 4973, 'compilation': 4974, 'complaining': 4975, 'concern': 4976, 'conditioning': 4977, 'conduct': 4978, 'conman': 4979, 'connecticut': 4980, 'considered': 4981, 'constitutional': 4982, 'contagious': 4983, 'continued': 4984, 'conversion': 4985, 'cop': 4986, 'cope': 4987, 'cops': 4988, 'covers': 4989, 'cowboy': 4990, 'craftbeer': 4991, 'crash': 4992, 'craving': 4993, 'creator': 4994, 'credibility': 4995, 'crib': 4996, 'crochet': 4997, 'crystals': 4998, 'cupcakes': 4999, 'curb': 5000, 'cure': 5001, 'curly': 5002, 'cycle': 5003, 'czech': 5004, 'daddies': 5005, 'daisy': 5006, 'dances': 5007, 'daniel': 5008, 'dave': 5009, 'davis': 5010, 'daze': 5011, 'dealing': 5012, 'dec': 5013, 'deck': 5014, 'declared': 5015, 'decorative': 5016, 'decors': 5017, 'defeat': 5018, 'defeated': 5019, 'defend': 5020, 'define': 5021, 'delegates': 5022, 'deleted': 5023, 'deliver': 5024, 'delusional': 5025, 'dementeddonny': 5026, 'democraticpay': 5027, 'democrats': 5028, 'den': 5029, 'denounce': 5030, 'dentist': 5031, 'deplorable': 5032, 'desk': 5033, 'despise': 5034, 'destroying': 5035, 'detroit': 5036, 'developer': 5037, 'devil': 5038, 'devops': 5039, 'dicks': 5040, 'dictionary': 5041, 'digital': 5042, 'dining': 5043, 'dinosaur': 5044, 'dishonest': 5045, 'dismantle': 5046, 'disneys': 5047, 'disorder': 5048, 'disrespectful': 5049, 'distress': 5050, 'district': 5051, 'dnc': 5052, 'doggie': 5053, 'donthecon': 5054, 'doodle': 5055, 'doom': 5056, 'dorm': 5057, 'downloaded': 5058, 'drag': 5059, 'dragged': 5060, 'dramatic': 5061, 'draymond': 5062, 'dresses': 5063, 'dressing': 5064, 'drives': 5065, 'drumpf': 5066, 'drums': 5067, 'dumptrump': 5068, 'duper': 5069, 'dutch': 5070, 'eagles': 5071, 'earp': 5072, 'eatclean': 5073, 'eats': 5074, 'economic': 5075, 'eek': 5076, 'el': 5077, 'elected': 5078, 'elections': 5079, 'electric': 5080, 'electro': 5081, 'eli': 5082, 'elizabeth': 5083, 'em2016': 5084, 'emotionally': 5085, 'empire': 5086, 'employed': 5087, 'encourage': 5088, 'endless': 5089, 'endorsement': 5090, 'energetic': 5091, 'enter': 5092, 'episode13': 5093, 'equally': 5094, 'equals': 5095, 'equate': 5096, 'era': 5097, 'essex': 5098, 'eva': 5099, 'everythings': 5100, 'excess': 5101, 'exit': 5102, 'expand': 5103, 'experiencing': 5104, 'exposed': 5105, 'expressing': 5106, 'expression': 5107, 'extinction': 5108, 'eyebrow': 5109, 'facial': 5110, 'facility': 5111, 'facing': 5112, 'fallen': 5113, 'fallschurch': 5114, 'familia': 5115, 'familytrip': 5116, 'farm': 5117, 'fatherday': 5118, 'fathersday2016': 5119, 'fathersdayquotes': 5120, 'fatloss': 5121, 'faves': 5122, 'favs': 5123, 'fearing': 5124, 'feelin': 5125, 'fees': 5126, 'felling': 5127, 'fest': 5128, 'fetish': 5129, 'fianc': 5130, 'figgity': 5131, 'fighter': 5132, 'filibuster': 5133, 'finds': 5134, 'finland': 5135, 'firefly': 5136, 'fireworks': 5137, 'firsttime': 5138, 'fishing': 5139, 'fitting': 5140, 'flame': 5141, 'flashbackfriday': 5142, 'flourishing': 5143, 'focusing': 5144, 'folding': 5145, 'fomc': 5146, 'fooled': 5147, 'footage': 5148, 'forecast': 5149, 'foreign': 5150, 'forum': 5151, 'freddie': 5152, 'freespirit': 5153, 'freetime': 5154, 'freshsta': 5155, 'fries': 5156, 'frozen': 5157, 'fucks': 5158, 'fuming': 5159, 'funtimes': 5160, 'furry': 5161, 'gained': 5162, 'gameplay': 5163, 'gamergirl': 5164, 'gameshow': 5165, 'garbage': 5166, 'gardens': 5167, 'gawa': 5168, 'gd': 5169, 'gear': 5170, 'gem': 5171, 'georgia': 5172, 'german': 5173, 'gimme': 5174, 'girltime': 5175, 'goa': 5176, 'godbless': 5177, 'godisgood': 5178, 'goin': 5179, 'goldenretriever': 5180, 'goodbook': 5181, 'gosh': 5182, 'gov': 5183, 'governments': 5184, 'governor': 5185, 'gp': 5186, 'graceful': 5187, 'graders': 5188, 'greek': 5189, 'greg': 5190, 'grew': 5191, 'grins': 5192, 'grounded': 5193, 'grove': 5194, 'grows': 5195, 'growthwithhubspot': 5196, 'grp': 5197, 'grunge': 5198, 'gud': 5199, 'gum': 5200, 'gunna': 5201, 'gurl': 5202, 'had': 5203, 'halfway': 5204, 'handbag': 5205, 'hap': 5206, 'happ': 5207, 'hardest': 5208, 'harmonious': 5209, 'haul': 5210, 'hav': 5211, 'havefun': 5212, 'hawaiian': 5213, 'hc': 5214, 'headache': 5215, 'headline': 5216, 'heads': 5217, 'heavenly': 5218, 'heck': 5219, 'hedgehog': 5220, 'heels': 5221, 'hehe': 5222, 'henry': 5223, 'hepburn': 5224, 'heros': 5225, 'hiding': 5226, 'highly': 5227, 'highs': 5228, 'hijacked': 5229, 'hiking': 5230, 'hint': 5231, 'historic': 5232, 'ho': 5233, 'holes': 5234, 'homegrown': 5235, 'homesweethome': 5236, 'homies': 5237, 'homophobe': 5238, 'honour': 5239, 'hoo': 5240, 'hoodies': 5241, 'hosting': 5242, 'hosts': 5243, 'hudson': 5244, 'hung': 5245, 'hunger': 5246, 'hunter': 5247, 'ibar': 5248, 'icons': 5249, 'icymi': 5250, 'igersbnw': 5251, 'ii': 5252, 'illinois': 5253, 'impo': 5254, 'impossible': 5255, 'incest': 5256, 'independenceday': 5257, 'inflation': 5258, 'innocence': 5259, 'innovation': 5260, 'insta': 5261, 'instaboy': 5262, 'instafollow': 5263, 'instafun': 5264, 'instagramers': 5265, 'installation': 5266, 'instatraveling': 5267, 'intellectual': 5268, 'intelligent': 5269, 'interiordesign': 5270, 'intro': 5271, 'introduce': 5272, 'ios10': 5273, 'iphoneonly': 5274, 'iq': 5275, 'iraq': 5276, 'irony': 5277, 'irrelevant': 5278, 'isaac': 5279, 'islamist': 5280, 'isolated': 5281, 'item': 5282, 'itunes': 5283, 'jacob': 5284, 'jaitley': 5285, 'jakaa': 5286, 'jcpenny': 5287, 'jeep': 5288, 'jeepmafia': 5289, 'jocoxmp': 5290, 'johnson': 5291, 'joshua': 5292, 'jp': 5293, 'jr': 5294, 'junior': 5295, 'justinb': 5296, 'kareem': 5297, 'karma': 5298, 'ke': 5299, 'kickstaer': 5300, 'kik': 5301, 'kinds': 5302, 'ko': 5303, 'koala': 5304, 'koreans': 5305, 'kro': 5306, 'kudos': 5307, 'lane': 5308, 'languages': 5309, 'larry': 5310, 'lasted': 5311, 'latino': 5312, 'latte': 5313, 'lauren': 5314, 'lbj': 5315, 'lecture': 5316, 'leftist': 5317, 'legacy': 5318, 'legally': 5319, 'legs': 5320, 'leicester': 5321, 'lemonade': 5322, 'leo': 5323, 'letters': 5324, 'lfc': 5325, 'lgbti': 5326, 'lightweight': 5327, 'likescam': 5328, 'lingerie': 5329, 'lite': 5330, 'loaded': 5331, 'lobby': 5332, 'lola': 5333, 'lollipop': 5334, 'longest': 5335, 'loses': 5336, 'loudly': 5337, 'loveher': 5338, 'loveme': 5339, 'loveofmylife': 5340, 'lower': 5341, 'lowest': 5342, 'luckygirl': 5343, 'lyric': 5344, 'maam': 5345, 'maccosmetics': 5346, 'maialas': 5347, 'maine': 5348, 'makemoney': 5349, 'malaysia': 5350, 'males': 5351, 'managing': 5352, 'manor': 5353, 'marble': 5354, 'marcus': 5355, 'marks': 5356, 'marseille': 5357, 'marx': 5358, 'massachusetts': 5359, 'mast': 5360, 'maternity': 5361, 'math': 5362, 'mayor': 5363, 'mcflurry': 5364, 'meaning': 5365, 'meetings': 5366, 'melania': 5367, 'membership': 5368, 'mentions': 5369, 'mentor': 5370, 'meow': 5371, 'mercedes': 5372, 'mere': 5373, 'merely': 5374, 'messed': 5375, 'microsoft': 5376, 'midnight': 5377, 'mighty': 5378, 'migraine': 5379, 'milano': 5380, 'mile': 5381, 'millennials': 5382, 'milo': 5383, 'minorities': 5384, 'mis': 5385, 'misogynistic': 5386, 'mk': 5387, 'mmm': 5388, 'models': 5389, 'modi': 5390, 'momtips': 5391, 'monetary': 5392, 'monster': 5393, 'montana': 5394, 'monthsary': 5395, 'montreal': 5396, 'moose': 5397, 'morn': 5398, 'mornin': 5399, 'motivational': 5400, 'moto': 5401, 'mourning': 5402, 'msm': 5403, 'mtb': 5404, 'mummy': 5405, 'munich': 5406, 'murders': 5407, 'muscles': 5408, 'museum': 5409, 'mybihday': 5410, 'mydubai': 5411, 'mytraining': 5412, 'myworld': 5413, 'nab': 5414, 'naoyuki': 5415, 'nascar': 5416, 'natsu': 5417, 'navy': 5418, 'nbafinals2016': 5419, 'nbc': 5420, 'nemo': 5421, 'nevergiveup': 5422, 'newday': 5423, 'newyearseve': 5424, 'newyorkcity': 5425, 'nhl': 5426, 'nhs': 5427, 'nightmare': 5428, 'nigth': 5429, 'nintendo': 5430, 'nomnomnom': 5431, 'nonton': 5432, 'norfolk': 5433, 'norman': 5434, 'nothappy': 5435, 'noticing': 5436, 'notmypres': 5437, 'nov': 5438, 'nudist': 5439, 'nxt': 5440, 'occur': 5441, 'oceans': 5442, 'offensive': 5443, 'offline': 5444, 'ohwell': 5445, 'oitnbchat': 5446, 'oitnbseason4': 5447, 'ojb': 5448, 'oldest': 5449, 'oldschool': 5450, 'omar': 5451, 'omfg': 5452, 'omw': 5453, 'onda': 5454, 'ongoing': 5455, 'onto': 5456, 'ooh': 5457, 'opener': 5458, 'openly': 5459, 'opens': 5460, 'oppa': 5461, 'optimist': 5462, 'options': 5463, 'orangeisthenewblack': 5464, 'orders': 5465, 'ottawa': 5466, 'outlook': 5467, 'owl': 5468, 'p2': 5469, 'packaging': 5470, 'paicipate': 5471, 'paicularly': 5472, 'palace': 5473, 'palm': 5474, 'pampered': 5475, 'panel': 5476, 'panic': 5477, 'papers': 5478, 'parade': 5479, 'paranormal': 5480, 'parliament': 5481, 'password': 5482, 'pastor': 5483, 'pastry': 5484, 'paths': 5485, 'patiently': 5486, 'patio': 5487, 'pays': 5488, 'pearly': 5489, 'pedophilia': 5490, 'pepper': 5491, 'perfection': 5492, 'perfume': 5493, 'perry': 5494, 'persons': 5495, 'peru': 5496, 'pharrellwilliams': 5497, 'phd': 5498, 'philadelphia': 5499, 'phuket': 5500, 'pieces': 5501, 'pineapple': 5502, 'pineapples': 5503, 'pipe': 5504, 'pissedoff': 5505, 'pjs': 5506, 'platform': 5507, 'playground': 5508, 'plot': 5509, 'pole': 5510, 'policebrutality': 5511, 'pond': 5512, 'poop': 5513, 'popcorn': 5514, 'pose': 5515, 'positivethinking': 5516, 'prayed': 5517, 'preparation': 5518, 'prepared': 5519, 'presence': 5520, 'presented': 5521, 'pressure': 5522, 'prez': 5523, 'printed': 5524, 'prob': 5525, 'probe': 5526, 'professions': 5527, 'progressive': 5528, 'propey': 5529, 'prosperity': 5530, 'provide': 5531, 'provides': 5532, 'psychological': 5533, 'pt': 5534, 'publishing': 5535, 'pueorico': 5536, 'punishment': 5537, 'punjabi': 5538, 'qualified': 5539, 'raging': 5540, 'rahulgandhi': 5541, 'rainforest': 5542, 'rainyday': 5543, 'ramsey': 5544, 'rates': 5545, 'rave': 5546, 'reaching': 5547, 'reader': 5548, 'recall': 5549, 'receiving': 5550, 'recognizing': 5551, 'records': 5552, 'recovers': 5553, 'redhead': 5554, 'redlips': 5555, 'ref': 5556, 'reflection': 5557, 'regular': 5558, 'related': 5559, 'releasing': 5560, 'relieved': 5561, 'remembering': 5562, 'renaissance': 5563, 'rental': 5564, 'repoed': 5565, 'repostapp': 5566, 'resignation': 5567, 'retirement': 5568, 'reveals': 5569, 'revenge': 5570, 'reviews': 5571, 'rewards': 5572, 'rice': 5573, 'rick': 5574, 'riclswtravelbook': 5575, 'rifle': 5576, 'rio': 5577, 'ripantonyelchin': 5578, 'risks': 5579, 'rite': 5580, 'roads': 5581, 'robin': 5582, 'rocks': 5583, 'rohingya': 5584, 'rope': 5585, 'rotterdam': 5586, 'rottweiler': 5587, 'sabon': 5588, 'sacrifice': 5589, 'sarah': 5590, 'saving': 5591, 'scam': 5592, 'scenery': 5593, 'scout': 5594, 'screens': 5595, 'scrubs': 5596, 'searching': 5597, 'seasonal': 5598, 'secure': 5599, 'seed': 5600, 'segment': 5601, 'select': 5602, 'senator': 5603, 'sensitive': 5604, 'separate': 5605, 'server': 5606, 'serves': 5607, 'seth': 5608, 'settle': 5609, 'seven': 5610, 'several': 5611, 'sewing': 5612, 'sexism': 5613, 'sexuality': 5614, 'shady': 5615, 'shakur': 5616, 'shattered': 5617, 'shave': 5618, 'shaved': 5619, 'sheboutit': 5620, 'sheffield': 5621, 'shell': 5622, 'shideism': 5623, 'shiless': 5624, 'shill': 5625, 'shipped': 5626, 'shipping': 5627, 'showcase': 5628, 'shown': 5629, 'similar': 5630, 'singlelife': 5631, 'sketchbook': 5632, 'slander': 5633, 'slave': 5634, 'slimmingworld': 5635, 'smaller': 5636, 'smilemore': 5637, 'sneaks': 5638, 'snug': 5639, 'software': 5640, 'solidarity': 5641, 'solution': 5642, 'somerset': 5643, 'sophie': 5644, 'sore': 5645, 'soros': 5646, 'sorrynotsorry': 5647, 'soulmate': 5648, 'soulmates': 5649, 'sounding': 5650, 'southern': 5651, 'sp': 5652, 'sparks': 5653, 'speaker': 5654, 'specials': 5655, 'spectacle': 5656, 'speeches': 5657, 'spiderman': 5658, 'spike': 5659, 'spinning': 5660, 'spoiled': 5661, 'spoilt': 5662, 'spokesperson': 5663, 'spotlight': 5664, 'spree': 5665, 'springfield': 5666, 'squirrel': 5667, 'starek': 5668, 'status': 5669, 'staystrong': 5670, 'steam': 5671, 'stem': 5672, 'stepping': 5673, 'stereotype': 5674, 'stopping': 5675, 'stoptheviolence': 5676, 'stores': 5677, 'streaming': 5678, 'streets': 5679, 'strip': 5680, 'strolling': 5681, 'struggling': 5682, 'suarezs': 5683, 'subs': 5684, 'suffering': 5685, 'sugar': 5686, 'suicides': 5687, 'sums': 5688, 'sundaymood': 5689, 'suppose': 5690, 'surf': 5691, 'surprises': 5692, 'sustainable': 5693, 'suv': 5694, 'swastika': 5695, 'sync': 5696, 'syria': 5697, 'systems': 5698, 'tablet': 5699, 'tackling': 5700, 'tacloban': 5701, 'tacos': 5702, 'tactics': 5703, 'taiwan': 5704, 'tanhai': 5705, 'tap': 5706, 'tasty': 5707, 'taxpayers': 5708, 'tds': 5709, 'te': 5710, 'teammates': 5711, 'teamshide': 5712, 'tease': 5713, 'teaser': 5714, 'technical': 5715, 'teenagers': 5716, 'teleprompter': 5717, 'temecula': 5718, 'temporary': 5719, 'tenerife': 5720, 'tent': 5721, 'terrified': 5722, 'thankfulthursday': 5723, 'thanking': 5724, 'thanx': 5725, 'thoughtful': 5726, 'thread': 5727, 'thrive': 5728, 'tht': 5729, 'thugs': 5730, 'tie': 5731, 'tiffany': 5732, 'tim': 5733, 'tlot': 5734, 'toe': 5735, 'toes': 5736, 'toilet': 5737, 'tomhiddleston': 5738, 'tommorow': 5739, 'ton': 5740, 'toptweeters': 5741, 'tourism': 5742, 'toward': 5743, 'tracks': 5744, 'tracy': 5745, 'traditional': 5746, 'trail': 5747, 'trainers': 5748, 'tranny': 5749, 'travelled': 5750, 'traveltuesday': 5751, 'trouble': 5752, 'trucks': 5753, 'truelove': 5754, 'trumptrain': 5755, 'trumpuniversity': 5756, 'truthful': 5757, 'tu': 5758, 'tummy': 5759, 'turnup': 5760, 'tym': 5761, 'udta': 5762, 'ukip': 5763, 'uks': 5764, 'ukulele': 5765, 'unemployment': 5766, 'unfair': 5767, 'unfit': 5768, 'unicorn': 5769, 'unleashed': 5770, 'updating': 5771, 'upgrade': 5772, 'uploading': 5773, 'upsetting': 5774, 'upsideofflorida': 5775, 'usb': 5776, 'users': 5777, 'vacay': 5778, 'vaccines': 5779, 'van': 5780, 'vandals': 5781, 'various': 5782, 'vegetables': 5783, 'veteran': 5784, 'veterans': 5785, 'viernes': 5786, 'vietnam': 5787, 'vino': 5788, 'vital': 5789, 'vocal': 5790, 'vocals': 5791, 'voltaire': 5792, 'volunteer': 5793, 'volunteering': 5794, 'voteleave': 5795, 'wage': 5796, 'wakes': 5797, 'wakow': 5798, 'walks': 5799, 'wallet': 5800, 'wallpaper': 5801, 'wanderlust': 5802, 'ward': 5803, 'wardrobe': 5804, 'warns': 5805, 'wasting': 5806, 'watson': 5807, 'wave': 5808, 'wcw': 5809, 'weaker': 5810, 'weddinganniversary': 5811, 'weddingdress': 5812, 'welsh': 5813, 'wendy': 5814, 'whack': 5815, 'wholesome': 5816, 'wid': 5817, 'wigs': 5818, 'wilson': 5819, 'winnipeg': 5820, 'winterfashion': 5821, 'wisconsin': 5822, 'woah': 5823, 'wohless': 5824, 'womans': 5825, 'womenempowerment': 5826, 'wondering': 5827, 'wordpress': 5828, 'worldginday': 5829, 'worldoceansday': 5830, 'worries': 5831, 'wrestling': 5832, 'writerslife': 5833, 'wud': 5834, 'xenophobic': 5835, 'xians': 5836, 'yass': 5837, 'yayyyy': 5838, 'yell': 5839, 'zionazis': 5840, 'zionism': 5841, '061116': 5842, '0612': 5843, '08': 5844, '100000': 5845, '101': 5846, '10alltypespos': 5847, '10k': 5848, '110': 5849, '1200': 5850, '12000': 5851, '123': 5852, '1299': 5853, '12th': 5854, '140': 5855, '150': 5856, '1999': 5857, '1day': 5858, '2': 5859, '2010': 5860, '201617': 5861, '2018': 5862, '24th': 5863, '26': 5864, '28th': 5865, '2a': 5866, '2days': 5867, '2k16': 5868, '2nite': 5869, '2the': 5870, '2yearold': 5871, '300': 5872, '33': 5873, '36': 5874, '38': 5875, '40th': 5876, '44': 5877, '46': 5878, '47pm': 5879, '4k': 5880, '4o4o4': 5881, '4u': 5882, '5000': 5883, '50islamicinfo': 5884, '51': 5885, '52': 5886, '55': 5887, '59': 5888, '5k': 5889, '6': 5890, '60s': 5891, '69': 5892, '700': 5893, '73': 5894, '77': 5895, '799': 5896, '7s': 5897, '7th': 5898, '80s': 5899, '87': 5900, '9': 5901, '90s': 5902, '999': 5903, '99c99p': 5904, 'ab': 5905, 'ableg': 5906, 'aboutlastnight': 5907, 'absence': 5908, 'abstract': 5909, 'abstracta': 5910, 'ac': 5911, 'acab': 5912, 'acc': 5913, 'accepting': 5914, 'accidentally': 5915, 'accountable': 5916, 'accusations': 5917, 'achieved': 5918, 'aching': 5919, 'acoustic': 5920, 'acquainted': 5921, 'acquired': 5922, 'activist': 5923, 'acu': 5924, 'additional': 5925, 'adopted': 5926, 'adrienne': 5927, 'adultery': 5928, 'affects': 5929, 'afghanistan': 5930, 'africans': 5931, 'agencies': 5932, 'agr': 5933, 'ahfodtour': 5934, 'ahh': 5935, 'aicles': 5936, 'aims': 5937, 'aired': 5938, 'aj': 5939, 'ako': 5940, 'akrotiri': 5941, 'aladdin': 5942, 'albums': 5943, 'aldub47thweeksary': 5944, 'alhamdulillah': 5945, 'alice': 5946, 'alicia': 5947, 'alkalamba': 5948, 'allday': 5949, 'alleged': 5950, 'alllivesmatter': 5951, 'alohafriday': 5952, 'alongside': 5953, 'alot': 5954, 'alt': 5955, 'alternatively': 5956, 'amanda': 5957, 'amazingpeople': 5958, 'amber': 5959, 'ambition': 5960, 'amid': 5961, 'amigos': 5962, 'amjoy': 5963, 'amongst': 5964, 'amounts': 5965, 'ampamp': 5966, 'ampfamilies': 5967, 'angst': 5968, 'angus': 5969, 'animated': 5970, 'annefrank': 5971, 'announcements': 5972, 'anonymous': 5973, 'antisemite': 5974, 'antisemitic': 5975, 'antonio': 5976, 'anytime': 5977, 'anz': 5978, 'ap': 5979, 'apament': 5980, 'apaments': 5981, 'apologize': 5982, 'appearance': 5983, 'apples': 5984, 'application': 5985, 'appreciating': 5986, 'appt': 5987, 'aquarium': 5988, 'arab': 5989, 'arff2016': 5990, 'argue': 5991, 'aria': 5992, 'arrest': 5993, 'arrested': 5994, 'arrests': 5995, 'arrives': 5996, 'asf': 5997, 'ash': 5998, 'asianladyboy': 5999, 'asshat': 6000, 'astonished': 6001, 'athena': 6002, 'atl': 6003, 'attacking': 6004, 'attest': 6005, 'attract': 6006, 'attracted': 6007, 'audio': 6008, 'authorities': 6009, 'autism': 6010, 'automatic': 6011, 'autumn': 6012, 'aworks': 6013, 'awwww': 6014, 'babyboy': 6015, 'babys': 6016, 'badass': 6017, 'badday': 6018, 'baked': 6019, 'bakery': 6020, 'balakrishna': 6021, 'bankruptcy': 6022, 'barack': 6023, 'barber': 6024, 'barbiets93': 6025, 'barney': 6026, 'bars': 6027, 'bashing': 6028, 'bats': 6029, 'battlefield': 6030, 'battlefield1': 6031, 'bbw': 6032, 'bck': 6033, 'bd': 6034, 'beachday': 6035, 'beatz': 6036, 'beau': 6037, 'became': 6038, 'beeroclock': 6039, 'begs': 6040, 'behaving': 6041, 'beinlife': 6042, 'beirut': 6043, 'belated': 6044, 'belgian': 6045, 'belize': 6046, 'belongs': 6047, 'bent': 6048, 'bernies': 6049, 'berniesanders': 6050, 'besides': 6051, 'bestday': 6052, 'bestfriendsday': 6053, 'bestrong': 6054, 'bethechange': 6055, 'bethesda': 6056, 'betterlife': 6057, 'bewitched': 6058, 'bhagwantmann': 6059, 'bhakt': 6060, 'bicycle': 6061, 'bieber': 6062, 'bigbang': 6063, 'bigday': 6064, 'bigender': 6065, 'bigoted': 6066, 'bihdaycake': 6067, 'bihdayweekend': 6068, 'bin': 6069, 'biological': 6070, 'bisexual': 6071, 'bites': 6072, 'bits': 6073, 'blackampwhite': 6074, 'blackheathstandard': 6075, 'blah': 6076, 'blatantly': 6077, 'bleed': 6078, 'blend': 6079, 'blocking': 6080, 'blogginggals': 6081, 'blond': 6082, 'blondie': 6083, 'bloom': 6084, 'blu': 6085, 'bluegrass': 6086, 'bluelivesmatter': 6087, 'blueskies': 6088, 'boanoite': 6089, 'boarding': 6090, 'boards': 6091, 'bobby': 6092, 'boe': 6093, 'bogotadc': 6094, 'bombing': 6095, 'bonjour': 6096, 'boogie': 6097, 'boomerang': 6098, 'boost': 6099, 'booze': 6100, 'bopanna': 6101, 'bothered': 6102, 'botox': 6103, 'boxes': 6104, 'boycottdelta': 6105, 'boyfriends': 6106, 'bracelet': 6107, 'branch': 6108, 'braves': 6109, 'brazilian': 6110, 'breakingnews': 6111, 'breezy': 6112, 'bretagne': 6113, 'bribes': 6114, 'brides': 6115, 'broadcast': 6116, 'brochure': 6117, 'brooks': 6118, 'browns': 6119, 'brutal': 6120, 'bucks': 6121, 'buddies': 6122, 'builders': 6123, 'buildings': 6124, 'bullet': 6125, 'bum': 6126, 'bump': 6127, 'bunnies': 6128, 'burns': 6129, 'burnt': 6130, 'burst': 6131, 'bury': 6132, 'bush': 6133, 'businessoppounity': 6134, 'bust': 6135, 'busty': 6136, 'buyer': 6137, 'cabin': 6138, 'calories': 6139, 'canal': 6140, 'canceled': 6141, 'candid': 6142, 'cannotwait': 6143, 'cantsleep': 6144, 'cantstopsmiling': 6145, 'canvas': 6146, 'capetown': 6147, 'capitalism': 6148, 'cappuccino': 6149, 'caption': 6150, 'capture': 6151, 'cardinals': 6152, 'cardio': 6153, 'careers': 6154, 'carefree': 6155, 'carmineryderrr': 6156, 'carolina': 6157, 'carpet': 6158, 'carwash': 6159, 'cassie': 6160, 'castle': 6161, 'catsoftwitter': 6162, 'catstagram': 6163, 'cavsnation': 6164, 'cbd': 6165, 'cecily': 6166, 'cedarrapids': 6167, 'celebrates': 6168, 'celebs': 6169, 'celinedion': 6170, 'central': 6171, 'champ': 6172, 'champion': 6173, 'chanel': 6174, 'chaplin': 6175, 'charlie': 6176, 'chaser': 6177, 'chasing': 6178, 'chats': 6179, 'cheaper': 6180, 'cheated': 6181, 'chest': 6182, 'chester': 6183, 'chihuahua': 6184, 'childfree': 6185, 'childrensbook': 6186, 'christmaseve': 6187, 'churchill': 6188, 'cirquedusoleil': 6189, 'claimed': 6190, 'clash': 6191, 'classism': 6192, 'cleanse': 6193, 'clever': 6194, 'clicking': 6195, 'climate': 6196, 'climatechange': 6197, 'climbing': 6198, 'cmon': 6199, 'coaches': 6200, 'coc': 6201, 'cocoa': 6202, 'coconut': 6203, 'cod': 6204, 'coke': 6205, 'colbe': 6206, 'collab': 6207, 'colleagues': 6208, 'collected': 6209, 'coloring': 6210, 'commerzbank': 6211, 'commitment': 6212, 'communal': 6213, 'communities': 6214, 'commute': 6215, 'competing': 6216, 'complicated': 6217, 'comprehensive': 6218, 'concerns': 6219, 'condemn': 6220, 'condemned': 6221, 'conferences': 6222, 'confetti': 6223, 'conjuring2': 6224, 'conscious': 6225, 'conservatives': 6226, 'consider': 6227, 'conspiracy': 6228, 'cont': 6229, 'contented': 6230, 'contestant': 6231, 'contour': 6232, 'contracts': 6233, 'contribute': 6234, 'conveible': 6235, 'conversation': 6236, 'converse': 6237, 'convince': 6238, 'copaamerica': 6239, 'core': 6240, 'cornwall': 6241, 'corrupt': 6242, 'costarica': 6243, 'costume': 6244, 'cotd': 6245, 'county': 6246, 'couture': 6247, 'cowards': 6248, 'coworkers': 6249, 'cracks': 6250, 'crain': 6251, 'crappy': 6252, 'craziestpeoples': 6253, 'craziness': 6254, 'creamy': 6255, 'credentials': 6256, 'creepy': 6257, 'critical': 6258, 'criticize': 6259, 'critics': 6260, 'cro': 6261, 'crude': 6262, 'crushed': 6263, 'cruz': 6264, 'css': 6265, 'cubs': 6266, 'cud': 6267, 'cult': 6268, 'cultures': 6269, 'cunt': 6270, 'cuppa': 6271, 'cups': 6272, 'curiosity': 6273, 'cushions': 6274, 'customised': 6275, 'cyclists': 6276, 'dairy': 6277, 'damage': 6278, 'damaged': 6279, 'danbury': 6280, 'dang': 6281, 'dank': 6282, 'dapper': 6283, 'darker': 6284, 'darkest': 6285, 'darkknight': 6286, 'day1': 6287, 'dazzling': 6288, 'deadliest': 6289, 'deadpool': 6290, 'dearest': 6291, 'dearly': 6292, 'dears': 6293, 'decade': 6294, 'decides': 6295, 'deciding': 6296, 'declare': 6297, 'decorating': 6298, 'dedicating': 6299, 'dee': 6300, 'deepest': 6301, 'default': 6302, 'defending': 6303, 'definitions': 6304, 'delegaterevolt': 6305, 'denied': 6306, 'depaures': 6307, 'deplorables': 6308, 'depp': 6309, 'derogatory': 6310, 'deserved': 6311, 'designer': 6312, 'desses': 6313, 'destress': 6314, 'detour': 6315, 'devastating': 6316, 'develop': 6317, 'devoted': 6318, 'dex': 6319, 'dhoni': 6320, 'dia': 6321, 'diabetes': 6322, 'dictator': 6323, 'dictatorial': 6324, 'dignity': 6325, 'dimples': 6326, 'din': 6327, 'dip': 6328, 'diploma': 6329, 'directed': 6330, 'disappointing': 6331, 'disco': 6332, 'discount': 6333, 'disgust': 6334, 'dislike': 6335, 'dismiss': 6336, 'dispose': 6337, 'diss': 6338, 'divisive': 6339, 'divulgaoeparceria': 6340, 'djlife': 6341, 'dl2016': 6342, 'dnt': 6343, 'doc': 6344, 'dogslife': 6345, 'dogwalking': 6346, 'domain': 6347, 'donated': 6348, 'doublewin': 6349, 'dovish': 6350, 'doyou': 6351, 'dragonfly': 6352, 'dragons': 6353, 'drags': 6354, 'dread': 6355, 'dreamteam': 6356, 'dri': 6357, 'driven': 6358, 'drugaddicts': 6359, 'drum': 6360, 'dt': 6361, 'dub': 6362, 'duke': 6363, 'dukhi': 6364, 'duncan': 6365, 'dustin': 6366, 'dvr': 6367, 'dynamic': 6368, 'dysfunction': 6369, 'dystopian': 6370, 'ea': 6371, 'ear': 6372, 'ears': 6373, 'eco': 6374, 'ecuador': 6375, 'edition': 6376, 'editorial': 6377, 'educational': 6378, 'effects': 6379, 'effos': 6380, 'egg': 6381, 'eia': 6382, 'elder': 6383, 'elderly': 6384, 'electricity': 6385, 'elementary': 6386, 'elements': 6387, 'eliminate': 6388, 'elitist': 6389, 'ellen': 6390, 'elliot': 6391, 'embarrassing': 6392, 'employee': 6393, 'enchanting': 6394, 'endof2016': 6395, 'endorses': 6396, 'engage': 6397, 'engaging': 6398, 'engerland': 6399, 'engineers': 6400, 'enjoyinglife': 6401, 'entering': 6402, 'enthusiasm': 6403, 'entirely': 6404, 'entitled': 6405, 'entrance': 6406, 'entrepreneurs': 6407, 'equestrian': 6408, 'escaped': 6409, 'esco': 6410, 'esp': 6411, 'est': 6412, 'estate': 6413, 'eugenics': 6414, 'euro16': 6415, 'evans': 6416, 'evolution': 6417, 'excellence': 6418, 'exci': 6419, 'excitem': 6420, 'existed': 6421, 'exists': 6422, 'expat': 6423, 'expecting': 6424, 'experiment': 6425, 'explosions': 6426, 'expos': 6427, 'extended': 6428, 'extends': 6429, 'external': 6430, 'extreme': 6431, 'eyebrows': 6432, 'facepalm': 6433, 'faded': 6434, 'familiar': 6435, 'fanboy': 6436, 'fandom': 6437, 'fare': 6438, 'farming': 6439, 'fashiondesign': 6440, 'fashionista': 6441, 'fathersdaymessage': 6442, 'favor': 6443, 'favored': 6444, 'fck': 6445, 'fd': 6446, 'fearless': 6447, 'feast': 6448, 'featuring': 6449, 'fedup': 6450, 'felicidad': 6451, 'felicidade': 6452, 'fellas': 6453, 'felony': 6454, 'festivals': 6455, 'feta': 6456, 'fewer': 6457, 'fiestar': 6458, 'fighters': 6459, 'filling': 6460, 'filmmaking': 6461, 'fing': 6462, 'firenze': 6463, 'firing': 6464, 'firstworldproblems': 6465, 'fk': 6466, 'flats': 6467, 'flavor': 6468, 'flightofalifetime': 6469, 'flood': 6470, 'flooding': 6471, 'flow': 6472, 'flowerlove': 6473, 'flyers': 6474, 'fm': 6475, 'fn': 6476, 'followusoninstagram': 6477, 'foodblogger': 6478, 'foodies': 6479, 'foodstagram': 6480, 'footy': 6481, 'forces': 6482, 'forgivers': 6483, 'format': 6484, 'formentera': 6485, 'forming': 6486, 'foxnews': 6487, 'fp': 6488, 'fra': 6489, 'frame': 6490, 'francisco': 6491, 'frankly': 6492, 'frarou': 6493, 'frenchie': 6494, 'fridayfun': 6495, 'fridge': 6496, 'fruits': 6497, 'fuckmylife': 6498, 'fucktrump': 6499, 'fuelled': 6500, 'fulfilled': 6501, 'fund': 6502, 'funimate': 6503, 'funnehanever': 6504, 'funtime': 6505, 'furbabies': 6506, 'furious': 6507, 'fuss': 6508, 'futureofwork': 6509, 'ga': 6510, 'gahbrooks': 6511, 'game6': 6512, 'gamesofthrones': 6513, 'gap': 6514, 'gary': 6515, 'gayguy': 6516, 'gazal': 6517, 'gbpjpy': 6518, 'gentleman': 6519, 'gentlemen': 6520, 'geography': 6521, 'ger': 6522, 'gettin': 6523, 'gettingfit': 6524, 'ghuggi': 6525, 'giddy': 6526, 'gifted': 6527, 'girlsholiday': 6528, 'glamorous': 6529, 'glamorousiam': 6530, 'glee': 6531, 'glory': 6532, 'glover': 6533, 'gloves': 6534, 'glowing': 6535, 'glutenfree': 6536, 'gmr': 6537, 'gn': 6538, 'goats': 6539, 'goldenstatewarriors': 6540, 'gomez': 6541, 'goodvibesonly': 6542, 'goody': 6543, 'gplay': 6544, 'grabbing': 6545, 'graco': 6546, 'grad': 6547, 'grandad': 6548, 'grandparents': 6549, 'graphic': 6550, 'greater': 6551, 'greatness': 6552, 'greatquotes': 6553, 'greet': 6554, 'grieve': 6555, 'grilled': 6556, 'grimmies': 6557, 'grin': 6558, 'grooming': 6559, 'growingup': 6560, 'growthhacking': 6561, 'grumpy': 6562, 'grumpycat': 6563, 'gtgtgt': 6564, 'gtlt': 6565, 'guard': 6566, 'guest': 6567, 'gummy': 6568, 'gunman': 6569, 'guru': 6570, 'gutless': 6571, 'gweh': 6572, 'gymlife': 6573, 'hacked': 6574, 'haford': 6575, 'hahahaha': 6576, 'hai': 6577, 'haiku': 6578, 'handled': 6579, 'happyholidays': 6580, 'harbaugh': 6581, 'hardworking': 6582, 'harrypotter': 6583, 'hatecrime': 6584, 'hatespeech': 6585, 'hats': 6586, 'hbo': 6587, 'headphones': 6588, 'heals': 6589, 'healthylife': 6590, 'healthylifestyle': 6591, 'heh': 6592, 'helpless': 6593, 'helpme': 6594, 'henderson': 6595, 'heyy': 6596, 'highfashion': 6597, 'highfive': 6598, 'highlycontested': 6599, 'highschool': 6600, 'hijab': 6601, 'hijacking': 6602, 'hike': 6603, 'hillaryclinton': 6604, 'hindu': 6605, 'hippy': 6606, 'hire': 6607, 'historical': 6608, 'historyancient': 6609, 'hm': 6610, 'hmm': 6611, 'holland': 6612, 'holly': 6613, 'hols': 6614, 'homedecor': 6615, 'homeless': 6616, 'homeowners': 6617, 'homesick': 6618, 'homework': 6619, 'homosexuality': 6620, 'honesty': 6621, 'honeymoon': 6622, 'hoodie': 6623, 'hooker': 6624, 'hooray': 6625, 'hopping': 6626, 'hormone': 6627, 'horribly': 6628, 'housemusic': 6629, 'hsp': 6630, 'html': 6631, 'humiliated': 6632, 'hunt': 6633, 'hutchings': 6634, 'hyper': 6635, 'hypocrisy': 6636, 'hypocrite': 6637, 'ian': 6638, 'ibooks': 6639, 'iced': 6640, 'icon': 6641, 'iftaar': 6642, 'iftar': 6643, 'il': 6644, 'illusion': 6645, 'iloveit': 6646, 'ily': 6647, 'immediately': 6648, 'imperialism': 6649, 'impress': 6650, 'incense': 6651, 'incite': 6652, 'incompetent': 6653, 'indecent': 6654, 'indiegame': 6655, 'inevitable': 6656, 'inferior': 6657, 'influence': 6658, 'inhumane': 6659, 'inked': 6660, 'inmates': 6661, 'instaa': 6662, 'instaday': 6663, 'instafashion': 6664, 'instagirl': 6665, 'instantly': 6666, 'instatags4likes': 6667, 'instatravel': 6668, 'institution': 6669, 'instrumental': 6670, 'insult': 6671, 'integrity': 6672, 'intense': 6673, 'intention': 6674, 'interests': 6675, 'internetmarketing': 6676, 'internship': 6677, 'inwoo': 6678, 'ipsy': 6679, 'iran': 6680, 'irresponsible': 6681, 'isle': 6682, 'ita': 6683, 'itsmybihday': 6684, 'ivy': 6685, 'jackblair': 6686, 'jacket': 6687, 'jackie': 6688, 'jammin': 6689, 'jar': 6690, 'jay': 6691, 'jeans': 6692, 'jeepnation': 6693, 'jehovah': 6694, 'joined': 6695, 'joint': 6696, 'jordan': 6697, 'josh': 6698, 'journal': 6699, 'journalists': 6700, 'juiceplus': 6701, 'jumper': 6702, 'junaricrm': 6703, 'june16': 6704, 'juneteenth': 6705, 'justification': 6706, 'justinbieber': 6707, 'justme': 6708, 'kansas': 6709, 'kanyewest': 6710, 'keen': 6711, 'keisha': 6712, 'kennel': 6713, 'kenya': 6714, 'kerala': 6715, 'keshis': 6716, 'keynote': 6717, 'keywest': 6718, 'kia': 6719, 'kiev': 6720, 'killers': 6721, 'kimbo': 6722, 'knees': 6723, 'knock': 6724, 'knossos': 6725, 'knowledgeable': 6726, 'kong': 6727, 'kylie': 6728, 'kyrie': 6729, 'label': 6730, 'labels': 6731, 'lacking': 6732, 'lad': 6733, 'laid': 6734, 'lancaster': 6735, 'landholding': 6736, 'landing': 6737, 'lapride': 6738, 'lastnight': 6739, 'latenights': 6740, 'latin': 6741, 'latvia': 6742, 'laughable': 6743, 'laura': 6744, 'laying': 6745, 'leaf': 6746, 'legendary': 6747, 'legends': 6748, 'lemans': 6749, 'lemons': 6750, 'lessismore': 6751, 'letsplay': 6752, 'lettuce': 6753, 'leukemia': 6754, 'li': 6755, 'libey': 6756, 'libtards': 6757, 'lichfield': 6758, 'lifeisbeautiful': 6759, 'lifetime': 6760, 'lightning': 6761, 'likeit': 6762, 'liking': 6763, 'limiting': 6764, 'liners': 6765, 'linkedin': 6766, 'linstagram': 6767, 'linzy': 6768, 'liquid': 6769, 'liquor': 6770, 'lisa': 6771, 'litter': 6772, 'littlemix': 6773, 'liv': 6774, 'liveandletlive': 6775, 'livemusic': 6776, 'livinglife': 6777, 'liye': 6778, 'lmaoo': 6779, 'load': 6780, 'loading': 6781, 'lobster': 6782, 'lois': 6783, 'lolol': 6784, 'losses': 6785, 'lovebts': 6786, 'loveconquershate': 6787, 'lovehim': 6788, 'lovelovelove': 6789, 'lovemeinstagoodfollowphotooftheday': 6790, 'lovemyfamily': 6791, 'lovequotes': 6792, 'lovewins': 6793, 'lovin': 6794, 'lowenergy': 6795, 'ludicrous': 6796, 'luggage': 6797, 'macklemore': 6798, 'macos': 6799, 'madly': 6800, 'mai': 6801, 'majestic': 6802, 'maker': 6803, 'makers': 6804, 'makeupaddict': 6805, 'malcolm': 6806, 'malign': 6807, 'mango': 6808, 'manipulation': 6809, 'manipur': 6810, 'manner': 6811, 'mansplaining': 6812, 'margarita': 6813, 'marina': 6814, 'marry': 6815, 'mary': 6816, 'maryland': 6817, 'masses': 6818, 'mater': 6819, 'materials': 6820, 'max': 6821, 'meaningless': 6822, 'measure': 6823, 'measured': 6824, 'measures': 6825, 'mebeforeyou': 6826, 'medal': 6827, 'medicine': 6828, 'medium': 6829, 'meds': 6830, 'mega': 6831, 'melee': 6832, 'melted': 6833, 'memorable': 6834, 'mentality': 6835, 'mentally': 6836, 'mentors': 6837, 'messing': 6838, 'metro': 6839, 'mic': 6840, 'michaels': 6841, 'microaggressions': 6842, 'micropoetry': 6843, 'milan': 6844, 'minime': 6845, 'minneapolis': 6846, 'minsk': 6847, 'miracle': 6848, 'misses': 6849, 'mitb': 6850, 'mob': 6851, 'moda': 6852, 'modes': 6853, 'mods': 6854, 'mogage': 6855, 'moi': 6856, 'mojo': 6857, 'momentum': 6858, 'moods': 6859, 'moody': 6860, 'morelove': 6861, 'morocco': 6862, 'mostly': 6863, 'motherfucker': 6864, 'motivationmonday': 6865, 'motive': 6866, 'moveon': 6867, 'ms': 6868, 'msgs': 6869, 'mtg': 6870, 'mua': 6871, 'mubarak': 6872, 'muchlove': 6873, 'muffins': 6874, 'muhammad': 6875, 'muller': 6876, 'multivitamins': 6877, 'mummersparade': 6878, 'mums': 6879, 'muna': 6880, 'murderer': 6881, 'musica': 6882, 'musicians': 6883, 'musicislife': 6884, 'myday': 6885, 'myfavorite': 6886, 'mygirl': 6887, 'myhappyplace': 6888, 'myhea': 6889, 'mykonos': 6890, 'myle': 6891, 'mymood': 6892, 'mystery': 6893, 'mytime': 6894, 'nail': 6895, 'nap': 6896, 'narcissist': 6897, 'naruto': 6898, 'nationalroseday': 6899, 'natureperfection': 6900, 'nbjc': 6901, 'nd': 6902, 'needa': 6903, 'needahug': 6904, 'neighbor': 6905, 'neighborhoods': 6906, 'neko': 6907, 'networking': 6908, 'neutral': 6909, 'neutrality': 6910, 'newbook': 6911, 'newcar': 6912, 'newhair': 6913, 'newly': 6914, 'newsletter': 6915, 'newstar': 6916, 'nextchapter': 6917, 'ni': 6918, 'nicest': 6919, 'nickjonas': 6920, 'niggers': 6921, 'nightshift': 6922, 'nikkei': 6923, 'nikki': 6924, 'nikon': 6925, 'nina': 6926, 'nitro': 6927, 'nj': 6928, 'no1': 6929, 'nohampton': 6930, 'nohate': 6931, 'noheast': 6932, 'nonracist': 6933, 'noon': 6934, 'noooo': 6935, 'norwich': 6936, 'notcool': 6937, 'notfunny': 6938, 'notifications': 6939, 'notreally': 6940, 'nuclear': 6941, 'numbers': 6942, 'nurse': 6943, 'nursing': 6944, 'nyman': 6945, 'nyt': 6946, 'objective': 6947, 'obs': 6948, 'obsession': 6949, 'obstruction': 6950, 'occasion': 6951, 'occurred': 6952, 'ocd': 6953, 'offended': 6954, 'offering': 6955, 'oi': 6956, 'oiler': 6957, 'oitnb4': 6958, 'omits': 6959, 'onion': 6960, 'onpoint': 6961, 'ontario': 6962, 'ontheredcarpet': 6963, 'oooh': 6964, 'ooooh': 6965, 'operation': 6966, 'opponents': 6967, 'oppose': 6968, 'oppounities': 6969, 'oral': 6970, 'oregon': 6971, 'orlandolove': 6972, 'oscarpistorius': 6973, 'oscarpretorious': 6974, 'outburst': 6975, 'outcome': 6976, 'outlets': 6977, 'overnight': 6978, 'owe': 6979, 'owlashop': 6980, 'ownership': 6981, 'oysters': 6982, 'pad': 6983, 'paddington': 6984, 'page3': 6985, 'paleo': 6986, 'palmbeach': 6987, 'pamper': 6988, 'panama': 6989, 'pancakes': 6990, 'paperback': 6991, 'par': 6992, 'paranoid': 6993, 'passes': 6994, 'passpo': 6995, 'pastel': 6996, 'pat': 6997, 'patch': 6998, 'patients': 6999, 'pattaya': 7000, 'pause': 7001, 'paycheck': 7002, 'payet': 7003, 'paypal': 7004, 'paz': 7005, 'pdf': 7006, 'pe': 7007, 'peak': 7008, 'peaked': 7009, 'peanut': 7010, 'peds': 7011, 'peepz': 7012, 'peonies': 7013, 'perma': 7014, 'personaldevelopment': 7015, 'personaltrainer': 7016, 'peter': 7017, 'phew': 7018, 'phoenix': 7019, 'photobooth': 7020, 'photograph': 7021, 'photographs': 7022, 'pin': 7023, 'pint': 7024, 'pisses': 7025, 'pity': 7026, 'pl': 7027, 'playstation': 7028, 'pllseason7': 7029, 'poc': 7030, 'poi': 7031, 'pointless': 7032, 'pokemonsunmoon': 7033, 'polaroid': 7034, 'polite': 7035, 'politically': 7036, 'polo': 7037, 'poolside': 7038, 'poorly': 7039, 'popped': 7040, 'posing': 7041, 'potatoes': 7042, 'pound': 7043, 'pov': 7044, 'powers': 7045, 'pple': 7046, 'ppt': 7047, 'prague': 7048, 'prank': 7049, 'precisely': 7050, 'preparations': 7051, 'presentations': 7052, 'presidentelect': 7053, 'pressed': 7054, 'presses': 7055, 'pressured': 7056, 'presumptive': 7057, 'prevail': 7058, 'preventable': 7059, 'previously': 7060, 'principles': 7061, 'prior': 7062, 'prizes': 7063, 'probs': 7064, 'producers': 7065, 'productions': 7066, 'professor': 7067, 'progressives': 7068, 'promised': 7069, 'proper': 7070, 'prospect': 7071, 'prostitutes': 7072, 'protected': 7073, 'protesters': 7074, 'protests': 7075, 'proudmom': 7076, 'proving': 7077, 'provoking': 7078, 'ps': 7079, 'psycho': 7080, 'ptsd': 7081, 'publicity': 7082, 'publicly': 7083, 'puglife': 7084, 'pugs': 7085, 'pundits': 7086, 'punished': 7087, 'punk': 7088, 'puppylove': 7089, 'pursue': 7090, 'python': 7091, 'qampa': 7092, 'quaer': 7093, 'que': 7094, 'quebec': 7095, 'quietly': 7096, 'quillen': 7097, 'quotesoftheday': 7098, 'radiohead': 7099, 'rainnyday': 7100, 'raising': 7101, 'ramadankareem': 7102, 'ramon': 7103, 'rappers': 7104, 'rare': 7105, 'raspberry': 7106, 'rating': 7107, 'ray': 7108, 'reaches': 7109, 'realised': 7110, 'realizing': 7111, 'rebellion': 7112, 'recharged': 7113, 'reddit': 7114, 'refreshing': 7115, 'refused': 7116, 'refuses': 7117, 'regards': 7118, 'relatives': 7119, 'relief': 7120, 'remake': 7121, 'remark': 7122, 'reminded': 7123, 'remotely': 7124, 'removal': 7125, 'removes': 7126, 'removing': 7127, 'renovation': 7128, 'renowned': 7129, 'rent': 7130, 'rep': 7131, 'repeating': 7132, 'replaced': 7133, 'replay': 7134, 'representation': 7135, 'required': 7136, 'rescued': 7137, 'researchers': 7138, 'residents': 7139, 'resolution': 7140, 'resolve': 7141, 'resolved': 7142, 'retailtherapy': 7143, 'reward': 7144, 'rhonda': 7145, 'richard': 7146, 'riddance': 7147, 'rifles': 7148, 'ringing': 7149, 'rising': 7150, 'riskoff': 7151, 'ritzcarlton': 7152, 'ro': 7153, 'robbie': 7154, 'rocking': 7155, 'rocknroll': 7156, 'roger': 7157, 'ron': 7158, 'rooting': 7159, 'rotten': 7160, 'roy': 7161, 'royalty': 7162, 'royaltyfreemusic': 7163, 'ruby': 7164, 'rus': 7165, 'rwnj': 7166, 'sach': 7167, 'sacramento': 7168, 'sailing': 7169, 'salt': 7170, 'salut': 7171, 'sample': 7172, 'samples': 7173, 'sandwich': 7174, 'sandyhook': 7175, 'satellite': 7176, 'saudi': 7177, 'sc': 7178, 'scenic': 7179, 'schoolofrock': 7180, 'sciencefiction': 7181, 'scientists': 7182, 'screening': 7183, 'scuba': 7184, 'sd': 7185, 'seal': 7186, 'sealed': 7187, 'season7': 7188, 'seasoned': 7189, 'seaworld': 7190, 'secondlife': 7191, 'section': 7192, 'seek': 7193, 'seeking': 7194, 'selection': 7195, 'selfesteem': 7196, 'selfhelp': 7197, 'selfrespect': 7198, 'sends': 7199, 'senior': 7200, 'sentiments': 7201, 'seoul': 7202, 'sephora': 7203, 'sequence': 7204, 'serenity': 7205, 'serving': 7206, 'setup': 7207, 'sew': 7208, 'sexualpredator': 7209, 'sh': 7210, 'shade': 7211, 'shadow': 7212, 'shakes': 7213, 'shares': 7214, 'sheets': 7215, 'shld': 7216, 'shocker': 7217, 'shoplocal': 7218, 'shopper': 7219, 'shops': 7220, 'shoulder': 7221, 'showcases': 7222, 'shuttle': 7223, 'si': 7224, 'signal': 7225, 'silve': 7226, 'simon': 7227, 'simplest': 7228, 'simplicity': 7229, 'sin': 7230, 'sisterhood': 7231, 'sixty': 7232, 'ski': 7233, 'skiing': 7234, 'skill': 7235, 'skilled': 7236, 'sl': 7237, 'slap': 7238, 'slaughter': 7239, 'slaughtering': 7240, 'sleepless': 7241, 'sliding': 7242, 'slim': 7243, 'slimmer': 7244, 'slip': 7245, 'smaccdub': 7246, 'smallbusiness': 7247, 'smashed': 7248, 'smdh': 7249, 'smileyface': 7250, 'smooth': 7251, 'smores': 7252, 'snacks': 7253, 'snd': 7254, 'sneaky': 7255, 'snooze': 7256, 'snowball': 7257, 'soa': 7258, 'soar': 7259, 'socialanxiety': 7260, 'socially': 7261, 'sole': 7262, 'someday': 7263, 'somethin': 7264, 'songwriter': 7265, 'soooooo': 7266, 'sour': 7267, 'spade': 7268, 'spagetti': 7269, 'spare': 7270, 'sparkle': 7271, 'species': 7272, 'spectrum': 7273, 'spew': 7274, 'spice': 7275, 'splendid': 7276, 'sponsoring': 7277, 'sponsors': 7278, 'spoonie': 7279, 'spoy': 7280, 'spray': 7281, 'stance': 7282, 'stanleycup': 7283, 'starlight': 7284, 'steady': 7285, 'steals': 7286, 'stepdad': 7287, 'stephcurrys': 7288, 'sterling': 7289, 'stickers': 7290, 'stockmusic': 7291, 'stole': 7292, 'stomach': 7293, 'stopgunviolence': 7294, 'stopthehate': 7295, 'storage': 7296, 'strategy': 7297, 'stressed': 7298, 'strike': 7299, 'stripes': 7300, 'strips': 7301, 'striving': 7302, 'stud': 7303, 'studies': 7304, 'stylehausboutique': 7305, 'stylistic': 7306, 'su': 7307, 'submitted': 7308, 'subtle': 7309, 'succubus': 7310, 'suffolk': 7311, 'suga': 7312, 'sum': 7313, 'summerfair': 7314, 'summers': 7315, 'sunderland': 7316, 'sunflowers': 7317, 'sunnies': 7318, 'superman': 7319, 'suppoed': 7320, 'suppression': 7321, 'surface': 7322, 'surprising': 7323, 'surround': 7324, 'surviving': 7325, 'survivor': 7326, 'suspect': 7327, 'suspected': 7328, 'swearing': 7329, 'sweater': 7330, 'sweets': 7331, 'swimsuit': 7332, 'swimwear': 7333, 'switch': 7334, 'switching': 7335, 'symptoms': 7336, 'tabarez': 7337, 'tackle': 7338, 'tags': 7339, 'tagsforlikebeautifulselfieg': 7340, 'tail': 7341, 'tank': 7342, 'tanned': 7343, 'tapas': 7344, 'tdl': 7345, 'tedatibm': 7346, 'tedtalks': 7347, 'tee': 7348, 'teletubbiesusa': 7349, 'temper': 7350, 'tense': 7351, 'tequila': 7352, 'testimony': 7353, 'texts': 7354, 'tgifriday': 7355, 'tgifridays': 7356, 'thanksgiving': 7357, 'thankyoustudio': 7358, 'thefosters': 7359, 'thegreatest': 7360, 'themusketeers': 7361, 'theron': 7362, 'thewiam2016': 7363, 'thieves': 7364, 'thin': 7365, 'thirst': 7366, 'threatening': 7367, 'threw': 7368, 'thrill': 7369, 'thriller': 7370, 'throat': 7371, 'thrones': 7372, 'throughout': 7373, 'thumb': 7374, 'thunder': 7375, 'ties': 7376, 'tin': 7377, 'titanic': 7378, 'titles': 7379, 'tits': 7380, 'tl': 7381, 'tmrw': 7382, 'tn': 7383, 'toa': 7384, 'toast': 7385, 'todo': 7386, 'togetherstronger': 7387, 'tolstoy': 7388, 'tongue': 7389, 'tools': 7390, 'toothbrush': 7391, 'top10': 7392, 'topics': 7393, 'tops': 7394, 'touched': 7395, 'tragically': 7396, 'trained': 7397, 'trains': 7398, 'trampled': 7399, 'trans': 7400, 'travelgram': 7401, 'travelingram': 7402, 'travis': 7403, 'treasure': 7404, 'treasures': 7405, 'trendy': 7406, 'trim': 7407, 'trims': 7408, 'trio': 7409, 'triste': 7410, 'trophy': 7411, 'trump2016': 7412, 'trumpism': 7413, 'trumpsamerica': 7414, 'trumpusa': 7415, 'tryna': 7416, 'tsa': 7417, 'tshis': 7418, 'tules': 7419, 'turner': 7420, 'tweegram': 7421, 'tweeps': 7422, 'twenty': 7423, 'twilight': 7424, 'twin': 7425, 'twinklatinboys': 7426, 'twist': 7427, 'twisted': 7428, 'tx': 7429, 'tyranny': 7430, 'uber': 7431, 'ultra': 7432, 'unacceptable': 7433, 'unbreakable': 7434, 'uncle': 7435, 'unextraordinary': 7436, 'uniform': 7437, 'unifying': 7438, 'uniteblue': 7439, 'unitedstates': 7440, 'unjust': 7441, 'unlikely': 7442, 'unmasking': 7443, 'unstable': 7444, 'unwavering': 7445, 'upcm': 7446, 'upcycled': 7447, 'ure': 7448, 'urself': 7449, 'usher': 7450, 'ut': 7451, 'vacuum': 7452, 'valentines': 7453, 'valid': 7454, 'valued': 7455, 'vape': 7456, 'vegetarian': 7457, 'veggie': 7458, 'vehicles': 7459, 'veiled': 7460, 'venezuela': 7461, 'venues': 7462, 'verified': 7463, 'versa': 7464, 'verysad': 7465, 'vets': 7466, 'videoclip': 7467, 'viewer': 7468, 'viewing': 7469, 'vincent': 7470, 'vindication': 7471, 'visited': 7472, 'vitiating': 7473, 'vitorr': 7474, 'void': 7475, 'volunteers': 7476, 'volunteersweek': 7477, 'vox': 7478, 'vscodaily': 7479, 'vscolove': 7480, 'vscoph': 7481, 'vscoturkey': 7482, 'wade': 7483, 'wah': 7484, 'wakeupamerica': 7485, 'wal': 7486, 'wallpapers': 7487, 'walt': 7488, 'wang': 7489, 'washed': 7490, 'washing': 7491, 'watchthisspace': 7492, 'watering': 7493, 'wayne': 7494, 'weakness': 7495, 'weareorlando': 7496, 'webdesign': 7497, 'webster': 7498, 'weddingday': 7499, 'weeksary': 7500, 'weighed': 7501, 'welfare': 7502, 'westend': 7503, 'westpac': 7504, 'whatajoke': 7505, 'whatsapp': 7506, 'whatson': 7507, 'wheels': 7508, 'whining': 7509, 'whiskey': 7510, 'whitesupremacist': 7511, 'wicked': 7512, 'wide': 7513, 'wifi': 7514, 'wil': 7515, 'wiley': 7516, 'winding': 7517, 'winelover': 7518, 'wines': 7519, 'winfrey': 7520, 'wip': 7521, 'wisely': 7522, 'wished': 7523, 'witnessing': 7524, 'woe': 7525, 'woes': 7526, 'wohwhile': 7527, 'woods': 7528, 'woori': 7529, 'worker': 7530, 'workshops': 7531, 'wounded': 7532, 'wounds': 7533, 'wrapped': 7534, 'wrapping': 7535, 'wreck': 7536, 'wtf2016': 7537, 'wypipo': 7538, 'xboxones': 7539, 'xo': 7540, 'yeahhh': 7541, 'yegfood': 7542, 'yesssss': 7543, 'yg': 7544, 'yogalove': 7545, 'yousuck': 7546, 'youthday2016': 7547, 'youuu': 7548, 'yul': 7549, 'yumy': 7550, 'yur': 7551, 'yyt': 7552, 'zaynmalik': 7553, 'zimbabwe': 7554, 'zombie': 7555, 'zoological': 7556, 'zootopia': 7557, 'zurich': 7558})\n"
          ]
        }
      ]
    },
    {
      "cell_type": "code",
      "source": [
        "device = torch.device('cuda' if torch.cuda.is_available() else 'cpu')  \n",
        "\n",
        "#set batch size\n",
        "BATCH_SIZE = 64\n",
        "\n",
        "#Load an iterator\n",
        "train_iterator, valid_iterator, test_iterator = BucketIterator.splits(\n",
        "    (train, val, test), \n",
        "    batch_size = BATCH_SIZE,\n",
        "    sort_key = lambda x: len(x.clean_tweet),\n",
        "    sort_within_batch=True,\n",
        "    device = device)"
      ],
      "metadata": {
        "id": "qG4xwKapjnza"
      },
      "execution_count": 13,
      "outputs": []
    },
    {
      "cell_type": "code",
      "source": [
        "import torch.nn as nn\n",
        "from torch.nn.utils.rnn import pack_padded_sequence, pad_packed_sequence\n",
        "import torch.nn.functional as F\n",
        "\n",
        "class classifier(nn.Module):\n",
        "    \n",
        "    #define all the layers used in model\n",
        "    def __init__(self, vocab_size, embedding_dim, hidden_dim, output_dim, n_layers, \n",
        "                 bidirectional, dropout):\n",
        "        \n",
        "        #Constructor\n",
        "        super().__init__()          \n",
        "        self.embedding_dim = embedding_dim\n",
        "        #embedding layer\n",
        "        self.embedding = nn.Embedding(vocab_size, embedding_dim)\n",
        "        \n",
        "        #lstm layer\n",
        "        self.lstm = nn.LSTM(embedding_dim, \n",
        "                           hidden_dim, \n",
        "                           num_layers=n_layers, \n",
        "                           bidirectional=True, \n",
        "                           dropout=dropout,\n",
        "                           batch_first=True)\n",
        "        \n",
        "        #dense layer\n",
        "        self.fc = nn.Linear(hidden_dim * 2, output_dim)\n",
        "        \n",
        "        #activation function\n",
        "        self.act = nn.Sigmoid()\n",
        "        \n",
        "    def forward(self, text, text_lengths):\n",
        "        \n",
        "        #text = [batch size,sent_length]\n",
        "        embedded = self.embedding(text)\n",
        "        #embedded = [batch size, sent_len, emb dim]\n",
        "      \n",
        "        #packed sequence\n",
        "        packed_embedded = nn.utils.rnn.pack_padded_sequence(embedded, text_lengths,batch_first=True, \n",
        "                                                            enforce_sorted=False)\n",
        "        \n",
        "        packed_output, (hidden, cell) = self.lstm(packed_embedded)\n",
        "        output, _ = pad_packed_sequence(packed_output, batch_first=True)\n",
        "        #hidden = [batch size, num layers * num directions,hid dim]\n",
        "        #cell = [batch size, num layers * num directions,hid dim]\n",
        "        \n",
        "        #concat the final forward and backward hidden state\n",
        "        hidden = torch.cat((hidden[-2,:,:], hidden[-1,:,:]), dim = 1)\n",
        "                \n",
        "        #hidden = [batch size, hid dim * num directions]\n",
        "\n",
        "        out_forward = output[range(len(output)), text_lengths - 1, :self.embedding_dim]\n",
        "        out_reverse = output[:, 0, self.embedding_dim:]\n",
        "        out_reduced = torch.cat((out_forward, out_reverse), 1)\n",
        "\n",
        "        dense_outputs=self.fc(out_reduced)\n",
        "        # dense_outputs = torch.squeeze(dense_outputs, 1)\n",
        "        #Final activation function\n",
        "        outputs=F.log_softmax(dense_outputs)\n",
        "        \n",
        "        return outputs"
      ],
      "metadata": {
        "id": "VKSGkL1skcgT"
      },
      "execution_count": 14,
      "outputs": []
    },
    {
      "cell_type": "code",
      "source": [
        "size_of_vocab = len(TEXT.vocab)\n",
        "embedding_dim = 25\n",
        "num_hidden_nodes = 20\n",
        "num_output_nodes = 1\n",
        "num_layers = 2\n",
        "bidirection = True\n",
        "dropout = 0.2\n",
        "\n",
        "#instantiate the model\n",
        "model = classifier(size_of_vocab, embedding_dim, num_hidden_nodes,num_output_nodes, num_layers, \n",
        "                   bidirectional = True, dropout = dropout)"
      ],
      "metadata": {
        "id": "3p0YFjHvjzd2"
      },
      "execution_count": 15,
      "outputs": []
    },
    {
      "cell_type": "code",
      "source": [
        "#architecture\n",
        "print(model)\n",
        "\n",
        "#No. of trianable parameters\n",
        "def count_parameters(model):\n",
        "    return sum(p.numel() for p in model.parameters() if p.requires_grad)\n",
        "    \n",
        "print(f'The model has {count_parameters(model):,} trainable parameters')\n",
        "\n",
        "#Initialize the pretrained embedding\n",
        "pretrained_embeddings = TEXT.vocab.vectors\n",
        "model.embedding.weight.data.copy_(pretrained_embeddings)\n",
        "\n",
        "print(pretrained_embeddings.shape)"
      ],
      "metadata": {
        "colab": {
          "base_uri": "https://localhost:8080/"
        },
        "id": "P4BUZ_a6kkfr",
        "outputId": "27239185-c885-44d3-d4a1-1b542ade168a"
      },
      "execution_count": 16,
      "outputs": [
        {
          "output_type": "stream",
          "name": "stdout",
          "text": [
            "classifier(\n",
            "  (embedding): Embedding(7559, 25)\n",
            "  (lstm): LSTM(25, 20, num_layers=2, batch_first=True, dropout=0.2, bidirectional=True)\n",
            "  (fc): Linear(in_features=40, out_features=1, bias=True)\n",
            "  (act): Sigmoid()\n",
            ")\n",
            "The model has 206,456 trainable parameters\n",
            "torch.Size([7559, 25])\n"
          ]
        }
      ]
    },
    {
      "cell_type": "code",
      "source": [
        "import torch.optim as optim\n",
        "from sklearn.metrics import accuracy_score, classification_report, confusion_matrix\n",
        "\n",
        "#define optimizer and loss\n",
        "optimizer = optim.Adam(model.parameters())\n",
        "criterion = nn.BCELoss()\n",
        "\n",
        "#define metric\n",
        "def binary_accuracy(preds, y):\n",
        "    # print(preds)\n",
        "    # print(y)\n",
        "    #round predictions to the closest integer\n",
        "    rounded_preds = torch.round(preds)\n",
        "    \n",
        "    correct = (rounded_preds == y).float() \n",
        "    acc = correct.sum() / len(correct)\n",
        "\n",
        "    accuracy = 0.0\n",
        "    for i, y_ in enumerate(preds):\n",
        "      if y_ == y[i]:\n",
        "          accuracy += 1.0   \n",
        "      accuracy = accuracy / len(preds)\n",
        "      #print('Test Accuracy: ', accuracy)\n",
        "              \n",
        "      # print('Classification Report:')\n",
        "      # print(classification_report(y, preds, labels=[1,0], digits=4))\n",
        "      \n",
        "    return acc\n",
        "    \n",
        "#push to cuda if available\n",
        "model = model.to(device)\n",
        "criterion = criterion.to(device)"
      ],
      "metadata": {
        "id": "QxF8RWfYkst1"
      },
      "execution_count": 37,
      "outputs": []
    },
    {
      "cell_type": "code",
      "source": [
        "def train(model, iterator, optimizer, criterion):\n",
        "    \n",
        "    #initialize every epoch \n",
        "    epoch_loss = 0\n",
        "    epoch_acc = 0\n",
        "    \n",
        "    #set the model in training phase\n",
        "    model.train()  \n",
        "    \n",
        "    for batch in iterator:\n",
        "        #resets the gradients after every batch\n",
        "        optimizer.zero_grad()   \n",
        "        \n",
        "        #retrieve text and no. of words\n",
        "        text, text_lengths = batch.clean_tweet   \n",
        "        \n",
        "        #convert to 1D tensor\n",
        "        predictions = model(text, text_lengths).squeeze()  \n",
        "        \n",
        "        #compute the loss\n",
        "        loss = criterion(predictions, batch.label)        \n",
        "        \n",
        "        #compute the binary accuracy\n",
        "        acc = binary_accuracy(predictions, batch.label)   \n",
        "        \n",
        "        #backpropage the loss and compute the gradients\n",
        "        loss.backward()       \n",
        "        \n",
        "        #update the weights\n",
        "        optimizer.step()      \n",
        "        \n",
        "        #loss and accuracy\n",
        "        epoch_loss += loss.item()  \n",
        "        epoch_acc += acc.item()    \n",
        "        \n",
        "    return epoch_loss / len(iterator), epoch_acc / len(iterator)"
      ],
      "metadata": {
        "id": "sIrwEHCMmi2J"
      },
      "execution_count": 33,
      "outputs": []
    },
    {
      "cell_type": "code",
      "source": [
        "def evaluate(model, iterator, criterion):\n",
        "    \n",
        "    #initialize every epoch\n",
        "    epoch_loss = 0\n",
        "    epoch_acc = 0\n",
        "\n",
        "    #deactivating dropout layers\n",
        "    model.eval()\n",
        "    iter = 0\n",
        "\n",
        "    #deactivates autograd\n",
        "    with torch.no_grad():\n",
        "    \n",
        "        for batch in iterator:\n",
        "            print(batch)\n",
        "            iter += 1\n",
        "            #retrieve text and no. of words\n",
        "            text, text_lengths = batch.clean_tweet\n",
        "            \n",
        "            #convert to 1d tensor\n",
        "            predictions = model(text, text_lengths).squeeze()\n",
        "            \n",
        "            #compute loss and accuracy\n",
        "            loss = criterion(predictions, batch.label)\n",
        "            acc = binary_accuracy(predictions, batch.label)\n",
        "            acc = 0.0\n",
        "\n",
        "            if iter % 100:\n",
        "              print(\"Loss\", loss)\n",
        "              print(\"Acc\", acc)\n",
        "            \n",
        "            #keep track of loss and accuracy\n",
        "            epoch_loss += loss.item()\n",
        "            epoch_acc += acc.item()\n",
        "        \n",
        "    return epoch_loss / len(iterator), epoch_acc / len(iterator)"
      ],
      "metadata": {
        "id": "THxrq5RomkQz"
      },
      "execution_count": 38,
      "outputs": []
    },
    {
      "cell_type": "code",
      "source": [
        "N_EPOCHS = 5\n",
        "best_valid_loss = float('inf')\n",
        "\n",
        "for epoch in range(N_EPOCHS):\n",
        "     \n",
        "    #train the model\n",
        "    train_loss, train_acc = train(model, train_iterator, optimizer, criterion)\n",
        "    \n",
        "    #evaluate the model\n",
        "    valid_loss, valid_acc = evaluate(model, valid_iterator, criterion)\n",
        "    \n",
        "    #save the best model\n",
        "    if valid_loss < best_valid_loss:\n",
        "        best_valid_loss = valid_loss\n",
        "        torch.save(model.state_dict(), 'saved_weights.pt')\n",
        "    \n",
        "    print(f'\\tTrain Loss: {train_loss:.3f} | Train Acc: {train_acc*100:.2f}%')\n",
        "    print(f'\\t Val. Loss: {valid_loss:.3f} |  Val. Acc: {valid_acc*100:.2f}%')"
      ],
      "metadata": {
        "colab": {
          "base_uri": "https://localhost:8080/",
          "height": 499
        },
        "id": "TPbif2BRmol4",
        "outputId": "64b64076-224c-4c1a-8fee-8b16d54a9587"
      },
      "execution_count": 39,
      "outputs": [
        {
          "output_type": "stream",
          "name": "stderr",
          "text": [
            "/usr/local/lib/python3.7/dist-packages/ipykernel_launcher.py:58: UserWarning: Implicit dimension choice for log_softmax has been deprecated. Change the call to include dim=X as an argument.\n"
          ]
        },
        {
          "output_type": "stream",
          "name": "stdout",
          "text": [
            "\n",
            "[torchtext.legacy.data.batch.Batch of size 64]\n",
            "\t[.label]:[torch.FloatTensor of size 64]\n",
            "\t[.clean_tweet]:('[torch.LongTensor of size 64x2]', '[torch.LongTensor of size 64]')\n",
            "Loss tensor(202737.5000)\n",
            "Acc 0.0\n"
          ]
        },
        {
          "output_type": "error",
          "ename": "AttributeError",
          "evalue": "ignored",
          "traceback": [
            "\u001b[0;31m---------------------------------------------------------------------------\u001b[0m",
            "\u001b[0;31mAttributeError\u001b[0m                            Traceback (most recent call last)",
            "\u001b[0;32m<ipython-input-39-5cf4dd163488>\u001b[0m in \u001b[0;36m<module>\u001b[0;34m()\u001b[0m\n\u001b[1;32m      8\u001b[0m \u001b[0;34m\u001b[0m\u001b[0m\n\u001b[1;32m      9\u001b[0m     \u001b[0;31m#evaluate the model\u001b[0m\u001b[0;34m\u001b[0m\u001b[0;34m\u001b[0m\u001b[0;34m\u001b[0m\u001b[0m\n\u001b[0;32m---> 10\u001b[0;31m     \u001b[0mvalid_loss\u001b[0m\u001b[0;34m,\u001b[0m \u001b[0mvalid_acc\u001b[0m \u001b[0;34m=\u001b[0m \u001b[0mevaluate\u001b[0m\u001b[0;34m(\u001b[0m\u001b[0mmodel\u001b[0m\u001b[0;34m,\u001b[0m \u001b[0mvalid_iterator\u001b[0m\u001b[0;34m,\u001b[0m \u001b[0mcriterion\u001b[0m\u001b[0;34m)\u001b[0m\u001b[0;34m\u001b[0m\u001b[0;34m\u001b[0m\u001b[0m\n\u001b[0m\u001b[1;32m     11\u001b[0m \u001b[0;34m\u001b[0m\u001b[0m\n\u001b[1;32m     12\u001b[0m     \u001b[0;31m#save the best model\u001b[0m\u001b[0;34m\u001b[0m\u001b[0;34m\u001b[0m\u001b[0;34m\u001b[0m\u001b[0m\n",
            "\u001b[0;32m<ipython-input-38-a3f0ce9fb781>\u001b[0m in \u001b[0;36mevaluate\u001b[0;34m(model, iterator, criterion)\u001b[0m\n\u001b[1;32m     32\u001b[0m             \u001b[0;31m#keep track of loss and accuracy\u001b[0m\u001b[0;34m\u001b[0m\u001b[0;34m\u001b[0m\u001b[0;34m\u001b[0m\u001b[0m\n\u001b[1;32m     33\u001b[0m             \u001b[0mepoch_loss\u001b[0m \u001b[0;34m+=\u001b[0m \u001b[0mloss\u001b[0m\u001b[0;34m.\u001b[0m\u001b[0mitem\u001b[0m\u001b[0;34m(\u001b[0m\u001b[0;34m)\u001b[0m\u001b[0;34m\u001b[0m\u001b[0;34m\u001b[0m\u001b[0m\n\u001b[0;32m---> 34\u001b[0;31m             \u001b[0mepoch_acc\u001b[0m \u001b[0;34m+=\u001b[0m \u001b[0macc\u001b[0m\u001b[0;34m.\u001b[0m\u001b[0mitem\u001b[0m\u001b[0;34m(\u001b[0m\u001b[0;34m)\u001b[0m\u001b[0;34m\u001b[0m\u001b[0;34m\u001b[0m\u001b[0m\n\u001b[0m\u001b[1;32m     35\u001b[0m \u001b[0;34m\u001b[0m\u001b[0m\n\u001b[1;32m     36\u001b[0m     \u001b[0;32mreturn\u001b[0m \u001b[0mepoch_loss\u001b[0m \u001b[0;34m/\u001b[0m \u001b[0mlen\u001b[0m\u001b[0;34m(\u001b[0m\u001b[0miterator\u001b[0m\u001b[0;34m)\u001b[0m\u001b[0;34m,\u001b[0m \u001b[0mepoch_acc\u001b[0m \u001b[0;34m/\u001b[0m \u001b[0mlen\u001b[0m\u001b[0;34m(\u001b[0m\u001b[0miterator\u001b[0m\u001b[0;34m)\u001b[0m\u001b[0;34m\u001b[0m\u001b[0;34m\u001b[0m\u001b[0m\n",
            "\u001b[0;31mAttributeError\u001b[0m: 'float' object has no attribute 'item'"
          ]
        }
      ]
    },
    {
      "cell_type": "markdown",
      "source": [
        "## From last year\n"
      ],
      "metadata": {
        "id": "L2dJClqaX9wC"
      }
    },
    {
      "cell_type": "code",
      "source": [
        "import torch\n",
        "import torch.nn as nn\n",
        "import numpy as np\n",
        "from sklearn.metrics import accuracy_score, classification_report, confusion_matrix\n",
        "import matplotlib.pyplot as plt\n",
        "import seaborn as sns\n",
        "\n",
        "def evaluate_full(model, test_loader, device='cpu'):\n",
        "    '''\n",
        "    Accepts the current best model and evaluates\n",
        "    the test dataset. Printing test accuracy and\n",
        "    an sklearn confusion matrix report.\n",
        "    \n",
        "    Inputs:\n",
        "    - model: PyTorch model object, the current best model.\n",
        "    - test_loader: an iterator with test data.\n",
        "    - device: string, 'cpu' or 'cuda' if using google colab.\n",
        "    \n",
        "    Returns: None.\n",
        "    \n",
        "    Other Effects:\n",
        "        Prints test accuracy.\n",
        "        Prints an Accuracy / F1 Report (sklearn)\n",
        "        Prints a Confusion Matrix (sklearn & matplotlib)\n",
        "    '''\n",
        "    y_pred = []\n",
        "    y_true = []\n",
        "\n",
        "    model.eval()\n",
        "    with torch.no_grad():\n",
        "        for (labels, (text, text_len)), _ in test_loader:           \n",
        "            labels = labels.to(device)\n",
        "            text = text.to(device)\n",
        "            text_len = text_len.to(device)\n",
        "            output = model(text, text_len)            \n",
        "            output = torch.max(output, axis=1).indices\n",
        "            y_pred.extend(output.tolist())\n",
        "            y_true.extend(labels.tolist())\n",
        "    print(y_pred)\n",
        "    print(y_true)\n",
        "    acc = 0.0\n",
        "    for i, y in enumerate(y_pred):\n",
        "        if y == y_true[i]:\n",
        "            acc += 1.0\n",
        "    \n",
        "    acc = acc / len(y_pred)\n",
        "    \n",
        "    \n",
        "    print('Test Accuracy: ', acc)\n",
        "    \n",
        "    print('Classification Report:')\n",
        "    print(classification_report(y_true, y_pred, labels=[1,0], digits=4))\n",
        "    \n",
        "    cm = confusion_matrix(y_true, y_pred, labels=[1,0])\n",
        "    ax= plt.subplot()\n",
        "    sns.heatmap(cm, annot=True, ax = ax, cmap='Blues', fmt=\"d\")\n",
        "\n",
        "    ax.set_title('Confusion Matrix')\n",
        "\n",
        "    ax.set_xlabel('Predicted Labels')\n",
        "    ax.set_ylabel('True Labels')\n",
        "\n",
        "    ax.xaxis.set_ticklabels(['HIGH','LOW'])\n",
        "    ax.yaxis.set_ticklabels(['HIGH','LOW'])\n",
        "    \n",
        "    return None"
      ],
      "metadata": {
        "id": "qJLkmIllJGuT"
      },
      "execution_count": 24,
      "outputs": []
    },
    {
      "cell_type": "code",
      "source": [
        "def save_checkpoint(save_path, model, optimizer, valid_loss):\n",
        "    '''\n",
        "    Used in train_model() to save the current best model.\n",
        "    \n",
        "    Inputs:\n",
        "        - save_path: string, where to save model specs.\n",
        "        - model: a PyTorch model object.\n",
        "        - optimizer: a PyTorch Optimizer to be used.\n",
        "        - train_loader: the iterator with training data.\n",
        "        - valid_loss: float, current model loss.\n",
        "        \n",
        "    Returns: None.\n",
        "    \n",
        "    Other Effects:\n",
        "        - Saves the best model's state dictionary to designated\n",
        "        file path as 'model.pt'\n",
        "    '''\n",
        "\n",
        "    if save_path == None:\n",
        "        return\n",
        "    \n",
        "    state_dict = {'model_state_dict': model.state_dict(),\n",
        "                  'optimizer_state_dict': optimizer.state_dict(),\n",
        "                  'valid_loss': valid_loss}\n",
        "    \n",
        "    torch.save(state_dict, save_path)\n",
        "    print(f'Model saved to ==> {save_path}')\n",
        "\n",
        "\n",
        "def load_checkpoint(load_path, model, optimizer, device='cpu'):\n",
        "    '''\n",
        "    Used in evaluate() to load the current best model.\n",
        "    \n",
        "    Inputs:\n",
        "        - load_path: string, where to save model specs.\n",
        "        - model: a PyTorch model object.\n",
        "        - optimizer: a PyTorch Optimizer to be used.\n",
        "        - device: string, 'cpu' or 'cuda' if using google colab.\n",
        "        \n",
        "    Returns: float, the models last validation loss.\n",
        "    \n",
        "    Other Effects:\n",
        "        - Loads the saved state at load_path\n",
        "        into the current model object\n",
        "    '''\n",
        "    if load_path==None:\n",
        "        return\n",
        "\n",
        "    state_dict = torch.load(load_path, map_location=device)\n",
        "    print(f'Model loaded from <== {load_path}')\n",
        "    \n",
        "    model.load_state_dict(state_dict['model_state_dict'])\n",
        "    optimizer.load_state_dict(state_dict['optimizer_state_dict'])\n",
        "    \n",
        "    return state_dict['valid_loss']\n",
        "\n",
        "\n",
        "def save_metrics(save_path, train_loss_list, valid_loss_list, global_steps_list):\n",
        "    '''\n",
        "    Used in train_model() to save the current best model.\n",
        "    \n",
        "    Inputs:\n",
        "        - save_path: string, where to save model specs.\n",
        "        - train_loss_list: list of float, current model training losses.\n",
        "        - valid_loss_list: list of float, current model validation losses.\n",
        "        - global_steps_list: list of loss function calculation steps.\n",
        "        \n",
        "    Returns: None.\n",
        "    \n",
        "    Other Effects:\n",
        "        - Saves the best model's loss history designated\n",
        "        file path as 'metrics.pt'\n",
        "    '''\n",
        "    if save_path == None:\n",
        "        return\n",
        "    \n",
        "    state_dict = {'train_loss_list': train_loss_list,\n",
        "                  'valid_loss_list': valid_loss_list,\n",
        "                  'global_steps_list': global_steps_list}\n",
        "    \n",
        "    torch.save(state_dict, save_path)\n",
        "    print(f'Model saved to ==> {save_path}')\n",
        "\n",
        "\n",
        "def load_metrics(load_path, device='cpu'):\n",
        "    '''\n",
        "    Used in evaluate() to load the current best model.\n",
        "    \n",
        "    Inputs:\n",
        "        - load_path: string, where find model specs.\n",
        "        - device: string, 'cpu' or 'cuda' if using google colab.\n",
        "    Returns: tuple (train_loss_list, valid_loss_list, global_steps_list)\n",
        "        - train_loss_list: list of float, current model training losses.\n",
        "        - valid_loss_list: list of float, current model validation losses.\n",
        "        - global_steps_list: list of loss function calculation steps.\n",
        "    '''\n",
        "    if load_path==None:\n",
        "        return\n",
        "    \n",
        "    state_dict = torch.load(load_path, map_location=device)\n",
        "    print(f'Model loaded from <== {load_path}')\n",
        "    \n",
        "    return (state_dict['train_loss_list'], \n",
        "            state_dict['valid_loss_list'], \n",
        "            state_dict['global_steps_list'])\n",
        "        "
      ],
      "metadata": {
        "id": "WdKALlcEAE6K"
      },
      "execution_count": 28,
      "outputs": []
    },
    {
      "cell_type": "code",
      "source": [
        "def train_model(model,\n",
        "                optimizer,\n",
        "                train_loader,\n",
        "                valid_loader,\n",
        "                criterion = nn.CrossEntropyLoss(),\n",
        "                num_epochs = 2,\n",
        "                file_path = './data',\n",
        "                best_valid_loss = float(\"Inf\"),\n",
        "                device='cpu'):\n",
        "    '''\n",
        "    Runs training and evaluation on validation data loop over specified number of epochs.\n",
        "    \n",
        "    Inputs:\n",
        "        - model: a PyTorch model object. In this case, the one from lstm.py.\n",
        "        - optimizer: a PyTorch Optimizer to be used.\n",
        "        - train_loader: the iterator with training data.\n",
        "        - valid_loader: the iterator with validation data.\n",
        "        - criterion: a PyTorch loss function instance.\n",
        "        - num_epochs: int, how many epochs to train over.\n",
        "        - file_path: string, where to save model specs.\n",
        "        - best_valid_loss: float, defaults to infinity to start training from scratch, \n",
        "            but if continuing from a prior run and wish to only save better outcomes,\n",
        "            you can pass the last best model's loss.\n",
        "        - device: string, 'cpu' or 'cuda' if running on google colab.\n",
        "    \n",
        "    Returns: None.\n",
        "    \n",
        "    Other Effects:\n",
        "        - Saves the best model's state dictionary to designated\n",
        "        file path as 'model.pt'\n",
        "        - Saves loss history to designated file path as '/metrics.pt'\n",
        "    '''\n",
        "    \n",
        "    eval_every = len(train_loader) // 2\n",
        "    \n",
        "    # initialize running values\n",
        "    running_loss = 0.0\n",
        "    valid_running_loss = 0.0\n",
        "    global_step = 0\n",
        "    train_loss_list = []\n",
        "    valid_loss_list = []\n",
        "    global_steps_list = []\n",
        "\n",
        "    # training loop\n",
        "    model.train()\n",
        "    for epoch in range(num_epochs):\n",
        "        for (labels, (text, text_len)), _ in train_loader:           \n",
        "            labels = labels.to(device)\n",
        "            text = text.to(device)\n",
        "            text_len = text_len.to(device)\n",
        "            output = model(text, text_len).squeeze()\n",
        "            loss = criterion(output, labels)\n",
        "            optimizer.zero_grad()\n",
        "            loss.backward()\n",
        "            optimizer.step()\n",
        "\n",
        "            # update running values\n",
        "            running_loss += loss.item()\n",
        "            global_step += 1\n",
        "\n",
        "            # evaluation step\n",
        "            if global_step % eval_every == 0:\n",
        "                model.eval()\n",
        "                with torch.no_grad():                    \n",
        "                  # validation loop\n",
        "                  for (labels, (text, text_len)), _ in valid_loader:\n",
        "                        labels = labels.to(device)\n",
        "                        text = text.to(device)\n",
        "                        text_len = text_len.to(device)\n",
        "                        output = model(text, text_len).squeeze()\n",
        "                        loss = criterion(output, labels)\n",
        "                        valid_running_loss += loss.item()\n",
        "\n",
        "                # evaluation\n",
        "                average_train_loss = running_loss / eval_every\n",
        "                average_valid_loss = valid_running_loss / len(valid_loader)\n",
        "                train_loss_list.append(average_train_loss)\n",
        "                valid_loss_list.append(average_valid_loss)\n",
        "                global_steps_list.append(global_step)\n",
        "\n",
        "                # resetting running values\n",
        "                running_loss = 0.0                \n",
        "                valid_running_loss = 0.0\n",
        "                model.train()\n",
        "\n",
        "                # print progress\n",
        "                print('Epoch [{}/{}], Step [{}/{}], Train Loss: {:.4f}, Valid Loss: {:.4f}'\n",
        "                      .format(epoch+1, num_epochs, global_step, num_epochs*len(train_loader),\n",
        "                              average_train_loss, average_valid_loss))\n",
        "                \n",
        "                # checkpoint\n",
        "                if best_valid_loss > average_valid_loss:\n",
        "                    best_valid_loss = average_valid_loss\n",
        "                    print(best_valid_loss)\n",
        "                    save_checkpoint('/model.pt', model, optimizer, best_valid_loss)\n",
        "                    save_metrics('/metrics.pt', train_loss_list, valid_loss_list, global_steps_list)\n",
        "    print(train_loss_list, valid_loss_list, global_steps_list)\n",
        "    save_metrics('/metrics.pt', train_loss_list, valid_loss_list, global_steps_list)\n",
        "    print('Finished Training!')\n",
        "    \n",
        "    return None"
      ],
      "metadata": {
        "id": "90YadA77AEk8"
      },
      "execution_count": 26,
      "outputs": []
    },
    {
      "cell_type": "code",
      "source": [
        "SAVE_PATH = './data'\n",
        "\n",
        "train_model(model=model,\n",
        "            optimizer=optimizer,\n",
        "            train_loader=train_iterator,\n",
        "            valid_loader=valid_iterator,\n",
        "            criterion = criterion,\n",
        "            num_epochs = 5,\n",
        "            file_path = SAVE_PATH,\n",
        "            device=\"cpu\")"
      ],
      "metadata": {
        "colab": {
          "base_uri": "https://localhost:8080/"
        },
        "id": "ZeSf8_9cPc-n",
        "outputId": "47ae4c7b-ac2c-4ccc-871f-57b186290050"
      },
      "execution_count": 29,
      "outputs": [
        {
          "output_type": "stream",
          "name": "stderr",
          "text": [
            "/usr/local/lib/python3.7/dist-packages/ipykernel_launcher.py:58: UserWarning: Implicit dimension choice for log_softmax has been deprecated. Change the call to include dim=X as an argument.\n"
          ]
        },
        {
          "output_type": "stream",
          "name": "stdout",
          "text": [
            "Epoch [1/5], Step [175/1750], Train Loss: 1118962.5425, Valid Loss: 239761.3633\n",
            "239761.36333333334\n",
            "Model saved to ==> /model.pt\n",
            "Model saved to ==> /metrics.pt\n",
            "Epoch [1/5], Step [350/1750], Train Loss: 1118429.9971, Valid Loss: 239761.3633\n",
            "Epoch [2/5], Step [525/1750], Train Loss: 1117684.9532, Valid Loss: 239761.3633\n",
            "Epoch [2/5], Step [700/1750], Train Loss: 1119307.4221, Valid Loss: 239761.3633\n",
            "Epoch [3/5], Step [875/1750], Train Loss: 1117893.5546, Valid Loss: 239761.3633\n",
            "Epoch [3/5], Step [1050/1750], Train Loss: 1119352.8189, Valid Loss: 239761.3633\n",
            "Epoch [4/5], Step [1225/1750], Train Loss: 1110120.8443, Valid Loss: 239761.3633\n",
            "Epoch [4/5], Step [1400/1750], Train Loss: 1126765.8225, Valid Loss: 239761.3633\n",
            "Epoch [5/5], Step [1575/1750], Train Loss: 1119131.1007, Valid Loss: 239761.3633\n",
            "Epoch [5/5], Step [1750/1750], Train Loss: 1118808.1264, Valid Loss: 239761.3633\n",
            "[1118962.5425, 1118429.9971428572, 1117684.9532142857, 1119307.4221428572, 1117893.554642857, 1119352.8189285714, 1110120.8442857142, 1126765.8225, 1119131.1007142856, 1118808.1264285715] [239761.36333333334, 239761.36333333334, 239761.36333333334, 239761.36333333334, 239761.36333333334, 239761.36333333334, 239761.36333333334, 239761.36333333334, 239761.36333333334, 239761.36333333334] [175, 350, 525, 700, 875, 1050, 1225, 1400, 1575, 1750]\n",
            "Model saved to ==> /metrics.pt\n",
            "Finished Training!\n"
          ]
        }
      ]
    },
    {
      "cell_type": "code",
      "source": [
        "# Evaluate\n",
        "best_model = classifier(size_of_vocab, embedding_dim, num_hidden_nodes,num_output_nodes, num_layers, \n",
        "                   bidirectional = True, dropout = dropout)\n",
        "\n",
        "optimizer = optim.Adam(best_model.parameters(), lr=0.001)\n",
        "\n",
        "load_checkpoint('/model.pt', best_model, optimizer)\n",
        "evaluate_full(best_model, test_iterator)"
      ],
      "metadata": {
        "colab": {
          "base_uri": "https://localhost:8080/",
          "height": 680
        },
        "id": "TH5Nm9aTRqT0",
        "outputId": "09c03033-b724-4449-de19-b18cef48e844"
      },
      "execution_count": 30,
      "outputs": [
        {
          "output_type": "stream",
          "name": "stdout",
          "text": [
            "Model loaded from <== /model.pt\n"
          ]
        },
        {
          "output_type": "stream",
          "name": "stderr",
          "text": [
            "/usr/local/lib/python3.7/dist-packages/ipykernel_launcher.py:58: UserWarning: Implicit dimension choice for log_softmax has been deprecated. Change the call to include dim=X as an argument.\n"
          ]
        },
        {
          "output_type": "stream",
          "name": "stdout",
          "text": [
            "[0, 0, 0, 0, 0, 0, 0, 0, 0, 0, 0, 0, 0, 0, 0, 0, 0, 0, 0, 0, 0, 0, 0, 0, 0, 0, 0, 0, 0, 0, 0, 0, 0, 0, 0, 0, 0, 0, 0, 0, 0, 0, 0, 0, 0, 0, 0, 0, 0, 0, 0, 0, 0, 0, 0, 0, 0, 0, 0, 0, 0, 0, 0, 0, 0, 0, 0, 0, 0, 0, 0, 0, 0, 0, 0, 0, 0, 0, 0, 0, 0, 0, 0, 0, 0, 0, 0, 0, 0, 0, 0, 0, 0, 0, 0, 0, 0, 0, 0, 0, 0, 0, 0, 0, 0, 0, 0, 0, 0, 0, 0, 0, 0, 0, 0, 0, 0, 0, 0, 0, 0, 0, 0, 0, 0, 0, 0, 0, 0, 0, 0, 0, 0, 0, 0, 0, 0, 0, 0, 0, 0, 0, 0, 0, 0, 0, 0, 0, 0, 0, 0, 0, 0, 0, 0, 0, 0, 0, 0, 0, 0, 0, 0, 0, 0, 0, 0, 0, 0, 0, 0, 0, 0, 0, 0, 0, 0, 0, 0, 0, 0, 0, 0, 0, 0, 0, 0, 0, 0, 0, 0, 0, 0, 0, 0, 0, 0, 0, 0, 0, 0, 0, 0, 0, 0, 0, 0, 0, 0, 0, 0, 0, 0, 0, 0, 0, 0, 0, 0, 0, 0, 0, 0, 0, 0, 0, 0, 0, 0, 0, 0, 0, 0, 0, 0, 0, 0, 0, 0, 0, 0, 0, 0, 0, 0, 0, 0, 0, 0, 0, 0, 0, 0, 0, 0, 0, 0, 0, 0, 0, 0, 0, 0, 0, 0, 0, 0, 0, 0, 0, 0, 0, 0, 0, 0, 0, 0, 0, 0, 0, 0, 0, 0, 0, 0, 0, 0, 0, 0, 0, 0, 0, 0, 0, 0, 0, 0, 0, 0, 0, 0, 0, 0, 0, 0, 0, 0, 0, 0, 0, 0, 0, 0, 0, 0, 0, 0, 0, 0, 0, 0, 0, 0, 0, 0, 0, 0, 0, 0, 0, 0, 0, 0, 0, 0, 0, 0, 0, 0, 0, 0, 0, 0, 0, 0, 0, 0, 0, 0, 0, 0, 0, 0, 0, 0, 0, 0, 0, 0, 0, 0, 0, 0, 0, 0, 0, 0, 0, 0, 0, 0, 0, 0, 0, 0, 0, 0, 0, 0, 0, 0, 0, 0, 0, 0, 0, 0, 0, 0, 0, 0, 0, 0, 0, 0, 0, 0, 0, 0, 0, 0, 0, 0, 0, 0, 0, 0, 0, 0, 0, 0, 0, 0, 0, 0, 0, 0, 0, 0, 0, 0, 0, 0, 0, 0, 0, 0, 0, 0, 0, 0, 0, 0, 0, 0, 0, 0, 0, 0, 0, 0, 0, 0, 0, 0, 0, 0, 0, 0, 0, 0, 0, 0, 0, 0, 0, 0, 0, 0, 0, 0, 0, 0, 0, 0, 0, 0, 0, 0, 0, 0, 0, 0, 0, 0, 0, 0, 0, 0, 0, 0, 0, 0, 0, 0, 0, 0, 0, 0, 0, 0, 0, 0, 0, 0, 0, 0, 0, 0, 0, 0, 0, 0, 0, 0, 0, 0, 0, 0, 0, 0, 0, 0, 0, 0, 0, 0, 0, 0, 0, 0, 0, 0, 0, 0, 0, 0, 0, 0, 0, 0, 0, 0, 0, 0, 0, 0, 0, 0, 0, 0, 0, 0, 0, 0, 0, 0, 0, 0, 0, 0, 0, 0, 0, 0, 0, 0, 0, 0, 0, 0, 0, 0, 0, 0, 0, 0, 0, 0, 0, 0, 0, 0, 0, 0, 0, 0, 0, 0, 0, 0, 0, 0, 0, 0, 0, 0, 0, 0, 0, 0, 0, 0, 0, 0, 0, 0, 0, 0, 0, 0, 0, 0, 0, 0, 0, 0, 0, 0, 0, 0, 0, 0, 0, 0, 0, 0, 0, 0, 0, 0, 0, 0, 0, 0, 0, 0, 0, 0, 0, 0, 0, 0, 0, 0, 0, 0, 0, 0, 0, 0, 0, 0, 0, 0, 0, 0, 0, 0, 0, 0, 0, 0, 0, 0, 0, 0, 0, 0, 0, 0, 0, 0, 0, 0, 0, 0, 0, 0, 0, 0, 0, 0, 0, 0, 0, 0, 0, 0, 0, 0, 0, 0, 0, 0, 0, 0, 0, 0, 0, 0, 0, 0, 0, 0, 0, 0, 0, 0, 0, 0, 0, 0, 0, 0, 0, 0, 0, 0, 0, 0, 0, 0, 0, 0, 0, 0, 0, 0, 0, 0, 0, 0, 0, 0, 0, 0, 0, 0, 0, 0, 0, 0, 0, 0, 0, 0, 0, 0, 0, 0, 0, 0, 0, 0, 0, 0, 0, 0, 0, 0, 0, 0, 0, 0, 0, 0, 0, 0, 0, 0, 0, 0, 0, 0, 0, 0, 0, 0, 0, 0, 0, 0, 0, 0, 0, 0, 0, 0, 0, 0, 0, 0, 0, 0, 0, 0, 0, 0, 0, 0, 0, 0, 0, 0, 0, 0, 0, 0, 0, 0, 0, 0, 0, 0, 0, 0, 0, 0, 0, 0, 0, 0, 0, 0, 0, 0, 0, 0, 0, 0, 0, 0, 0, 0, 0, 0, 0, 0, 0, 0, 0, 0, 0, 0, 0, 0, 0, 0, 0, 0, 0, 0, 0, 0, 0, 0, 0, 0, 0, 0, 0, 0, 0, 0, 0, 0, 0, 0, 0, 0, 0, 0, 0, 0, 0, 0, 0, 0, 0, 0, 0, 0, 0, 0, 0, 0, 0, 0, 0, 0, 0, 0, 0, 0, 0, 0, 0, 0, 0, 0, 0, 0, 0, 0, 0, 0, 0, 0, 0, 0, 0, 0, 0, 0, 0, 0, 0, 0, 0, 0, 0, 0, 0, 0, 0, 0, 0, 0, 0, 0, 0, 0, 0, 0, 0, 0, 0, 0, 0, 0, 0, 0, 0, 0, 0, 0, 0, 0, 0, 0, 0, 0, 0, 0, 0, 0, 0, 0, 0, 0, 0, 0, 0, 0, 0, 0, 0, 0, 0, 0, 0, 0, 0, 0, 0, 0, 0, 0, 0, 0, 0, 0, 0, 0, 0, 0, 0, 0, 0, 0, 0, 0, 0, 0, 0, 0, 0, 0, 0, 0, 0, 0, 0, 0, 0, 0, 0, 0, 0, 0, 0, 0, 0, 0, 0, 0, 0, 0, 0, 0, 0, 0, 0, 0, 0, 0, 0, 0, 0, 0, 0, 0, 0, 0, 0, 0, 0, 0, 0, 0, 0, 0, 0, 0, 0, 0, 0, 0, 0, 0, 0, 0, 0, 0, 0, 0, 0, 0, 0, 0, 0, 0, 0, 0, 0, 0, 0, 0, 0, 0, 0, 0, 0, 0, 0, 0, 0, 0, 0, 0, 0, 0, 0, 0, 0, 0, 0, 0, 0, 0, 0, 0, 0, 0, 0, 0, 0, 0, 0, 0, 0, 0, 0, 0, 0, 0, 0, 0, 0, 0, 0, 0, 0, 0, 0, 0, 0, 0, 0, 0, 0, 0, 0, 0, 0, 0, 0, 0, 0, 0, 0, 0, 0, 0, 0, 0, 0, 0, 0, 0, 0, 0, 0, 0, 0, 0, 0, 0, 0, 0, 0, 0, 0, 0, 0, 0, 0, 0, 0, 0, 0, 0, 0, 0, 0, 0, 0, 0, 0, 0, 0, 0, 0, 0, 0, 0, 0, 0, 0, 0, 0, 0, 0, 0, 0, 0, 0, 0, 0, 0, 0, 0, 0, 0, 0, 0, 0, 0, 0, 0, 0, 0, 0, 0, 0, 0, 0, 0, 0, 0, 0, 0, 0, 0, 0, 0, 0, 0, 0, 0, 0, 0, 0, 0, 0, 0, 0, 0, 0, 0, 0, 0, 0, 0, 0, 0, 0, 0, 0, 0, 0, 0, 0, 0, 0, 0, 0, 0, 0, 0, 0, 0, 0, 0, 0, 0, 0, 0, 0, 0, 0, 0, 0, 0, 0, 0, 0, 0, 0, 0, 0, 0, 0, 0, 0, 0, 0, 0, 0, 0, 0, 0, 0, 0, 0, 0, 0, 0, 0, 0, 0, 0, 0, 0, 0, 0, 0, 0, 0, 0, 0, 0, 0, 0, 0, 0, 0, 0, 0, 0, 0, 0, 0, 0, 0, 0, 0, 0, 0, 0, 0, 0, 0, 0, 0, 0, 0, 0, 0, 0, 0, 0, 0, 0, 0, 0, 0, 0, 0, 0, 0, 0, 0, 0, 0, 0, 0, 0, 0, 0, 0, 0, 0, 0, 0, 0, 0, 0, 0, 0, 0, 0, 0, 0, 0, 0, 0, 0, 0, 0, 0, 0, 0, 0, 0, 0, 0, 0, 0, 0, 0, 0, 0, 0, 0, 0, 0, 0, 0, 0, 0, 0, 0, 0, 0, 0, 0, 0, 0, 0, 0, 0, 0, 0, 0, 0, 0, 0, 0, 0, 0, 0, 0, 0, 0, 0, 0, 0, 0, 0, 0, 0, 0, 0, 0, 0, 0, 0, 0, 0, 0, 0, 0, 0, 0, 0, 0, 0, 0, 0, 0, 0, 0, 0, 0, 0, 0, 0, 0, 0, 0, 0, 0, 0, 0, 0, 0, 0, 0, 0, 0, 0, 0, 0, 0, 0, 0, 0, 0, 0, 0, 0, 0, 0, 0, 0, 0, 0, 0, 0, 0, 0, 0, 0, 0, 0, 0, 0, 0, 0, 0, 0, 0, 0, 0, 0, 0, 0, 0, 0, 0, 0, 0, 0, 0, 0, 0, 0, 0, 0, 0, 0, 0, 0, 0, 0, 0, 0, 0, 0, 0, 0, 0, 0, 0, 0, 0, 0, 0, 0, 0, 0, 0, 0, 0, 0, 0, 0, 0, 0, 0, 0, 0, 0, 0, 0, 0, 0, 0, 0, 0, 0, 0, 0, 0, 0, 0, 0, 0, 0, 0, 0, 0, 0, 0, 0, 0, 0, 0, 0, 0, 0, 0, 0, 0, 0, 0, 0, 0, 0, 0, 0, 0, 0, 0, 0, 0, 0, 0, 0, 0, 0, 0, 0, 0, 0, 0, 0, 0, 0, 0, 0, 0, 0, 0, 0, 0, 0, 0, 0, 0, 0, 0, 0, 0, 0, 0, 0, 0, 0, 0, 0, 0, 0, 0, 0, 0, 0, 0, 0, 0, 0, 0, 0, 0, 0, 0, 0, 0, 0, 0, 0, 0, 0, 0, 0, 0, 0, 0, 0, 0, 0, 0, 0, 0, 0, 0, 0, 0, 0, 0, 0, 0, 0, 0, 0, 0, 0, 0, 0, 0, 0, 0, 0, 0, 0, 0, 0, 0, 0, 0, 0, 0, 0, 0, 0, 0, 0, 0, 0, 0, 0, 0, 0, 0, 0, 0, 0, 0, 0, 0, 0, 0, 0, 0, 0, 0, 0, 0, 0, 0, 0, 0, 0, 0, 0, 0, 0, 0, 0, 0, 0, 0, 0, 0, 0, 0, 0, 0, 0, 0, 0, 0, 0, 0, 0, 0, 0, 0, 0, 0, 0, 0, 0, 0, 0, 0, 0, 0, 0, 0, 0, 0, 0, 0, 0, 0, 0, 0, 0, 0, 0, 0, 0, 0, 0, 0, 0, 0, 0, 0, 0, 0, 0, 0, 0, 0, 0, 0, 0, 0, 0, 0, 0, 0, 0, 0, 0, 0, 0, 0, 0, 0, 0, 0, 0, 0, 0, 0, 0, 0, 0, 0, 0, 0, 0, 0, 0, 0, 0, 0, 0, 0, 0, 0, 0, 0, 0, 0, 0, 0, 0, 0, 0, 0, 0, 0, 0, 0, 0, 0, 0, 0, 0, 0, 0, 0, 0, 0, 0, 0, 0, 0, 0, 0, 0, 0, 0, 0, 0, 0, 0, 0, 0, 0, 0, 0, 0, 0, 0, 0, 0, 0, 0, 0, 0, 0, 0, 0, 0, 0, 0, 0, 0, 0, 0, 0, 0, 0, 0, 0, 0, 0, 0, 0, 0, 0, 0, 0, 0, 0, 0, 0, 0, 0, 0, 0, 0, 0, 0, 0, 0, 0, 0, 0, 0, 0, 0, 0, 0, 0, 0, 0, 0, 0, 0, 0, 0, 0, 0, 0, 0, 0, 0, 0, 0, 0, 0, 0, 0, 0, 0, 0, 0, 0, 0, 0, 0, 0, 0, 0, 0, 0, 0, 0, 0, 0, 0, 0, 0, 0, 0, 0, 0, 0, 0, 0, 0, 0, 0, 0, 0, 0, 0, 0, 0, 0, 0, 0, 0, 0, 0, 0, 0, 0, 0, 0, 0, 0, 0, 0, 0, 0, 0, 0, 0, 0, 0, 0, 0, 0, 0, 0, 0, 0, 0, 0, 0, 0, 0, 0, 0, 0, 0, 0, 0, 0, 0, 0, 0, 0, 0, 0, 0, 0, 0, 0, 0, 0, 0, 0, 0, 0, 0, 0, 0, 0, 0, 0, 0, 0, 0, 0, 0, 0, 0, 0, 0, 0, 0, 0, 0, 0, 0, 0, 0, 0, 0, 0, 0, 0, 0, 0, 0, 0, 0, 0, 0, 0, 0, 0, 0, 0, 0, 0, 0, 0, 0, 0, 0, 0, 0, 0, 0, 0, 0, 0, 0, 0, 0, 0, 0, 0, 0, 0, 0, 0, 0, 0, 0, 0, 0, 0, 0, 0, 0, 0, 0, 0, 0, 0, 0, 0, 0, 0, 0, 0, 0, 0, 0, 0, 0, 0, 0, 0, 0, 0, 0, 0, 0, 0, 0, 0, 0, 0, 0, 0, 0, 0, 0, 0, 0, 0, 0, 0, 0, 0, 0, 0, 0, 0, 0, 0, 0, 0, 0, 0, 0, 0, 0, 0, 0, 0, 0, 0, 0, 0, 0, 0, 0, 0, 0, 0, 0, 0, 0, 0, 0, 0, 0, 0, 0, 0, 0, 0, 0, 0, 0, 0, 0, 0, 0, 0, 0, 0, 0, 0, 0, 0, 0, 0, 0, 0, 0, 0, 0, 0, 0, 0, 0, 0, 0, 0, 0, 0, 0, 0, 0, 0, 0, 0, 0, 0, 0, 0, 0, 0, 0, 0, 0, 0, 0, 0, 0, 0, 0, 0, 0, 0, 0, 0, 0, 0, 0, 0, 0, 0, 0, 0, 0, 0, 0, 0, 0, 0, 0, 0, 0, 0, 0, 0, 0, 0, 0, 0, 0, 0, 0, 0, 0, 0, 0, 0, 0, 0, 0, 0, 0, 0, 0, 0, 0, 0, 0, 0, 0, 0, 0, 0, 0, 0, 0, 0, 0, 0, 0, 0, 0, 0, 0, 0, 0, 0, 0, 0, 0, 0, 0, 0, 0, 0, 0, 0, 0, 0, 0, 0, 0, 0, 0, 0, 0, 0, 0, 0, 0, 0, 0, 0, 0, 0, 0, 0, 0, 0, 0, 0, 0, 0, 0, 0, 0, 0, 0, 0, 0, 0, 0, 0, 0, 0, 0, 0, 0, 0, 0, 0, 0, 0, 0, 0, 0, 0, 0, 0, 0, 0, 0, 0, 0, 0, 0, 0, 0, 0, 0, 0, 0, 0, 0, 0, 0, 0, 0, 0, 0, 0, 0, 0, 0, 0, 0, 0, 0, 0, 0, 0, 0, 0, 0, 0, 0, 0, 0, 0, 0, 0, 0, 0, 0, 0, 0, 0, 0, 0, 0, 0, 0, 0, 0, 0, 0, 0, 0, 0, 0, 0, 0, 0, 0, 0, 0, 0, 0, 0, 0, 0, 0, 0, 0, 0, 0, 0, 0, 0, 0, 0, 0, 0, 0, 0, 0, 0, 0, 0, 0, 0, 0, 0, 0, 0, 0, 0, 0, 0, 0, 0, 0, 0, 0, 0, 0, 0, 0, 0, 0, 0, 0, 0, 0, 0, 0, 0, 0, 0, 0, 0, 0, 0, 0, 0, 0, 0, 0, 0, 0, 0, 0, 0, 0, 0, 0, 0, 0, 0, 0, 0, 0, 0, 0, 0, 0, 0, 0, 0, 0, 0, 0, 0, 0, 0, 0, 0, 0, 0, 0, 0, 0, 0, 0, 0, 0, 0, 0, 0, 0, 0, 0, 0, 0, 0, 0, 0, 0, 0, 0, 0, 0, 0, 0, 0, 0, 0, 0, 0, 0, 0, 0, 0, 0, 0, 0, 0, 0, 0, 0, 0, 0, 0, 0, 0, 0, 0, 0, 0, 0, 0, 0, 0, 0, 0, 0, 0, 0, 0, 0, 0, 0, 0, 0, 0, 0, 0, 0, 0, 0, 0, 0, 0, 0, 0, 0, 0, 0, 0, 0, 0, 0, 0, 0, 0, 0, 0, 0, 0, 0, 0, 0, 0, 0, 0, 0, 0, 0, 0, 0, 0, 0, 0, 0, 0, 0, 0, 0, 0, 0, 0, 0, 0, 0, 0, 0, 0, 0, 0, 0, 0, 0, 0, 0, 0, 0, 0, 0, 0, 0, 0, 0, 0, 0, 0, 0, 0, 0, 0, 0, 0, 0, 0, 0, 0, 0, 0, 0, 0, 0, 0, 0, 0, 0, 0, 0, 0, 0, 0, 0, 0, 0, 0, 0, 0, 0, 0, 0, 0, 0, 0, 0, 0, 0, 0, 0, 0, 0, 0, 0, 0, 0, 0, 0, 0, 0, 0, 0, 0, 0, 0, 0, 0, 0, 0, 0, 0, 0, 0, 0, 0, 0, 0, 0, 0, 0, 0, 0, 0, 0, 0, 0, 0, 0, 0, 0, 0, 0, 0, 0, 0, 0, 0, 0, 0, 0, 0, 0, 0, 0, 0, 0, 0, 0, 0, 0, 0, 0, 0, 0, 0, 0, 0, 0, 0, 0, 0, 0, 0, 0, 0, 0, 0, 0, 0, 0, 0, 0, 0, 0, 0, 0, 0, 0, 0, 0, 0, 0, 0, 0, 0, 0, 0, 0, 0, 0, 0, 0, 0, 0, 0, 0, 0, 0, 0, 0, 0, 0, 0, 0, 0, 0, 0, 0, 0, 0, 0, 0, 0, 0, 0, 0, 0, 0, 0, 0, 0, 0, 0, 0, 0, 0, 0, 0, 0, 0, 0, 0, 0, 0, 0, 0, 0, 0, 0, 0, 0, 0, 0, 0, 0, 0, 0, 0, 0, 0, 0, 0, 0, 0, 0, 0, 0, 0, 0, 0, 0, 0, 0, 0, 0, 0, 0, 0, 0, 0, 0, 0, 0, 0, 0, 0, 0, 0, 0, 0, 0, 0, 0, 0, 0, 0, 0, 0, 0, 0, 0, 0, 0, 0, 0, 0, 0, 0, 0, 0, 0, 0, 0, 0, 0, 0, 0, 0, 0, 0, 0, 0, 0, 0, 0, 0, 0, 0, 0, 0, 0, 0, 0, 0, 0, 0, 0, 0, 0, 0, 0, 0, 0, 0, 0, 0, 0, 0, 0, 0, 0, 0, 0, 0, 0, 0, 0, 0, 0, 0, 0, 0, 0, 0, 0, 0, 0, 0, 0, 0, 0, 0, 0, 0, 0, 0, 0, 0, 0, 0, 0, 0, 0, 0, 0, 0, 0, 0, 0, 0, 0, 0, 0, 0, 0, 0, 0, 0, 0, 0, 0, 0, 0, 0, 0, 0, 0, 0, 0, 0, 0, 0, 0, 0, 0, 0, 0, 0, 0, 0, 0, 0, 0, 0, 0, 0, 0, 0, 0, 0, 0, 0, 0, 0, 0, 0, 0, 0, 0, 0, 0, 0, 0, 0, 0, 0, 0, 0, 0, 0, 0, 0, 0, 0, 0, 0, 0, 0, 0, 0, 0, 0, 0, 0, 0, 0, 0, 0, 0, 0, 0, 0, 0, 0, 0, 0, 0, 0, 0, 0, 0, 0, 0, 0, 0, 0, 0, 0, 0, 0, 0, 0, 0, 0, 0, 0, 0, 0, 0, 0, 0, 0, 0, 0, 0, 0, 0, 0, 0, 0, 0, 0, 0, 0, 0, 0, 0, 0, 0, 0, 0, 0, 0, 0, 0, 0, 0, 0, 0, 0, 0, 0, 0, 0, 0, 0, 0, 0, 0, 0, 0, 0, 0, 0, 0, 0, 0, 0, 0, 0, 0, 0, 0, 0, 0, 0, 0, 0, 0, 0, 0, 0, 0, 0, 0, 0, 0, 0, 0, 0, 0, 0, 0, 0, 0, 0, 0, 0, 0, 0, 0, 0, 0, 0, 0, 0, 0, 0, 0, 0, 0, 0, 0, 0, 0, 0, 0, 0, 0, 0, 0, 0, 0, 0, 0, 0, 0, 0, 0, 0, 0, 0, 0, 0, 0, 0, 0, 0, 0, 0, 0, 0, 0, 0, 0, 0, 0, 0, 0, 0, 0, 0, 0, 0, 0, 0, 0, 0, 0, 0, 0, 0, 0, 0, 0, 0, 0, 0, 0, 0, 0, 0, 0, 0, 0, 0, 0, 0, 0, 0, 0, 0, 0, 0, 0, 0, 0, 0, 0, 0, 0, 0, 0, 0, 0, 0, 0, 0, 0, 0, 0, 0, 0, 0, 0, 0, 0, 0, 0, 0, 0, 0, 0, 0, 0, 0, 0, 0, 0, 0, 0, 0, 0, 0, 0, 0, 0, 0, 0, 0, 0, 0, 0, 0, 0, 0, 0, 0, 0, 0, 0, 0, 0, 0, 0, 0, 0, 0, 0, 0, 0, 0, 0, 0, 0, 0, 0, 0, 0, 0, 0, 0, 0, 0, 0, 0, 0, 0, 0, 0, 0, 0, 0, 0, 0, 0, 0, 0, 0, 0, 0, 0, 0, 0, 0, 0, 0, 0, 0, 0, 0, 0, 0, 0, 0, 0, 0, 0, 0, 0, 0, 0, 0, 0, 0, 0, 0, 0, 0, 0, 0, 0, 0, 0, 0, 0, 0, 0, 0, 0, 0, 0, 0, 0, 0, 0, 0, 0, 0, 0, 0, 0, 0, 0, 0, 0, 0, 0, 0, 0, 0, 0, 0, 0, 0, 0, 0, 0, 0, 0, 0, 0, 0, 0, 0, 0, 0, 0, 0, 0, 0, 0, 0, 0, 0, 0, 0, 0, 0, 0, 0, 0, 0, 0, 0, 0, 0, 0, 0, 0, 0, 0, 0, 0, 0, 0, 0, 0, 0, 0, 0, 0, 0, 0, 0, 0, 0, 0, 0, 0, 0, 0, 0, 0, 0, 0, 0, 0, 0, 0, 0, 0, 0, 0, 0, 0, 0, 0, 0, 0, 0, 0, 0, 0, 0, 0, 0, 0, 0, 0, 0, 0, 0, 0, 0, 0, 0, 0, 0, 0, 0, 0, 0, 0, 0, 0, 0, 0, 0, 0, 0, 0, 0, 0, 0, 0, 0, 0, 0, 0, 0, 0, 0, 0, 0, 0, 0, 0, 0, 0, 0, 0, 0, 0, 0, 0, 0, 0, 0, 0, 0, 0, 0, 0, 0, 0, 0, 0, 0, 0, 0, 0, 0, 0, 0, 0, 0, 0, 0, 0, 0, 0, 0, 0, 0, 0, 0, 0, 0, 0, 0, 0, 0, 0, 0, 0, 0, 0, 0, 0, 0, 0, 0, 0, 0, 0, 0, 0, 0, 0, 0, 0, 0, 0, 0, 0, 0, 0, 0, 0, 0, 0, 0, 0, 0, 0, 0, 0, 0, 0, 0, 0, 0, 0, 0, 0, 0, 0, 0, 0, 0, 0, 0, 0, 0, 0, 0, 0, 0, 0, 0, 0, 0, 0, 0, 0, 0, 0, 0, 0, 0, 0, 0, 0, 0, 0, 0, 0, 0, 0, 0, 0, 0, 0, 0, 0, 0, 0, 0, 0, 0, 0, 0, 0, 0, 0, 0, 0, 0, 0, 0, 0, 0, 0, 0, 0, 0, 0, 0, 0, 0, 0, 0, 0, 0, 0, 0, 0, 0, 0, 0, 0, 0, 0, 0, 0, 0, 0, 0, 0, 0, 0, 0, 0, 0, 0, 0, 0, 0, 0, 0, 0, 0, 0, 0, 0, 0, 0, 0, 0, 0, 0, 0, 0, 0, 0, 0, 0, 0, 0, 0, 0, 0, 0, 0, 0, 0, 0, 0, 0, 0, 0, 0, 0, 0, 0, 0, 0, 0, 0, 0, 0, 0, 0, 0, 0, 0, 0, 0, 0, 0, 0, 0, 0, 0, 0, 0, 0, 0, 0, 0, 0, 0, 0, 0, 0, 0, 0, 0, 0, 0, 0, 0, 0, 0, 0, 0, 0, 0, 0, 0, 0, 0, 0, 0, 0, 0, 0, 0, 0, 0, 0, 0, 0, 0, 0, 0, 0, 0, 0, 0, 0, 0, 0, 0, 0, 0, 0, 0, 0, 0, 0, 0, 0, 0, 0, 0, 0, 0, 0, 0, 0, 0, 0, 0, 0, 0, 0, 0, 0, 0, 0, 0, 0, 0, 0, 0, 0, 0, 0, 0, 0, 0, 0, 0, 0, 0, 0, 0, 0, 0, 0, 0, 0, 0, 0, 0, 0, 0, 0, 0, 0, 0, 0, 0, 0, 0, 0, 0, 0, 0, 0, 0, 0, 0, 0, 0, 0, 0, 0, 0, 0, 0, 0, 0, 0, 0, 0, 0, 0, 0, 0, 0, 0, 0, 0, 0, 0, 0, 0, 0, 0, 0, 0, 0, 0, 0, 0, 0, 0, 0, 0, 0, 0, 0, 0, 0, 0, 0, 0, 0, 0, 0, 0, 0, 0, 0, 0, 0, 0, 0, 0, 0, 0, 0, 0, 0, 0, 0, 0, 0, 0, 0, 0, 0, 0, 0, 0, 0, 0, 0, 0, 0, 0, 0, 0, 0, 0, 0, 0, 0, 0, 0, 0, 0, 0, 0, 0, 0, 0, 0, 0, 0, 0, 0, 0, 0, 0, 0, 0, 0, 0, 0, 0, 0, 0, 0, 0, 0, 0, 0, 0, 0, 0, 0, 0, 0, 0, 0, 0, 0, 0, 0, 0, 0, 0, 0, 0, 0, 0, 0, 0, 0, 0, 0, 0, 0, 0, 0, 0, 0, 0, 0, 0, 0, 0, 0, 0, 0, 0, 0, 0, 0, 0, 0, 0, 0, 0, 0, 0, 0, 0, 0, 0, 0, 0, 0, 0, 0, 0, 0, 0, 0, 0, 0, 0, 0, 0, 0, 0, 0, 0, 0, 0, 0, 0, 0, 0, 0, 0, 0, 0, 0, 0, 0, 0, 0, 0, 0, 0, 0, 0, 0, 0, 0, 0, 0, 0, 0, 0, 0, 0, 0, 0, 0, 0, 0, 0, 0, 0, 0, 0, 0, 0, 0, 0, 0, 0, 0, 0, 0, 0, 0, 0, 0, 0, 0, 0, 0, 0, 0, 0, 0, 0, 0, 0, 0, 0, 0, 0, 0, 0, 0, 0, 0, 0, 0, 0, 0, 0, 0, 0, 0, 0, 0, 0, 0, 0, 0, 0, 0, 0, 0, 0, 0, 0, 0, 0, 0, 0, 0, 0, 0, 0, 0, 0, 0, 0, 0, 0, 0, 0, 0, 0, 0, 0, 0, 0, 0, 0, 0, 0, 0, 0, 0, 0, 0, 0, 0, 0, 0, 0, 0, 0, 0, 0, 0, 0, 0, 0, 0, 0, 0, 0, 0, 0, 0, 0, 0, 0, 0, 0, 0, 0, 0, 0, 0, 0, 0, 0, 0, 0, 0, 0, 0, 0, 0, 0, 0, 0, 0, 0, 0, 0, 0, 0, 0, 0, 0, 0, 0, 0, 0, 0, 0, 0, 0, 0, 0, 0, 0, 0, 0, 0, 0, 0, 0, 0, 0, 0, 0, 0, 0, 0, 0, 0, 0, 0, 0, 0, 0, 0, 0, 0, 0, 0, 0, 0, 0, 0, 0, 0, 0, 0, 0, 0, 0, 0, 0, 0, 0, 0, 0, 0, 0, 0, 0, 0, 0, 0, 0, 0, 0, 0, 0, 0, 0, 0, 0, 0, 0, 0, 0, 0, 0, 0, 0, 0, 0, 0, 0, 0, 0, 0, 0, 0, 0, 0, 0, 0, 0, 0, 0, 0, 0, 0, 0, 0, 0, 0, 0, 0, 0, 0, 0, 0, 0, 0, 0, 0, 0, 0, 0, 0, 0, 0, 0, 0, 0, 0, 0, 0, 0, 0, 0, 0, 0, 0, 0, 0, 0, 0, 0, 0, 0, 0, 0, 0, 0, 0, 0, 0, 0, 0, 0, 0, 0, 0, 0, 0, 0, 0, 0, 0, 0, 0, 0, 0, 0, 0, 0, 0, 0, 0, 0, 0, 0, 0, 0, 0, 0, 0, 0, 0, 0, 0, 0, 0, 0, 0, 0, 0, 0, 0, 0, 0, 0, 0, 0, 0, 0, 0, 0, 0, 0, 0, 0, 0, 0, 0, 0, 0, 0, 0, 0, 0, 0, 0, 0, 0, 0, 0, 0, 0, 0, 0, 0, 0, 0, 0, 0, 0, 0, 0, 0, 0, 0, 0, 0, 0, 0, 0, 0, 0, 0, 0, 0, 0, 0, 0, 0, 0, 0, 0, 0, 0, 0, 0, 0, 0, 0, 0, 0, 0, 0, 0, 0, 0, 0, 0, 0, 0, 0, 0, 0, 0, 0, 0, 0, 0, 0, 0, 0, 0, 0, 0, 0, 0, 0, 0, 0, 0, 0, 0, 0, 0, 0, 0, 0, 0, 0, 0, 0, 0, 0, 0, 0, 0, 0, 0, 0, 0, 0, 0, 0, 0, 0, 0, 0, 0, 0, 0, 0, 0, 0, 0, 0, 0, 0, 0, 0, 0, 0, 0, 0, 0, 0, 0, 0, 0, 0, 0, 0, 0, 0, 0, 0, 0, 0, 0, 0, 0, 0, 0, 0, 0, 0, 0, 0, 0, 0, 0, 0, 0, 0, 0, 0, 0, 0, 0, 0, 0, 0, 0, 0, 0, 0, 0, 0, 0, 0, 0, 0, 0, 0, 0, 0, 0, 0, 0, 0, 0, 0, 0, 0, 0, 0, 0, 0, 0, 0, 0, 0, 0, 0, 0, 0, 0, 0, 0, 0, 0, 0, 0, 0, 0, 0, 0, 0, 0, 0, 0, 0, 0, 0, 0, 0, 0, 0, 0, 0, 0, 0, 0, 0, 0, 0, 0, 0, 0, 0, 0, 0, 0, 0, 0, 0, 0, 0, 0, 0, 0, 0, 0, 0, 0, 0, 0, 0, 0, 0, 0, 0, 0, 0, 0, 0, 0, 0, 0, 0, 0, 0, 0, 0, 0, 0, 0, 0, 0, 0, 0, 0, 0, 0, 0, 0, 0, 0, 0, 0, 0, 0, 0, 0, 0, 0, 0, 0, 0, 0, 0, 0, 0, 0, 0, 0, 0, 0, 0, 0, 0, 0, 0, 0, 0, 0, 0, 0, 0, 0, 0, 0, 0, 0, 0, 0, 0, 0, 0, 0, 0, 0, 0, 0, 0, 0, 0, 0, 0, 0, 0, 0, 0, 0, 0, 0, 0, 0]\n",
            "[1089.0, 1076.0, 1062.0, 1036.0, 1034.0, 1006.0, 951.0, 848.0, 832.0, 815.0, 700.0, 667.0, 662.0, 616.0, 583.0, 522.0, 473.0, 437.0, 389.0, 327.0, 310.0, 208.0, 91.0, 90.0, 57.0, 41.0, 4684.0, 4665.0, 4648.0, 4619.0, 4522.0, 4238.0, 3994.0, 3809.0, 3805.0, 3679.0, 3639.0, 3635.0, 3370.0, 2993.0, 2957.0, 2776.0, 2664.0, 2276.0, 2019.0, 1940.0, 1777.0, 1554.0, 1494.0, 1430.0, 1410.0, 1315.0, 1280.0, 1064.0, 903.0, 783.0, 596.0, 512.0, 416.0, 410.0, 311.0, 304.0, 106.0, 79.0, 3397.0, 3346.0, 3267.0, 3143.0, 3113.0, 3101.0, 3098.0, 3073.0, 3023.0, 2979.0, 2967.0, 2943.0, 2897.0, 2869.0, 2748.0, 2710.0, 2675.0, 2654.0, 2619.0, 2595.0, 2575.0, 2500.0, 2467.0, 2436.0, 2425.0, 2401.0, 2367.0, 2362.0, 2349.0, 2271.0, 2240.0, 2233.0, 2215.0, 2209.0, 2206.0, 2194.0, 2118.0, 2116.0, 2011.0, 1922.0, 1820.0, 1810.0, 1732.0, 1699.0, 1679.0, 1641.0, 1613.0, 1598.0, 1559.0, 1543.0, 1522.0, 1508.0, 1490.0, 1463.0, 1449.0, 1433.0, 1328.0, 1303.0, 1302.0, 1276.0, 1168.0, 1122.0, 1120.0, 1102.0, 668.0, 640.0, 613.0, 610.0, 604.0, 538.0, 487.0, 434.0, 417.0, 409.0, 330.0, 240.0, 237.0, 229.0, 217.0, 194.0, 178.0, 141.0, 112.0, 111.0, 102.0, 85.0, 14.0, 4733.0, 4707.0, 4687.0, 4661.0, 4635.0, 4617.0, 4604.0, 4575.0, 4537.0, 4461.0, 4400.0, 4350.0, 4337.0, 4266.0, 4243.0, 4230.0, 4217.0, 4210.0, 4157.0, 4136.0, 4080.0, 4063.0, 4045.0, 4042.0, 4032.0, 4023.0, 3966.0, 3961.0, 3933.0, 3918.0, 3903.0, 3698.0, 3654.0, 3636.0, 3633.0, 3585.0, 3545.0, 3512.0, 3500.0, 3464.0, 3439.0, 1993.0, 1987.0, 1983.0, 1974.0, 1960.0, 1906.0, 1893.0, 1892.0, 1874.0, 1867.0, 1852.0, 1843.0, 1819.0, 1816.0, 1789.0, 1779.0, 1776.0, 1767.0, 1692.0, 1657.0, 1630.0, 1622.0, 1607.0, 1588.0, 1562.0, 1526.0, 1492.0, 1477.0, 1454.0, 1447.0, 1445.0, 1443.0, 1416.0, 1373.0, 1367.0, 1272.0, 1262.0, 1243.0, 1242.0, 1215.0, 1214.0, 1195.0, 1174.0, 1140.0, 1131.0, 1093.0, 1075.0, 1037.0, 1018.0, 995.0, 942.0, 927.0, 922.0, 918.0, 887.0, 866.0, 855.0, 844.0, 770.0, 756.0, 730.0, 729.0, 704.0, 669.0, 3163.0, 3140.0, 3135.0, 3128.0, 3095.0, 3078.0, 3049.0, 3047.0, 3010.0, 3001.0, 2984.0, 2956.0, 2936.0, 2925.0, 2859.0, 2826.0, 2803.0, 2744.0, 2733.0, 2718.0, 2717.0, 2666.0, 2626.0, 2620.0, 2613.0, 2602.0, 2582.0, 2580.0, 2561.0, 2489.0, 2482.0, 2463.0, 2451.0, 2427.0, 2422.0, 2414.0, 2340.0, 2330.0, 2306.0, 2296.0, 2291.0, 2287.0, 2279.0, 2265.0, 2264.0, 2256.0, 2253.0, 2249.0, 2218.0, 2188.0, 2173.0, 2163.0, 2147.0, 2128.0, 2095.0, 2089.0, 2063.0, 2055.0, 2049.0, 2013.0, 2012.0, 2008.0, 2003.0, 2002.0, 4253.0, 4224.0, 4181.0, 4146.0, 4129.0, 4101.0, 4098.0, 4072.0, 4060.0, 4043.0, 4026.0, 4013.0, 3998.0, 3986.0, 3974.0, 3971.0, 3970.0, 3962.0, 3959.0, 3939.0, 3901.0, 3873.0, 3864.0, 3858.0, 3842.0, 3821.0, 3794.0, 3782.0, 3739.0, 3723.0, 3652.0, 3629.0, 3609.0, 3597.0, 3594.0, 3587.0, 3582.0, 3564.0, 3534.0, 3516.0, 3502.0, 3466.0, 3443.0, 3426.0, 3413.0, 3410.0, 3400.0, 3385.0, 3372.0, 3314.0, 3296.0, 3290.0, 3252.0, 3238.0, 3236.0, 3216.0, 3204.0, 3202.0, 3201.0, 3200.0, 3199.0, 3187.0, 3184.0, 3178.0, 386.0, 374.0, 363.0, 345.0, 333.0, 320.0, 317.0, 306.0, 289.0, 286.0, 277.0, 272.0, 265.0, 264.0, 262.0, 248.0, 244.0, 243.0, 227.0, 211.0, 206.0, 199.0, 182.0, 179.0, 171.0, 140.0, 134.0, 127.0, 124.0, 122.0, 116.0, 95.0, 83.0, 81.0, 15.0, 4787.0, 4786.0, 4776.0, 4759.0, 4712.0, 4706.0, 4704.0, 4685.0, 4645.0, 4535.0, 4530.0, 4516.0, 4493.0, 4480.0, 4457.0, 4444.0, 4434.0, 4433.0, 4409.0, 4389.0, 4357.0, 4348.0, 4338.0, 4336.0, 4326.0, 4320.0, 4308.0, 4297.0, 4273.0, 1175.0, 1150.0, 1149.0, 1148.0, 1105.0, 1094.0, 1091.0, 1082.0, 1073.0, 1065.0, 1050.0, 1044.0, 1042.0, 1005.0, 989.0, 984.0, 975.0, 965.0, 960.0, 950.0, 931.0, 906.0, 901.0, 890.0, 886.0, 884.0, 871.0, 853.0, 851.0, 847.0, 834.0, 799.0, 790.0, 784.0, 760.0, 749.0, 739.0, 738.0, 726.0, 712.0, 703.0, 689.0, 680.0, 652.0, 634.0, 617.0, 576.0, 574.0, 571.0, 550.0, 545.0, 543.0, 520.0, 507.0, 496.0, 491.0, 485.0, 463.0, 427.0, 418.0, 414.0, 411.0, 404.0, 399.0, 1889.0, 1868.0, 1857.0, 1849.0, 1839.0, 1831.0, 1823.0, 1801.0, 1795.0, 1786.0, 1769.0, 1760.0, 1756.0, 1755.0, 1737.0, 1730.0, 1728.0, 1720.0, 1719.0, 1700.0, 1690.0, 1688.0, 1673.0, 1624.0, 1619.0, 1615.0, 1601.0, 1587.0, 1583.0, 1580.0, 1579.0, 1553.0, 1514.0, 1505.0, 1503.0, 1471.0, 1469.0, 1468.0, 1467.0, 1459.0, 1452.0, 1438.0, 1436.0, 1429.0, 1422.0, 1420.0, 1399.0, 1393.0, 1378.0, 1374.0, 1364.0, 1347.0, 1338.0, 1332.0, 1320.0, 1312.0, 1310.0, 1307.0, 1299.0, 1268.0, 1245.0, 1208.0, 1184.0, 1181.0, 2640.0, 2637.0, 2605.0, 2604.0, 2590.0, 2577.0, 2562.0, 2559.0, 2548.0, 2541.0, 2537.0, 2533.0, 2523.0, 2517.0, 2508.0, 2507.0, 2478.0, 2468.0, 2434.0, 2424.0, 2420.0, 2406.0, 2405.0, 2399.0, 2386.0, 2379.0, 2378.0, 2376.0, 2368.0, 2360.0, 2345.0, 2327.0, 2320.0, 2319.0, 2308.0, 2300.0, 2299.0, 2290.0, 2248.0, 2244.0, 2216.0, 2192.0, 2189.0, 2172.0, 2161.0, 2143.0, 2120.0, 2104.0, 2078.0, 2067.0, 2064.0, 2062.0, 2053.0, 2043.0, 2014.0, 2004.0, 1966.0, 1964.0, 1959.0, 1928.0, 1918.0, 1904.0, 1903.0, 1899.0, 3356.0, 3350.0, 3335.0, 3326.0, 3288.0, 3286.0, 3248.0, 3240.0, 3228.0, 3223.0, 3222.0, 3217.0, 3193.0, 3192.0, 3155.0, 3153.0, 3144.0, 3115.0, 3103.0, 3091.0, 3088.0, 3083.0, 3072.0, 3062.0, 3055.0, 3036.0, 2968.0, 2962.0, 2940.0, 2919.0, 2913.0, 2906.0, 2899.0, 2898.0, 2889.0, 2865.0, 2851.0, 2841.0, 2825.0, 2817.0, 2814.0, 2809.0, 2804.0, 2790.0, 2785.0, 2772.0, 2767.0, 2761.0, 2759.0, 2758.0, 2745.0, 2738.0, 2737.0, 2734.0, 2725.0, 2722.0, 2709.0, 2700.0, 2691.0, 2690.0, 2678.0, 2677.0, 2676.0, 2665.0, 4124.0, 4111.0, 4110.0, 4105.0, 4103.0, 4100.0, 4094.0, 4081.0, 4071.0, 4062.0, 4058.0, 4040.0, 4021.0, 4018.0, 3955.0, 3954.0, 3929.0, 3928.0, 3924.0, 3922.0, 3892.0, 3861.0, 3859.0, 3850.0, 3837.0, 3833.0, 3810.0, 3806.0, 3795.0, 3786.0, 3755.0, 3747.0, 3746.0, 3741.0, 3733.0, 3717.0, 3713.0, 3705.0, 3696.0, 3691.0, 3631.0, 3630.0, 3612.0, 3600.0, 3595.0, 3586.0, 3576.0, 3566.0, 3563.0, 3547.0, 3544.0, 3531.0, 3527.0, 3515.0, 3513.0, 3496.0, 3467.0, 3454.0, 3428.0, 3407.0, 3393.0, 3392.0, 3382.0, 3362.0, 169.0, 162.0, 133.0, 131.0, 109.0, 105.0, 103.0, 12.0, 4775.0, 4741.0, 4732.0, 4729.0, 4728.0, 4713.0, 4700.0, 4691.0, 4682.0, 4677.0, 4674.0, 4671.0, 4641.0, 4625.0, 4599.0, 4598.0, 4596.0, 4588.0, 4587.0, 4583.0, 4576.0, 4572.0, 4571.0, 4562.0, 4551.0, 4540.0, 4539.0, 4495.0, 4487.0, 4476.0, 4469.0, 4468.0, 4463.0, 4458.0, 4432.0, 4427.0, 4408.0, 4397.0, 4392.0, 4388.0, 4334.0, 4333.0, 4327.0, 4311.0, 4291.0, 4277.0, 4261.0, 4242.0, 4234.0, 4226.0, 4222.0, 4191.0, 4186.0, 4166.0, 4150.0, 4148.0, 792.0, 789.0, 780.0, 773.0, 771.0, 769.0, 766.0, 742.0, 723.0, 695.0, 693.0, 690.0, 687.0, 685.0, 681.0, 659.0, 653.0, 646.0, 642.0, 618.0, 601.0, 600.0, 591.0, 586.0, 582.0, 547.0, 539.0, 531.0, 525.0, 516.0, 515.0, 500.0, 488.0, 486.0, 475.0, 470.0, 454.0, 435.0, 431.0, 421.0, 403.0, 402.0, 382.0, 380.0, 378.0, 356.0, 350.0, 348.0, 343.0, 334.0, 323.0, 321.0, 314.0, 312.0, 309.0, 288.0, 276.0, 261.0, 222.0, 219.0, 215.0, 203.0, 196.0, 173.0, 1570.0, 1566.0, 1565.0, 1557.0, 1555.0, 1541.0, 1516.0, 1499.0, 1489.0, 1483.0, 1476.0, 1453.0, 1434.0, 1411.0, 1395.0, 1331.0, 1329.0, 1325.0, 1318.0, 1284.0, 1270.0, 1255.0, 1250.0, 1248.0, 1234.0, 1232.0, 1230.0, 1206.0, 1198.0, 1187.0, 1157.0, 1145.0, 1139.0, 1137.0, 1127.0, 1115.0, 1113.0, 1101.0, 1095.0, 1074.0, 1070.0, 1057.0, 1055.0, 1053.0, 1016.0, 1011.0, 1004.0, 977.0, 976.0, 968.0, 961.0, 958.0, 938.0, 936.0, 930.0, 929.0, 909.0, 879.0, 870.0, 835.0, 831.0, 830.0, 818.0, 803.0, 2339.0, 2332.0, 2324.0, 2311.0, 2310.0, 2301.0, 2286.0, 2270.0, 2259.0, 2251.0, 2245.0, 2236.0, 2235.0, 2232.0, 2219.0, 2177.0, 2165.0, 2148.0, 2134.0, 2126.0, 2122.0, 2121.0, 2107.0, 2087.0, 2069.0, 2059.0, 2042.0, 2039.0, 2033.0, 2031.0, 2027.0, 2023.0, 2021.0, 2018.0, 1977.0, 1969.0, 1963.0, 1936.0, 1934.0, 1926.0, 1919.0, 1908.0, 1891.0, 1875.0, 1862.0, 1850.0, 1835.0, 1828.0, 1812.0, 1811.0, 1806.0, 1770.0, 1753.0, 1748.0, 1747.0, 1694.0, 1681.0, 1671.0, 1668.0, 1665.0, 1660.0, 1632.0, 1614.0, 1595.0, 3147.0, 3122.0, 3114.0, 3111.0, 3099.0, 3080.0, 3060.0, 3035.0, 3033.0, 3026.0, 3021.0, 2994.0, 2966.0, 2963.0, 2949.0, 2942.0, 2937.0, 2934.0, 2922.0, 2921.0, 2893.0, 2886.0, 2875.0, 2867.0, 2866.0, 2849.0, 2845.0, 2839.0, 2786.0, 2754.0, 2750.0, 2736.0, 2735.0, 2726.0, 2723.0, 2707.0, 2694.0, 2683.0, 2681.0, 2610.0, 2601.0, 2600.0, 2588.0, 2586.0, 2567.0, 2557.0, 2545.0, 2535.0, 2528.0, 2525.0, 2498.0, 2494.0, 2479.0, 2475.0, 2473.0, 2472.0, 2466.0, 2457.0, 2447.0, 2428.0, 2410.0, 2371.0, 2361.0, 2341.0, 3764.0, 3758.0, 3744.0, 3742.0, 3737.0, 3728.0, 3727.0, 3715.0, 3706.0, 3685.0, 3677.0, 3674.0, 3670.0, 3667.0, 3641.0, 3638.0, 3632.0, 3627.0, 3616.0, 3615.0, 3610.0, 3605.0, 3556.0, 3548.0, 3533.0, 3529.0, 3523.0, 3522.0, 3508.0, 3506.0, 3492.0, 3490.0, 3472.0, 3461.0, 3456.0, 3455.0, 3453.0, 3449.0, 3441.0, 3427.0, 3424.0, 3422.0, 3412.0, 3403.0, 3399.0, 3388.0, 3374.0, 3373.0, 3341.0, 3334.0, 3308.0, 3277.0, 3266.0, 3263.0, 3258.0, 3257.0, 3234.0, 3232.0, 3220.0, 3219.0, 3214.0, 3191.0, 3172.0, 3152.0, 4318.0, 4313.0, 4312.0, 4304.0, 4299.0, 4286.0, 4276.0, 4260.0, 4259.0, 4252.0, 4247.0, 4221.0, 4218.0, 4187.0, 4183.0, 4175.0, 4167.0, 4161.0, 4143.0, 4137.0, 4135.0, 4133.0, 4121.0, 4116.0, 4114.0, 4088.0, 4082.0, 4064.0, 4061.0, 4055.0, 4052.0, 4038.0, 4030.0, 4027.0, 4022.0, 4004.0, 3988.0, 3985.0, 3972.0, 3969.0, 3964.0, 3963.0, 3949.0, 3948.0, 3945.0, 3921.0, 3916.0, 3912.0, 3908.0, 3894.0, 3885.0, 3875.0, 3871.0, 3866.0, 3851.0, 3839.0, 3829.0, 3819.0, 3811.0, 3802.0, 3779.0, 3777.0, 3771.0, 3770.0, 254.0, 242.0, 239.0, 226.0, 224.0, 209.0, 207.0, 197.0, 177.0, 132.0, 126.0, 123.0, 97.0, 72.0, 64.0, 62.0, 59.0, 29.0, 26.0, 24.0, 20.0, 19.0, 4792.0, 4783.0, 4764.0, 4752.0, 4725.0, 4670.0, 4669.0, 4656.0, 4655.0, 4650.0, 4642.0, 4633.0, 4607.0, 4600.0, 4594.0, 4557.0, 4552.0, 4550.0, 4542.0, 4531.0, 4529.0, 4527.0, 4521.0, 4508.0, 4498.0, 4486.0, 4473.0, 4470.0, 4455.0, 4450.0, 4449.0, 4446.0, 4428.0, 4421.0, 4414.0, 4410.0, 4402.0, 4373.0, 4371.0, 4370.0, 4362.0, 4323.0, 948.0, 933.0, 924.0, 920.0, 880.0, 865.0, 852.0, 843.0, 837.0, 833.0, 822.0, 812.0, 807.0, 804.0, 798.0, 796.0, 779.0, 763.0, 755.0, 736.0, 715.0, 710.0, 702.0, 697.0, 677.0, 643.0, 621.0, 606.0, 605.0, 603.0, 593.0, 567.0, 563.0, 549.0, 535.0, 514.0, 498.0, 495.0, 480.0, 466.0, 445.0, 432.0, 428.0, 426.0, 423.0, 406.0, 401.0, 398.0, 390.0, 379.0, 370.0, 368.0, 358.0, 337.0, 332.0, 331.0, 325.0, 324.0, 308.0, 307.0, 290.0, 284.0, 283.0, 260.0, 1617.0, 1612.0, 1609.0, 1603.0, 1602.0, 1596.0, 1569.0, 1552.0, 1547.0, 1546.0, 1528.0, 1527.0, 1525.0, 1524.0, 1523.0, 1510.0, 1502.0, 1465.0, 1448.0, 1444.0, 1437.0, 1417.0, 1414.0, 1408.0, 1404.0, 1401.0, 1389.0, 1376.0, 1368.0, 1366.0, 1356.0, 1348.0, 1334.0, 1305.0, 1297.0, 1294.0, 1292.0, 1290.0, 1236.0, 1231.0, 1227.0, 1219.0, 1172.0, 1159.0, 1156.0, 1130.0, 1128.0, 1123.0, 1111.0, 1106.0, 1079.0, 1061.0, 1054.0, 1033.0, 1014.0, 1013.0, 1001.0, 992.0, 990.0, 980.0, 974.0, 969.0, 957.0, 954.0, 2268.0, 2217.0, 2212.0, 2211.0, 2202.0, 2187.0, 2185.0, 2181.0, 2164.0, 2150.0, 2135.0, 2131.0, 2108.0, 2098.0, 2092.0, 2081.0, 2066.0, 2034.0, 2032.0, 2029.0, 2020.0, 2005.0, 1997.0, 1996.0, 1995.0, 1992.0, 1972.0, 1954.0, 1952.0, 1949.0, 1941.0, 1938.0, 1933.0, 1924.0, 1911.0, 1909.0, 1905.0, 1882.0, 1879.0, 1876.0, 1858.0, 1848.0, 1846.0, 1837.0, 1829.0, 1822.0, 1813.0, 1785.0, 1784.0, 1766.0, 1761.0, 1725.0, 1710.0, 1709.0, 1705.0, 1686.0, 1680.0, 1676.0, 1674.0, 1661.0, 1650.0, 1649.0, 1640.0, 1618.0, 2895.0, 2894.0, 2888.0, 2876.0, 2870.0, 2860.0, 2855.0, 2842.0, 2840.0, 2815.0, 2811.0, 2807.0, 2805.0, 2800.0, 2797.0, 2789.0, 2787.0, 2780.0, 2775.0, 2773.0, 2742.0, 2715.0, 2713.0, 2712.0, 2706.0, 2682.0, 2672.0, 2671.0, 2650.0, 2648.0, 2643.0, 2634.0, 2622.0, 2618.0, 2599.0, 2596.0, 2589.0, 2579.0, 2558.0, 2547.0, 2522.0, 2512.0, 2503.0, 2501.0, 2496.0, 2492.0, 2488.0, 2484.0, 2474.0, 2470.0, 2445.0, 2431.0, 2408.0, 2385.0, 2383.0, 2364.0, 2348.0, 2347.0, 2342.0, 2334.0, 2329.0, 2321.0, 2316.0, 2283.0, 3528.0, 3526.0, 3524.0, 3509.0, 3503.0, 3491.0, 3489.0, 3488.0, 3475.0, 3469.0, 3431.0, 3429.0, 3406.0, 3401.0, 3396.0, 3389.0, 3380.0, 3364.0, 3352.0, 3324.0, 3317.0, 3316.0, 3311.0, 3293.0, 3279.0, 3270.0, 3268.0, 3256.0, 3250.0, 3239.0, 3233.0, 3218.0, 3212.0, 3196.0, 3175.0, 3174.0, 3171.0, 3160.0, 3148.0, 3136.0, 3125.0, 3124.0, 3123.0, 3112.0, 3104.0, 3100.0, 3092.0, 3077.0, 3068.0, 3059.0, 3056.0, 3045.0, 3042.0, 3027.0, 3012.0, 3007.0, 2978.0, 2969.0, 2958.0, 2955.0, 2951.0, 2920.0, 2915.0, 2910.0, 4355.0, 4305.0, 4298.0, 4293.0, 4288.0, 4287.0, 4281.0, 4251.0, 4249.0, 4248.0, 4241.0, 4225.0, 4153.0, 4141.0, 4139.0, 4132.0, 4112.0, 4108.0, 4075.0, 4073.0, 4044.0, 4035.0, 4034.0, 4010.0, 4002.0, 3980.0, 3977.0, 3950.0, 3946.0, 3923.0, 3920.0, 3913.0, 3896.0, 3881.0, 3855.0, 3849.0, 3841.0, 3827.0, 3826.0, 3812.0, 3803.0, 3800.0, 3785.0, 3753.0, 3730.0, 3720.0, 3707.0, 3700.0, 3689.0, 3688.0, 3681.0, 3668.0, 3646.0, 3645.0, 3617.0, 3583.0, 3581.0, 3575.0, 3569.0, 3568.0, 3561.0, 3553.0, 3543.0, 3538.0, 228.0, 204.0, 198.0, 191.0, 170.0, 159.0, 157.0, 150.0, 130.0, 121.0, 108.0, 107.0, 101.0, 98.0, 73.0, 45.0, 37.0, 36.0, 32.0, 31.0, 25.0, 23.0, 16.0, 6.0, 5.0, 2.0, 1.0, 4778.0, 4768.0, 4760.0, 4758.0, 4757.0, 4749.0, 4747.0, 4736.0, 4730.0, 4705.0, 4699.0, 4672.0, 4646.0, 4643.0, 4639.0, 4609.0, 4586.0, 4581.0, 4560.0, 4554.0, 4541.0, 4538.0, 4488.0, 4478.0, 4472.0, 4462.0, 4440.0, 4423.0, 4418.0, 4413.0, 4411.0, 4407.0, 4394.0, 4383.0, 4367.0, 4364.0, 4359.0, 860.0, 858.0, 849.0, 845.0, 841.0, 836.0, 826.0, 819.0, 805.0, 801.0, 793.0, 778.0, 764.0, 759.0, 746.0, 745.0, 734.0, 724.0, 713.0, 684.0, 678.0, 664.0, 663.0, 660.0, 658.0, 655.0, 650.0, 641.0, 630.0, 627.0, 615.0, 589.0, 584.0, 573.0, 569.0, 566.0, 529.0, 519.0, 509.0, 499.0, 497.0, 484.0, 482.0, 468.0, 449.0, 419.0, 400.0, 391.0, 385.0, 364.0, 360.0, 354.0, 346.0, 340.0, 315.0, 313.0, 298.0, 296.0, 294.0, 285.0, 259.0, 257.0, 251.0, 241.0, 1474.0, 1470.0, 1458.0, 1457.0, 1456.0, 1442.0, 1440.0, 1439.0, 1431.0, 1425.0, 1423.0, 1419.0, 1418.0, 1400.0, 1392.0, 1387.0, 1382.0, 1372.0, 1369.0, 1358.0, 1342.0, 1333.0, 1330.0, 1321.0, 1306.0, 1296.0, 1271.0, 1267.0, 1260.0, 1258.0, 1241.0, 1238.0, 1224.0, 1211.0, 1209.0, 1202.0, 1201.0, 1197.0, 1196.0, 1185.0, 1180.0, 1171.0, 1160.0, 1158.0, 1153.0, 1144.0, 1134.0, 1109.0, 1096.0, 1067.0, 1060.0, 1056.0, 1052.0, 1049.0, 1021.0, 997.0, 973.0, 959.0, 945.0, 937.0, 932.0, 910.0, 899.0, 875.0, 1942.0, 1937.0, 1921.0, 1915.0, 1897.0, 1890.0, 1886.0, 1884.0, 1883.0, 1881.0, 1877.0, 1873.0, 1860.0, 1854.0, 1851.0, 1842.0, 1838.0, 1836.0, 1833.0, 1826.0, 1825.0, 1809.0, 1805.0, 1800.0, 1792.0, 1780.0, 1775.0, 1772.0, 1771.0, 1765.0, 1751.0, 1743.0, 1740.0, 1738.0, 1735.0, 1733.0, 1723.0, 1716.0, 1707.0, 1706.0, 1698.0, 1689.0, 1687.0, 1675.0, 1672.0, 1644.0, 1639.0, 1638.0, 1628.0, 1616.0, 1593.0, 1590.0, 1589.0, 1571.0, 1561.0, 1537.0, 1530.0, 1521.0, 1519.0, 1507.0, 1501.0, 1498.0, 1482.0, 1475.0, 2490.0, 2465.0, 2458.0, 2453.0, 2449.0, 2432.0, 2418.0, 2402.0, 2398.0, 2387.0, 2369.0, 2365.0, 2363.0, 2346.0, 2338.0, 2336.0, 2318.0, 2313.0, 2309.0, 2288.0, 2285.0, 2275.0, 2263.0, 2261.0, 2242.0, 2241.0, 2234.0, 2229.0, 2224.0, 2221.0, 2213.0, 2207.0, 2197.0, 2193.0, 2191.0, 2179.0, 2171.0, 2166.0, 2160.0, 2155.0, 2145.0, 2141.0, 2132.0, 2113.0, 2106.0, 2102.0, 2088.0, 2084.0, 2075.0, 2065.0, 2058.0, 2056.0, 2040.0, 2030.0, 2028.0, 2016.0, 2001.0, 1994.0, 1991.0, 1979.0, 1975.0, 1973.0, 1971.0, 1944.0, 3142.0, 3132.0, 3126.0, 3120.0, 3118.0, 3110.0, 3093.0, 3075.0, 3070.0, 3061.0, 3058.0, 3020.0, 3006.0, 3004.0, 2995.0, 2992.0, 2987.0, 2971.0, 2964.0, 2927.0, 2903.0, 2885.0, 2880.0, 2877.0, 2862.0, 2854.0, 2824.0, 2823.0, 2821.0, 2819.0, 2810.0, 2794.0, 2793.0, 2792.0, 2788.0, 2781.0, 2729.0, 2724.0, 2716.0, 2714.0, 2708.0, 2704.0, 2686.0, 2680.0, 2669.0, 2663.0, 2660.0, 2628.0, 2625.0, 2624.0, 2614.0, 2607.0, 2594.0, 2583.0, 2574.0, 2555.0, 2553.0, 2550.0, 2546.0, 2531.0, 2521.0, 2516.0, 2515.0, 2502.0, 3732.0, 3718.0, 3699.0, 3697.0, 3692.0, 3684.0, 3678.0, 3653.0, 3650.0, 3647.0, 3628.0, 3624.0, 3619.0, 3611.0, 3604.0, 3593.0, 3592.0, 3558.0, 3552.0, 3551.0, 3511.0, 3487.0, 3482.0, 3471.0, 3470.0, 3448.0, 3445.0, 3444.0, 3440.0, 3433.0, 3425.0, 3395.0, 3387.0, 3378.0, 3363.0, 3349.0, 3347.0, 3338.0, 3337.0, 3333.0, 3332.0, 3325.0, 3306.0, 3304.0, 3294.0, 3292.0, 3291.0, 3281.0, 3276.0, 3275.0, 3251.0, 3235.0, 3225.0, 3213.0, 3210.0, 3203.0, 3179.0, 3176.0, 3165.0, 3161.0, 3157.0, 3154.0, 3149.0, 3146.0, 4347.0, 4331.0, 4315.0, 4306.0, 4303.0, 4302.0, 4296.0, 4290.0, 4284.0, 4274.0, 4244.0, 4237.0, 4231.0, 4213.0, 4212.0, 4197.0, 4194.0, 4178.0, 4169.0, 4156.0, 4155.0, 4145.0, 4140.0, 4113.0, 4107.0, 4097.0, 4093.0, 4090.0, 4078.0, 4054.0, 4053.0, 4048.0, 4046.0, 4029.0, 4024.0, 4016.0, 4007.0, 4003.0, 3995.0, 3992.0, 3957.0, 3926.0, 3917.0, 3909.0, 3900.0, 3897.0, 3876.0, 3872.0, 3870.0, 3848.0, 3847.0, 3844.0, 3832.0, 3831.0, 3828.0, 3820.0, 3797.0, 3791.0, 3767.0, 3760.0, 3756.0, 3750.0, 3740.0, 3735.0, 75.0, 42.0, 40.0, 33.0, 30.0, 27.0, 11.0, 10.0, 4794.0, 4793.0, 4785.0, 4773.0, 4770.0, 4751.0, 4742.0, 4740.0, 4739.0, 4738.0, 4727.0, 4721.0, 4702.0, 4701.0, 4698.0, 4692.0, 4690.0, 4688.0, 4680.0, 4667.0, 4664.0, 4647.0, 4626.0, 4623.0, 4622.0, 4620.0, 4611.0, 4589.0, 4584.0, 4579.0, 4577.0, 4570.0, 4567.0, 4556.0, 4536.0, 4528.0, 4520.0, 4519.0, 4512.0, 4492.0, 4482.0, 4456.0, 4452.0, 4451.0, 4425.0, 4412.0, 4401.0, 4390.0, 4385.0, 4384.0, 4375.0, 4366.0, 4356.0, 4354.0, 4352.0, 4351.0, 649.0, 645.0, 644.0, 629.0, 628.0, 620.0, 590.0, 585.0, 568.0, 564.0, 552.0, 546.0, 526.0, 517.0, 513.0, 508.0, 501.0, 490.0, 489.0, 483.0, 474.0, 460.0, 439.0, 424.0, 422.0, 405.0, 393.0, 373.0, 355.0, 319.0, 318.0, 297.0, 279.0, 273.0, 269.0, 267.0, 256.0, 253.0, 238.0, 234.0, 218.0, 213.0, 212.0, 205.0, 187.0, 186.0, 175.0, 168.0, 167.0, 161.0, 154.0, 153.0, 136.0, 129.0, 120.0, 119.0, 110.0, 96.0, 87.0, 86.0, 84.0, 78.0, 77.0, 76.0, 1261.0, 1251.0, 1226.0, 1223.0, 1221.0, 1212.0, 1204.0, 1190.0, 1179.0, 1173.0, 1167.0, 1164.0, 1154.0, 1151.0, 1129.0, 1125.0, 1121.0, 1112.0, 1110.0, 1080.0, 1071.0, 1063.0, 1048.0, 1045.0, 1043.0, 1041.0, 1038.0, 1031.0, 1030.0, 1019.0, 991.0, 987.0, 986.0, 985.0, 966.0, 953.0, 952.0, 947.0, 908.0, 905.0, 898.0, 896.0, 894.0, 878.0, 874.0, 873.0, 856.0, 854.0, 840.0, 827.0, 823.0, 813.0, 797.0, 774.0, 767.0, 765.0, 761.0, 753.0, 732.0, 727.0, 709.0, 708.0, 706.0, 656.0, 1896.0, 1887.0, 1885.0, 1859.0, 1841.0, 1824.0, 1808.0, 1803.0, 1799.0, 1788.0, 1768.0, 1758.0, 1750.0, 1745.0, 1736.0, 1727.0, 1721.0, 1711.0, 1708.0, 1704.0, 1693.0, 1685.0, 1682.0, 1670.0, 1656.0, 1655.0, 1648.0, 1623.0, 1606.0, 1591.0, 1586.0, 1568.0, 1540.0, 1538.0, 1535.0, 1533.0, 1532.0, 1531.0, 1529.0, 1520.0, 1495.0, 1488.0, 1472.0, 1451.0, 1446.0, 1413.0, 1409.0, 1405.0, 1380.0, 1361.0, 1355.0, 1353.0, 1346.0, 1343.0, 1339.0, 1322.0, 1319.0, 1308.0, 1304.0, 1301.0, 1291.0, 1289.0, 1283.0, 1263.0, 2417.0, 2409.0, 2407.0, 2396.0, 2393.0, 2382.0, 2380.0, 2358.0, 2350.0, 2344.0, 2337.0, 2325.0, 2322.0, 2315.0, 2312.0, 2292.0, 2281.0, 2278.0, 2273.0, 2272.0, 2266.0, 2260.0, 2252.0, 2246.0, 2238.0, 2237.0, 2203.0, 2186.0, 2183.0, 2178.0, 2169.0, 2157.0, 2152.0, 2140.0, 2138.0, 2133.0, 2130.0, 2129.0, 2123.0, 2115.0, 2101.0, 2097.0, 2048.0, 2047.0, 2046.0, 2044.0, 2041.0, 2038.0, 2037.0, 2024.0, 2022.0, 2015.0, 2007.0, 2006.0, 2000.0, 1986.0, 1985.0, 1976.0, 1967.0, 1956.0, 1955.0, 1931.0, 1927.0, 1912.0, 3106.0, 3105.0, 3096.0, 3082.0, 3066.0, 3065.0, 3063.0, 3052.0, 3050.0, 2991.0, 2988.0, 2976.0, 2960.0, 2959.0, 2945.0, 2944.0, 2926.0, 2923.0, 2912.0, 2896.0, 2861.0, 2853.0, 2836.0, 2833.0, 2818.0, 2816.0, 2812.0, 2798.0, 2784.0, 2777.0, 2766.0, 2760.0, 2755.0, 2740.0, 2728.0, 2703.0, 2697.0, 2693.0, 2689.0, 2662.0, 2659.0, 2653.0, 2652.0, 2651.0, 2644.0, 2642.0, 2638.0, 2623.0, 2606.0, 2569.0, 2551.0, 2538.0, 2536.0, 2526.0, 2513.0, 2509.0, 2505.0, 2481.0, 2471.0, 2464.0, 2460.0, 2444.0, 2443.0, 2421.0, 3666.0, 3662.0, 3661.0, 3659.0, 3651.0, 3649.0, 3644.0, 3642.0, 3634.0, 3626.0, 3625.0, 3621.0, 3618.0, 3606.0, 3603.0, 3601.0, 3596.0, 3590.0, 3589.0, 3567.0, 3541.0, 3535.0, 3525.0, 3521.0, 3520.0, 3484.0, 3478.0, 3465.0, 3460.0, 3447.0, 3437.0, 3423.0, 3421.0, 3420.0, 3415.0, 3404.0, 3390.0, 3371.0, 3369.0, 3353.0, 3331.0, 3328.0, 3323.0, 3310.0, 3309.0, 3307.0, 3300.0, 3297.0, 3289.0, 3271.0, 3269.0, 3264.0, 3243.0, 3229.0, 3207.0, 3190.0, 3181.0, 3168.0, 3166.0, 3164.0, 3162.0, 3138.0, 3121.0, 3109.0, 4372.0, 4345.0, 4332.0, 4330.0, 4324.0, 4314.0, 4301.0, 4285.0, 4228.0, 4227.0, 4208.0, 4204.0, 4199.0, 4196.0, 4195.0, 4163.0, 4149.0, 4144.0, 4134.0, 4130.0, 4117.0, 4096.0, 4077.0, 4076.0, 4067.0, 4049.0, 4039.0, 4036.0, 4033.0, 4031.0, 4025.0, 4011.0, 3976.0, 3965.0, 3947.0, 3942.0, 3934.0, 3930.0, 3904.0, 3895.0, 3884.0, 3880.0, 3879.0, 3878.0, 3874.0, 3856.0, 3818.0, 3807.0, 3799.0, 3796.0, 3789.0, 3783.0, 3759.0, 3757.0, 3754.0, 3751.0, 3738.0, 3731.0, 3716.0, 3714.0, 3709.0, 3702.0, 3701.0, 3695.0, 164.0, 160.0, 142.0, 118.0, 71.0, 68.0, 66.0, 52.0, 46.0, 35.0, 28.0, 22.0, 13.0, 9.0, 3.0, 4784.0, 4779.0, 4772.0, 4753.0, 4748.0, 4745.0, 4744.0, 4737.0, 4722.0, 4719.0, 4716.0, 4715.0, 4711.0, 4695.0, 4686.0, 4683.0, 4678.0, 4658.0, 4657.0, 4654.0, 4652.0, 4638.0, 4629.0, 4627.0, 4615.0, 4613.0, 4593.0, 4565.0, 4564.0, 4561.0, 4553.0, 4545.0, 4543.0, 4532.0, 4523.0, 4518.0, 4517.0, 4502.0, 4485.0, 4466.0, 4459.0, 4448.0, 4447.0, 4443.0, 4439.0, 4419.0, 4405.0, 4387.0, 4380.0, 657.0, 648.0, 632.0, 624.0, 622.0, 614.0, 612.0, 607.0, 602.0, 597.0, 595.0, 594.0, 587.0, 581.0, 556.0, 541.0, 540.0, 536.0, 534.0, 518.0, 478.0, 477.0, 472.0, 461.0, 458.0, 457.0, 453.0, 448.0, 442.0, 436.0, 430.0, 429.0, 420.0, 415.0, 413.0, 397.0, 394.0, 387.0, 383.0, 377.0, 375.0, 372.0, 369.0, 365.0, 353.0, 352.0, 344.0, 335.0, 328.0, 326.0, 302.0, 293.0, 291.0, 274.0, 263.0, 250.0, 245.0, 233.0, 220.0, 210.0, 195.0, 193.0, 192.0, 188.0, 1235.0, 1233.0, 1222.0, 1217.0, 1205.0, 1183.0, 1176.0, 1169.0, 1163.0, 1155.0, 1146.0, 1142.0, 1138.0, 1124.0, 1117.0, 1099.0, 1098.0, 1092.0, 1023.0, 1020.0, 1010.0, 1002.0, 998.0, 983.0, 967.0, 964.0, 963.0, 944.0, 934.0, 926.0, 919.0, 917.0, 916.0, 907.0, 904.0, 885.0, 882.0, 881.0, 872.0, 862.0, 861.0, 850.0, 842.0, 811.0, 800.0, 794.0, 776.0, 754.0, 752.0, 744.0, 737.0, 728.0, 725.0, 716.0, 714.0, 711.0, 705.0, 701.0, 698.0, 696.0, 692.0, 679.0, 672.0, 670.0, 1791.0, 1774.0, 1741.0, 1739.0, 1734.0, 1726.0, 1717.0, 1695.0, 1678.0, 1677.0, 1669.0, 1643.0, 1634.0, 1629.0, 1621.0, 1610.0, 1604.0, 1575.0, 1574.0, 1573.0, 1567.0, 1564.0, 1558.0, 1549.0, 1548.0, 1545.0, 1542.0, 1517.0, 1509.0, 1506.0, 1504.0, 1497.0, 1496.0, 1487.0, 1486.0, 1484.0, 1473.0, 1435.0, 1432.0, 1421.0, 1407.0, 1403.0, 1385.0, 1384.0, 1363.0, 1360.0, 1349.0, 1345.0, 1344.0, 1341.0, 1340.0, 1337.0, 1335.0, 1324.0, 1311.0, 1300.0, 1295.0, 1288.0, 1286.0, 1285.0, 1275.0, 1257.0, 1256.0, 1247.0, 2450.0, 2423.0, 2411.0, 2404.0, 2400.0, 2395.0, 2388.0, 2375.0, 2372.0, 2370.0, 2366.0, 2354.0, 2328.0, 2323.0, 2307.0, 2304.0, 2303.0, 2298.0, 2297.0, 2289.0, 2284.0, 2277.0, 2269.0, 2247.0, 2239.0, 2231.0, 2204.0, 2196.0, 2184.0, 2175.0, 2170.0, 2168.0, 2151.0, 2149.0, 2146.0, 2142.0, 2127.0, 2091.0, 2083.0, 2080.0, 2073.0, 2050.0, 2010.0, 2009.0, 1990.0, 1984.0, 1980.0, 1965.0, 1947.0, 1945.0, 1943.0, 1925.0, 1914.0, 1888.0, 1880.0, 1872.0, 1871.0, 1866.0, 1864.0, 1847.0, 1821.0, 1814.0, 1804.0, 1797.0, 3087.0, 3086.0, 3079.0, 3064.0, 3046.0, 3043.0, 3039.0, 3028.0, 3024.0, 3018.0, 3017.0, 3005.0, 2985.0, 2982.0, 2980.0, 2975.0, 2972.0, 2941.0, 2939.0, 2938.0, 2933.0, 2911.0, 2902.0, 2872.0, 2868.0, 2858.0, 2857.0, 2838.0, 2827.0, 2802.0, 2801.0, 2791.0, 2774.0, 2771.0, 2769.0, 2768.0, 2765.0, 2764.0, 2752.0, 2743.0, 2701.0, 2696.0, 2692.0, 2679.0, 2668.0, 2656.0, 2655.0, 2646.0, 2645.0, 2641.0, 2627.0, 2581.0, 2573.0, 2570.0, 2566.0, 2556.0, 2549.0, 2519.0, 2493.0, 2487.0, 2486.0, 2477.0, 2462.0, 2456.0, 3830.0, 3823.0, 3808.0, 3793.0, 3781.0, 3776.0, 3774.0, 3773.0, 3769.0, 3761.0, 3749.0, 3743.0, 3734.0, 3725.0, 3711.0, 3693.0, 3658.0, 3623.0, 3614.0, 3584.0, 3570.0, 3546.0, 3540.0, 3532.0, 3480.0, 3459.0, 3457.0, 3432.0, 3419.0, 3417.0, 3414.0, 3411.0, 3405.0, 3402.0, 3394.0, 3384.0, 3377.0, 3366.0, 3365.0, 3359.0, 3345.0, 3340.0, 3336.0, 3321.0, 3319.0, 3303.0, 3280.0, 3278.0, 3274.0, 3265.0, 3262.0, 3260.0, 3254.0, 3247.0, 3246.0, 3241.0, 3215.0, 3194.0, 3186.0, 3180.0, 3177.0, 3169.0, 3127.0, 3119.0, 4442.0, 4420.0, 4404.0, 4377.0, 4374.0, 4365.0, 4363.0, 4349.0, 4335.0, 4328.0, 4309.0, 4289.0, 4265.0, 4263.0, 4246.0, 4240.0, 4232.0, 4223.0, 4220.0, 4211.0, 4203.0, 4179.0, 4176.0, 4173.0, 4171.0, 4170.0, 4168.0, 4165.0, 4158.0, 4152.0, 4131.0, 4128.0, 4118.0, 4102.0, 4084.0, 4074.0, 4070.0, 4068.0, 4059.0, 4057.0, 4056.0, 4050.0, 4047.0, 4020.0, 4006.0, 3997.0, 3978.0, 3975.0, 3968.0, 3967.0, 3956.0, 3953.0, 3951.0, 3935.0, 3925.0, 3907.0, 3893.0, 3889.0, 3867.0, 3860.0, 3853.0, 3845.0, 3843.0, 3834.0, 235.0, 231.0, 225.0, 216.0, 184.0, 165.0, 151.0, 149.0, 147.0, 145.0, 125.0, 114.0, 113.0, 104.0, 99.0, 94.0, 88.0, 80.0, 74.0, 65.0, 60.0, 58.0, 55.0, 53.0, 51.0, 49.0, 43.0, 18.0, 8.0, 7.0, 0.0, 4782.0, 4774.0, 4767.0, 4766.0, 4762.0, 4734.0, 4720.0, 4697.0, 4694.0, 4676.0, 4673.0, 4663.0, 4662.0, 4644.0, 4634.0, 4630.0, 4628.0, 4624.0, 4614.0, 4612.0, 4602.0, 4597.0, 4595.0, 4582.0, 4580.0, 4559.0, 4555.0, 4513.0, 4503.0, 4490.0, 4489.0, 4483.0, 4477.0, 923.0, 915.0, 912.0, 891.0, 867.0, 828.0, 808.0, 802.0, 795.0, 782.0, 777.0, 750.0, 748.0, 747.0, 733.0, 722.0, 721.0, 694.0, 691.0, 688.0, 682.0, 676.0, 675.0, 666.0, 638.0, 635.0, 633.0, 623.0, 609.0, 592.0, 588.0, 579.0, 577.0, 570.0, 562.0, 560.0, 558.0, 557.0, 554.0, 553.0, 548.0, 527.0, 510.0, 506.0, 481.0, 476.0, 464.0, 462.0, 459.0, 441.0, 438.0, 433.0, 407.0, 396.0, 395.0, 371.0, 361.0, 359.0, 357.0, 305.0, 280.0, 271.0, 270.0, 268.0, 1576.0, 1563.0, 1550.0, 1544.0, 1539.0, 1534.0, 1512.0, 1493.0, 1464.0, 1412.0, 1402.0, 1383.0, 1377.0, 1375.0, 1371.0, 1362.0, 1352.0, 1351.0, 1326.0, 1317.0, 1309.0, 1282.0, 1279.0, 1277.0, 1273.0, 1266.0, 1253.0, 1229.0, 1225.0, 1220.0, 1199.0, 1194.0, 1191.0, 1186.0, 1178.0, 1166.0, 1165.0, 1162.0, 1143.0, 1136.0, 1132.0, 1116.0, 1103.0, 1085.0, 1078.0, 1072.0, 1066.0, 1046.0, 1035.0, 1028.0, 1025.0, 1024.0, 1022.0, 1008.0, 996.0, 982.0, 978.0, 972.0, 971.0, 962.0, 956.0, 946.0, 943.0, 939.0, 2317.0, 2305.0, 2282.0, 2274.0, 2258.0, 2254.0, 2226.0, 2222.0, 2214.0, 2208.0, 2201.0, 2200.0, 2199.0, 2195.0, 2182.0, 2174.0, 2154.0, 2153.0, 2119.0, 2117.0, 2114.0, 2086.0, 2082.0, 2074.0, 2071.0, 2045.0, 2025.0, 1999.0, 1968.0, 1958.0, 1946.0, 1932.0, 1920.0, 1917.0, 1916.0, 1901.0, 1869.0, 1861.0, 1855.0, 1844.0, 1834.0, 1832.0, 1830.0, 1807.0, 1781.0, 1759.0, 1757.0, 1744.0, 1722.0, 1718.0, 1714.0, 1702.0, 1666.0, 1642.0, 1636.0, 1635.0, 1631.0, 1627.0, 1626.0, 1611.0, 1592.0, 1585.0, 1582.0, 1578.0, 2909.0, 2904.0, 2884.0, 2882.0, 2879.0, 2878.0, 2874.0, 2873.0, 2848.0, 2835.0, 2799.0, 2795.0, 2770.0, 2763.0, 2753.0, 2746.0, 2741.0, 2727.0, 2688.0, 2673.0, 2667.0, 2658.0, 2639.0, 2636.0, 2633.0, 2631.0, 2630.0, 2629.0, 2615.0, 2611.0, 2608.0, 2593.0, 2591.0, 2572.0, 2571.0, 2564.0, 2563.0, 2560.0, 2552.0, 2532.0, 2518.0, 2510.0, 2499.0, 2461.0, 2459.0, 2454.0, 2452.0, 2441.0, 2440.0, 2426.0, 2415.0, 2412.0, 2403.0, 2397.0, 2391.0, 2390.0, 2389.0, 2359.0, 2357.0, 2356.0, 2353.0, 2351.0, 2343.0, 2333.0, 3497.0, 3493.0, 3486.0, 3481.0, 3479.0, 3476.0, 3473.0, 3468.0, 3462.0, 3452.0, 3451.0, 3450.0, 3446.0, 3438.0, 3435.0, 3434.0, 3418.0, 3409.0, 3408.0, 3391.0, 3379.0, 3376.0, 3357.0, 3342.0, 3339.0, 3322.0, 3320.0, 3318.0, 3315.0, 3287.0, 3272.0, 3259.0, 3242.0, 3231.0, 3197.0, 3183.0, 3173.0, 3167.0, 3159.0, 3131.0, 3102.0, 3097.0, 3090.0, 3084.0, 3081.0, 3076.0, 3067.0, 3057.0, 3051.0, 3031.0, 3030.0, 3025.0, 3022.0, 3015.0, 3013.0, 2990.0, 2983.0, 2973.0, 2970.0, 2965.0, 2961.0, 2953.0, 2947.0, 2930.0, 4188.0, 4185.0, 4151.0, 4147.0, 4127.0, 4120.0, 4109.0, 4106.0, 4091.0, 4065.0, 4014.0, 3996.0, 3991.0, 3984.0, 3981.0, 3973.0, 3944.0, 3940.0, 3919.0, 3914.0, 3911.0, 3910.0, 3905.0, 3902.0, 3891.0, 3890.0, 3883.0, 3868.0, 3857.0, 3846.0, 3838.0, 3825.0, 3814.0, 3804.0, 3787.0, 3784.0, 3772.0, 3765.0, 3752.0, 3736.0, 3726.0, 3719.0, 3712.0, 3694.0, 3682.0, 3675.0, 3669.0, 3660.0, 3656.0, 3648.0, 3622.0, 3620.0, 3607.0, 3602.0, 3591.0, 3580.0, 3562.0, 3560.0, 3555.0, 3514.0, 3510.0, 3507.0, 3504.0, 3501.0, 143.0, 135.0, 92.0, 82.0, 69.0, 67.0, 63.0, 50.0, 38.0, 34.0, 17.0, 4789.0, 4781.0, 4771.0, 4765.0, 4756.0, 4755.0, 4708.0, 4696.0, 4675.0, 4659.0, 4640.0, 4637.0, 4632.0, 4618.0, 4606.0, 4590.0, 4573.0, 4563.0, 4558.0, 4544.0, 4526.0, 4524.0, 4497.0, 4491.0, 4481.0, 4475.0, 4465.0, 4464.0, 4460.0, 4445.0, 4436.0, 4430.0, 4422.0, 4393.0, 4391.0, 4382.0, 4381.0, 4369.0, 4361.0, 4341.0, 4339.0, 4319.0, 4294.0, 4292.0, 4271.0, 4269.0, 4258.0, 4233.0, 4229.0, 4215.0, 4209.0, 4207.0, 4198.0, 772.0, 743.0, 707.0, 699.0, 686.0, 683.0, 671.0, 661.0, 651.0, 647.0, 639.0, 636.0, 631.0, 611.0, 599.0, 580.0, 578.0, 572.0, 565.0, 561.0, 555.0, 530.0, 528.0, 524.0, 504.0, 503.0, 493.0, 492.0, 469.0, 465.0, 455.0, 451.0, 450.0, 443.0, 440.0, 425.0, 388.0, 367.0, 362.0, 351.0, 347.0, 341.0, 339.0, 336.0, 322.0, 316.0, 303.0, 300.0, 299.0, 295.0, 287.0, 282.0, 266.0, 255.0, 252.0, 249.0, 230.0, 223.0, 190.0, 181.0, 180.0, 172.0, 158.0, 152.0, 1500.0, 1491.0, 1485.0, 1481.0, 1480.0, 1479.0, 1478.0, 1455.0, 1441.0, 1428.0, 1426.0, 1415.0, 1406.0, 1397.0, 1390.0, 1386.0, 1381.0, 1379.0, 1365.0, 1357.0, 1316.0, 1293.0, 1287.0, 1281.0, 1278.0, 1265.0, 1264.0, 1249.0, 1246.0, 1244.0, 1237.0, 1207.0, 1193.0, 1192.0, 1182.0, 1177.0, 1141.0, 1135.0, 1126.0, 1114.0, 1108.0, 1088.0, 1083.0, 1069.0, 1040.0, 1027.0, 1026.0, 979.0, 949.0, 935.0, 925.0, 900.0, 897.0, 895.0, 876.0, 868.0, 859.0, 857.0, 838.0, 825.0, 824.0, 791.0, 787.0, 775.0, 2439.0, 2437.0, 2430.0, 2419.0, 2374.0, 2373.0, 2335.0, 2294.0, 2280.0, 2267.0, 2227.0, 2198.0, 2190.0, 2180.0, 2162.0, 2136.0, 2103.0, 2100.0, 2099.0, 2094.0, 2093.0, 2085.0, 2077.0, 2072.0, 2051.0, 2036.0, 2026.0, 2017.0, 1998.0, 1988.0, 1981.0, 1948.0, 1930.0, 1923.0, 1913.0, 1895.0, 1878.0, 1865.0, 1856.0, 1853.0, 1798.0, 1793.0, 1763.0, 1754.0, 1752.0, 1724.0, 1715.0, 1701.0, 1697.0, 1691.0, 1684.0, 1664.0, 1663.0, 1662.0, 1659.0, 1654.0, 1653.0, 1652.0, 1620.0, 1608.0, 1600.0, 1556.0, 1515.0, 1511.0, 3211.0, 3209.0, 3208.0, 3195.0, 3170.0, 3133.0, 3130.0, 3117.0, 3108.0, 3107.0, 3094.0, 3089.0, 3069.0, 3054.0, 3048.0, 3037.0, 3029.0, 3019.0, 3016.0, 3009.0, 2999.0, 2981.0, 2948.0, 2946.0, 2918.0, 2908.0, 2907.0, 2900.0, 2892.0, 2887.0, 2883.0, 2871.0, 2864.0, 2863.0, 2847.0, 2843.0, 2837.0, 2831.0, 2830.0, 2829.0, 2822.0, 2820.0, 2813.0, 2782.0, 2779.0, 2732.0, 2720.0, 2719.0, 2698.0, 2685.0, 2674.0, 2657.0, 2649.0, 2621.0, 2616.0, 2603.0, 2578.0, 2576.0, 2542.0, 2540.0, 2524.0, 2514.0, 2480.0, 2476.0, 4095.0, 4085.0, 4083.0, 4069.0, 4066.0, 4041.0, 4019.0, 4015.0, 4009.0, 4008.0, 4000.0, 3993.0, 3990.0, 3989.0, 3983.0, 3938.0, 3915.0, 3898.0, 3869.0, 3863.0, 3852.0, 3840.0, 3822.0, 3816.0, 3790.0, 3788.0, 3780.0, 3775.0, 3768.0, 3766.0, 3748.0, 3724.0, 3710.0, 3683.0, 3676.0, 3663.0, 3657.0, 3643.0, 3640.0, 3613.0, 3588.0, 3577.0, 3565.0, 3559.0, 3549.0, 3536.0, 3519.0, 3517.0, 3498.0, 3495.0, 3442.0, 3436.0, 3430.0, 3381.0, 3375.0, 3361.0, 3305.0, 3302.0, 3282.0, 3273.0, 3261.0, 3249.0, 3230.0, 3221.0, 138.0, 100.0, 89.0, 56.0, 54.0, 48.0, 21.0, 4788.0, 4763.0, 4750.0, 4743.0, 4731.0, 4709.0, 4693.0, 4668.0, 4660.0, 4653.0, 4651.0, 4631.0, 4621.0, 4616.0, 4603.0, 4592.0, 4585.0, 4548.0, 4525.0, 4515.0, 4505.0, 4500.0, 4484.0, 4479.0, 4474.0, 4435.0, 4426.0, 4416.0, 4396.0, 4395.0, 4378.0, 4368.0, 4360.0, 4358.0, 4343.0, 4342.0, 4316.0, 4295.0, 4283.0, 4280.0, 4272.0, 4270.0, 4262.0, 4255.0, 4245.0, 4219.0, 4205.0, 4180.0, 4177.0, 4174.0, 4160.0, 4126.0, 4123.0, 4122.0, 4115.0, 4104.0, 4099.0, 1560.0, 1354.0, 1350.0, 1336.0, 1314.0, 1313.0, 1203.0, 1133.0, 1119.0, 1107.0, 1104.0, 1087.0, 1051.0, 1000.0, 999.0, 994.0, 993.0, 981.0, 970.0, 940.0, 928.0, 913.0, 883.0, 846.0, 816.0, 788.0, 781.0, 757.0, 741.0, 735.0, 720.0, 719.0, 717.0, 637.0, 625.0, 619.0, 551.0, 533.0, 532.0, 521.0, 511.0, 494.0, 452.0, 447.0, 446.0, 444.0, 408.0, 384.0, 376.0, 366.0, 349.0, 338.0, 292.0, 278.0, 202.0, 189.0, 185.0, 183.0, 176.0, 174.0, 166.0, 155.0, 148.0, 144.0, 2568.0, 2565.0, 2554.0, 2527.0, 2520.0, 2506.0, 2504.0, 2442.0, 2438.0, 2435.0, 2433.0, 2413.0, 2392.0, 2381.0, 2377.0, 2352.0, 2314.0, 2293.0, 2262.0, 2257.0, 2250.0, 2230.0, 2223.0, 2220.0, 2176.0, 2167.0, 2159.0, 2144.0, 2139.0, 2124.0, 2111.0, 2096.0, 2090.0, 2070.0, 2061.0, 2060.0, 2035.0, 1989.0, 1962.0, 1961.0, 1957.0, 1951.0, 1950.0, 1935.0, 1898.0, 1894.0, 1870.0, 1845.0, 1815.0, 1802.0, 1782.0, 1773.0, 1764.0, 1746.0, 1742.0, 1731.0, 1729.0, 1713.0, 1712.0, 1703.0, 1683.0, 1647.0, 1646.0, 1572.0, 3572.0, 3571.0, 3550.0, 3537.0, 3530.0, 3499.0, 3494.0, 3463.0, 3386.0, 3355.0, 3354.0, 3351.0, 3348.0, 3312.0, 3245.0, 3226.0, 3206.0, 3198.0, 3189.0, 3158.0, 3139.0, 3134.0, 3129.0, 3074.0, 3053.0, 3034.0, 3032.0, 3008.0, 3000.0, 2997.0, 2996.0, 2974.0, 2952.0, 2950.0, 2932.0, 2931.0, 2929.0, 2928.0, 2917.0, 2914.0, 2905.0, 2901.0, 2891.0, 2844.0, 2834.0, 2808.0, 2806.0, 2796.0, 2756.0, 2751.0, 2747.0, 2739.0, 2730.0, 2711.0, 2699.0, 2684.0, 2661.0, 2635.0, 2609.0, 2598.0, 2597.0, 2592.0, 2587.0, 2584.0, 4569.0, 4568.0, 4549.0, 4514.0, 4510.0, 4504.0, 4499.0, 4494.0, 4467.0, 4429.0, 4403.0, 4398.0, 4376.0, 4353.0, 4344.0, 4340.0, 4325.0, 4322.0, 4321.0, 4317.0, 4310.0, 4307.0, 4282.0, 4256.0, 4202.0, 4184.0, 4182.0, 4172.0, 4159.0, 4154.0, 4092.0, 4079.0, 4037.0, 4017.0, 4001.0, 3958.0, 3952.0, 3941.0, 3931.0, 3888.0, 3865.0, 3836.0, 3835.0, 3824.0, 3817.0, 3801.0, 3798.0, 3792.0, 3778.0, 3763.0, 3762.0, 3708.0, 3704.0, 3703.0, 3690.0, 3680.0, 3673.0, 3672.0, 3671.0, 3637.0, 3608.0, 3599.0, 3598.0, 3573.0, 1213.0, 1170.0, 1118.0, 1100.0, 1077.0, 1059.0, 1039.0, 1007.0, 941.0, 893.0, 892.0, 889.0, 888.0, 877.0, 869.0, 863.0, 817.0, 814.0, 810.0, 806.0, 768.0, 674.0, 665.0, 654.0, 598.0, 575.0, 559.0, 523.0, 502.0, 479.0, 467.0, 456.0, 412.0, 392.0, 342.0, 301.0, 281.0, 275.0, 258.0, 232.0, 221.0, 201.0, 163.0, 156.0, 139.0, 137.0, 47.0, 4791.0, 4780.0, 4777.0, 4746.0, 4735.0, 4723.0, 4718.0, 4717.0, 4703.0, 4689.0, 4666.0, 4649.0, 4636.0, 4610.0, 4608.0, 4605.0, 4578.0, 3205.0, 3185.0, 3182.0, 3156.0, 3150.0, 3145.0, 3141.0, 3071.0, 3044.0, 3003.0, 2986.0, 2935.0, 2890.0, 2881.0, 2702.0, 2695.0, 2687.0, 2647.0, 2612.0, 2585.0, 2544.0, 2539.0, 2534.0, 2491.0, 2485.0, 2483.0, 2448.0, 2429.0, 2394.0, 2326.0, 2243.0, 2210.0, 2158.0, 2137.0, 2112.0, 2110.0, 2079.0, 2076.0, 2054.0, 2052.0, 1978.0, 1953.0, 1929.0, 1907.0, 1840.0, 1827.0, 1817.0, 1794.0, 1787.0, 1762.0, 1667.0, 1651.0, 1625.0, 1518.0, 1466.0, 1462.0, 1460.0, 1427.0, 1398.0, 1396.0, 1391.0, 1359.0, 1269.0, 1240.0, 4769.0, 4761.0, 4754.0, 4726.0, 4681.0, 4601.0, 4591.0, 4574.0, 4566.0, 4534.0, 4509.0, 4507.0, 4506.0, 4454.0, 4441.0, 4438.0, 4431.0, 4346.0, 4300.0, 4278.0, 4275.0, 4267.0, 4264.0, 4250.0, 4235.0, 4214.0, 4206.0, 4193.0, 4164.0, 4119.0, 4087.0, 4086.0, 4012.0, 4005.0, 3982.0, 3979.0, 3937.0, 3936.0, 3932.0, 3927.0, 3886.0, 3877.0, 3813.0, 3721.0, 3665.0, 3574.0, 3539.0, 3485.0, 3477.0, 3474.0, 3458.0, 3416.0, 3398.0, 3344.0, 3343.0, 3330.0, 3313.0, 3299.0, 3298.0, 3295.0, 3284.0, 3283.0, 3255.0, 3227.0, 2731.0, 2721.0, 2705.0, 2632.0, 2529.0, 2495.0, 2469.0, 2455.0, 2446.0, 2355.0, 2331.0, 2302.0, 2295.0, 2228.0, 2225.0, 2205.0, 2125.0, 2057.0, 1982.0, 1970.0, 1910.0, 1900.0, 1796.0, 1790.0, 1783.0, 1749.0, 1658.0, 1597.0, 1594.0, 1577.0, 1450.0, 1424.0, 1323.0, 1298.0, 1216.0, 1210.0, 1200.0, 1152.0, 1147.0, 1086.0, 1081.0, 1068.0, 1029.0, 1017.0, 1015.0, 1012.0, 1009.0, 1003.0, 988.0, 955.0, 839.0, 809.0, 758.0, 751.0, 673.0, 608.0, 544.0, 247.0, 214.0, 146.0, 128.0, 93.0, 44.0, 4790.0, 1084.0, 921.0, 902.0, 820.0, 786.0, 785.0, 731.0, 471.0, 200.0, 117.0, 115.0, 39.0, 4.0, 4724.0, 4710.0, 4547.0, 4546.0, 4496.0, 4424.0, 4406.0, 4379.0, 4329.0, 4279.0, 4236.0, 4192.0, 4190.0, 4162.0, 4142.0, 4125.0, 4089.0, 4028.0, 3999.0, 3987.0, 3943.0, 3899.0, 3882.0, 3862.0, 3854.0, 3745.0, 3722.0, 3686.0, 3664.0, 3579.0, 3554.0, 3505.0, 3483.0, 3383.0, 3368.0, 3367.0, 3360.0, 3358.0, 3327.0, 3224.0, 3137.0, 3116.0, 3085.0, 3041.0, 3038.0, 3014.0, 3011.0, 2924.0, 2856.0, 2832.0, 2762.0, 1259.0, 1228.0, 1218.0, 1047.0, 1032.0, 914.0, 829.0, 821.0, 762.0, 718.0, 626.0, 542.0, 381.0, 329.0, 70.0, 61.0, 4679.0, 4511.0, 4415.0, 4399.0, 4201.0, 4189.0, 4138.0, 3887.0, 3815.0, 3687.0, 3655.0, 3578.0, 3557.0, 3542.0, 3518.0, 3329.0, 3301.0, 3244.0, 3237.0, 3040.0, 3002.0, 2998.0, 2989.0, 2977.0, 2954.0, 2916.0, 2852.0, 2670.0, 2543.0, 2511.0, 2384.0, 2109.0, 2105.0, 2068.0, 1939.0, 1902.0, 1599.0, 1581.0, 1536.0, 1388.0, 1327.0, 1274.0, 1252.0, 1239.0, 1189.0, 1188.0, 1161.0, 1090.0, 2156.0, 505.0, 1254.0, 1097.0, 4268.0, 3906.0, 1645.0, 246.0, 4714.0, 4216.0, 3960.0, 3729.0, 3285.0, 2850.0, 2846.0, 2783.0, 1778.0, 1461.0, 1394.0, 1058.0, 911.0, 864.0, 740.0, 537.0, 236.0, 4533.0, 4501.0, 4471.0, 4453.0, 4437.0, 4417.0, 4257.0, 4254.0, 4239.0, 4200.0, 4051.0, 3253.0, 3188.0, 3151.0, 2828.0, 2778.0, 2757.0, 2749.0, 2617.0, 2530.0, 2497.0, 2416.0, 2255.0, 1863.0, 1696.0, 1637.0, 1605.0, 1584.0, 1551.0, 1513.0, 1370.0]\n",
            "Test Accuracy:  0.00020868113522537563\n",
            "Classification Report:\n",
            "              precision    recall  f1-score   support\n",
            "\n",
            "           1     0.0000    0.0000    0.0000         1\n",
            "           0     0.0002    1.0000    0.0004         1\n",
            "\n",
            "   micro avg     0.0002    0.5000    0.0004         2\n",
            "   macro avg     0.0001    0.5000    0.0002         2\n",
            "weighted avg     0.0001    0.5000    0.0002         2\n",
            "\n"
          ]
        },
        {
          "output_type": "stream",
          "name": "stderr",
          "text": [
            "/usr/local/lib/python3.7/dist-packages/sklearn/metrics/_classification.py:1318: UndefinedMetricWarning: Precision and F-score are ill-defined and being set to 0.0 in labels with no predicted samples. Use `zero_division` parameter to control this behavior.\n",
            "  _warn_prf(average, modifier, msg_start, len(result))\n",
            "/usr/local/lib/python3.7/dist-packages/sklearn/metrics/_classification.py:1318: UndefinedMetricWarning: Precision and F-score are ill-defined and being set to 0.0 in labels with no predicted samples. Use `zero_division` parameter to control this behavior.\n",
            "  _warn_prf(average, modifier, msg_start, len(result))\n",
            "/usr/local/lib/python3.7/dist-packages/sklearn/metrics/_classification.py:1318: UndefinedMetricWarning: Precision and F-score are ill-defined and being set to 0.0 in labels with no predicted samples. Use `zero_division` parameter to control this behavior.\n",
            "  _warn_prf(average, modifier, msg_start, len(result))\n"
          ]
        },
        {
          "output_type": "display_data",
          "data": {
            "text/plain": [
              "<Figure size 432x288 with 2 Axes>"
            ],
            "image/png": "[encoded data removed]"
          },
          "metadata": {
            "needs_background": "light"
          }
        }
      ]
    },
    {
      "cell_type": "code",
      "source": [
        ""
      ],
      "metadata": {
        "id": "oERkAKwB_7S2"
      },
      "execution_count": null,
      "outputs": []
    },
    {
      "cell_type": "code",
      "source": [
        ""
      ],
      "metadata": {
        "id": "LxYmFMzu_6Um"
      },
      "execution_count": null,
      "outputs": []
    }
  ]
}