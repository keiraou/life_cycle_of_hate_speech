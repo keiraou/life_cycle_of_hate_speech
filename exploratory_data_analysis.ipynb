{
 "cells": [
  {
   "cell_type": "markdown",
   "metadata": {},
   "source": [
    "### Explorattory Data Analysis for Twitter Hate Speech"
   ]
  },
  {
   "cell_type": "code",
   "execution_count": 2,
   "metadata": {},
   "outputs": [],
   "source": [
    "from wordcloud import WordCloud\n",
    "import matplotlib.pyplot as plt\n",
    "import pandas as pd"
   ]
  },
  {
   "cell_type": "code",
   "execution_count": 5,
   "metadata": {},
   "outputs": [],
   "source": [
    "train_df = pd.read_csv('data/Twitter/hate_twitter/hate_train.csv')\n",
    "train_upsampled_df = pd.read_csv('data/Twitter/hate_twitter/hate_upsampled_train.csv')"
   ]
  },
  {
   "cell_type": "code",
   "execution_count": 8,
   "metadata": {},
   "outputs": [
    {
     "data": {
      "text/html": [
       "<div>\n",
       "<style scoped>\n",
       "    .dataframe tbody tr th:only-of-type {\n",
       "        vertical-align: middle;\n",
       "    }\n",
       "\n",
       "    .dataframe tbody tr th {\n",
       "        vertical-align: top;\n",
       "    }\n",
       "\n",
       "    .dataframe thead th {\n",
       "        text-align: right;\n",
       "    }\n",
       "</style>\n",
       "<table border=\"1\" class=\"dataframe\">\n",
       "  <thead>\n",
       "    <tr style=\"text-align: right;\">\n",
       "      <th></th>\n",
       "      <th>Unnamed: 0</th>\n",
       "      <th>Unnamed: 0.1</th>\n",
       "      <th>id</th>\n",
       "      <th>label</th>\n",
       "      <th>tweet</th>\n",
       "      <th>hash_tag</th>\n",
       "      <th>clean_tweet</th>\n",
       "      <th>tokenized_tweet</th>\n",
       "      <th>tokenized_tweet_NLTK</th>\n",
       "    </tr>\n",
       "  </thead>\n",
       "  <tbody>\n",
       "    <tr>\n",
       "      <th>0</th>\n",
       "      <td>27857</td>\n",
       "      <td>27857</td>\n",
       "      <td>27858</td>\n",
       "      <td>0</td>\n",
       "      <td>omg. omg. omg.  yay! i found it, and at a wond...</td>\n",
       "      <td>['segasaturn', 'throwbackâ']</td>\n",
       "      <td>omg omg omg yay found wonderful price segasatu...</td>\n",
       "      <td>omg. omg. omg.  yay! i found it, and at a wond...</td>\n",
       "      <td>omg omg omg yay found wonderful price segasatu...</td>\n",
       "    </tr>\n",
       "    <tr>\n",
       "      <th>1</th>\n",
       "      <td>31205</td>\n",
       "      <td>31205</td>\n",
       "      <td>31206</td>\n",
       "      <td>0</td>\n",
       "      <td>#payintheusa   polar bear climb racing: angry ...</td>\n",
       "      <td>['payintheusa']</td>\n",
       "      <td>payintheusa polar bear climb racing angry pola...</td>\n",
       "      <td>&lt;hashtag&gt; payintheusa  &lt;elong&gt;polar bear climb...</td>\n",
       "      <td>payintheusa polar bear climb racing angry pola...</td>\n",
       "    </tr>\n",
       "    <tr>\n",
       "      <th>2</th>\n",
       "      <td>8440</td>\n",
       "      <td>8440</td>\n",
       "      <td>8441</td>\n",
       "      <td>0</td>\n",
       "      <td>#trainhard   polar bear climb racing: angry po...</td>\n",
       "      <td>['trainhard']</td>\n",
       "      <td>trainhard polar bear climb racing angry polar ...</td>\n",
       "      <td>&lt;hashtag&gt; trainhard  &lt;elong&gt;polar bear climb r...</td>\n",
       "      <td>trainhard polar bear climb racing angry polar ...</td>\n",
       "    </tr>\n",
       "  </tbody>\n",
       "</table>\n",
       "</div>"
      ],
      "text/plain": [
       "   Unnamed: 0  Unnamed: 0.1     id  label  \\\n",
       "0       27857         27857  27858      0   \n",
       "1       31205         31205  31206      0   \n",
       "2        8440          8440   8441      0   \n",
       "\n",
       "                                               tweet  \\\n",
       "0  omg. omg. omg.  yay! i found it, and at a wond...   \n",
       "1  #payintheusa   polar bear climb racing: angry ...   \n",
       "2  #trainhard   polar bear climb racing: angry po...   \n",
       "\n",
       "                       hash_tag  \\\n",
       "0  ['segasaturn', 'throwbackâ']   \n",
       "1               ['payintheusa']   \n",
       "2                 ['trainhard']   \n",
       "\n",
       "                                         clean_tweet  \\\n",
       "0  omg omg omg yay found wonderful price segasatu...   \n",
       "1  payintheusa polar bear climb racing angry pola...   \n",
       "2  trainhard polar bear climb racing angry polar ...   \n",
       "\n",
       "                                     tokenized_tweet  \\\n",
       "0  omg. omg. omg.  yay! i found it, and at a wond...   \n",
       "1  <hashtag> payintheusa  <elong>polar bear climb...   \n",
       "2  <hashtag> trainhard  <elong>polar bear climb r...   \n",
       "\n",
       "                                tokenized_tweet_NLTK  \n",
       "0  omg omg omg yay found wonderful price segasatu...  \n",
       "1  payintheusa polar bear climb racing angry pola...  \n",
       "2  trainhard polar bear climb racing angry polar ...  "
      ]
     },
     "execution_count": 8,
     "metadata": {},
     "output_type": "execute_result"
    }
   ],
   "source": [
    "train_df.head(3)"
   ]
  },
  {
   "cell_type": "code",
   "execution_count": 7,
   "metadata": {},
   "outputs": [
    {
     "ename": "ValueError",
     "evalue": "We need at least 1 word to plot a word cloud, got 0.",
     "output_type": "error",
     "traceback": [
      "\u001b[0;31m---------------------------------------------------------------------------\u001b[0m",
      "\u001b[0;31mValueError\u001b[0m                                Traceback (most recent call last)",
      "\u001b[1;32m/home/npodpx/class/adv_ml/life_cycle_of_hate_speech/exploratory_data_analysis.ipynb Cell 4'\u001b[0m in \u001b[0;36m<module>\u001b[0;34m\u001b[0m\n\u001b[1;32m      <a href='vscode-notebook-cell://wsl%2Bubuntu-20.04/home/npodpx/class/adv_ml/life_cycle_of_hate_speech/exploratory_data_analysis.ipynb#ch0000001vscode-remote?line=1'>2</a>\u001b[0m text_pos \u001b[39m=\u001b[39m \u001b[39m\"\u001b[39m\u001b[39m \u001b[39m\u001b[39m\"\u001b[39m\u001b[39m.\u001b[39mjoin(train_df[\u001b[39m'\u001b[39m\u001b[39mclean_tweet\u001b[39m\u001b[39m'\u001b[39m][train_df\u001b[39m.\u001b[39mlabel \u001b[39m==\u001b[39m \u001b[39m'\u001b[39m\u001b[39m0\u001b[39m\u001b[39m'\u001b[39m])\n\u001b[1;32m      <a href='vscode-notebook-cell://wsl%2Bubuntu-20.04/home/npodpx/class/adv_ml/life_cycle_of_hate_speech/exploratory_data_analysis.ipynb#ch0000001vscode-remote?line=2'>3</a>\u001b[0m text_neg \u001b[39m=\u001b[39m \u001b[39m\"\u001b[39m\u001b[39m \u001b[39m\u001b[39m\"\u001b[39m\u001b[39m.\u001b[39mjoin(train_df[\u001b[39m'\u001b[39m\u001b[39mclean_tweet\u001b[39m\u001b[39m'\u001b[39m][train_df\u001b[39m.\u001b[39mlabel \u001b[39m==\u001b[39m \u001b[39m'\u001b[39m\u001b[39m1\u001b[39m\u001b[39m'\u001b[39m])\n\u001b[0;32m----> <a href='vscode-notebook-cell://wsl%2Bubuntu-20.04/home/npodpx/class/adv_ml/life_cycle_of_hate_speech/exploratory_data_analysis.ipynb#ch0000001vscode-remote?line=3'>4</a>\u001b[0m train_cloud_pos \u001b[39m=\u001b[39m WordCloud(collocations \u001b[39m=\u001b[39;49m \u001b[39mFalse\u001b[39;49;00m, background_color \u001b[39m=\u001b[39;49m \u001b[39m'\u001b[39;49m\u001b[39mwhite\u001b[39;49m\u001b[39m'\u001b[39;49m)\u001b[39m.\u001b[39;49mgenerate(text_pos)\n\u001b[1;32m      <a href='vscode-notebook-cell://wsl%2Bubuntu-20.04/home/npodpx/class/adv_ml/life_cycle_of_hate_speech/exploratory_data_analysis.ipynb#ch0000001vscode-remote?line=4'>5</a>\u001b[0m train_cloud_neg \u001b[39m=\u001b[39m WordCloud(collocations \u001b[39m=\u001b[39m \u001b[39mFalse\u001b[39;00m, background_color \u001b[39m=\u001b[39m \u001b[39m'\u001b[39m\u001b[39mblack\u001b[39m\u001b[39m'\u001b[39m)\u001b[39m.\u001b[39mgenerate(text_neg)\n\u001b[1;32m      <a href='vscode-notebook-cell://wsl%2Bubuntu-20.04/home/npodpx/class/adv_ml/life_cycle_of_hate_speech/exploratory_data_analysis.ipynb#ch0000001vscode-remote?line=5'>6</a>\u001b[0m axs[\u001b[39m0\u001b[39m]\u001b[39m.\u001b[39mimshow(train_cloud_pos, interpolation\u001b[39m=\u001b[39m\u001b[39m'\u001b[39m\u001b[39mbilinear\u001b[39m\u001b[39m'\u001b[39m)\n",
      "File \u001b[0;32m~/venv/lib/python3.9/site-packages/wordcloud/wordcloud.py:632\u001b[0m, in \u001b[0;36mWordCloud.generate\u001b[0;34m(self, text)\u001b[0m\n\u001b[1;32m    <a href='file:///home/npodpx/venv/lib/python3.9/site-packages/wordcloud/wordcloud.py?line=616'>617</a>\u001b[0m \u001b[39mdef\u001b[39;00m \u001b[39mgenerate\u001b[39m(\u001b[39mself\u001b[39m, text):\n\u001b[1;32m    <a href='file:///home/npodpx/venv/lib/python3.9/site-packages/wordcloud/wordcloud.py?line=617'>618</a>\u001b[0m     \u001b[39m\"\"\"Generate wordcloud from text.\u001b[39;00m\n\u001b[1;32m    <a href='file:///home/npodpx/venv/lib/python3.9/site-packages/wordcloud/wordcloud.py?line=618'>619</a>\u001b[0m \n\u001b[1;32m    <a href='file:///home/npodpx/venv/lib/python3.9/site-packages/wordcloud/wordcloud.py?line=619'>620</a>\u001b[0m \u001b[39m    The input \"text\" is expected to be a natural text. If you pass a sorted\u001b[39;00m\n\u001b[0;32m   (...)\u001b[0m\n\u001b[1;32m    <a href='file:///home/npodpx/venv/lib/python3.9/site-packages/wordcloud/wordcloud.py?line=629'>630</a>\u001b[0m \u001b[39m    self\u001b[39;00m\n\u001b[1;32m    <a href='file:///home/npodpx/venv/lib/python3.9/site-packages/wordcloud/wordcloud.py?line=630'>631</a>\u001b[0m \u001b[39m    \"\"\"\u001b[39;00m\n\u001b[0;32m--> <a href='file:///home/npodpx/venv/lib/python3.9/site-packages/wordcloud/wordcloud.py?line=631'>632</a>\u001b[0m     \u001b[39mreturn\u001b[39;00m \u001b[39mself\u001b[39;49m\u001b[39m.\u001b[39;49mgenerate_from_text(text)\n",
      "File \u001b[0;32m~/venv/lib/python3.9/site-packages/wordcloud/wordcloud.py:614\u001b[0m, in \u001b[0;36mWordCloud.generate_from_text\u001b[0;34m(self, text)\u001b[0m\n\u001b[1;32m    <a href='file:///home/npodpx/venv/lib/python3.9/site-packages/wordcloud/wordcloud.py?line=596'>597</a>\u001b[0m \u001b[39m\"\"\"Generate wordcloud from text.\u001b[39;00m\n\u001b[1;32m    <a href='file:///home/npodpx/venv/lib/python3.9/site-packages/wordcloud/wordcloud.py?line=597'>598</a>\u001b[0m \n\u001b[1;32m    <a href='file:///home/npodpx/venv/lib/python3.9/site-packages/wordcloud/wordcloud.py?line=598'>599</a>\u001b[0m \u001b[39mThe input \"text\" is expected to be a natural text. If you pass a sorted\u001b[39;00m\n\u001b[0;32m   (...)\u001b[0m\n\u001b[1;32m    <a href='file:///home/npodpx/venv/lib/python3.9/site-packages/wordcloud/wordcloud.py?line=610'>611</a>\u001b[0m \u001b[39mself\u001b[39;00m\n\u001b[1;32m    <a href='file:///home/npodpx/venv/lib/python3.9/site-packages/wordcloud/wordcloud.py?line=611'>612</a>\u001b[0m \u001b[39m\"\"\"\u001b[39;00m\n\u001b[1;32m    <a href='file:///home/npodpx/venv/lib/python3.9/site-packages/wordcloud/wordcloud.py?line=612'>613</a>\u001b[0m words \u001b[39m=\u001b[39m \u001b[39mself\u001b[39m\u001b[39m.\u001b[39mprocess_text(text)\n\u001b[0;32m--> <a href='file:///home/npodpx/venv/lib/python3.9/site-packages/wordcloud/wordcloud.py?line=613'>614</a>\u001b[0m \u001b[39mself\u001b[39;49m\u001b[39m.\u001b[39;49mgenerate_from_frequencies(words)\n\u001b[1;32m    <a href='file:///home/npodpx/venv/lib/python3.9/site-packages/wordcloud/wordcloud.py?line=614'>615</a>\u001b[0m \u001b[39mreturn\u001b[39;00m \u001b[39mself\u001b[39m\n",
      "File \u001b[0;32m~/venv/lib/python3.9/site-packages/wordcloud/wordcloud.py:403\u001b[0m, in \u001b[0;36mWordCloud.generate_from_frequencies\u001b[0;34m(self, frequencies, max_font_size)\u001b[0m\n\u001b[1;32m    <a href='file:///home/npodpx/venv/lib/python3.9/site-packages/wordcloud/wordcloud.py?line=400'>401</a>\u001b[0m frequencies \u001b[39m=\u001b[39m \u001b[39msorted\u001b[39m(frequencies\u001b[39m.\u001b[39mitems(), key\u001b[39m=\u001b[39mitemgetter(\u001b[39m1\u001b[39m), reverse\u001b[39m=\u001b[39m\u001b[39mTrue\u001b[39;00m)\n\u001b[1;32m    <a href='file:///home/npodpx/venv/lib/python3.9/site-packages/wordcloud/wordcloud.py?line=401'>402</a>\u001b[0m \u001b[39mif\u001b[39;00m \u001b[39mlen\u001b[39m(frequencies) \u001b[39m<\u001b[39m\u001b[39m=\u001b[39m \u001b[39m0\u001b[39m:\n\u001b[0;32m--> <a href='file:///home/npodpx/venv/lib/python3.9/site-packages/wordcloud/wordcloud.py?line=402'>403</a>\u001b[0m     \u001b[39mraise\u001b[39;00m \u001b[39mValueError\u001b[39;00m(\u001b[39m\"\u001b[39m\u001b[39mWe need at least 1 word to plot a word cloud, \u001b[39m\u001b[39m\"\u001b[39m\n\u001b[1;32m    <a href='file:///home/npodpx/venv/lib/python3.9/site-packages/wordcloud/wordcloud.py?line=403'>404</a>\u001b[0m                      \u001b[39m\"\u001b[39m\u001b[39mgot \u001b[39m\u001b[39m%d\u001b[39;00m\u001b[39m.\u001b[39m\u001b[39m\"\u001b[39m \u001b[39m%\u001b[39m \u001b[39mlen\u001b[39m(frequencies))\n\u001b[1;32m    <a href='file:///home/npodpx/venv/lib/python3.9/site-packages/wordcloud/wordcloud.py?line=404'>405</a>\u001b[0m frequencies \u001b[39m=\u001b[39m frequencies[:\u001b[39mself\u001b[39m\u001b[39m.\u001b[39mmax_words]\n\u001b[1;32m    <a href='file:///home/npodpx/venv/lib/python3.9/site-packages/wordcloud/wordcloud.py?line=406'>407</a>\u001b[0m \u001b[39m# largest entry will be 1\u001b[39;00m\n",
      "\u001b[0;31mValueError\u001b[0m: We need at least 1 word to plot a word cloud, got 0."
     ]
    },
    {
     "data": {
      "image/png": "[encoded data removed]",
      "text/plain": [
       "<Figure size 1152x576 with 2 Axes>"
      ]
     },
     "metadata": {
      "needs_background": "light"
     },
     "output_type": "display_data"
    }
   ],
   "source": [
    "\n",
    "fig, axs = plt.subplots(1,2 , figsize=(16,8))\n",
    "text_pos = \" \".join(train_df[train_df.label == 0]['clean_tweet'])\n",
    "text_neg = \" \".join(train_df[train_df.label == 1]['clean_tweet'])\n",
    "train_cloud_pos = WordCloud(collocations = False, background_color = 'white').generate(text_pos)\n",
    "train_cloud_neg = WordCloud(collocations = False, background_color = 'black').generate(text_neg)\n",
    "axs[0].imshow(train_cloud_pos, interpolation='bilinear')\n",
    "axs[0].axis('off')\n",
    "axs[0].set_title('Non-Hate Comments')\n",
    "axs[1].imshow(train_cloud_neg, interpolation='bilinear')\n",
    "axs[1].axis('off')\n",
    "axs[1].set_title('Hate Comments')\n",
    "\n",
    "plt.show()"
   ]
  },
  {
   "cell_type": "code",
   "execution_count": null,
   "metadata": {},
   "outputs": [],
   "source": []
  }
 ],
 "metadata": {
  "interpreter": {
   "hash": "40f6b8985ae3d3af9736205d555f7ff87522357a9f5bdb6e88eda9160976b228"
  },
  "kernelspec": {
   "display_name": "Python 3.9.10 64-bit ('venv': venv)",
   "language": "python",
   "name": "python3"
  },
  "language_info": {
   "codemirror_mode": {
    "name": "ipython",
    "version": 3
   },
   "file_extension": ".py",
   "mimetype": "text/x-python",
   "name": "python",
   "nbconvert_exporter": "python",
   "pygments_lexer": "ipython3",
   "version": "3.9.10"
  },
  "orig_nbformat": 4
 },
 "nbformat": 4,
 "nbformat_minor": 2
}
